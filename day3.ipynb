{
 "cells": [
  {
   "cell_type": "code",
   "execution_count": 2,
   "id": "16c59698-04d1-485c-888c-070e42f3bb13",
   "metadata": {},
   "outputs": [
    {
     "name": "stdout",
     "output_type": "stream",
     "text": [
      "2\n",
      "4\n",
      "6\n",
      "8\n",
      "10\n",
      "12\n",
      "14\n",
      "16\n",
      "18\n",
      "20\n",
      "thank you\n"
     ]
    }
   ],
   "source": [
    "n=1\n",
    "while(n<=20):\n",
    "    if(n%2==0):\n",
    "        print(n)\n",
    "    n=n+1\n",
    "print(\"thank you\")"
   ]
  },
  {
   "cell_type": "code",
   "execution_count": 6,
   "id": "ae0e5ccc-704e-4f14-af64-ac2a11f79c67",
   "metadata": {},
   "outputs": [
    {
     "name": "stdin",
     "output_type": "stream",
     "text": [
      "enter a string: piyush\n"
     ]
    },
    {
     "name": "stdout",
     "output_type": "stream",
     "text": [
      "hsuyip\n"
     ]
    }
   ],
   "source": [
    "st=input(\"enter a string:\")\n",
    "print(st[::-1])"
   ]
  },
  {
   "cell_type": "code",
   "execution_count": 12,
   "id": "9f1c2619-3a87-42e2-8a5e-82f276203997",
   "metadata": {},
   "outputs": [
    {
     "name": "stdout",
     "output_type": "stream",
     "text": [
      "hloia rmjiu\n"
     ]
    }
   ],
   "source": [
    "strin=\"hello i am from jaipur\"\n",
    "print(strin[::2])"
   ]
  },
  {
   "cell_type": "code",
   "execution_count": 16,
   "id": "91bb9596-f400-40d5-b07e-a67a4cf09ef2",
   "metadata": {},
   "outputs": [
    {
     "name": "stdin",
     "output_type": "stream",
     "text": [
      "enter a number: 6\n"
     ]
    },
    {
     "name": "stdout",
     "output_type": "stream",
     "text": [
      "720\n"
     ]
    }
   ],
   "source": [
    "number=int(input(\"enter a number:\"))\n",
    "fact=1\n",
    "while(number>0):\n",
    "           fact=fact*number2\n",
    "    \n",
    "           number=number-1\n",
    "print(fact)\n"
   ]
  },
  {
   "cell_type": "code",
   "execution_count": 20,
   "id": "5ac7f84a-8514-4e02-8ae4-7f97abd82680",
   "metadata": {},
   "outputs": [
    {
     "name": "stdout",
     "output_type": "stream",
     "text": [
      "The sum of all prime numbers between 1 and 100 is: 1060\n"
     ]
    }
   ],
   "source": [
    "sum = 0\n",
    "\n",
    "for num in range(1, 101):\n",
    "    if num > 1:  \n",
    "        flag = 0\n",
    "        for i in range(2, num):\n",
    "            if num % i == 0:\n",
    "                flag = 1\n",
    "                break\n",
    "        if flag == 0:\n",
    "            sum += num\n",
    "\n",
    "print(\"The sum of all prime numbers between 1 and 100 is:\", sum)\n"
   ]
  },
  {
   "cell_type": "code",
   "execution_count": 24,
   "id": "4ab26dac-437c-4c65-b749-27d42b19a1d4",
   "metadata": {},
   "outputs": [
    {
     "name": "stdin",
     "output_type": "stream",
     "text": [
      "enter a number: 5\n"
     ]
    },
    {
     "name": "stdout",
     "output_type": "stream",
     "text": [
      "1\n",
      "2\n",
      "3\n",
      "5\n",
      "8\n"
     ]
    }
   ],
   "source": [
    "n=int(input(\"enter a number:\"))\n",
    "a=0;\n",
    "b=1;\n",
    "sum=0\n",
    "while(n>0):\n",
    "    sum=a+b;\n",
    "    a=b;\n",
    "    b=sum;\n",
    "    n=n-1\n",
    "    print(sum)"
   ]
  },
  {
   "cell_type": "code",
   "execution_count": 3,
   "id": "a5dd76d0-5677-4feb-a58a-c3b60dd65026",
   "metadata": {},
   "outputs": [
    {
     "name": "stdin",
     "output_type": "stream",
     "text": [
      "Enter the number of rows:  5\n"
     ]
    },
    {
     "name": "stdout",
     "output_type": "stream",
     "text": [
      "    *\n",
      "   ***\n",
      "  *****\n",
      " *******\n",
      "*********\n"
     ]
    }
   ],
   "source": [
    "rows = int(input(\"Enter the number of rows: \"))\n",
    "for i in range(1, rows+1):\n",
    "    for j in range(rows-i):\n",
    "        print(\" \", end=\"\")\n",
    "    for k in range(2*i-1):\n",
    "        print(\"*\", end=\"\")\n",
    "    print() "
   ]
  },
  {
   "cell_type": "markdown",
   "id": "a509c4be-765d-420b-bf8a-e5def72d127c",
   "metadata": {},
   "source": [
    "# Lambda Function\n",
    "\n",
    "A lambda function is a small anonymous function that can have any number of arguments but only one expression. It is often used for short, simple operations where defining a full function is unnecessary.\n",
    "\n",
    "Syntax: lambda arguments: expression\n",
    "\n",
    "Use Cases of lambda\n",
    "\n",
    "Performing Simple Arithmetic Operations\n",
    "Sorting a List of Tuples or Dictionaries\n",
    "Using lambda with map(), filter(), and reduce()"
   ]
  },
  {
   "cell_type": "code",
   "execution_count": 2,
   "id": "1aaf7553-e2eb-4f88-a4d2-3d62a31d92c2",
   "metadata": {},
   "outputs": [],
   "source": [
    "sq=lambda x:x**2"
   ]
  },
  {
   "cell_type": "code",
   "execution_count": 4,
   "id": "1ca39910-54d0-4cf9-a88c-9f63602b1a68",
   "metadata": {},
   "outputs": [
    {
     "data": {
      "text/plain": [
       "4"
      ]
     },
     "execution_count": 4,
     "metadata": {},
     "output_type": "execute_result"
    }
   ],
   "source": [
    "sq(2)"
   ]
  },
  {
   "cell_type": "code",
   "execution_count": 10,
   "id": "e2a3972e-3da8-4dc4-ac11-1215f5722791",
   "metadata": {},
   "outputs": [],
   "source": [
    "import math"
   ]
  },
  {
   "cell_type": "code",
   "execution_count": 16,
   "id": "155fd2a0-59d2-483b-8060-0401c5e65ef2",
   "metadata": {},
   "outputs": [],
   "source": [
    "sq=lambda x:math.sqrt(x)"
   ]
  },
  {
   "cell_type": "code",
   "execution_count": 18,
   "id": "25ca1743-75d5-4c8f-817a-7c02347a3817",
   "metadata": {},
   "outputs": [
    {
     "data": {
      "text/plain": [
       "2.0"
      ]
     },
     "execution_count": 18,
     "metadata": {},
     "output_type": "execute_result"
    }
   ],
   "source": [
    "sq(4)"
   ]
  },
  {
   "cell_type": "code",
   "execution_count": 20,
   "id": "49b40054-442a-4c7a-8ac8-d97a94feaba9",
   "metadata": {},
   "outputs": [],
   "source": [
    "even_odd=lambda x:\"true\" if x%2==0 else \"odd\""
   ]
  },
  {
   "cell_type": "code",
   "execution_count": 22,
   "id": "fc072483-33a5-4989-a565-128521655942",
   "metadata": {},
   "outputs": [
    {
     "data": {
      "text/plain": [
       "'odd'"
      ]
     },
     "execution_count": 22,
     "metadata": {},
     "output_type": "execute_result"
    }
   ],
   "source": [
    "even_odd(5)"
   ]
  },
  {
   "cell_type": "code",
   "execution_count": 40,
   "id": "983296bd-e90d-4c0d-8a90-436f466cd88c",
   "metadata": {},
   "outputs": [],
   "source": [
    "max=lambda x,y:f\"a is greater:{x}\" if x>y else f\"b is greater:{y}\" "
   ]
  },
  {
   "cell_type": "code",
   "execution_count": 42,
   "id": "98bd65b8-2398-49bd-b9d6-5bd6fd625d8d",
   "metadata": {},
   "outputs": [
    {
     "data": {
      "text/plain": [
       "'b is greater:4'"
      ]
     },
     "execution_count": 42,
     "metadata": {},
     "output_type": "execute_result"
    }
   ],
   "source": [
    "max(4,4)"
   ]
  },
  {
   "cell_type": "markdown",
   "id": "ba88d6ba-1f25-4ccf-ad9d-1e5ec9de1613",
   "metadata": {},
   "source": [
    "age=lambda "
   ]
  },
  {
   "cell_type": "code",
   "execution_count": 45,
   "id": "e8b22dbf-baa9-4d55-b6e7-904abf0e2fd7",
   "metadata": {},
   "outputs": [],
   "source": [
    "age=lambda a:\"eligible for vote\" if a>=18 else \"not eligible for vote\""
   ]
  },
  {
   "cell_type": "code",
   "execution_count": 47,
   "id": "c0ae71fb-2a66-4d34-8952-c42951afae71",
   "metadata": {},
   "outputs": [
    {
     "data": {
      "text/plain": [
       "'eligible for vote'"
      ]
     },
     "execution_count": 47,
     "metadata": {},
     "output_type": "execute_result"
    }
   ],
   "source": [
    "age(42)"
   ]
  },
  {
   "cell_type": "code",
   "execution_count": 61,
   "id": "5f2ad72a-6a53-49f7-bf04-82ddb3406c57",
   "metadata": {},
   "outputs": [],
   "source": [
    "number=lambda x:\"positive\" if x>0 else \"negative\""
   ]
  },
  {
   "cell_type": "code",
   "execution_count": 63,
   "id": "d698cd18-e0f1-4930-88ec-a0ddac6e845f",
   "metadata": {},
   "outputs": [
    {
     "data": {
      "text/plain": [
       "'positive'"
      ]
     },
     "execution_count": 63,
     "metadata": {},
     "output_type": "execute_result"
    }
   ],
   "source": [
    "number(4)"
   ]
  },
  {
   "cell_type": "code",
   "execution_count": 65,
   "id": "df2a0775-1056-4bdb-b3fd-8d6cfe444cf0",
   "metadata": {},
   "outputs": [],
   "source": [
    "marks=lambda x:\"pass\" if x>=40 else \"fail\""
   ]
  },
  {
   "cell_type": "code",
   "execution_count": 67,
   "id": "29b4d211-1a63-4cb9-b0e1-b654518fba88",
   "metadata": {},
   "outputs": [
    {
     "data": {
      "text/plain": [
       "'pass'"
      ]
     },
     "execution_count": 67,
     "metadata": {},
     "output_type": "execute_result"
    }
   ],
   "source": [
    "marks(45)"
   ]
  },
  {
   "cell_type": "code",
   "execution_count": 69,
   "id": "64857923-2957-4e3f-a989-f6f22b76516a",
   "metadata": {},
   "outputs": [],
   "source": [
    "year=lambda x:\"leap year \" if (x%4==0 & x%100!=0 & X%400==0) else \"not leap year\""
   ]
  },
  {
   "cell_type": "code",
   "execution_count": 71,
   "id": "e6ae805f-1ad5-4a10-81af-d09f97375a22",
   "metadata": {},
   "outputs": [
    {
     "data": {
      "text/plain": [
       "'not leap year'"
      ]
     },
     "execution_count": 71,
     "metadata": {},
     "output_type": "execute_result"
    }
   ],
   "source": [
    "year(2025)"
   ]
  },
  {
   "cell_type": "code",
   "execution_count": 91,
   "id": "5a3047ab-f7a0-47a4-9728-a9adc6713371",
   "metadata": {},
   "outputs": [
    {
     "name": "stdout",
     "output_type": "stream",
     "text": [
      "Sorted List: ['Apple', 'Banana', 'Grapes', 'Mango', 'Orange']\n"
     ]
    }
   ],
   "source": [
    "words = [\"Apple\", \"Banana\", \"Orange\", \"Grapes\", \"Mango\"]\n",
    "sorted_words = sorted(words, key=lambda x: x)\n",
    "print(\"Sorted List:\", sorted_words)\n"
   ]
  },
  {
   "cell_type": "code",
   "execution_count": 93,
   "id": "64cdd0c1-0b37-4f29-8ce0-fd6f52ad0f95",
   "metadata": {},
   "outputs": [],
   "source": [
    "number=lambda x:\"positive\" if x>0 else (\"negagive\" if x<0 else \"zero\")"
   ]
  },
  {
   "cell_type": "code",
   "execution_count": 95,
   "id": "cf8d1464-5a6e-4dfd-9534-8fb1ad781adf",
   "metadata": {},
   "outputs": [
    {
     "data": {
      "text/plain": [
       "'zero'"
      ]
     },
     "execution_count": 95,
     "metadata": {},
     "output_type": "execute_result"
    }
   ],
   "source": [
    "number(0)"
   ]
  },
  {
   "cell_type": "code",
   "execution_count": 111,
   "id": "e2c2a8ad-b71d-4740-bacf-5d65a915ed32",
   "metadata": {},
   "outputs": [],
   "source": [
    "greatest=lambda x,y,z:f\"x is greater{x}\" if(x>y and x>z) else (f\"y is greater{y}\" if(y>x and y>z) else f\"c is greater{z}\")"
   ]
  },
  {
   "cell_type": "code",
   "execution_count": 117,
   "id": "b9810118-e833-410f-b1cf-435aed944ce7",
   "metadata": {},
   "outputs": [
    {
     "data": {
      "text/plain": [
       "'c is greater30000'"
      ]
     },
     "execution_count": 117,
     "metadata": {},
     "output_type": "execute_result"
    }
   ],
   "source": [
    "greatest(100,400,30000)"
   ]
  },
  {
   "cell_type": "code",
   "execution_count": 119,
   "id": "82717b86-f184-40df-a465-c7518c85d73e",
   "metadata": {},
   "outputs": [],
   "source": [
    "grade=lambda x:\"A+\" if(x>90) else (\"A\" if x>90 else(\"b\" if x>75 else(\"c\" if x>50 else \"fail\")))"
   ]
  },
  {
   "cell_type": "code",
   "execution_count": 121,
   "id": "9b927734-fac6-4a82-9967-3253a3a453fe",
   "metadata": {},
   "outputs": [
    {
     "data": {
      "text/plain": [
       "'fail'"
      ]
     },
     "execution_count": 121,
     "metadata": {},
     "output_type": "execute_result"
    }
   ],
   "source": [
    "grade(45)"
   ]
  },
  {
   "cell_type": "markdown",
   "id": "47660d40-ac13-4540-8ced-57348f88c9e6",
   "metadata": {},
   "source": [
    "# Filter function"
   ]
  },
  {
   "cell_type": "markdown",
   "id": "2a4d0a6a-5b6b-4eef-8700-dcad05b79a19",
   "metadata": {},
   "source": [
    "### The filter() function is used to filter elements of an iterable based on a given condition. It returns an iterator with elements that satisfy the condition.\n",
    "## Syntax: filter(function, iterable)\n",
    "• function: A function that returns True or False\n",
    "• iterable: A sequence (list, tuple, etc.) to be filtered\n",
    "Use Cases of filter()\n",
    "• Filtering Even/Odd Numbers or specific data\n",
    "Filtering Words in a List\n",
    "• Filtering Objects Based on Attributes\n",
    "\n"
   ]
  },
  {
   "cell_type": "code",
   "execution_count": 135,
   "id": "96ddf5b7-b7d3-4b14-8c6d-ae4c3b013af8",
   "metadata": {},
   "outputs": [],
   "source": [
    "def even(n):\n",
    "    if n%2==0:\n",
    "        return n\n"
   ]
  },
  {
   "cell_type": "code",
   "execution_count": 137,
   "id": "1c56da4e-302c-4b38-b004-935c9679e7c2",
   "metadata": {},
   "outputs": [],
   "source": [
    "num=[1,2,3,4,5,6,7,8,9]"
   ]
  },
  {
   "cell_type": "code",
   "execution_count": 141,
   "id": "d058fcd8-dbb6-48f7-ba4d-94917b62704b",
   "metadata": {},
   "outputs": [],
   "source": [
    "even=list(filter(even,num))"
   ]
  },
  {
   "cell_type": "code",
   "execution_count": 143,
   "id": "186802a5-7dae-4849-b724-0f1dad80282b",
   "metadata": {},
   "outputs": [
    {
     "data": {
      "text/plain": [
       "[2, 4, 6, 8]"
      ]
     },
     "execution_count": 143,
     "metadata": {},
     "output_type": "execute_result"
    }
   ],
   "source": [
    "even"
   ]
  },
  {
   "cell_type": "code",
   "execution_count": 149,
   "id": "5cf2fb39-899e-4344-b8d8-5f47b6e5e293",
   "metadata": {},
   "outputs": [],
   "source": [
    "# WAP to filter out vowels from a random strings List.  \n",
    "#WAP for Filtering Even Numbers using Lambda function.  \n",
    "#WAP for Filtering Words by Length ( Use Case: Extract words with more than 4 characters from  \n",
    "#WAP for Filtering Students Based on Marks ( Use Case: Extract students who scored above 50 in  \n",
    "def vowel(a):\n",
    "    for i in range(0,len(a)):\n",
    "        if(a[i]==\"a\" or a[i]==\"e\" or a[i]==\"i\" or  a[i]==\"o\" or a[i]==\"u\" ):\n",
    "            print(a[i])"
   ]
  },
  {
   "cell_type": "code",
   "execution_count": 151,
   "id": "ae4ab7da-05d0-4550-96b4-da700f25a7df",
   "metadata": {},
   "outputs": [],
   "source": [
    "hell=\"hello how are you\""
   ]
  },
  {
   "cell_type": "code",
   "execution_count": 153,
   "id": "32694fc9-a6e6-4aef-a235-e8ceb99e2730",
   "metadata": {},
   "outputs": [
    {
     "name": "stdout",
     "output_type": "stream",
     "text": [
      "e\n",
      "o\n",
      "o\n",
      "a\n",
      "e\n",
      "o\n",
      "u\n"
     ]
    }
   ],
   "source": [
    "vo=list(filter(vowel,hell))"
   ]
  },
  {
   "cell_type": "code",
   "execution_count": 165,
   "id": "f745c0e6-0291-4fe3-9f25-81f205ddf8c2",
   "metadata": {},
   "outputs": [],
   "source": [
    "su=lambda x:print(x) if x%2==0 else \"\""
   ]
  },
  {
   "cell_type": "code",
   "execution_count": 169,
   "id": "847d692c-6e47-4239-96ff-3bdd6e0c4ac8",
   "metadata": {},
   "outputs": [
    {
     "name": "stdout",
     "output_type": "stream",
     "text": [
      "2\n",
      "4\n",
      "6\n",
      "8\n"
     ]
    }
   ],
   "source": [
    "hello=[1,2,3,4,5,6,7,8]\n",
    "e=list(filter(su,(hello)))"
   ]
  },
  {
   "cell_type": "code",
   "execution_count": 171,
   "id": "bd8ed771-9f1c-441c-a8df-220a00cc4797",
   "metadata": {},
   "outputs": [],
   "source": [
    "na=lambda x:print(x) if x<0 else \"\""
   ]
  },
  {
   "cell_type": "code",
   "execution_count": 173,
   "id": "b6d17fd5-d6c5-4692-ad4a-28726a7c6f32",
   "metadata": {},
   "outputs": [
    {
     "name": "stdout",
     "output_type": "stream",
     "text": [
      "-2\n",
      "-3\n",
      "-5\n"
     ]
    }
   ],
   "source": [
    "hello=[1,-2,-3,4,-5,6,7,8]\n",
    "e=list(filter(na,(hello)))"
   ]
  },
  {
   "cell_type": "code",
   "execution_count": 177,
   "id": "4d7101f3-1cc3-4121-b3e3-16bbcbbe35ae",
   "metadata": {},
   "outputs": [],
   "source": [
    "def vo(a):\n",
    "    for i in range(0, len(a)):\n",
    "        if a[i] == \"A\":\n",
    "            print(a[i], end=\" \")\n",
    "\n",
    "\n"
   ]
  },
  {
   "cell_type": "code",
   "execution_count": 181,
   "id": "b7e59b25-9a37-4554-a26c-a528c380d430",
   "metadata": {},
   "outputs": [
    {
     "name": "stdout",
     "output_type": "stream",
     "text": [
      "A "
     ]
    }
   ],
   "source": [
    "heo=[\"Ajay\",\"Pankaj\",\"Ram\"]\n",
    "e=list(filter(vo,(heo)))"
   ]
  },
  {
   "cell_type": "code",
   "execution_count": 183,
   "id": "df5aac42-a7fe-493c-b878-6d73007dbeae",
   "metadata": {},
   "outputs": [],
   "source": [
    "# WAP for Filtering Students Based on Marks (📌 Use Case: Extract students who scored above 50 in an exam.)  \n",
    "# Write a Python program to filter out negative numbers from a list.  \n",
    "# Given a list of names, filter out names that start with the letter \"A\".  \n",
    "# Create a program to filter out prime numbers from a given list.\n",
    "sul=lambda x:print(x) if x>50 else \" \""
   ]
  },
  {
   "cell_type": "code",
   "execution_count": 185,
   "id": "d0f5c1fb-f47e-4ed0-b636-640439e2085f",
   "metadata": {},
   "outputs": [
    {
     "name": "stdout",
     "output_type": "stream",
     "text": [
      "60\n",
      "70\n",
      "80\n"
     ]
    }
   ],
   "source": [
    "hello=[10,20,30,40,50,60,70,80]\n",
    "e=list(filter(sul,(hello)))"
   ]
  },
  {
   "cell_type": "code",
   "execution_count": 187,
   "id": "23f3d784-eaef-42a4-a912-db34aea7f3ac",
   "metadata": {},
   "outputs": [
    {
     "name": "stdout",
     "output_type": "stream",
     "text": [
      "Original List: ['Alice', 'Bob', 'Andrew', 'Charlie', 'Amanda', 'David', 'Alex']\n",
      "Filtered List (Without 'A' Names): ['Bob', 'Charlie', 'David']\n"
     ]
    }
   ],
   "source": [
    "names = [\"Alice\", \"Bob\", \"Andrew\", \"Charlie\", \"Amanda\", \"David\", \"Alex\"]\n",
    "\n",
    "# Filtering out names that start with 'A'\n",
    "filtered_names = list(filter(lambda name: not name.startswith(\"A\"), names))\n",
    "\n",
    "print(\"Original List:\", names)\n",
    "print(\"Filtered List (Without 'A' Names):\", filtered_names)\n"
   ]
  },
  {
   "cell_type": "code",
   "execution_count": 189,
   "id": "fcdeb821-c051-4908-b719-1bbe647eac11",
   "metadata": {},
   "outputs": [
    {
     "name": "stdout",
     "output_type": "stream",
     "text": [
      "['ALICE', 'BOB', 'CHARLIE']\n"
     ]
    }
   ],
   "source": [
    "def to_upper(name):  \n",
    "  return name.upper()  \n",
    "\n",
    "names = [\"alice\", \"bob\", \"charlie\"]  \n",
    "uppercase_names = list(map(to_upper, names))  \n",
    "\n",
    "\n",
    "print(uppercase_names)  "
   ]
  },
  {
   "cell_type": "code",
   "execution_count": 197,
   "id": "3d2d5933-83f5-4d56-8fe0-f68249474a80",
   "metadata": {},
   "outputs": [
    {
     "name": "stdout",
     "output_type": "stream",
     "text": [
      "[1, 4, 9, 16, 25]\n"
     ]
    }
   ],
   "source": [
    "list1=[1,2,3,4,5]\n",
    "def square(a):\n",
    "    return a**2\n",
    "hi=list(map(square,list1))\n",
    "print(hi)"
   ]
  },
  {
   "cell_type": "code",
   "execution_count": 202,
   "id": "f34a8a9f-692f-464b-b291-cfc83cb057d4",
   "metadata": {},
   "outputs": [
    {
     "name": "stdout",
     "output_type": "stream",
     "text": [
      "[2, 4, 6, 8, 10]\n"
     ]
    }
   ],
   "source": [
    "list1=[1,2,3,4,5]\n",
    "def double(a):\n",
    "    return a*2\n",
    "hi=list(map(double,list1))\n",
    "print(hi)"
   ]
  },
  {
   "cell_type": "code",
   "execution_count": 206,
   "id": "2f34bf16-55e4-4df3-8bc2-048a363bb49c",
   "metadata": {},
   "outputs": [
    {
     "name": "stdout",
     "output_type": "stream",
     "text": [
      "[86.0, 50.0, 68.0, 104.0, 122.0]\n"
     ]
    }
   ],
   "source": [
    "# WAP for Squaring Each Element in a List  \n",
    "# WAP to Calculate Final Prices with Discounts  \n",
    "# Write a function that doubles each number in a List using map().  \n",
    "# Use map() to convert a list of temperatures in Celsius to Fahrenheit (F = C * 9/5 + 32).  \n",
    "# Given a list of words, use map() to return the length of each word.  \n",
    "def temp(a):\n",
    "    return a * 9/5 + 32\n",
    "list1=[30,10,20,40,50]\n",
    "hi=list(map(temp,list1))\n",
    "print(hi)"
   ]
  },
  {
   "cell_type": "markdown",
   "id": "fb9e067c-a7f0-420b-970b-abe074ba0b00",
   "metadata": {},
   "source": [
    "# Reduce function"
   ]
  },
  {
   "cell_type": "code",
   "execution_count": 208,
   "id": "3c25ddbd-ee94-4ca8-8d02-1128653d924e",
   "metadata": {},
   "outputs": [],
   "source": [
    "from functools import reduce"
   ]
  },
  {
   "cell_type": "code",
   "execution_count": 221,
   "id": "afc16e29-e942-4e38-b386-03c98210e429",
   "metadata": {},
   "outputs": [
    {
     "name": "stdout",
     "output_type": "stream",
     "text": [
      "40\n"
     ]
    }
   ],
   "source": [
    "def max(x, y):  \n",
    "    if( x > y):\n",
    "        return x \n",
    "    else:\n",
    "        return y\n",
    "\n",
    "numbers = [1, 2, 3, 40, 5]  \n",
    "\n",
    "sum_total = reduce(max, numbers)  \n",
    "print(sum_total)  "
   ]
  },
  {
   "cell_type": "code",
   "execution_count": 235,
   "id": "93be7b97-6ed0-42a4-9500-af39c2625c9d",
   "metadata": {},
   "outputs": [
    {
     "name": "stdout",
     "output_type": "stream",
     "text": [
      "1200\n"
     ]
    }
   ],
   "source": [
    "def mul(x,y):  \n",
    "    x=y*x;\n",
    "    return x\n",
    "numbers = [1, 2, 3, 40, 5]  \n",
    "\n",
    "total = reduce(mul, numbers)  \n",
    "print(total)  "
   ]
  },
  {
   "cell_type": "markdown",
   "id": "ffe53b20-243b-4fc9-be0b-341ab49f7b93",
   "metadata": {},
   "source": [
    "# numpy"
   ]
  },
  {
   "cell_type": "code",
   "execution_count": 238,
   "id": "3afc704e-0012-4ec9-99bb-02524aec4150",
   "metadata": {},
   "outputs": [],
   "source": [
    "import numpy as np\n"
   ]
  },
  {
   "cell_type": "code",
   "execution_count": 240,
   "id": "bb1e0d10-2661-4914-98c5-df66be74aed4",
   "metadata": {},
   "outputs": [],
   "source": [
    "ar=np.array([1,2,3])"
   ]
  },
  {
   "cell_type": "code",
   "execution_count": 242,
   "id": "0bd86db7-0b43-4007-9da4-12a83ab0dca4",
   "metadata": {},
   "outputs": [
    {
     "data": {
      "text/plain": [
       "numpy.ndarray"
      ]
     },
     "execution_count": 242,
     "metadata": {},
     "output_type": "execute_result"
    }
   ],
   "source": [
    "type(ar)"
   ]
  },
  {
   "cell_type": "code",
   "execution_count": 246,
   "id": "b00bc0d8-650b-4ae7-8ecf-f18b30358b69",
   "metadata": {},
   "outputs": [],
   "source": [
    "ar=np.array([[[1,2,3],[4,5,6],[7,8,9]]])"
   ]
  },
  {
   "cell_type": "code",
   "execution_count": 248,
   "id": "e95a75ee-689c-49e8-8243-3f713d136a37",
   "metadata": {},
   "outputs": [
    {
     "data": {
      "text/plain": [
       "array([[[1, 2, 3],\n",
       "        [4, 5, 6],\n",
       "        [7, 8, 9]]])"
      ]
     },
     "execution_count": 248,
     "metadata": {},
     "output_type": "execute_result"
    }
   ],
   "source": [
    "ar"
   ]
  },
  {
   "cell_type": "code",
   "execution_count": 250,
   "id": "d6b1b822-8275-4c90-a4c7-d60aad3d27c6",
   "metadata": {},
   "outputs": [
    {
     "ename": "AttributeError",
     "evalue": "module 'math' has no attribute 'random'",
     "output_type": "error",
     "traceback": [
      "\u001b[1;31m---------------------------------------------------------------------------\u001b[0m",
      "\u001b[1;31mAttributeError\u001b[0m                            Traceback (most recent call last)",
      "Cell \u001b[1;32mIn[250], line 1\u001b[0m\n\u001b[1;32m----> 1\u001b[0m math\u001b[38;5;241m.\u001b[39mrandom(\u001b[38;5;241m1\u001b[39m,\u001b[38;5;241m6\u001b[39m)\n",
      "\u001b[1;31mAttributeError\u001b[0m: module 'math' has no attribute 'random'"
     ]
    }
   ],
   "source": [
    "math.random(1,6)"
   ]
  },
  {
   "cell_type": "code",
   "execution_count": 264,
   "id": "65984ec9-5a16-42fd-b115-d59145b17881",
   "metadata": {},
   "outputs": [
    {
     "ename": "TypeError",
     "evalue": "'list' object cannot be interpreted as an integer",
     "output_type": "error",
     "traceback": [
      "\u001b[1;31m---------------------------------------------------------------------------\u001b[0m",
      "\u001b[1;31mTypeError\u001b[0m                                 Traceback (most recent call last)",
      "Cell \u001b[1;32mIn[264], line 1\u001b[0m\n\u001b[1;32m----> 1\u001b[0m np\u001b[38;5;241m.\u001b[39mrandom\u001b[38;5;241m.\u001b[39mrand([[[\u001b[38;5;241m1\u001b[39m,\u001b[38;5;241m5\u001b[39m]]])\n",
      "File \u001b[1;32mnumpy\\\\random\\\\mtrand.pyx:1219\u001b[0m, in \u001b[0;36mnumpy.random.mtrand.RandomState.rand\u001b[1;34m()\u001b[0m\n",
      "File \u001b[1;32mnumpy\\\\random\\\\mtrand.pyx:437\u001b[0m, in \u001b[0;36mnumpy.random.mtrand.RandomState.random_sample\u001b[1;34m()\u001b[0m\n",
      "File \u001b[1;32m_common.pyx:307\u001b[0m, in \u001b[0;36mnumpy.random._common.double_fill\u001b[1;34m()\u001b[0m\n",
      "\u001b[1;31mTypeError\u001b[0m: 'list' object cannot be interpreted as an integer"
     ]
    }
   ],
   "source": [
    "np.random.rand([[[1,5]]])"
   ]
  },
  {
   "cell_type": "code",
   "execution_count": 272,
   "id": "987d38a7-484f-460b-bcbd-543029dd4923",
   "metadata": {},
   "outputs": [
    {
     "data": {
      "text/plain": [
       "array([[[0.3138662 , 0.61641825],\n",
       "        [0.63169792, 0.32755371],\n",
       "        [0.63932241, 0.50679653]]])"
      ]
     },
     "execution_count": 272,
     "metadata": {},
     "output_type": "execute_result"
    }
   ],
   "source": [
    "(np.random.rand(1,3,2))"
   ]
  },
  {
   "cell_type": "code",
   "execution_count": 283,
   "id": "ad7a5e09-354d-4ca7-b8d1-786641ecb90b",
   "metadata": {},
   "outputs": [],
   "source": [
    "ar=np.random.randint(1, 100,(4,4))"
   ]
  },
  {
   "cell_type": "raw",
   "id": "1e2fa8aa-abe5-48d3-bbe8-fa849f2b5ddc",
   "metadata": {},
   "source": []
  },
  {
   "cell_type": "markdown",
   "id": "140b45d9-136b-480e-afee-98a645171015",
   "metadata": {},
   "source": [
    "shape of an array"
   ]
  },
  {
   "cell_type": "code",
   "execution_count": 285,
   "id": "b936e59a-4cc8-4c31-865d-e1d7bf5ebf06",
   "metadata": {},
   "outputs": [
    {
     "data": {
      "text/plain": [
       "(4, 4)"
      ]
     },
     "execution_count": 285,
     "metadata": {},
     "output_type": "execute_result"
    }
   ],
   "source": [
    "ar.shape"
   ]
  },
  {
   "cell_type": "code",
   "execution_count": 287,
   "id": "980983ad-66c2-4f26-a60b-3d901ddf42ee",
   "metadata": {},
   "outputs": [
    {
     "data": {
      "text/plain": [
       "16"
      ]
     },
     "execution_count": 287,
     "metadata": {},
     "output_type": "execute_result"
    }
   ],
   "source": [
    "ar.size # size of an arrat"
   ]
  },
  {
   "cell_type": "code",
   "execution_count": 289,
   "id": "d778ed55-a442-4a19-927c-2d2458c191f6",
   "metadata": {},
   "outputs": [
    {
     "data": {
      "text/plain": [
       "2"
      ]
     },
     "execution_count": 289,
     "metadata": {},
     "output_type": "execute_result"
    }
   ],
   "source": [
    "ar.ndim # dimensions of an array"
   ]
  },
  {
   "cell_type": "code",
   "execution_count": 291,
   "id": "24406916-3c3a-4f2e-ab4a-7f29de2ec18d",
   "metadata": {},
   "outputs": [
    {
     "data": {
      "text/plain": [
       "4"
      ]
     },
     "execution_count": 291,
     "metadata": {},
     "output_type": "execute_result"
    }
   ],
   "source": [
    "len(ar) #length of an array"
   ]
  },
  {
   "cell_type": "code",
   "execution_count": 293,
   "id": "ff2d331b-76f2-425e-b822-532d84176c64",
   "metadata": {},
   "outputs": [],
   "source": [
    "ar1 = np.array([[45,546,345], [234,675,43]],ndmin=16)  "
   ]
  },
  {
   "cell_type": "code",
   "execution_count": 295,
   "id": "035ea88b-2cd4-4f60-9d2e-a28f4799df79",
   "metadata": {},
   "outputs": [
    {
     "data": {
      "text/plain": [
       "array([[[[[[[[[[[[[[[[ 45, 546, 345],\n",
       "                     [234, 675,  43]]]]]]]]]]]]]]]])"
      ]
     },
     "execution_count": 295,
     "metadata": {},
     "output_type": "execute_result"
    }
   ],
   "source": [
    "ar1"
   ]
  },
  {
   "cell_type": "code",
   "execution_count": 299,
   "id": "f1ad1ea9-f55e-4905-95ff-35d381ae072a",
   "metadata": {},
   "outputs": [
    {
     "data": {
      "text/plain": [
       "16"
      ]
     },
     "execution_count": 299,
     "metadata": {},
     "output_type": "execute_result"
    }
   ],
   "source": [
    "ar1.ndim"
   ]
  },
  {
   "cell_type": "code",
   "execution_count": 301,
   "id": "d7cf575c-69a6-4094-b75e-450c5f4feee8",
   "metadata": {},
   "outputs": [
    {
     "data": {
      "text/plain": [
       "dtype('int32')"
      ]
     },
     "execution_count": 301,
     "metadata": {},
     "output_type": "execute_result"
    }
   ],
   "source": [
    "ar1.dtype"
   ]
  },
  {
   "cell_type": "code",
   "execution_count": 303,
   "id": "f95c442d-8baf-4784-842c-515e8e5763ef",
   "metadata": {},
   "outputs": [
    {
     "data": {
      "text/plain": [
       "array([[[[[[[[[[[[[[[[ 45., 546., 345.],\n",
       "                     [234., 675.,  43.]]]]]]]]]]]]]]]], dtype=float32)"
      ]
     },
     "execution_count": 303,
     "metadata": {},
     "output_type": "execute_result"
    }
   ],
   "source": [
    "ar1.astype('float32')"
   ]
  },
  {
   "cell_type": "code",
   "execution_count": 305,
   "id": "1f084ba1-d466-4674-9b65-aaa0e93a193d",
   "metadata": {},
   "outputs": [],
   "source": [
    "my_list = range(1,100)  \n",
    "my_array = np.arange(1,100)  "
   ]
  },
  {
   "cell_type": "code",
   "execution_count": 307,
   "id": "dc10cec6-a9f3-4863-9a9d-661109b32014",
   "metadata": {},
   "outputs": [],
   "source": [
    "import sys"
   ]
  },
  {
   "cell_type": "code",
   "execution_count": 309,
   "id": "7e0dcff8-96f9-4eb8-90e7-3e7c8042d163",
   "metadata": {},
   "outputs": [],
   "source": [
    "size=sys.getsizeof(my_list[0]*len(my_list))"
   ]
  },
  {
   "cell_type": "code",
   "execution_count": 311,
   "id": "bb5967c3-5b0e-4fbc-983d-793ecee6ced4",
   "metadata": {},
   "outputs": [
    {
     "data": {
      "text/plain": [
       "28"
      ]
     },
     "execution_count": 311,
     "metadata": {},
     "output_type": "execute_result"
    }
   ],
   "source": [
    "size"
   ]
  },
  {
   "cell_type": "code",
   "execution_count": 313,
   "id": "620c16c7-b2c4-431b-803c-c1fcaac73254",
   "metadata": {},
   "outputs": [],
   "source": [
    "sizea=my_array.nbytes"
   ]
  },
  {
   "cell_type": "code",
   "execution_count": 315,
   "id": "cb58497a-eb3e-40ef-97c3-03f1033f9da7",
   "metadata": {},
   "outputs": [
    {
     "data": {
      "text/plain": [
       "396"
      ]
     },
     "execution_count": 315,
     "metadata": {},
     "output_type": "execute_result"
    }
   ],
   "source": [
    "sizea"
   ]
  },
  {
   "cell_type": "code",
   "execution_count": 317,
   "id": "9517868f-55e1-4100-b9c7-9b86f0a92fc4",
   "metadata": {},
   "outputs": [
    {
     "name": "stdout",
     "output_type": "stream",
     "text": [
      "Size of Python list: 28000 bytes\n",
      "Size of NumPy array: 4000 bytes\n"
     ]
    }
   ],
   "source": [
    "py_list = list(range(1000))  \n",
    "list_size = sys.getsizeof(py_list[0]) * len(py_list)  \n",
    "\n",
    "# NumPy Array  \n",
    "np_array = np.arange(1000)  \n",
    "array_size = np_array.nbytes # Directly gives the total size  \n",
    "\n",
    "print(f\"Size of Python list: {list_size} bytes\")  \n",
    "print(f\"Size of NumPy array: {array_size} bytes\")  "
   ]
  },
  {
   "cell_type": "code",
   "execution_count": 319,
   "id": "18995c78-2f98-4287-85d5-30b761080ecc",
   "metadata": {},
   "outputs": [
    {
     "name": "stdout",
     "output_type": "stream",
     "text": [
      "Python list time: 0.15489 seconds\n",
      "NumPy array time: 0.00553 seconds\n"
     ]
    }
   ],
   "source": [
    "import time  \n",
    "\n",
    "size = 1_000_000  # 1 million elements  \n",
    "\n",
    "# Python List  \n",
    "py_list = list(range(size))  \n",
    "start = time.time()  \n",
    "py_list = [x * 2 for x in py_list]  # Multiply each element by 2  \n",
    "end = time.time()  \n",
    "print(f\"Python list time: {end - start:.5f} seconds\")  \n",
    "\n",
    "# NumPy Array  \n",
    "np_array = np.arange(size)  \n",
    "start = time.time()  \n",
    "np_array = np_array * 2  # Multiply each element by 2  \n",
    "end = time.time()  \n",
    "print(f\"NumPy array time: {end - start:.5f} seconds\")  "
   ]
  },
  {
   "cell_type": "code",
   "execution_count": 373,
   "id": "9ca7eed7-a11a-4633-8c22-f841dbe17aa1",
   "metadata": {},
   "outputs": [
    {
     "name": "stdout",
     "output_type": "stream",
     "text": [
      "[[[ 1  4  9]\n",
      "  [16 25 36]\n",
      "  [49 64 81]]]\n"
     ]
    }
   ],
   "source": [
    "ar1 = np.array([[[1,2,3], [4,5,6],[7,8,9]]])\n",
    "for i in range (0,1):\n",
    "    for j in range(0,3):\n",
    "        for k in range(0,3):\n",
    "             ar1[i][j][k]=ar1[i][j][k]**2\n",
    "print(ar1)"
   ]
  },
  {
   "cell_type": "code",
   "execution_count": 371,
   "id": "9aa7c288-f1cb-4656-8d32-504808c0d31b",
   "metadata": {},
   "outputs": [
    {
     "data": {
      "text/plain": [
       "array([[[ 1,  4,  9],\n",
       "        [16, 25, 36],\n",
       "        [49, 64, 81]]])"
      ]
     },
     "execution_count": 371,
     "metadata": {},
     "output_type": "execute_result"
    }
   ],
   "source": [
    "ar2 = np.array([[[1,2,3], [4,5,6],[7,8,9]]])"
   ]
  },
  {
   "cell_type": "code",
   "execution_count": 375,
   "id": "34737c70-355c-46ec-a000-c6e832790e01",
   "metadata": {},
   "outputs": [
    {
     "data": {
      "text/plain": [
       "array([[1, 2, 3, 4],\n",
       "       [3, 4, 5, 6],\n",
       "       [6, 7, 8, 9]])"
      ]
     },
     "execution_count": 375,
     "metadata": {},
     "output_type": "execute_result"
    }
   ],
   "source": [
    "x = [[1,2,3,4], [3,4,5,6], [6,7,8,9]]  \n",
    "ar = np.array(x)  \n",
    "ar  "
   ]
  },
  {
   "cell_type": "code",
   "execution_count": 379,
   "id": "c4abc665-1092-41cf-b7eb-967a5fac3cc3",
   "metadata": {},
   "outputs": [
    {
     "name": "stdout",
     "output_type": "stream",
     "text": [
      "1\n",
      "2\n",
      "3\n",
      "4\n",
      "3\n",
      "4\n",
      "5\n",
      "6\n",
      "6\n",
      "7\n",
      "8\n",
      "9\n"
     ]
    }
   ],
   "source": [
    "for i in np.nditer(ar):\n",
    "    print(i)"
   ]
  },
  {
   "cell_type": "code",
   "execution_count": 381,
   "id": "442f17cb-6ca7-4d56-9c4b-5f8514363dab",
   "metadata": {},
   "outputs": [],
   "source": [
    "ar1 = np.array([[45,546,345], [234,675,43]],ndmin=7)  "
   ]
  },
  {
   "cell_type": "code",
   "execution_count": 383,
   "id": "01fc7e2b-9c59-4f85-83b9-9ef9f41032be",
   "metadata": {},
   "outputs": [
    {
     "name": "stdout",
     "output_type": "stream",
     "text": [
      "45\n",
      "546\n",
      "345\n",
      "234\n",
      "675\n",
      "43\n"
     ]
    }
   ],
   "source": [
    "for i in np.nditer(ar1):\n",
    "    print(i)"
   ]
  },
  {
   "cell_type": "code",
   "execution_count": 387,
   "id": "6a3694c5-dd0a-4ceb-b469-0c406bb25325",
   "metadata": {},
   "outputs": [],
   "source": [
    "# flattern &  ravel padh le bhai"
   ]
  },
  {
   "cell_type": "code",
   "execution_count": 393,
   "id": "9aa46bb4-ac94-4d8b-8e5f-5cb522eeee60",
   "metadata": {},
   "outputs": [
    {
     "data": {
      "text/plain": [
       "array([1, 2, 3, 4, 3, 4, 5, 6, 6, 7, 8, 9])"
      ]
     },
     "execution_count": 393,
     "metadata": {},
     "output_type": "execute_result"
    }
   ],
   "source": [
    "new_ar=ar.flatten()  \n",
    "\n",
    "#Flatten() creates a new 1D array without modifying the original matrix.  \n",
    "\n",
    "new_ar  \n",
    "\n",
    "#array([1, 2, 3, 4, 5, 6, 7, 8, 9])  \n",
    "\n",
    "ravel_ar=ar.ravel()  \n",
    "\n",
    "# The .ravel() method returns a flattened view of the original array (if possible).  \n",
    "\n",
    "ravel_ar  \n",
    "\n",
    "#array([1, 2, 3, 4, 5, 6, 7, 8, 9])  \n",
    "\n",
    "#Key Difference:  \n",
    "\n",
    "#.ravel() does not create a new copy; it provides a view of the same data."
   ]
  },
  {
   "cell_type": "code",
   "execution_count": 395,
   "id": "ab855746-f2aa-46ed-aedb-cc088f8af472",
   "metadata": {},
   "outputs": [],
   "source": [
    "arr1=np.array([[1,2,3],[4,5,6]])"
   ]
  },
  {
   "cell_type": "code",
   "execution_count": 397,
   "id": "99afac6f-50bf-41f4-b9db-d09c467f827d",
   "metadata": {},
   "outputs": [],
   "source": [
    "arr2=np.array([[1,2,3],[4,5,6]])"
   ]
  },
  {
   "cell_type": "code",
   "execution_count": 399,
   "id": "2ec1e49f-0c63-439d-8da8-af965e81e898",
   "metadata": {},
   "outputs": [
    {
     "data": {
      "text/plain": [
       "array([[ 2,  4,  6],\n",
       "       [ 8, 10, 12]])"
      ]
     },
     "execution_count": 399,
     "metadata": {},
     "output_type": "execute_result"
    }
   ],
   "source": [
    "arr1+arr2"
   ]
  },
  {
   "cell_type": "code",
   "execution_count": 401,
   "id": "c1c24769-8355-450c-9ad5-11d7a27ce9f2",
   "metadata": {},
   "outputs": [
    {
     "data": {
      "text/plain": [
       "array([[0, 0, 0],\n",
       "       [0, 0, 0]])"
      ]
     },
     "execution_count": 401,
     "metadata": {},
     "output_type": "execute_result"
    }
   ],
   "source": [
    "arr1-arr2"
   ]
  },
  {
   "cell_type": "code",
   "execution_count": 403,
   "id": "b64f0cbc-4441-48ea-a1c4-434eff74fd1c",
   "metadata": {},
   "outputs": [
    {
     "data": {
      "text/plain": [
       "array([[ 1,  4,  9],\n",
       "       [16, 25, 36]])"
      ]
     },
     "execution_count": 403,
     "metadata": {},
     "output_type": "execute_result"
    }
   ],
   "source": [
    "arr1*arr2"
   ]
  },
  {
   "cell_type": "code",
   "execution_count": 405,
   "id": "0480e10c-6b9f-42b5-b65f-c4cadec7f462",
   "metadata": {},
   "outputs": [
    {
     "data": {
      "text/plain": [
       "array([[False, False, False],\n",
       "       [False, False,  True]])"
      ]
     },
     "execution_count": 405,
     "metadata": {},
     "output_type": "execute_result"
    }
   ],
   "source": [
    "arr1>5"
   ]
  },
  {
   "cell_type": "code",
   "execution_count": 407,
   "id": "0413402f-f670-496b-886e-cf00b31abb13",
   "metadata": {},
   "outputs": [
    {
     "data": {
      "text/plain": [
       "array([6])"
      ]
     },
     "execution_count": 407,
     "metadata": {},
     "output_type": "execute_result"
    }
   ],
   "source": [
    "arr1[arr1>5]"
   ]
  },
  {
   "cell_type": "code",
   "execution_count": 411,
   "id": "3bccbc56-2089-4995-a861-78e9961e606c",
   "metadata": {},
   "outputs": [],
   "source": [
    "# Arange Function"
   ]
  },
  {
   "cell_type": "raw",
   "id": "c8f46e67-a7fd-47ba-b462-aa5accbdb306",
   "metadata": {},
   "source": []
  },
  {
   "cell_type": "code",
   "execution_count": 419,
   "id": "da02bb13-31bd-46ef-ad36-c17ac80d2f9d",
   "metadata": {},
   "outputs": [],
   "source": [
    "ar=np.arange(1,100,5)#start stop step"
   ]
  },
  {
   "cell_type": "code",
   "execution_count": 421,
   "id": "c16a4ec2-c07d-42d9-94ac-b95cd1ba9c82",
   "metadata": {},
   "outputs": [
    {
     "data": {
      "text/plain": [
       "array([ 1,  6, 11, 16, 21, 26, 31, 36, 41, 46, 51, 56, 61, 66, 71, 76, 81,\n",
       "       86, 91, 96])"
      ]
     },
     "execution_count": 421,
     "metadata": {},
     "output_type": "execute_result"
    }
   ],
   "source": [
    "ar"
   ]
  },
  {
   "cell_type": "code",
   "execution_count": 423,
   "id": "7907117f-44f9-49a8-900c-a49007181b39",
   "metadata": {},
   "outputs": [
    {
     "data": {
      "text/plain": [
       "20"
      ]
     },
     "execution_count": 423,
     "metadata": {},
     "output_type": "execute_result"
    }
   ],
   "source": [
    "ar.size"
   ]
  },
  {
   "cell_type": "code",
   "execution_count": 427,
   "id": "5ddeb925-fc96-4f1e-8959-f4f7e2e8ce10",
   "metadata": {},
   "outputs": [
    {
     "data": {
      "text/plain": [
       "array([[ 1,  6, 11, 16, 21, 26, 31, 36, 41, 46],\n",
       "       [51, 56, 61, 66, 71, 76, 81, 86, 91, 96]])"
      ]
     },
     "execution_count": 427,
     "metadata": {},
     "output_type": "execute_result"
    }
   ],
   "source": [
    "ar.reshape(2,10)# quantity , elements"
   ]
  },
  {
   "cell_type": "code",
   "execution_count": 435,
   "id": "cf1b0cae-6213-429c-a930-df2c9d026063",
   "metadata": {},
   "outputs": [
    {
     "data": {
      "text/plain": [
       "array([[  1,   2,   3,   4,   5,   6,   7,   8,   9,  10],\n",
       "       [ 11,  12,  13,  14,  15,  16,  17,  18,  19,  20],\n",
       "       [ 21,  22,  23,  24,  25,  26,  27,  28,  29,  30],\n",
       "       [ 31,  32,  33,  34,  35,  36,  37,  38,  39,  40],\n",
       "       [ 41,  42,  43,  44,  45,  46,  47,  48,  49,  50],\n",
       "       [ 51,  52,  53,  54,  55,  56,  57,  58,  59,  60],\n",
       "       [ 61,  62,  63,  64,  65,  66,  67,  68,  69,  70],\n",
       "       [ 71,  72,  73,  74,  75,  76,  77,  78,  79,  80],\n",
       "       [ 81,  82,  83,  84,  85,  86,  87,  88,  89,  90],\n",
       "       [ 91,  92,  93,  94,  95,  96,  97,  98,  99, 100]])"
      ]
     },
     "execution_count": 435,
     "metadata": {},
     "output_type": "execute_result"
    }
   ],
   "source": [
    "ar=np.arange(1,101,1)\n",
    "ar.reshape(10,10)"
   ]
  },
  {
   "cell_type": "code",
   "execution_count": 431,
   "id": "4d077162-94bf-4c61-8da4-343b2da94dd0",
   "metadata": {},
   "outputs": [
    {
     "data": {
      "text/plain": [
       "array([ 1,  2,  3,  4,  5,  6,  7,  8,  9, 10, 11, 12, 13, 14, 15, 16, 17,\n",
       "       18, 19, 20, 21, 22, 23, 24, 25, 26, 27, 28, 29, 30, 31, 32, 33, 34,\n",
       "       35, 36, 37, 38, 39, 40, 41, 42, 43, 44, 45, 46, 47, 48, 49, 50, 51,\n",
       "       52, 53, 54, 55, 56, 57, 58, 59, 60, 61, 62, 63, 64, 65, 66, 67, 68,\n",
       "       69, 70, 71, 72, 73, 74, 75, 76, 77, 78, 79, 80, 81, 82, 83, 84, 85,\n",
       "       86, 87, 88, 89, 90, 91, 92, 93, 94, 95, 96, 97, 98, 99])"
      ]
     },
     "execution_count": 431,
     "metadata": {},
     "output_type": "execute_result"
    }
   ],
   "source": [
    "ar\n"
   ]
  },
  {
   "cell_type": "code",
   "execution_count": null,
   "id": "a2e2d372-d7ef-48a1-983c-c19c1a098512",
   "metadata": {},
   "outputs": [],
   "source": [
    "# Copy v/s View\n",
    "\n",
    "Difference between copy and view\n",
    "View can be called as a temporay. If any change made in original array will reflect on it.\n",
    "Copy has its own data and can change its own data but won't reflect on the origional data"
   ]
  },
  {
   "cell_type": "code",
   "execution_count": 437,
   "id": "567757f1-6e27-455e-87ed-a2575265f80b",
   "metadata": {},
   "outputs": [],
   "source": [
    "var=np.array([1,2,3,4,5,6,7,8,9])"
   ]
  },
  {
   "cell_type": "code",
   "execution_count": 439,
   "id": "d48b0d5b-f53e-40c1-84b0-191f7c04d0a3",
   "metadata": {},
   "outputs": [],
   "source": [
    "co=var.copy()"
   ]
  },
  {
   "cell_type": "code",
   "execution_count": 441,
   "id": "051fe218-dc42-453e-accb-1aea21b87a88",
   "metadata": {},
   "outputs": [
    {
     "data": {
      "text/plain": [
       "array([1, 2, 3, 4, 5, 6, 7, 8, 9])"
      ]
     },
     "execution_count": 441,
     "metadata": {},
     "output_type": "execute_result"
    }
   ],
   "source": [
    "co"
   ]
  },
  {
   "cell_type": "code",
   "execution_count": 443,
   "id": "7362e378-9219-4225-9454-6b5f759ea88d",
   "metadata": {},
   "outputs": [],
   "source": [
    "vi=var.view()"
   ]
  },
  {
   "cell_type": "code",
   "execution_count": 445,
   "id": "ebb332ca-a311-42b7-80c4-be7b8f798b32",
   "metadata": {},
   "outputs": [
    {
     "data": {
      "text/plain": [
       "array([1, 2, 3, 4, 5, 6, 7, 8, 9])"
      ]
     },
     "execution_count": 445,
     "metadata": {},
     "output_type": "execute_result"
    }
   ],
   "source": [
    "vi"
   ]
  },
  {
   "cell_type": "code",
   "execution_count": 447,
   "id": "a9790b6a-b7cb-4a0f-9bb9-5a55cc1011ba",
   "metadata": {},
   "outputs": [],
   "source": [
    "co[4]=45"
   ]
  },
  {
   "cell_type": "code",
   "execution_count": 449,
   "id": "569b8928-7cfe-492d-9c3a-a8a11f3595c4",
   "metadata": {},
   "outputs": [],
   "source": [
    "var[5]=99"
   ]
  },
  {
   "cell_type": "code",
   "execution_count": 451,
   "id": "d59a6a56-4479-4e26-9db5-e980747247c3",
   "metadata": {},
   "outputs": [
    {
     "data": {
      "text/plain": [
       "array([ 1,  2,  3,  4, 45,  6,  7,  8,  9])"
      ]
     },
     "execution_count": 451,
     "metadata": {},
     "output_type": "execute_result"
    }
   ],
   "source": [
    "co"
   ]
  },
  {
   "cell_type": "code",
   "execution_count": 453,
   "id": "d0c13b9f-5c63-4adc-ad6d-ed864d61858a",
   "metadata": {},
   "outputs": [
    {
     "data": {
      "text/plain": [
       "array([ 1,  2,  3,  4,  5, 99,  7,  8,  9])"
      ]
     },
     "execution_count": 453,
     "metadata": {},
     "output_type": "execute_result"
    }
   ],
   "source": [
    "var"
   ]
  },
  {
   "cell_type": "code",
   "execution_count": 455,
   "id": "5f238631-b225-491d-b0bd-333e2ddc8832",
   "metadata": {},
   "outputs": [
    {
     "data": {
      "text/plain": [
       "array([ 1,  2,  3,  4,  5, 99,  7,  8,  9])"
      ]
     },
     "execution_count": 455,
     "metadata": {},
     "output_type": "execute_result"
    }
   ],
   "source": [
    "vi"
   ]
  },
  {
   "cell_type": "code",
   "execution_count": 459,
   "id": "c4b2b46f-dbdf-4822-854c-bc1fcb39db4f",
   "metadata": {},
   "outputs": [
    {
     "name": "stdout",
     "output_type": "stream",
     "text": [
      "[[ 6  7  8]\n",
      " [10 11 12]]\n"
     ]
    }
   ],
   "source": [
    "matrix = np.array([[1, 2, 3, 4],[5, 6, 7, 8],[9, 10, 11, 12],[13, 14, 15, 16]])\n",
    "sliced = matrix[1:3, 1:4]\n",
    "print(sliced)"
   ]
  },
  {
   "cell_type": "code",
   "execution_count": 461,
   "id": "965ab268-7f93-4871-82a3-7ec2144d06dd",
   "metadata": {},
   "outputs": [
    {
     "data": {
      "text/plain": [
       "array([[ 1,  2,  3,  4],\n",
       "       [ 5,  6,  7,  8],\n",
       "       [ 9, 10, 11, 12],\n",
       "       [13, 14, 15, 16]])"
      ]
     },
     "execution_count": 461,
     "metadata": {},
     "output_type": "execute_result"
    }
   ],
   "source": [
    "matrix"
   ]
  },
  {
   "cell_type": "code",
   "execution_count": 463,
   "id": "2cf1a075-513b-4d6b-9b17-71b041b58a62",
   "metadata": {},
   "outputs": [],
   "source": [
    "# create an array for strings and ask for its data type "
   ]
  },
  {
   "cell_type": "code",
   "execution_count": 511,
   "id": "9b7c64d0-e5d6-4aac-8e72-94dbeef67d2a",
   "metadata": {},
   "outputs": [],
   "source": [
    "a=np.array([\"hello \",\"worlld\"])\n"
   ]
  },
  {
   "cell_type": "code",
   "execution_count": 513,
   "id": "4ee450de-4f79-4f4b-96a7-a84e56c58e4f",
   "metadata": {},
   "outputs": [
    {
     "data": {
      "text/plain": [
       "numpy.ndarray"
      ]
     },
     "execution_count": 513,
     "metadata": {},
     "output_type": "execute_result"
    }
   ],
   "source": [
    "type(a)"
   ]
  },
  {
   "cell_type": "code",
   "execution_count": 515,
   "id": "99eec756-3935-4ede-8cf4-50a0f9560185",
   "metadata": {},
   "outputs": [
    {
     "data": {
      "text/plain": [
       "dtype('<U6')"
      ]
     },
     "execution_count": 515,
     "metadata": {},
     "output_type": "execute_result"
    }
   ],
   "source": [
    "a.dtype"
   ]
  },
  {
   "cell_type": "code",
   "execution_count": 517,
   "id": "c38259c0-0b19-4db9-91ef-8fff10f68227",
   "metadata": {},
   "outputs": [],
   "source": [
    "arr=np.array([[1,2,3],[4,5,6]],dtype=\"i4\")"
   ]
  },
  {
   "cell_type": "code",
   "execution_count": 519,
   "id": "44dc43ee-4119-4a4e-80e9-716866b5fedd",
   "metadata": {},
   "outputs": [
    {
     "data": {
      "text/plain": [
       "array([[1, 2, 3],\n",
       "       [4, 5, 6]])"
      ]
     },
     "execution_count": 519,
     "metadata": {},
     "output_type": "execute_result"
    }
   ],
   "source": [
    "arr"
   ]
  },
  {
   "cell_type": "code",
   "execution_count": 522,
   "id": "b1a8032c-21ad-40d1-8c33-66a5cbca253d",
   "metadata": {},
   "outputs": [],
   "source": [
    "a=np.array([5.2,5.65])"
   ]
  },
  {
   "cell_type": "code",
   "execution_count": 524,
   "id": "b24a5fdc-1eaf-4ea3-8f63-5a42945ad6be",
   "metadata": {},
   "outputs": [
    {
     "data": {
      "text/plain": [
       "dtype('float64')"
      ]
     },
     "execution_count": 524,
     "metadata": {},
     "output_type": "execute_result"
    }
   ],
   "source": [
    "a.dtype"
   ]
  },
  {
   "cell_type": "code",
   "execution_count": 530,
   "id": "b9f16ff5-3326-4f16-987d-c5401f22339d",
   "metadata": {},
   "outputs": [],
   "source": [
    "a1=np.array([1,2,3])\n",
    "a2=np.array([4,5,6])"
   ]
  },
  {
   "cell_type": "code",
   "execution_count": 532,
   "id": "900fcb7b-2e7b-40ee-a920-b7dc5496852d",
   "metadata": {},
   "outputs": [],
   "source": [
    "a3=np.concatenate((a1,a2))"
   ]
  },
  {
   "cell_type": "code",
   "execution_count": 534,
   "id": "d0bfa9d9-1c21-4f3e-b86a-23b291411f80",
   "metadata": {},
   "outputs": [
    {
     "data": {
      "text/plain": [
       "array([1, 2, 3, 4, 5, 6])"
      ]
     },
     "execution_count": 534,
     "metadata": {},
     "output_type": "execute_result"
    }
   ],
   "source": [
    "a3"
   ]
  },
  {
   "cell_type": "code",
   "execution_count": 536,
   "id": "6e24e298-aa1b-4c07-ae45-9120c23f9327",
   "metadata": {},
   "outputs": [],
   "source": [
    "# stacking in nunpy "
   ]
  },
  {
   "cell_type": "code",
   "execution_count": 538,
   "id": "97909f11-987b-4d19-8f40-e3622412bf7e",
   "metadata": {},
   "outputs": [],
   "source": [
    "#vertical stacks::::"
   ]
  },
  {
   "cell_type": "code",
   "execution_count": 540,
   "id": "a2773b14-125f-4a22-960f-8d4621b0c7da",
   "metadata": {},
   "outputs": [],
   "source": [
    "a1=np.array([1,2,3])\n",
    "a2=np.array([4,5,6])"
   ]
  },
  {
   "cell_type": "code",
   "execution_count": 546,
   "id": "46f293d1-b6d2-474b-8109-14ae6b85d795",
   "metadata": {},
   "outputs": [
    {
     "name": "stdout",
     "output_type": "stream",
     "text": [
      "[[1 2 3]\n",
      " [4 5 6]\n",
      " [1 2 3]\n",
      " [4 5 6]]\n"
     ]
    }
   ],
   "source": [
    "v=np.vstack((arr1,arr2))\n",
    "print(v)"
   ]
  },
  {
   "cell_type": "code",
   "execution_count": 548,
   "id": "610e2a52-dfc9-4f20-b9c8-f6df39de342f",
   "metadata": {},
   "outputs": [
    {
     "name": "stdout",
     "output_type": "stream",
     "text": [
      "[[1 2 3 1 2 3]\n",
      " [4 5 6 4 5 6]]\n"
     ]
    }
   ],
   "source": [
    "v=np.hstack((arr1,arr2))\n",
    "print(v)"
   ]
  },
  {
   "cell_type": "code",
   "execution_count": 550,
   "id": "6d9e5f36-eb5c-421a-a1b1-d0f84a7a68d9",
   "metadata": {},
   "outputs": [
    {
     "name": "stdout",
     "output_type": "stream",
     "text": [
      "[[[1 1]\n",
      "  [2 2]\n",
      "  [3 3]]\n",
      "\n",
      " [[4 4]\n",
      "  [5 5]\n",
      "  [6 6]]]\n"
     ]
    }
   ],
   "source": [
    "v=np.dstack((arr1,arr2))\n",
    "print(v)"
   ]
  },
  {
   "cell_type": "code",
   "execution_count": 554,
   "id": "866209f6-92cd-4f3b-af99-184df3427b50",
   "metadata": {},
   "outputs": [
    {
     "name": "stdout",
     "output_type": "stream",
     "text": [
      "[[1 2 3 1 2 3]\n",
      " [4 5 6 4 5 6]]\n"
     ]
    }
   ],
   "source": [
    "v=np.column_stack((arr1,arr2))\n",
    "print(v)"
   ]
  },
  {
   "cell_type": "code",
   "execution_count": 556,
   "id": "26e3d254-fa79-4c27-b568-2d3f427a28c0",
   "metadata": {},
   "outputs": [],
   "source": [
    "# splitting"
   ]
  },
  {
   "cell_type": "code",
   "execution_count": 578,
   "id": "3f0989ac-62f5-44e3-8f9f-9d7803f6133d",
   "metadata": {},
   "outputs": [],
   "source": [
    "a1=np.array([1,2,3,4,5,6])"
   ]
  },
  {
   "cell_type": "code",
   "execution_count": 580,
   "id": "25d8a3b4-4097-44f1-b461-1e6f46cfb053",
   "metadata": {},
   "outputs": [],
   "source": [
    "a2=np.array_split(a1,3)"
   ]
  },
  {
   "cell_type": "code",
   "execution_count": 582,
   "id": "973e5dc7-689b-45a0-a27f-800d9bc715ac",
   "metadata": {},
   "outputs": [
    {
     "data": {
      "text/plain": [
       "[array([1, 2]), array([3, 4]), array([5, 6])]"
      ]
     },
     "execution_count": 582,
     "metadata": {},
     "output_type": "execute_result"
    }
   ],
   "source": [
    "a2"
   ]
  },
  {
   "cell_type": "code",
   "execution_count": 584,
   "id": "97dc3ad4-d5d8-4929-8a63-b4c71c16f97a",
   "metadata": {},
   "outputs": [],
   "source": [
    "a2=np.array_split(a1,4)"
   ]
  },
  {
   "cell_type": "code",
   "execution_count": 586,
   "id": "3b68ad18-4161-4b60-80ee-76a88559ca48",
   "metadata": {},
   "outputs": [
    {
     "data": {
      "text/plain": [
       "[array([1, 2]), array([3, 4]), array([5]), array([6])]"
      ]
     },
     "execution_count": 586,
     "metadata": {},
     "output_type": "execute_result"
    }
   ],
   "source": [
    "a2"
   ]
  },
  {
   "cell_type": "code",
   "execution_count": 588,
   "id": "9df1d2b5-7dd5-4b15-adf1-540cf20ebba1",
   "metadata": {},
   "outputs": [],
   "source": [
    "a2=np.array_split(a1,8)"
   ]
  },
  {
   "cell_type": "code",
   "execution_count": 590,
   "id": "f15dc41c-d61c-4268-8b5f-77a95eb834bd",
   "metadata": {},
   "outputs": [
    {
     "data": {
      "text/plain": [
       "[array([1]),\n",
       " array([2]),\n",
       " array([3]),\n",
       " array([4]),\n",
       " array([5]),\n",
       " array([6]),\n",
       " array([], dtype=int32),\n",
       " array([], dtype=int32)]"
      ]
     },
     "execution_count": 590,
     "metadata": {},
     "output_type": "execute_result"
    }
   ],
   "source": [
    "a2"
   ]
  },
  {
   "cell_type": "code",
   "execution_count": 603,
   "id": "9fa4e708-101c-4e7e-93fb-78a78edc1511",
   "metadata": {},
   "outputs": [
    {
     "ename": "IndexError",
     "evalue": "tuple index out of range",
     "output_type": "error",
     "traceback": [
      "\u001b[1;31m---------------------------------------------------------------------------\u001b[0m",
      "\u001b[1;31mIndexError\u001b[0m                                Traceback (most recent call last)",
      "Cell \u001b[1;32mIn[603], line 2\u001b[0m\n\u001b[0;32m      1\u001b[0m a1\u001b[38;5;241m=\u001b[39mnp\u001b[38;5;241m.\u001b[39marray([\u001b[38;5;241m1\u001b[39m,\u001b[38;5;241m2\u001b[39m,\u001b[38;5;241m3\u001b[39m,\u001b[38;5;241m4\u001b[39m,\u001b[38;5;241m5\u001b[39m,\u001b[38;5;241m6\u001b[39m])\n\u001b[1;32m----> 2\u001b[0m a2 \u001b[38;5;241m=\u001b[39m np\u001b[38;5;241m.\u001b[39marray_split(a1,\u001b[38;5;241m1\u001b[39m,axis\u001b[38;5;241m=\u001b[39m\u001b[38;5;241m1\u001b[39m)\n",
      "File \u001b[1;32m~\\anaconda3\\Lib\\site-packages\\numpy\\lib\\shape_base.py:759\u001b[0m, in \u001b[0;36marray_split\u001b[1;34m(ary, indices_or_sections, axis)\u001b[0m\n\u001b[0;32m    733\u001b[0m \u001b[38;5;250m\u001b[39m\u001b[38;5;124;03m\"\"\"\u001b[39;00m\n\u001b[0;32m    734\u001b[0m \u001b[38;5;124;03mSplit an array into multiple sub-arrays.\u001b[39;00m\n\u001b[0;32m    735\u001b[0m \n\u001b[1;32m   (...)\u001b[0m\n\u001b[0;32m    756\u001b[0m \n\u001b[0;32m    757\u001b[0m \u001b[38;5;124;03m\"\"\"\u001b[39;00m\n\u001b[0;32m    758\u001b[0m \u001b[38;5;28;01mtry\u001b[39;00m:\n\u001b[1;32m--> 759\u001b[0m     Ntotal \u001b[38;5;241m=\u001b[39m ary\u001b[38;5;241m.\u001b[39mshape[axis]\n\u001b[0;32m    760\u001b[0m \u001b[38;5;28;01mexcept\u001b[39;00m \u001b[38;5;167;01mAttributeError\u001b[39;00m:\n\u001b[0;32m    761\u001b[0m     Ntotal \u001b[38;5;241m=\u001b[39m \u001b[38;5;28mlen\u001b[39m(ary)\n",
      "\u001b[1;31mIndexError\u001b[0m: tuple index out of range"
     ]
    }
   ],
   "source": [
    "#a1=np.array([1,2,3,4,5,6])\n",
    "#a2 = np.array_split(a1,1,axis=1)"
   ]
  },
  {
   "cell_type": "code",
   "execution_count": 8,
   "id": "f66f433d-4f2e-4f62-bbf9-4dc41677c7f9",
   "metadata": {},
   "outputs": [
    {
     "ename": "NameError",
     "evalue": "name 'np' is not defined",
     "output_type": "error",
     "traceback": [
      "\u001b[1;31m---------------------------------------------------------------------------\u001b[0m",
      "\u001b[1;31mNameError\u001b[0m                                 Traceback (most recent call last)",
      "Cell \u001b[1;32mIn[8], line 1\u001b[0m\n\u001b[1;32m----> 1\u001b[0m arr\u001b[38;5;241m=\u001b[39mnp\u001b[38;5;241m.\u001b[39marray([\u001b[38;5;241m1\u001b[39m,\u001b[38;5;241m2\u001b[39m,\u001b[38;5;241m3\u001b[39m,\u001b[38;5;241m54\u001b[39m,\u001b[38;5;241m6\u001b[39m,\u001b[38;5;241m5.5\u001b[39m,\u001b[38;5;241m8\u001b[39m,\u001b[38;5;241m45\u001b[39m,\u001b[38;5;241m4\u001b[39m])\n",
      "\u001b[1;31mNameError\u001b[0m: name 'np' is not defined"
     ]
    }
   ],
   "source": [
    "arr=np.array([1,2,3,54,6,5.5,8,45,4])\n"
   ]
  },
  {
   "cell_type": "code",
   "execution_count": 5,
   "id": "70430323-5dd7-4bb0-b212-3b2b42b9d3ca",
   "metadata": {},
   "outputs": [
    {
     "ename": "TypeError",
     "evalue": "'type' object is not iterable",
     "output_type": "error",
     "traceback": [
      "\u001b[1;31m---------------------------------------------------------------------------\u001b[0m",
      "\u001b[1;31mTypeError\u001b[0m                                 Traceback (most recent call last)",
      "Cell \u001b[1;32mIn[5], line 1\u001b[0m\n\u001b[1;32m----> 1\u001b[0m \u001b[38;5;28;01mfor\u001b[39;00m i \u001b[38;5;129;01min\u001b[39;00m \u001b[38;5;28mrange\u001b[39m:\n\u001b[0;32m      2\u001b[0m     \u001b[38;5;28;01mif\u001b[39;00m arr[i]\u001b[38;5;241m%\u001b[39m\u001b[38;5;241m2\u001b[39m\u001b[38;5;241m==\u001b[39m\u001b[38;5;241m0\u001b[39m:\n\u001b[0;32m      3\u001b[0m         \u001b[38;5;28mprint\u001b[39m(arr[i])\n",
      "\u001b[1;31mTypeError\u001b[0m: 'type' object is not iterable"
     ]
    }
   ],
   "source": [
    "for i in range:\n",
    "    if arr[i]%2==0:\n",
    "        print(arr[i])"
   ]
  },
  {
   "cell_type": "code",
   "execution_count": null,
   "id": "c27752fd-14b7-42fa-9662-f0d91c6727ad",
   "metadata": {},
   "outputs": [],
   "source": [
    "a1"
   ]
  },
  {
   "cell_type": "code",
   "execution_count": 10,
   "id": "7548b227-8b88-4cc4-9721-17d3ddf896da",
   "metadata": {},
   "outputs": [],
   "source": [
    "import numpy as np"
   ]
  },
  {
   "cell_type": "markdown",
   "id": "33dab32f-4691-44a9-9b13-ec4f9b42f911",
   "metadata": {},
   "source": [
    "# Pandas"
   ]
  },
  {
   "cell_type": "code",
   "execution_count": 13,
   "id": "0f80d70a-baf5-4794-a3a8-91e892da2e3c",
   "metadata": {},
   "outputs": [],
   "source": [
    "import pandas as pa"
   ]
  },
  {
   "cell_type": "code",
   "execution_count": 15,
   "id": "882fd401-0b62-4e18-9762-f6c0d0e4723f",
   "metadata": {},
   "outputs": [
    {
     "name": "stdout",
     "output_type": "stream",
     "text": [
      "Requirement already satisfied: pandas in c:\\users\\piyus\\anaconda3\\lib\\site-packages (2.2.2)\n",
      "Requirement already satisfied: numpy>=1.26.0 in c:\\users\\piyus\\anaconda3\\lib\\site-packages (from pandas) (1.26.4)\n",
      "Requirement already satisfied: python-dateutil>=2.8.2 in c:\\users\\piyus\\anaconda3\\lib\\site-packages (from pandas) (2.9.0.post0)\n",
      "Requirement already satisfied: pytz>=2020.1 in c:\\users\\piyus\\anaconda3\\lib\\site-packages (from pandas) (2024.1)\n",
      "Requirement already satisfied: tzdata>=2022.7 in c:\\users\\piyus\\anaconda3\\lib\\site-packages (from pandas) (2023.3)\n",
      "Requirement already satisfied: six>=1.5 in c:\\users\\piyus\\anaconda3\\lib\\site-packages (from python-dateutil>=2.8.2->pandas) (1.16.0)\n",
      "Note: you may need to restart the kernel to use updated packages.\n"
     ]
    }
   ],
   "source": [
    "pip install pandas"
   ]
  },
  {
   "cell_type": "code",
   "execution_count": 19,
   "id": "6c5c4ae7-5f59-4d60-8f2e-c208be991436",
   "metadata": {},
   "outputs": [],
   "source": [
    "import pandas as pd"
   ]
  },
  {
   "cell_type": "markdown",
   "id": "46664b26-88fd-480c-987f-af1fcd87c35a",
   "metadata": {},
   "source": [
    "### series in pandas"
   ]
  },
  {
   "cell_type": "code",
   "execution_count": 24,
   "id": "b48a814c-afc3-4aff-a0e1-7e558be2b351",
   "metadata": {},
   "outputs": [],
   "source": [
    "s=pd.Series([10,20,30,40,50])"
   ]
  },
  {
   "cell_type": "code",
   "execution_count": 26,
   "id": "85c60062-0acf-452f-9ce0-0cde059a2ef0",
   "metadata": {},
   "outputs": [
    {
     "data": {
      "text/plain": [
       "0    10\n",
       "1    20\n",
       "2    30\n",
       "3    40\n",
       "4    50\n",
       "dtype: int64"
      ]
     },
     "execution_count": 26,
     "metadata": {},
     "output_type": "execute_result"
    }
   ],
   "source": [
    "s"
   ]
  },
  {
   "cell_type": "code",
   "execution_count": 28,
   "id": "16986500-aa6c-4b06-bcf4-8b4d78978921",
   "metadata": {},
   "outputs": [],
   "source": [
    "list1=[\"one]\",\"two\",\"three\"]\n",
    "s=pd.Series(list1)"
   ]
  },
  {
   "cell_type": "code",
   "execution_count": 30,
   "id": "c70d35ef-b7e2-4347-87b1-91980c014163",
   "metadata": {},
   "outputs": [
    {
     "data": {
      "text/plain": [
       "0     one]\n",
       "1      two\n",
       "2    three\n",
       "dtype: object"
      ]
     },
     "execution_count": 30,
     "metadata": {},
     "output_type": "execute_result"
    }
   ],
   "source": [
    "s"
   ]
  },
  {
   "cell_type": "code",
   "execution_count": 32,
   "id": "0d953bd3-ef7c-495e-8c68-c0300a62df56",
   "metadata": {},
   "outputs": [
    {
     "data": {
      "text/plain": [
       "'two'"
      ]
     },
     "execution_count": 32,
     "metadata": {},
     "output_type": "execute_result"
    }
   ],
   "source": [
    "s[1]"
   ]
  },
  {
   "cell_type": "code",
   "execution_count": 34,
   "id": "49039639-bcdc-4117-ac7c-4cfdb708c97f",
   "metadata": {},
   "outputs": [],
   "source": [
    "s=pd.Series(list1,index=[\"a\",\"b\",\"c\"])"
   ]
  },
  {
   "cell_type": "code",
   "execution_count": 36,
   "id": "46aa9651-c727-4efa-8843-c25d96debe71",
   "metadata": {},
   "outputs": [
    {
     "data": {
      "text/plain": [
       "a     one]\n",
       "b      two\n",
       "c    three\n",
       "dtype: object"
      ]
     },
     "execution_count": 36,
     "metadata": {},
     "output_type": "execute_result"
    }
   ],
   "source": [
    "s"
   ]
  },
  {
   "cell_type": "code",
   "execution_count": 38,
   "id": "e3784232-eb37-47d0-9606-1571df37d7f7",
   "metadata": {},
   "outputs": [
    {
     "data": {
      "text/plain": [
       "'two'"
      ]
     },
     "execution_count": 38,
     "metadata": {},
     "output_type": "execute_result"
    }
   ],
   "source": [
    "s[\"b\"]"
   ]
  },
  {
   "cell_type": "code",
   "execution_count": 40,
   "id": "5714b185-3e67-4d5d-bf8f-9b910f9e413c",
   "metadata": {},
   "outputs": [],
   "source": [
    "list2=[10,20,30,40,50,60,70]"
   ]
  },
  {
   "cell_type": "code",
   "execution_count": 42,
   "id": "e65d4511-fd55-4667-8941-268dbe74b591",
   "metadata": {},
   "outputs": [],
   "source": [
    "s=pd.Series(list2)"
   ]
  },
  {
   "cell_type": "code",
   "execution_count": 44,
   "id": "0bc19447-6bb5-4f6d-937c-ec1e1575c740",
   "metadata": {},
   "outputs": [
    {
     "data": {
      "text/plain": [
       "0    10\n",
       "1    20\n",
       "2    30\n",
       "3    40\n",
       "4    50\n",
       "5    60\n",
       "6    70\n",
       "dtype: int64"
      ]
     },
     "execution_count": 44,
     "metadata": {},
     "output_type": "execute_result"
    }
   ],
   "source": [
    "s"
   ]
  },
  {
   "cell_type": "code",
   "execution_count": 46,
   "id": "5e7ec308-a5d6-4545-ab23-431427afff89",
   "metadata": {},
   "outputs": [],
   "source": [
    "s=pd.Series(list2,index=[\"A\",\"B\",\"C\",\"D\",\"E\",\"F\",\"G\"])"
   ]
  },
  {
   "cell_type": "code",
   "execution_count": 48,
   "id": "409146c8-f22d-4168-9e29-1e3bfdb14225",
   "metadata": {},
   "outputs": [
    {
     "data": {
      "text/plain": [
       "A    10\n",
       "B    20\n",
       "C    30\n",
       "D    40\n",
       "E    50\n",
       "F    60\n",
       "G    70\n",
       "dtype: int64"
      ]
     },
     "execution_count": 48,
     "metadata": {},
     "output_type": "execute_result"
    }
   ],
   "source": [
    "s"
   ]
  },
  {
   "cell_type": "markdown",
   "id": "634fd392-f0d7-4793-acc7-0234c185dbae",
   "metadata": {},
   "source": [
    "# Series & Data Frame"
   ]
  },
  {
   "cell_type": "code",
   "execution_count": 58,
   "id": "25adb10c-b133-4527-975e-9102e49868d2",
   "metadata": {},
   "outputs": [
    {
     "name": "stdout",
     "output_type": "stream",
     "text": [
      "      Name  Age  Salary   DOB   COMPANY Designation\n",
      "0    Alice   25   50000  2001    amazon     manager\n",
      "1      Bob   30   60000  2002       abc      worker\n",
      "2  Charlie   35   70000  2003       xyz      seeker\n",
      "3        d   40   20000  2004      rcat      worker\n",
      "4        e   16   20000  2005  flipcart      worker\n",
      "5        f   48    1000  2006  razorpay      worker\n",
      "6        g   20    1100  2007  phone pe      worker\n",
      "7        h   12    1000  2008    airtel      worker\n"
     ]
    }
   ],
   "source": [
    "# Creating a Vatarrame  \n",
    "data = {'Name': ['Alice', 'Bob', 'Charlie','d','e','f','g','h'],  \n",
    "        'Age': [25, 30, 35,40,16,48,20,12],  \n",
    "        'Salary': [50000, 60000, 70000,20000,20000,1000,1100,1000],\n",
    "        'DOB':[2001,2002,2003,2004,2005,2006,2007,2008],\n",
    "        'COMPANY':[\"amazon\",\"abc\",\"xyz\",\"rcat\",\"flipcart\",\"razorpay\",\"phone pe\",\"airtel\"],\n",
    "        'Designation':[\"manager\",\"worker\",\"seeker\",\"worker\",\"worker\",\"worker\",\"worker\",\"worker\"],}  \n",
    "\n",
    "df = pd.DataFrame(data)  \n",
    "print(df)  "
   ]
  },
  {
   "cell_type": "markdown",
   "id": "473f9fc4-d1b5-4593-9b30-9d386abe73b1",
   "metadata": {},
   "source": [
    "### adding a new colomn"
   ]
  },
  {
   "cell_type": "code",
   "execution_count": 61,
   "id": "0b6e71d5-3dd3-480b-9475-fed91c15b043",
   "metadata": {},
   "outputs": [],
   "source": [
    "df[\"Gender\"]=[\"F\",\"M\",\"F,\",\"M\",\"F,\",\"M\",\"F,\",\"m\"]"
   ]
  },
  {
   "cell_type": "code",
   "execution_count": 83,
   "id": "ab6a1d91-d630-4aa5-8f6d-36f254697333",
   "metadata": {},
   "outputs": [
    {
     "data": {
      "text/html": [
       "<div>\n",
       "<style scoped>\n",
       "    .dataframe tbody tr th:only-of-type {\n",
       "        vertical-align: middle;\n",
       "    }\n",
       "\n",
       "    .dataframe tbody tr th {\n",
       "        vertical-align: top;\n",
       "    }\n",
       "\n",
       "    .dataframe thead th {\n",
       "        text-align: right;\n",
       "    }\n",
       "</style>\n",
       "<table border=\"1\" class=\"dataframe\">\n",
       "  <thead>\n",
       "    <tr style=\"text-align: right;\">\n",
       "      <th></th>\n",
       "      <th>A</th>\n",
       "      <th>B</th>\n",
       "      <th>A+B</th>\n",
       "      <th>A**2</th>\n",
       "      <th>A**.5</th>\n",
       "    </tr>\n",
       "  </thead>\n",
       "  <tbody>\n",
       "    <tr>\n",
       "      <th>0</th>\n",
       "      <td>5</td>\n",
       "      <td>8</td>\n",
       "      <td>13</td>\n",
       "      <td>25</td>\n",
       "      <td>2.236068</td>\n",
       "    </tr>\n",
       "    <tr>\n",
       "      <th>1</th>\n",
       "      <td>4</td>\n",
       "      <td>1</td>\n",
       "      <td>5</td>\n",
       "      <td>16</td>\n",
       "      <td>2.000000</td>\n",
       "    </tr>\n",
       "    <tr>\n",
       "      <th>2</th>\n",
       "      <td>5</td>\n",
       "      <td>3</td>\n",
       "      <td>8</td>\n",
       "      <td>25</td>\n",
       "      <td>2.236068</td>\n",
       "    </tr>\n",
       "    <tr>\n",
       "      <th>3</th>\n",
       "      <td>3</td>\n",
       "      <td>6</td>\n",
       "      <td>9</td>\n",
       "      <td>9</td>\n",
       "      <td>1.732051</td>\n",
       "    </tr>\n",
       "    <tr>\n",
       "      <th>4</th>\n",
       "      <td>9</td>\n",
       "      <td>65</td>\n",
       "      <td>74</td>\n",
       "      <td>81</td>\n",
       "      <td>3.000000</td>\n",
       "    </tr>\n",
       "    <tr>\n",
       "      <th>5</th>\n",
       "      <td>21</td>\n",
       "      <td>32</td>\n",
       "      <td>53</td>\n",
       "      <td>441</td>\n",
       "      <td>4.582576</td>\n",
       "    </tr>\n",
       "    <tr>\n",
       "      <th>6</th>\n",
       "      <td>8</td>\n",
       "      <td>7</td>\n",
       "      <td>15</td>\n",
       "      <td>64</td>\n",
       "      <td>2.828427</td>\n",
       "    </tr>\n",
       "  </tbody>\n",
       "</table>\n",
       "</div>"
      ],
      "text/plain": [
       "    A   B  A+B  A**2     A**.5\n",
       "0   5   8   13    25  2.236068\n",
       "1   4   1    5    16  2.000000\n",
       "2   5   3    8    25  2.236068\n",
       "3   3   6    9     9  1.732051\n",
       "4   9  65   74    81  3.000000\n",
       "5  21  32   53   441  4.582576\n",
       "6   8   7   15    64  2.828427"
      ]
     },
     "execution_count": 83,
     "metadata": {},
     "output_type": "execute_result"
    }
   ],
   "source": [
    "df"
   ]
  },
  {
   "cell_type": "code",
   "execution_count": 85,
   "id": "89aa64c6-557b-4f2d-8716-0866f42a6118",
   "metadata": {},
   "outputs": [],
   "source": [
    "dic = {\"A\":[5,4,5,3,9,21,8],\"B\":[8,1,3,6,65,32,7]}"
   ]
  },
  {
   "cell_type": "code",
   "execution_count": 87,
   "id": "892f5a60-f56e-4779-b0e7-e29abdcd2909",
   "metadata": {},
   "outputs": [],
   "source": [
    "df=pd.DataFrame(dic)"
   ]
  },
  {
   "cell_type": "code",
   "execution_count": 69,
   "id": "44368b59-e74b-4ba7-abc4-51b35246c2f0",
   "metadata": {},
   "outputs": [
    {
     "data": {
      "text/html": [
       "<div>\n",
       "<style scoped>\n",
       "    .dataframe tbody tr th:only-of-type {\n",
       "        vertical-align: middle;\n",
       "    }\n",
       "\n",
       "    .dataframe tbody tr th {\n",
       "        vertical-align: top;\n",
       "    }\n",
       "\n",
       "    .dataframe thead th {\n",
       "        text-align: right;\n",
       "    }\n",
       "</style>\n",
       "<table border=\"1\" class=\"dataframe\">\n",
       "  <thead>\n",
       "    <tr style=\"text-align: right;\">\n",
       "      <th></th>\n",
       "      <th>A</th>\n",
       "      <th>B</th>\n",
       "    </tr>\n",
       "  </thead>\n",
       "  <tbody>\n",
       "    <tr>\n",
       "      <th>0</th>\n",
       "      <td>5</td>\n",
       "      <td>8</td>\n",
       "    </tr>\n",
       "    <tr>\n",
       "      <th>1</th>\n",
       "      <td>4</td>\n",
       "      <td>1</td>\n",
       "    </tr>\n",
       "    <tr>\n",
       "      <th>2</th>\n",
       "      <td>5</td>\n",
       "      <td>3</td>\n",
       "    </tr>\n",
       "    <tr>\n",
       "      <th>3</th>\n",
       "      <td>3</td>\n",
       "      <td>6</td>\n",
       "    </tr>\n",
       "    <tr>\n",
       "      <th>4</th>\n",
       "      <td>9</td>\n",
       "      <td>65</td>\n",
       "    </tr>\n",
       "    <tr>\n",
       "      <th>5</th>\n",
       "      <td>21</td>\n",
       "      <td>32</td>\n",
       "    </tr>\n",
       "    <tr>\n",
       "      <th>6</th>\n",
       "      <td>8</td>\n",
       "      <td>7</td>\n",
       "    </tr>\n",
       "  </tbody>\n",
       "</table>\n",
       "</div>"
      ],
      "text/plain": [
       "    A   B\n",
       "0   5   8\n",
       "1   4   1\n",
       "2   5   3\n",
       "3   3   6\n",
       "4   9  65\n",
       "5  21  32\n",
       "6   8   7"
      ]
     },
     "execution_count": 69,
     "metadata": {},
     "output_type": "execute_result"
    }
   ],
   "source": [
    "df"
   ]
  },
  {
   "cell_type": "code",
   "execution_count": 71,
   "id": "d0aabde0-c46e-47eb-bb81-d6cbd366b02d",
   "metadata": {},
   "outputs": [],
   "source": [
    "df[\"A+B\"]=df[\"A\"]+df[\"B\"]"
   ]
  },
  {
   "cell_type": "code",
   "execution_count": 73,
   "id": "3a054f83-ddcb-45d0-9799-70a01347b22f",
   "metadata": {},
   "outputs": [
    {
     "data": {
      "text/html": [
       "<div>\n",
       "<style scoped>\n",
       "    .dataframe tbody tr th:only-of-type {\n",
       "        vertical-align: middle;\n",
       "    }\n",
       "\n",
       "    .dataframe tbody tr th {\n",
       "        vertical-align: top;\n",
       "    }\n",
       "\n",
       "    .dataframe thead th {\n",
       "        text-align: right;\n",
       "    }\n",
       "</style>\n",
       "<table border=\"1\" class=\"dataframe\">\n",
       "  <thead>\n",
       "    <tr style=\"text-align: right;\">\n",
       "      <th></th>\n",
       "      <th>A</th>\n",
       "      <th>B</th>\n",
       "      <th>A+B</th>\n",
       "    </tr>\n",
       "  </thead>\n",
       "  <tbody>\n",
       "    <tr>\n",
       "      <th>0</th>\n",
       "      <td>5</td>\n",
       "      <td>8</td>\n",
       "      <td>13</td>\n",
       "    </tr>\n",
       "    <tr>\n",
       "      <th>1</th>\n",
       "      <td>4</td>\n",
       "      <td>1</td>\n",
       "      <td>5</td>\n",
       "    </tr>\n",
       "    <tr>\n",
       "      <th>2</th>\n",
       "      <td>5</td>\n",
       "      <td>3</td>\n",
       "      <td>8</td>\n",
       "    </tr>\n",
       "    <tr>\n",
       "      <th>3</th>\n",
       "      <td>3</td>\n",
       "      <td>6</td>\n",
       "      <td>9</td>\n",
       "    </tr>\n",
       "    <tr>\n",
       "      <th>4</th>\n",
       "      <td>9</td>\n",
       "      <td>65</td>\n",
       "      <td>74</td>\n",
       "    </tr>\n",
       "    <tr>\n",
       "      <th>5</th>\n",
       "      <td>21</td>\n",
       "      <td>32</td>\n",
       "      <td>53</td>\n",
       "    </tr>\n",
       "    <tr>\n",
       "      <th>6</th>\n",
       "      <td>8</td>\n",
       "      <td>7</td>\n",
       "      <td>15</td>\n",
       "    </tr>\n",
       "  </tbody>\n",
       "</table>\n",
       "</div>"
      ],
      "text/plain": [
       "    A   B  A+B\n",
       "0   5   8   13\n",
       "1   4   1    5\n",
       "2   5   3    8\n",
       "3   3   6    9\n",
       "4   9  65   74\n",
       "5  21  32   53\n",
       "6   8   7   15"
      ]
     },
     "execution_count": 73,
     "metadata": {},
     "output_type": "execute_result"
    }
   ],
   "source": [
    "df"
   ]
  },
  {
   "cell_type": "code",
   "execution_count": 75,
   "id": "d200afb9-1019-4f02-8d26-b2209c5b147c",
   "metadata": {},
   "outputs": [],
   "source": [
    "df[\"A**2\"]=df[\"A\"]**2"
   ]
  },
  {
   "cell_type": "code",
   "execution_count": 77,
   "id": "5af73774-dfed-420f-b9ec-aefaf3e134e1",
   "metadata": {},
   "outputs": [
    {
     "data": {
      "text/html": [
       "<div>\n",
       "<style scoped>\n",
       "    .dataframe tbody tr th:only-of-type {\n",
       "        vertical-align: middle;\n",
       "    }\n",
       "\n",
       "    .dataframe tbody tr th {\n",
       "        vertical-align: top;\n",
       "    }\n",
       "\n",
       "    .dataframe thead th {\n",
       "        text-align: right;\n",
       "    }\n",
       "</style>\n",
       "<table border=\"1\" class=\"dataframe\">\n",
       "  <thead>\n",
       "    <tr style=\"text-align: right;\">\n",
       "      <th></th>\n",
       "      <th>A</th>\n",
       "      <th>B</th>\n",
       "      <th>A+B</th>\n",
       "      <th>A**2</th>\n",
       "    </tr>\n",
       "  </thead>\n",
       "  <tbody>\n",
       "    <tr>\n",
       "      <th>0</th>\n",
       "      <td>5</td>\n",
       "      <td>8</td>\n",
       "      <td>13</td>\n",
       "      <td>25</td>\n",
       "    </tr>\n",
       "    <tr>\n",
       "      <th>1</th>\n",
       "      <td>4</td>\n",
       "      <td>1</td>\n",
       "      <td>5</td>\n",
       "      <td>16</td>\n",
       "    </tr>\n",
       "    <tr>\n",
       "      <th>2</th>\n",
       "      <td>5</td>\n",
       "      <td>3</td>\n",
       "      <td>8</td>\n",
       "      <td>25</td>\n",
       "    </tr>\n",
       "    <tr>\n",
       "      <th>3</th>\n",
       "      <td>3</td>\n",
       "      <td>6</td>\n",
       "      <td>9</td>\n",
       "      <td>9</td>\n",
       "    </tr>\n",
       "    <tr>\n",
       "      <th>4</th>\n",
       "      <td>9</td>\n",
       "      <td>65</td>\n",
       "      <td>74</td>\n",
       "      <td>81</td>\n",
       "    </tr>\n",
       "    <tr>\n",
       "      <th>5</th>\n",
       "      <td>21</td>\n",
       "      <td>32</td>\n",
       "      <td>53</td>\n",
       "      <td>441</td>\n",
       "    </tr>\n",
       "    <tr>\n",
       "      <th>6</th>\n",
       "      <td>8</td>\n",
       "      <td>7</td>\n",
       "      <td>15</td>\n",
       "      <td>64</td>\n",
       "    </tr>\n",
       "  </tbody>\n",
       "</table>\n",
       "</div>"
      ],
      "text/plain": [
       "    A   B  A+B  A**2\n",
       "0   5   8   13    25\n",
       "1   4   1    5    16\n",
       "2   5   3    8    25\n",
       "3   3   6    9     9\n",
       "4   9  65   74    81\n",
       "5  21  32   53   441\n",
       "6   8   7   15    64"
      ]
     },
     "execution_count": 77,
     "metadata": {},
     "output_type": "execute_result"
    }
   ],
   "source": [
    "df"
   ]
  },
  {
   "cell_type": "code",
   "execution_count": 79,
   "id": "77a4fa7f-ce83-417c-854a-c861cbf98227",
   "metadata": {},
   "outputs": [],
   "source": [
    "df[\"A**.5\"]=df[\"A\"]**.5"
   ]
  },
  {
   "cell_type": "code",
   "execution_count": 81,
   "id": "d800e37a-e032-4b82-8c34-a172a6dc56ab",
   "metadata": {},
   "outputs": [
    {
     "data": {
      "text/html": [
       "<div>\n",
       "<style scoped>\n",
       "    .dataframe tbody tr th:only-of-type {\n",
       "        vertical-align: middle;\n",
       "    }\n",
       "\n",
       "    .dataframe tbody tr th {\n",
       "        vertical-align: top;\n",
       "    }\n",
       "\n",
       "    .dataframe thead th {\n",
       "        text-align: right;\n",
       "    }\n",
       "</style>\n",
       "<table border=\"1\" class=\"dataframe\">\n",
       "  <thead>\n",
       "    <tr style=\"text-align: right;\">\n",
       "      <th></th>\n",
       "      <th>A</th>\n",
       "      <th>B</th>\n",
       "      <th>A+B</th>\n",
       "      <th>A**2</th>\n",
       "      <th>A**.5</th>\n",
       "    </tr>\n",
       "  </thead>\n",
       "  <tbody>\n",
       "    <tr>\n",
       "      <th>0</th>\n",
       "      <td>5</td>\n",
       "      <td>8</td>\n",
       "      <td>13</td>\n",
       "      <td>25</td>\n",
       "      <td>2.236068</td>\n",
       "    </tr>\n",
       "    <tr>\n",
       "      <th>1</th>\n",
       "      <td>4</td>\n",
       "      <td>1</td>\n",
       "      <td>5</td>\n",
       "      <td>16</td>\n",
       "      <td>2.000000</td>\n",
       "    </tr>\n",
       "    <tr>\n",
       "      <th>2</th>\n",
       "      <td>5</td>\n",
       "      <td>3</td>\n",
       "      <td>8</td>\n",
       "      <td>25</td>\n",
       "      <td>2.236068</td>\n",
       "    </tr>\n",
       "    <tr>\n",
       "      <th>3</th>\n",
       "      <td>3</td>\n",
       "      <td>6</td>\n",
       "      <td>9</td>\n",
       "      <td>9</td>\n",
       "      <td>1.732051</td>\n",
       "    </tr>\n",
       "    <tr>\n",
       "      <th>4</th>\n",
       "      <td>9</td>\n",
       "      <td>65</td>\n",
       "      <td>74</td>\n",
       "      <td>81</td>\n",
       "      <td>3.000000</td>\n",
       "    </tr>\n",
       "    <tr>\n",
       "      <th>5</th>\n",
       "      <td>21</td>\n",
       "      <td>32</td>\n",
       "      <td>53</td>\n",
       "      <td>441</td>\n",
       "      <td>4.582576</td>\n",
       "    </tr>\n",
       "    <tr>\n",
       "      <th>6</th>\n",
       "      <td>8</td>\n",
       "      <td>7</td>\n",
       "      <td>15</td>\n",
       "      <td>64</td>\n",
       "      <td>2.828427</td>\n",
       "    </tr>\n",
       "  </tbody>\n",
       "</table>\n",
       "</div>"
      ],
      "text/plain": [
       "    A   B  A+B  A**2     A**.5\n",
       "0   5   8   13    25  2.236068\n",
       "1   4   1    5    16  2.000000\n",
       "2   5   3    8    25  2.236068\n",
       "3   3   6    9     9  1.732051\n",
       "4   9  65   74    81  3.000000\n",
       "5  21  32   53   441  4.582576\n",
       "6   8   7   15    64  2.828427"
      ]
     },
     "execution_count": 81,
     "metadata": {},
     "output_type": "execute_result"
    }
   ],
   "source": [
    "df"
   ]
  },
  {
   "cell_type": "code",
   "execution_count": 141,
   "id": "93275d00-9c93-4023-8deb-1b122d2ae55c",
   "metadata": {},
   "outputs": [
    {
     "name": "stdout",
     "output_type": "stream",
     "text": [
      "      Name  Age  Salary   DOB   COMPANY Designation\n",
      "0    Alice   25   50000  2001    amazon     manager\n",
      "1      Bob   30   60000  2002       abc      worker\n",
      "2  Charlie   35   70000  2003       xyz      seeker\n",
      "3        d   40   20000  2004      rcat      worker\n",
      "4        e   16   20000  2005  flipcart      worker\n",
      "5        f   48    1000  2006  razorpay      worker\n",
      "6        g   20    1100  2007  phone pe      worker\n",
      "7        h   12    1000  2008    airtel      worker\n"
     ]
    }
   ],
   "source": [
    "data = {'Name': ['Alice', 'Bob', 'Charlie','d','e','f','g','h'],  \n",
    "        'Age': [25, 30, 35,40,16,48,20,12],  \n",
    "        'Salary': [50000, 60000, 70000,20000,20000,1000,1100,1000],\n",
    "        'DOB':[2001,2002,2003,2004,2005,2006,2007,2008],\n",
    "        'COMPANY':[\"amazon\",\"abc\",\"xyz\",\"rcat\",\"flipcart\",\"razorpay\",\"phone pe\",\"airtel\"],\n",
    "        'Designation':[\"manager\",\"worker\",\"seeker\",\"worker\",\"worker\",\"worker\",\"worker\",\"worker\"],}  \n",
    "\n",
    "df = pd.DataFrame(data)  \n",
    "print(df)  "
   ]
  },
  {
   "cell_type": "code",
   "execution_count": 93,
   "id": "1bc7dc72-bac3-4502-ba3c-5087d74e8ece",
   "metadata": {},
   "outputs": [
    {
     "ename": "ValueError",
     "evalue": "The truth value of a Series is ambiguous. Use a.empty, a.bool(), a.item(), a.any() or a.all().",
     "output_type": "error",
     "traceback": [
      "\u001b[1;31m---------------------------------------------------------------------------\u001b[0m",
      "\u001b[1;31mValueError\u001b[0m                                Traceback (most recent call last)",
      "\u001b[1;32m~\\AppData\\Local\\Temp\\ipykernel_33616\\3404409551.py\u001b[0m in \u001b[0;36m?\u001b[1;34m()\u001b[0m\n\u001b[1;32m----> 1\u001b[1;33m \u001b[0mdf\u001b[0m\u001b[1;33m[\u001b[0m\u001b[1;34m\"vote\"\u001b[0m\u001b[1;33m]\u001b[0m\u001b[1;33m=\u001b[0m \u001b[1;34m\" you are eligible\"\u001b[0m\u001b[1;32mif\u001b[0m\u001b[1;33m(\u001b[0m\u001b[0mdf\u001b[0m\u001b[1;33m[\u001b[0m\u001b[1;34m\"Age\"\u001b[0m\u001b[1;33m]\u001b[0m\u001b[1;33m>\u001b[0m\u001b[1;36m18\u001b[0m\u001b[1;33m)\u001b[0m \u001b[1;32melse\u001b[0m \u001b[1;34m\"not eligible\"\u001b[0m\u001b[1;33m\u001b[0m\u001b[1;33m\u001b[0m\u001b[0m\n\u001b[0m\u001b[0;32m      2\u001b[0m \u001b[1;33m\u001b[0m\u001b[0m\n",
      "\u001b[1;32m~\\anaconda3\\Lib\\site-packages\\pandas\\core\\generic.py\u001b[0m in \u001b[0;36m?\u001b[1;34m(self)\u001b[0m\n\u001b[0;32m   1575\u001b[0m     \u001b[1;33m@\u001b[0m\u001b[0mfinal\u001b[0m\u001b[1;33m\u001b[0m\u001b[1;33m\u001b[0m\u001b[0m\n\u001b[0;32m   1576\u001b[0m     \u001b[1;32mdef\u001b[0m \u001b[0m__nonzero__\u001b[0m\u001b[1;33m(\u001b[0m\u001b[0mself\u001b[0m\u001b[1;33m)\u001b[0m \u001b[1;33m->\u001b[0m \u001b[0mNoReturn\u001b[0m\u001b[1;33m:\u001b[0m\u001b[1;33m\u001b[0m\u001b[1;33m\u001b[0m\u001b[0m\n\u001b[1;32m-> 1577\u001b[1;33m         raise ValueError(\n\u001b[0m\u001b[0;32m   1578\u001b[0m             \u001b[1;33mf\"\u001b[0m\u001b[1;33mThe truth value of a \u001b[0m\u001b[1;33m{\u001b[0m\u001b[0mtype\u001b[0m\u001b[1;33m(\u001b[0m\u001b[0mself\u001b[0m\u001b[1;33m)\u001b[0m\u001b[1;33m.\u001b[0m\u001b[0m__name__\u001b[0m\u001b[1;33m}\u001b[0m\u001b[1;33m is ambiguous. \u001b[0m\u001b[1;33m\"\u001b[0m\u001b[1;33m\u001b[0m\u001b[1;33m\u001b[0m\u001b[0m\n\u001b[0;32m   1579\u001b[0m             \u001b[1;34m\"Use a.empty, a.bool(), a.item(), a.any() or a.all().\"\u001b[0m\u001b[1;33m\u001b[0m\u001b[1;33m\u001b[0m\u001b[0m\n\u001b[0;32m   1580\u001b[0m         \u001b[1;33m)\u001b[0m\u001b[1;33m\u001b[0m\u001b[1;33m\u001b[0m\u001b[0m\n",
      "\u001b[1;31mValueError\u001b[0m: The truth value of a Series is ambiguous. Use a.empty, a.bool(), a.item(), a.any() or a.all()."
     ]
    }
   ],
   "source": [
    "\n",
    "                "
   ]
  },
  {
   "cell_type": "code",
   "execution_count": 95,
   "id": "dfe937f4-bfe3-40b8-92fb-19555ea3a6be",
   "metadata": {},
   "outputs": [
    {
     "ename": "NameError",
     "evalue": "name 'a' is not defined",
     "output_type": "error",
     "traceback": [
      "\u001b[1;31m---------------------------------------------------------------------------\u001b[0m",
      "\u001b[1;31mNameError\u001b[0m                                 Traceback (most recent call last)",
      "Cell \u001b[1;32mIn[95], line 1\u001b[0m\n\u001b[1;32m----> 1\u001b[0m a\u001b[38;5;241m.\u001b[39mall()\n",
      "\u001b[1;31mNameError\u001b[0m: name 'a' is not defined"
     ]
    }
   ],
   "source": [
    "a.all()"
   ]
  },
  {
   "cell_type": "code",
   "execution_count": 97,
   "id": "6e9f8a5c-4902-4524-b3b9-e7f73a430811",
   "metadata": {},
   "outputs": [
    {
     "data": {
      "text/plain": [
       "<module 'pandas' from 'C:\\\\Users\\\\piyus\\\\anaconda3\\\\Lib\\\\site-packages\\\\pandas\\\\__init__.py'>"
      ]
     },
     "execution_count": 97,
     "metadata": {},
     "output_type": "execute_result"
    }
   ],
   "source": [
    "pd\n"
   ]
  },
  {
   "cell_type": "code",
   "execution_count": 99,
   "id": "e8c78b21-29c6-4e02-b4f1-13633a3e391b",
   "metadata": {},
   "outputs": [
    {
     "name": "stdout",
     "output_type": "stream",
     "text": [
      "<module 'pandas' from 'C:\\\\Users\\\\piyus\\\\anaconda3\\\\Lib\\\\site-packages\\\\pandas\\\\__init__.py'>\n"
     ]
    }
   ],
   "source": [
    "print(pd)"
   ]
  },
  {
   "cell_type": "code",
   "execution_count": 143,
   "id": "be89b799-7e42-40c8-8bad-13d7d440c613",
   "metadata": {},
   "outputs": [
    {
     "data": {
      "text/html": [
       "<div>\n",
       "<style scoped>\n",
       "    .dataframe tbody tr th:only-of-type {\n",
       "        vertical-align: middle;\n",
       "    }\n",
       "\n",
       "    .dataframe tbody tr th {\n",
       "        vertical-align: top;\n",
       "    }\n",
       "\n",
       "    .dataframe thead th {\n",
       "        text-align: right;\n",
       "    }\n",
       "</style>\n",
       "<table border=\"1\" class=\"dataframe\">\n",
       "  <thead>\n",
       "    <tr style=\"text-align: right;\">\n",
       "      <th></th>\n",
       "      <th>Name</th>\n",
       "      <th>Age</th>\n",
       "      <th>Salary</th>\n",
       "      <th>DOB</th>\n",
       "      <th>COMPANY</th>\n",
       "      <th>Designation</th>\n",
       "    </tr>\n",
       "  </thead>\n",
       "  <tbody>\n",
       "    <tr>\n",
       "      <th>0</th>\n",
       "      <td>Alice</td>\n",
       "      <td>25</td>\n",
       "      <td>50000</td>\n",
       "      <td>2001</td>\n",
       "      <td>amazon</td>\n",
       "      <td>manager</td>\n",
       "    </tr>\n",
       "    <tr>\n",
       "      <th>1</th>\n",
       "      <td>Bob</td>\n",
       "      <td>30</td>\n",
       "      <td>60000</td>\n",
       "      <td>2002</td>\n",
       "      <td>abc</td>\n",
       "      <td>worker</td>\n",
       "    </tr>\n",
       "    <tr>\n",
       "      <th>2</th>\n",
       "      <td>Charlie</td>\n",
       "      <td>35</td>\n",
       "      <td>70000</td>\n",
       "      <td>2003</td>\n",
       "      <td>xyz</td>\n",
       "      <td>seeker</td>\n",
       "    </tr>\n",
       "    <tr>\n",
       "      <th>3</th>\n",
       "      <td>d</td>\n",
       "      <td>40</td>\n",
       "      <td>20000</td>\n",
       "      <td>2004</td>\n",
       "      <td>rcat</td>\n",
       "      <td>worker</td>\n",
       "    </tr>\n",
       "    <tr>\n",
       "      <th>4</th>\n",
       "      <td>e</td>\n",
       "      <td>16</td>\n",
       "      <td>20000</td>\n",
       "      <td>2005</td>\n",
       "      <td>flipcart</td>\n",
       "      <td>worker</td>\n",
       "    </tr>\n",
       "    <tr>\n",
       "      <th>5</th>\n",
       "      <td>f</td>\n",
       "      <td>48</td>\n",
       "      <td>1000</td>\n",
       "      <td>2006</td>\n",
       "      <td>razorpay</td>\n",
       "      <td>worker</td>\n",
       "    </tr>\n",
       "    <tr>\n",
       "      <th>6</th>\n",
       "      <td>g</td>\n",
       "      <td>20</td>\n",
       "      <td>1100</td>\n",
       "      <td>2007</td>\n",
       "      <td>phone pe</td>\n",
       "      <td>worker</td>\n",
       "    </tr>\n",
       "    <tr>\n",
       "      <th>7</th>\n",
       "      <td>h</td>\n",
       "      <td>12</td>\n",
       "      <td>1000</td>\n",
       "      <td>2008</td>\n",
       "      <td>airtel</td>\n",
       "      <td>worker</td>\n",
       "    </tr>\n",
       "  </tbody>\n",
       "</table>\n",
       "</div>"
      ],
      "text/plain": [
       "      Name  Age  Salary   DOB   COMPANY Designation\n",
       "0    Alice   25   50000  2001    amazon     manager\n",
       "1      Bob   30   60000  2002       abc      worker\n",
       "2  Charlie   35   70000  2003       xyz      seeker\n",
       "3        d   40   20000  2004      rcat      worker\n",
       "4        e   16   20000  2005  flipcart      worker\n",
       "5        f   48    1000  2006  razorpay      worker\n",
       "6        g   20    1100  2007  phone pe      worker\n",
       "7        h   12    1000  2008    airtel      worker"
      ]
     },
     "execution_count": 143,
     "metadata": {},
     "output_type": "execute_result"
    }
   ],
   "source": [
    "df"
   ]
  },
  {
   "cell_type": "code",
   "execution_count": 109,
   "id": "348b3d10-9dfe-46ba-977e-06c6786f1a2b",
   "metadata": {},
   "outputs": [],
   "source": [
    "df[\"current_Age\"]=2025-df[\"DOB\"]"
   ]
  },
  {
   "cell_type": "code",
   "execution_count": 111,
   "id": "02fe370d-f192-4427-83f4-c993f7d5d2ae",
   "metadata": {},
   "outputs": [
    {
     "ename": "NameError",
     "evalue": "name 'DF' is not defined",
     "output_type": "error",
     "traceback": [
      "\u001b[1;31m---------------------------------------------------------------------------\u001b[0m",
      "\u001b[1;31mNameError\u001b[0m                                 Traceback (most recent call last)",
      "Cell \u001b[1;32mIn[111], line 1\u001b[0m\n\u001b[1;32m----> 1\u001b[0m DF\n",
      "\u001b[1;31mNameError\u001b[0m: name 'DF' is not defined"
     ]
    }
   ],
   "source": []
  },
  {
   "cell_type": "code",
   "execution_count": 135,
   "id": "e67abac7-72c4-414b-9f02-bad77fd9172c",
   "metadata": {},
   "outputs": [
    {
     "data": {
      "text/html": [
       "<div>\n",
       "<style scoped>\n",
       "    .dataframe tbody tr th:only-of-type {\n",
       "        vertical-align: middle;\n",
       "    }\n",
       "\n",
       "    .dataframe tbody tr th {\n",
       "        vertical-align: top;\n",
       "    }\n",
       "\n",
       "    .dataframe thead th {\n",
       "        text-align: right;\n",
       "    }\n",
       "</style>\n",
       "<table border=\"1\" class=\"dataframe\">\n",
       "  <thead>\n",
       "    <tr style=\"text-align: right;\">\n",
       "      <th></th>\n",
       "      <th>Date</th>\n",
       "      <th>Year</th>\n",
       "    </tr>\n",
       "  </thead>\n",
       "  <tbody>\n",
       "    <tr>\n",
       "      <th>0</th>\n",
       "      <td>2024-03-04</td>\n",
       "      <td>2024</td>\n",
       "    </tr>\n",
       "    <tr>\n",
       "      <th>1</th>\n",
       "      <td>2023-07-15</td>\n",
       "      <td>2023</td>\n",
       "    </tr>\n",
       "    <tr>\n",
       "      <th>2</th>\n",
       "      <td>2022-07-07</td>\n",
       "      <td>2022</td>\n",
       "    </tr>\n",
       "    <tr>\n",
       "      <th>3</th>\n",
       "      <td>2021-12-21</td>\n",
       "      <td>2021</td>\n",
       "    </tr>\n",
       "  </tbody>\n",
       "</table>\n",
       "</div>"
      ],
      "text/plain": [
       "        Date  Year\n",
       "0 2024-03-04  2024\n",
       "1 2023-07-15  2023\n",
       "2 2022-07-07  2022\n",
       "3 2021-12-21  2021"
      ]
     },
     "execution_count": 135,
     "metadata": {},
     "output_type": "execute_result"
    }
   ],
   "source": [
    "df"
   ]
  },
  {
   "cell_type": "code",
   "execution_count": 119,
   "id": "7c3ad8b8-1695-4540-b48b-b382cd809d60",
   "metadata": {},
   "outputs": [],
   "source": [
    "df[\"age new2\"]=df[\"DOB\"].apply(lambda a:2025-a)"
   ]
  },
  {
   "cell_type": "code",
   "execution_count": 121,
   "id": "bdc428cb-142d-4399-b0e0-835cb65993a0",
   "metadata": {},
   "outputs": [
    {
     "data": {
      "text/html": [
       "<div>\n",
       "<style scoped>\n",
       "    .dataframe tbody tr th:only-of-type {\n",
       "        vertical-align: middle;\n",
       "    }\n",
       "\n",
       "    .dataframe tbody tr th {\n",
       "        vertical-align: top;\n",
       "    }\n",
       "\n",
       "    .dataframe thead th {\n",
       "        text-align: right;\n",
       "    }\n",
       "</style>\n",
       "<table border=\"1\" class=\"dataframe\">\n",
       "  <thead>\n",
       "    <tr style=\"text-align: right;\">\n",
       "      <th></th>\n",
       "      <th>Name</th>\n",
       "      <th>Age</th>\n",
       "      <th>Salary</th>\n",
       "      <th>DOB</th>\n",
       "      <th>COMPANY</th>\n",
       "      <th>Designation</th>\n",
       "      <th>total</th>\n",
       "      <th>current_Age</th>\n",
       "      <th>age32</th>\n",
       "      <th>age new2</th>\n",
       "    </tr>\n",
       "  </thead>\n",
       "  <tbody>\n",
       "    <tr>\n",
       "      <th>0</th>\n",
       "      <td>Alice</td>\n",
       "      <td>25</td>\n",
       "      <td>50000</td>\n",
       "      <td>2001</td>\n",
       "      <td>amazon</td>\n",
       "      <td>manager</td>\n",
       "      <td>24</td>\n",
       "      <td>24</td>\n",
       "      <td>24</td>\n",
       "      <td>24</td>\n",
       "    </tr>\n",
       "    <tr>\n",
       "      <th>1</th>\n",
       "      <td>Bob</td>\n",
       "      <td>30</td>\n",
       "      <td>60000</td>\n",
       "      <td>2002</td>\n",
       "      <td>abc</td>\n",
       "      <td>worker</td>\n",
       "      <td>23</td>\n",
       "      <td>23</td>\n",
       "      <td>23</td>\n",
       "      <td>23</td>\n",
       "    </tr>\n",
       "    <tr>\n",
       "      <th>2</th>\n",
       "      <td>Charlie</td>\n",
       "      <td>35</td>\n",
       "      <td>70000</td>\n",
       "      <td>2003</td>\n",
       "      <td>xyz</td>\n",
       "      <td>seeker</td>\n",
       "      <td>22</td>\n",
       "      <td>22</td>\n",
       "      <td>22</td>\n",
       "      <td>22</td>\n",
       "    </tr>\n",
       "    <tr>\n",
       "      <th>3</th>\n",
       "      <td>d</td>\n",
       "      <td>40</td>\n",
       "      <td>20000</td>\n",
       "      <td>2004</td>\n",
       "      <td>rcat</td>\n",
       "      <td>worker</td>\n",
       "      <td>21</td>\n",
       "      <td>21</td>\n",
       "      <td>21</td>\n",
       "      <td>21</td>\n",
       "    </tr>\n",
       "    <tr>\n",
       "      <th>4</th>\n",
       "      <td>e</td>\n",
       "      <td>16</td>\n",
       "      <td>20000</td>\n",
       "      <td>2005</td>\n",
       "      <td>flipcart</td>\n",
       "      <td>worker</td>\n",
       "      <td>20</td>\n",
       "      <td>20</td>\n",
       "      <td>20</td>\n",
       "      <td>20</td>\n",
       "    </tr>\n",
       "    <tr>\n",
       "      <th>5</th>\n",
       "      <td>f</td>\n",
       "      <td>48</td>\n",
       "      <td>1000</td>\n",
       "      <td>2006</td>\n",
       "      <td>razorpay</td>\n",
       "      <td>worker</td>\n",
       "      <td>19</td>\n",
       "      <td>19</td>\n",
       "      <td>19</td>\n",
       "      <td>19</td>\n",
       "    </tr>\n",
       "    <tr>\n",
       "      <th>6</th>\n",
       "      <td>g</td>\n",
       "      <td>20</td>\n",
       "      <td>1100</td>\n",
       "      <td>2007</td>\n",
       "      <td>phone pe</td>\n",
       "      <td>worker</td>\n",
       "      <td>18</td>\n",
       "      <td>18</td>\n",
       "      <td>18</td>\n",
       "      <td>18</td>\n",
       "    </tr>\n",
       "    <tr>\n",
       "      <th>7</th>\n",
       "      <td>h</td>\n",
       "      <td>12</td>\n",
       "      <td>1000</td>\n",
       "      <td>2008</td>\n",
       "      <td>airtel</td>\n",
       "      <td>worker</td>\n",
       "      <td>17</td>\n",
       "      <td>17</td>\n",
       "      <td>17</td>\n",
       "      <td>17</td>\n",
       "    </tr>\n",
       "  </tbody>\n",
       "</table>\n",
       "</div>"
      ],
      "text/plain": [
       "      Name  Age  Salary   DOB   COMPANY Designation  total  current_Age  \\\n",
       "0    Alice   25   50000  2001    amazon     manager     24           24   \n",
       "1      Bob   30   60000  2002       abc      worker     23           23   \n",
       "2  Charlie   35   70000  2003       xyz      seeker     22           22   \n",
       "3        d   40   20000  2004      rcat      worker     21           21   \n",
       "4        e   16   20000  2005  flipcart      worker     20           20   \n",
       "5        f   48    1000  2006  razorpay      worker     19           19   \n",
       "6        g   20    1100  2007  phone pe      worker     18           18   \n",
       "7        h   12    1000  2008    airtel      worker     17           17   \n",
       "\n",
       "   age32  age new2  \n",
       "0     24        24  \n",
       "1     23        23  \n",
       "2     22        22  \n",
       "3     21        21  \n",
       "4     20        20  \n",
       "5     19        19  \n",
       "6     18        18  \n",
       "7     17        17  "
      ]
     },
     "execution_count": 121,
     "metadata": {},
     "output_type": "execute_result"
    }
   ],
   "source": [
    "df"
   ]
  },
  {
   "cell_type": "code",
   "execution_count": 131,
   "id": "687de541-27f3-4413-ba78-3c224790cd26",
   "metadata": {},
   "outputs": [],
   "source": [
    "data = {\"Date\": [\"2024-03-04\", \"2023-07-15\",\"2022-07-07\",\"2021-12-21\"]}  \n",
    "df = pd.DataFrame(data)  \n",
    "\n",
    "# Convert 'Date' column to datetime format  \n",
    "df[\"Date\"] = pd.to_datetime(df[\"Date\"])  \n",
    "\n",
    "# Create a new column based on the year  \n",
    "df[\"Year\"] = df[\"Date\"].dt.year  "
   ]
  },
  {
   "cell_type": "code",
   "execution_count": 133,
   "id": "7e5d9d32-f265-417c-ab27-73065d6301c2",
   "metadata": {},
   "outputs": [
    {
     "data": {
      "text/html": [
       "<div>\n",
       "<style scoped>\n",
       "    .dataframe tbody tr th:only-of-type {\n",
       "        vertical-align: middle;\n",
       "    }\n",
       "\n",
       "    .dataframe tbody tr th {\n",
       "        vertical-align: top;\n",
       "    }\n",
       "\n",
       "    .dataframe thead th {\n",
       "        text-align: right;\n",
       "    }\n",
       "</style>\n",
       "<table border=\"1\" class=\"dataframe\">\n",
       "  <thead>\n",
       "    <tr style=\"text-align: right;\">\n",
       "      <th></th>\n",
       "      <th>Date</th>\n",
       "      <th>Year</th>\n",
       "    </tr>\n",
       "  </thead>\n",
       "  <tbody>\n",
       "    <tr>\n",
       "      <th>0</th>\n",
       "      <td>2024-03-04</td>\n",
       "      <td>2024</td>\n",
       "    </tr>\n",
       "    <tr>\n",
       "      <th>1</th>\n",
       "      <td>2023-07-15</td>\n",
       "      <td>2023</td>\n",
       "    </tr>\n",
       "    <tr>\n",
       "      <th>2</th>\n",
       "      <td>2022-07-07</td>\n",
       "      <td>2022</td>\n",
       "    </tr>\n",
       "    <tr>\n",
       "      <th>3</th>\n",
       "      <td>2021-12-21</td>\n",
       "      <td>2021</td>\n",
       "    </tr>\n",
       "  </tbody>\n",
       "</table>\n",
       "</div>"
      ],
      "text/plain": [
       "        Date  Year\n",
       "0 2024-03-04  2024\n",
       "1 2023-07-15  2023\n",
       "2 2022-07-07  2022\n",
       "3 2021-12-21  2021"
      ]
     },
     "execution_count": 133,
     "metadata": {},
     "output_type": "execute_result"
    }
   ],
   "source": [
    "df"
   ]
  },
  {
   "cell_type": "code",
   "execution_count": 145,
   "id": "91a70dab-32b0-43c9-a950-71bcb9f2dcf7",
   "metadata": {},
   "outputs": [
    {
     "data": {
      "text/html": [
       "<div>\n",
       "<style scoped>\n",
       "    .dataframe tbody tr th:only-of-type {\n",
       "        vertical-align: middle;\n",
       "    }\n",
       "\n",
       "    .dataframe tbody tr th {\n",
       "        vertical-align: top;\n",
       "    }\n",
       "\n",
       "    .dataframe thead th {\n",
       "        text-align: right;\n",
       "    }\n",
       "</style>\n",
       "<table border=\"1\" class=\"dataframe\">\n",
       "  <thead>\n",
       "    <tr style=\"text-align: right;\">\n",
       "      <th></th>\n",
       "      <th>Name</th>\n",
       "      <th>Age</th>\n",
       "      <th>Salary</th>\n",
       "      <th>DOB</th>\n",
       "      <th>COMPANY</th>\n",
       "      <th>Designation</th>\n",
       "    </tr>\n",
       "  </thead>\n",
       "  <tbody>\n",
       "    <tr>\n",
       "      <th>0</th>\n",
       "      <td>Alice</td>\n",
       "      <td>25</td>\n",
       "      <td>50000</td>\n",
       "      <td>2001</td>\n",
       "      <td>amazon</td>\n",
       "      <td>manager</td>\n",
       "    </tr>\n",
       "    <tr>\n",
       "      <th>1</th>\n",
       "      <td>Bob</td>\n",
       "      <td>30</td>\n",
       "      <td>60000</td>\n",
       "      <td>2002</td>\n",
       "      <td>abc</td>\n",
       "      <td>worker</td>\n",
       "    </tr>\n",
       "    <tr>\n",
       "      <th>2</th>\n",
       "      <td>Charlie</td>\n",
       "      <td>35</td>\n",
       "      <td>70000</td>\n",
       "      <td>2003</td>\n",
       "      <td>xyz</td>\n",
       "      <td>seeker</td>\n",
       "    </tr>\n",
       "    <tr>\n",
       "      <th>3</th>\n",
       "      <td>d</td>\n",
       "      <td>40</td>\n",
       "      <td>20000</td>\n",
       "      <td>2004</td>\n",
       "      <td>rcat</td>\n",
       "      <td>worker</td>\n",
       "    </tr>\n",
       "    <tr>\n",
       "      <th>4</th>\n",
       "      <td>e</td>\n",
       "      <td>16</td>\n",
       "      <td>20000</td>\n",
       "      <td>2005</td>\n",
       "      <td>flipcart</td>\n",
       "      <td>worker</td>\n",
       "    </tr>\n",
       "    <tr>\n",
       "      <th>5</th>\n",
       "      <td>f</td>\n",
       "      <td>48</td>\n",
       "      <td>1000</td>\n",
       "      <td>2006</td>\n",
       "      <td>razorpay</td>\n",
       "      <td>worker</td>\n",
       "    </tr>\n",
       "    <tr>\n",
       "      <th>6</th>\n",
       "      <td>g</td>\n",
       "      <td>20</td>\n",
       "      <td>1100</td>\n",
       "      <td>2007</td>\n",
       "      <td>phone pe</td>\n",
       "      <td>worker</td>\n",
       "    </tr>\n",
       "    <tr>\n",
       "      <th>7</th>\n",
       "      <td>h</td>\n",
       "      <td>12</td>\n",
       "      <td>1000</td>\n",
       "      <td>2008</td>\n",
       "      <td>airtel</td>\n",
       "      <td>worker</td>\n",
       "    </tr>\n",
       "  </tbody>\n",
       "</table>\n",
       "</div>"
      ],
      "text/plain": [
       "      Name  Age  Salary   DOB   COMPANY Designation\n",
       "0    Alice   25   50000  2001    amazon     manager\n",
       "1      Bob   30   60000  2002       abc      worker\n",
       "2  Charlie   35   70000  2003       xyz      seeker\n",
       "3        d   40   20000  2004      rcat      worker\n",
       "4        e   16   20000  2005  flipcart      worker\n",
       "5        f   48    1000  2006  razorpay      worker\n",
       "6        g   20    1100  2007  phone pe      worker\n",
       "7        h   12    1000  2008    airtel      worker"
      ]
     },
     "execution_count": 145,
     "metadata": {},
     "output_type": "execute_result"
    }
   ],
   "source": [
    "df"
   ]
  },
  {
   "cell_type": "code",
   "execution_count": 147,
   "id": "ef0a5124-4258-4428-9e61-6b86f4ee3153",
   "metadata": {},
   "outputs": [
    {
     "data": {
      "text/plain": [
       "0      amazon\n",
       "1         abc\n",
       "2         xyz\n",
       "3        rcat\n",
       "4    flipcart\n",
       "5    razorpay\n",
       "6    phone pe\n",
       "7      airtel\n",
       "Name: COMPANY, dtype: object"
      ]
     },
     "execution_count": 147,
     "metadata": {},
     "output_type": "execute_result"
    }
   ],
   "source": [
    "df[\"COMPANY\"]"
   ]
  },
  {
   "cell_type": "code",
   "execution_count": 151,
   "id": "6f77b3f8-0348-4fcc-8ef8-eaa34f1bd43d",
   "metadata": {},
   "outputs": [
    {
     "data": {
      "text/html": [
       "<div>\n",
       "<style scoped>\n",
       "    .dataframe tbody tr th:only-of-type {\n",
       "        vertical-align: middle;\n",
       "    }\n",
       "\n",
       "    .dataframe tbody tr th {\n",
       "        vertical-align: top;\n",
       "    }\n",
       "\n",
       "    .dataframe thead th {\n",
       "        text-align: right;\n",
       "    }\n",
       "</style>\n",
       "<table border=\"1\" class=\"dataframe\">\n",
       "  <thead>\n",
       "    <tr style=\"text-align: right;\">\n",
       "      <th></th>\n",
       "      <th>COMPANY</th>\n",
       "      <th>Salary</th>\n",
       "    </tr>\n",
       "  </thead>\n",
       "  <tbody>\n",
       "    <tr>\n",
       "      <th>0</th>\n",
       "      <td>amazon</td>\n",
       "      <td>50000</td>\n",
       "    </tr>\n",
       "    <tr>\n",
       "      <th>1</th>\n",
       "      <td>abc</td>\n",
       "      <td>60000</td>\n",
       "    </tr>\n",
       "    <tr>\n",
       "      <th>2</th>\n",
       "      <td>xyz</td>\n",
       "      <td>70000</td>\n",
       "    </tr>\n",
       "    <tr>\n",
       "      <th>3</th>\n",
       "      <td>rcat</td>\n",
       "      <td>20000</td>\n",
       "    </tr>\n",
       "    <tr>\n",
       "      <th>4</th>\n",
       "      <td>flipcart</td>\n",
       "      <td>20000</td>\n",
       "    </tr>\n",
       "    <tr>\n",
       "      <th>5</th>\n",
       "      <td>razorpay</td>\n",
       "      <td>1000</td>\n",
       "    </tr>\n",
       "    <tr>\n",
       "      <th>6</th>\n",
       "      <td>phone pe</td>\n",
       "      <td>1100</td>\n",
       "    </tr>\n",
       "    <tr>\n",
       "      <th>7</th>\n",
       "      <td>airtel</td>\n",
       "      <td>1000</td>\n",
       "    </tr>\n",
       "  </tbody>\n",
       "</table>\n",
       "</div>"
      ],
      "text/plain": [
       "    COMPANY  Salary\n",
       "0    amazon   50000\n",
       "1       abc   60000\n",
       "2       xyz   70000\n",
       "3      rcat   20000\n",
       "4  flipcart   20000\n",
       "5  razorpay    1000\n",
       "6  phone pe    1100\n",
       "7    airtel    1000"
      ]
     },
     "execution_count": 151,
     "metadata": {},
     "output_type": "execute_result"
    }
   ],
   "source": [
    "df[[\"COMPANY\",\"Salary\"]]"
   ]
  },
  {
   "cell_type": "code",
   "execution_count": 153,
   "id": "e2a84618-3179-4130-9572-d4d3a9dd4cac",
   "metadata": {},
   "outputs": [],
   "source": [
    "df[\"voter\"]=df[\"Age\"]>18"
   ]
  },
  {
   "cell_type": "code",
   "execution_count": 155,
   "id": "b0498584-a171-49b5-9555-67f824c27ae9",
   "metadata": {},
   "outputs": [
    {
     "data": {
      "text/html": [
       "<div>\n",
       "<style scoped>\n",
       "    .dataframe tbody tr th:only-of-type {\n",
       "        vertical-align: middle;\n",
       "    }\n",
       "\n",
       "    .dataframe tbody tr th {\n",
       "        vertical-align: top;\n",
       "    }\n",
       "\n",
       "    .dataframe thead th {\n",
       "        text-align: right;\n",
       "    }\n",
       "</style>\n",
       "<table border=\"1\" class=\"dataframe\">\n",
       "  <thead>\n",
       "    <tr style=\"text-align: right;\">\n",
       "      <th></th>\n",
       "      <th>Name</th>\n",
       "      <th>Age</th>\n",
       "      <th>Salary</th>\n",
       "      <th>DOB</th>\n",
       "      <th>COMPANY</th>\n",
       "      <th>Designation</th>\n",
       "      <th>voter</th>\n",
       "    </tr>\n",
       "  </thead>\n",
       "  <tbody>\n",
       "    <tr>\n",
       "      <th>0</th>\n",
       "      <td>Alice</td>\n",
       "      <td>25</td>\n",
       "      <td>50000</td>\n",
       "      <td>2001</td>\n",
       "      <td>amazon</td>\n",
       "      <td>manager</td>\n",
       "      <td>True</td>\n",
       "    </tr>\n",
       "    <tr>\n",
       "      <th>1</th>\n",
       "      <td>Bob</td>\n",
       "      <td>30</td>\n",
       "      <td>60000</td>\n",
       "      <td>2002</td>\n",
       "      <td>abc</td>\n",
       "      <td>worker</td>\n",
       "      <td>True</td>\n",
       "    </tr>\n",
       "    <tr>\n",
       "      <th>2</th>\n",
       "      <td>Charlie</td>\n",
       "      <td>35</td>\n",
       "      <td>70000</td>\n",
       "      <td>2003</td>\n",
       "      <td>xyz</td>\n",
       "      <td>seeker</td>\n",
       "      <td>True</td>\n",
       "    </tr>\n",
       "    <tr>\n",
       "      <th>3</th>\n",
       "      <td>d</td>\n",
       "      <td>40</td>\n",
       "      <td>20000</td>\n",
       "      <td>2004</td>\n",
       "      <td>rcat</td>\n",
       "      <td>worker</td>\n",
       "      <td>True</td>\n",
       "    </tr>\n",
       "    <tr>\n",
       "      <th>4</th>\n",
       "      <td>e</td>\n",
       "      <td>16</td>\n",
       "      <td>20000</td>\n",
       "      <td>2005</td>\n",
       "      <td>flipcart</td>\n",
       "      <td>worker</td>\n",
       "      <td>False</td>\n",
       "    </tr>\n",
       "    <tr>\n",
       "      <th>5</th>\n",
       "      <td>f</td>\n",
       "      <td>48</td>\n",
       "      <td>1000</td>\n",
       "      <td>2006</td>\n",
       "      <td>razorpay</td>\n",
       "      <td>worker</td>\n",
       "      <td>True</td>\n",
       "    </tr>\n",
       "    <tr>\n",
       "      <th>6</th>\n",
       "      <td>g</td>\n",
       "      <td>20</td>\n",
       "      <td>1100</td>\n",
       "      <td>2007</td>\n",
       "      <td>phone pe</td>\n",
       "      <td>worker</td>\n",
       "      <td>True</td>\n",
       "    </tr>\n",
       "    <tr>\n",
       "      <th>7</th>\n",
       "      <td>h</td>\n",
       "      <td>12</td>\n",
       "      <td>1000</td>\n",
       "      <td>2008</td>\n",
       "      <td>airtel</td>\n",
       "      <td>worker</td>\n",
       "      <td>False</td>\n",
       "    </tr>\n",
       "  </tbody>\n",
       "</table>\n",
       "</div>"
      ],
      "text/plain": [
       "      Name  Age  Salary   DOB   COMPANY Designation  voter\n",
       "0    Alice   25   50000  2001    amazon     manager   True\n",
       "1      Bob   30   60000  2002       abc      worker   True\n",
       "2  Charlie   35   70000  2003       xyz      seeker   True\n",
       "3        d   40   20000  2004      rcat      worker   True\n",
       "4        e   16   20000  2005  flipcart      worker  False\n",
       "5        f   48    1000  2006  razorpay      worker   True\n",
       "6        g   20    1100  2007  phone pe      worker   True\n",
       "7        h   12    1000  2008    airtel      worker  False"
      ]
     },
     "execution_count": 155,
     "metadata": {},
     "output_type": "execute_result"
    }
   ],
   "source": [
    "df"
   ]
  },
  {
   "cell_type": "code",
   "execution_count": 157,
   "id": "995c9680-8b18-4d82-a0d2-b49470fc98bb",
   "metadata": {},
   "outputs": [
    {
     "data": {
      "text/html": [
       "<div>\n",
       "<style scoped>\n",
       "    .dataframe tbody tr th:only-of-type {\n",
       "        vertical-align: middle;\n",
       "    }\n",
       "\n",
       "    .dataframe tbody tr th {\n",
       "        vertical-align: top;\n",
       "    }\n",
       "\n",
       "    .dataframe thead th {\n",
       "        text-align: right;\n",
       "    }\n",
       "</style>\n",
       "<table border=\"1\" class=\"dataframe\">\n",
       "  <thead>\n",
       "    <tr style=\"text-align: right;\">\n",
       "      <th></th>\n",
       "      <th>Name</th>\n",
       "      <th>Age</th>\n",
       "      <th>Salary</th>\n",
       "      <th>DOB</th>\n",
       "      <th>COMPANY</th>\n",
       "      <th>Designation</th>\n",
       "      <th>voter</th>\n",
       "    </tr>\n",
       "  </thead>\n",
       "  <tbody>\n",
       "    <tr>\n",
       "      <th>0</th>\n",
       "      <td>Alice</td>\n",
       "      <td>25</td>\n",
       "      <td>50000</td>\n",
       "      <td>2001</td>\n",
       "      <td>amazon</td>\n",
       "      <td>manager</td>\n",
       "      <td>True</td>\n",
       "    </tr>\n",
       "    <tr>\n",
       "      <th>1</th>\n",
       "      <td>Bob</td>\n",
       "      <td>30</td>\n",
       "      <td>60000</td>\n",
       "      <td>2002</td>\n",
       "      <td>abc</td>\n",
       "      <td>worker</td>\n",
       "      <td>True</td>\n",
       "    </tr>\n",
       "    <tr>\n",
       "      <th>2</th>\n",
       "      <td>Charlie</td>\n",
       "      <td>35</td>\n",
       "      <td>70000</td>\n",
       "      <td>2003</td>\n",
       "      <td>xyz</td>\n",
       "      <td>seeker</td>\n",
       "      <td>True</td>\n",
       "    </tr>\n",
       "    <tr>\n",
       "      <th>3</th>\n",
       "      <td>d</td>\n",
       "      <td>40</td>\n",
       "      <td>20000</td>\n",
       "      <td>2004</td>\n",
       "      <td>rcat</td>\n",
       "      <td>worker</td>\n",
       "      <td>True</td>\n",
       "    </tr>\n",
       "    <tr>\n",
       "      <th>4</th>\n",
       "      <td>e</td>\n",
       "      <td>16</td>\n",
       "      <td>20000</td>\n",
       "      <td>2005</td>\n",
       "      <td>flipcart</td>\n",
       "      <td>worker</td>\n",
       "      <td>False</td>\n",
       "    </tr>\n",
       "    <tr>\n",
       "      <th>5</th>\n",
       "      <td>f</td>\n",
       "      <td>48</td>\n",
       "      <td>1000</td>\n",
       "      <td>2006</td>\n",
       "      <td>razorpay</td>\n",
       "      <td>worker</td>\n",
       "      <td>True</td>\n",
       "    </tr>\n",
       "    <tr>\n",
       "      <th>6</th>\n",
       "      <td>g</td>\n",
       "      <td>20</td>\n",
       "      <td>1100</td>\n",
       "      <td>2007</td>\n",
       "      <td>phone pe</td>\n",
       "      <td>worker</td>\n",
       "      <td>True</td>\n",
       "    </tr>\n",
       "    <tr>\n",
       "      <th>7</th>\n",
       "      <td>h</td>\n",
       "      <td>12</td>\n",
       "      <td>1000</td>\n",
       "      <td>2008</td>\n",
       "      <td>airtel</td>\n",
       "      <td>worker</td>\n",
       "      <td>False</td>\n",
       "    </tr>\n",
       "  </tbody>\n",
       "</table>\n",
       "</div>"
      ],
      "text/plain": [
       "      Name  Age  Salary   DOB   COMPANY Designation  voter\n",
       "0    Alice   25   50000  2001    amazon     manager   True\n",
       "1      Bob   30   60000  2002       abc      worker   True\n",
       "2  Charlie   35   70000  2003       xyz      seeker   True\n",
       "3        d   40   20000  2004      rcat      worker   True\n",
       "4        e   16   20000  2005  flipcart      worker  False\n",
       "5        f   48    1000  2006  razorpay      worker   True\n",
       "6        g   20    1100  2007  phone pe      worker   True\n",
       "7        h   12    1000  2008    airtel      worker  False"
      ]
     },
     "execution_count": 157,
     "metadata": {},
     "output_type": "execute_result"
    }
   ],
   "source": [
    "df"
   ]
  },
  {
   "cell_type": "code",
   "execution_count": 159,
   "id": "c00d8e7b-0392-44dc-8d04-45714de7baa7",
   "metadata": {},
   "outputs": [],
   "source": [
    "data = {'Name': ['Alice', 'Bob', np.nan],\n",
    "        'Age': [25, np.nan, 35],\n",
    "        'Salary': [50000, 60000, np.nan]}"
   ]
  },
  {
   "cell_type": "code",
   "execution_count": 161,
   "id": "4259891f-a88a-43c3-aae2-0e6f0a1d2ccb",
   "metadata": {},
   "outputs": [],
   "source": [
    "df=pd.DataFrame(data)"
   ]
  },
  {
   "cell_type": "code",
   "execution_count": 163,
   "id": "5b91ac3a-c5dc-4c34-a2ae-e548aea31daf",
   "metadata": {},
   "outputs": [
    {
     "data": {
      "text/html": [
       "<div>\n",
       "<style scoped>\n",
       "    .dataframe tbody tr th:only-of-type {\n",
       "        vertical-align: middle;\n",
       "    }\n",
       "\n",
       "    .dataframe tbody tr th {\n",
       "        vertical-align: top;\n",
       "    }\n",
       "\n",
       "    .dataframe thead th {\n",
       "        text-align: right;\n",
       "    }\n",
       "</style>\n",
       "<table border=\"1\" class=\"dataframe\">\n",
       "  <thead>\n",
       "    <tr style=\"text-align: right;\">\n",
       "      <th></th>\n",
       "      <th>Name</th>\n",
       "      <th>Age</th>\n",
       "      <th>Salary</th>\n",
       "    </tr>\n",
       "  </thead>\n",
       "  <tbody>\n",
       "    <tr>\n",
       "      <th>0</th>\n",
       "      <td>Alice</td>\n",
       "      <td>25.0</td>\n",
       "      <td>50000.0</td>\n",
       "    </tr>\n",
       "    <tr>\n",
       "      <th>1</th>\n",
       "      <td>Bob</td>\n",
       "      <td>NaN</td>\n",
       "      <td>60000.0</td>\n",
       "    </tr>\n",
       "    <tr>\n",
       "      <th>2</th>\n",
       "      <td>NaN</td>\n",
       "      <td>35.0</td>\n",
       "      <td>NaN</td>\n",
       "    </tr>\n",
       "  </tbody>\n",
       "</table>\n",
       "</div>"
      ],
      "text/plain": [
       "    Name   Age   Salary\n",
       "0  Alice  25.0  50000.0\n",
       "1    Bob   NaN  60000.0\n",
       "2    NaN  35.0      NaN"
      ]
     },
     "execution_count": 163,
     "metadata": {},
     "output_type": "execute_result"
    }
   ],
   "source": [
    "df"
   ]
  },
  {
   "cell_type": "code",
   "execution_count": 165,
   "id": "68c50127-e0a3-4573-8004-b641d7185ecb",
   "metadata": {},
   "outputs": [],
   "source": [
    "df.fillna(0,inplace=True)"
   ]
  },
  {
   "cell_type": "code",
   "execution_count": 167,
   "id": "c2dc76f0-9e44-4dcc-806d-85e36928a1bb",
   "metadata": {},
   "outputs": [
    {
     "data": {
      "text/html": [
       "<div>\n",
       "<style scoped>\n",
       "    .dataframe tbody tr th:only-of-type {\n",
       "        vertical-align: middle;\n",
       "    }\n",
       "\n",
       "    .dataframe tbody tr th {\n",
       "        vertical-align: top;\n",
       "    }\n",
       "\n",
       "    .dataframe thead th {\n",
       "        text-align: right;\n",
       "    }\n",
       "</style>\n",
       "<table border=\"1\" class=\"dataframe\">\n",
       "  <thead>\n",
       "    <tr style=\"text-align: right;\">\n",
       "      <th></th>\n",
       "      <th>Name</th>\n",
       "      <th>Age</th>\n",
       "      <th>Salary</th>\n",
       "    </tr>\n",
       "  </thead>\n",
       "  <tbody>\n",
       "    <tr>\n",
       "      <th>0</th>\n",
       "      <td>Alice</td>\n",
       "      <td>25.0</td>\n",
       "      <td>50000.0</td>\n",
       "    </tr>\n",
       "    <tr>\n",
       "      <th>1</th>\n",
       "      <td>Bob</td>\n",
       "      <td>0.0</td>\n",
       "      <td>60000.0</td>\n",
       "    </tr>\n",
       "    <tr>\n",
       "      <th>2</th>\n",
       "      <td>0</td>\n",
       "      <td>35.0</td>\n",
       "      <td>0.0</td>\n",
       "    </tr>\n",
       "  </tbody>\n",
       "</table>\n",
       "</div>"
      ],
      "text/plain": [
       "    Name   Age   Salary\n",
       "0  Alice  25.0  50000.0\n",
       "1    Bob   0.0  60000.0\n",
       "2      0  35.0      0.0"
      ]
     },
     "execution_count": 167,
     "metadata": {},
     "output_type": "execute_result"
    }
   ],
   "source": [
    "df"
   ]
  },
  {
   "cell_type": "markdown",
   "id": "77738ef5-25f6-4ecf-9285-338ee442f11d",
   "metadata": {},
   "source": [
    "# data cleaning and transformation"
   ]
  },
  {
   "cell_type": "code",
   "execution_count": 174,
   "id": "050edcab-3901-42a7-993d-344d216d8ee2",
   "metadata": {},
   "outputs": [
    {
     "data": {
      "text/html": [
       "<div>\n",
       "<style scoped>\n",
       "    .dataframe tbody tr th:only-of-type {\n",
       "        vertical-align: middle;\n",
       "    }\n",
       "\n",
       "    .dataframe tbody tr th {\n",
       "        vertical-align: top;\n",
       "    }\n",
       "\n",
       "    .dataframe thead th {\n",
       "        text-align: right;\n",
       "    }\n",
       "</style>\n",
       "<table border=\"1\" class=\"dataframe\">\n",
       "  <thead>\n",
       "    <tr style=\"text-align: right;\">\n",
       "      <th></th>\n",
       "      <th>Name</th>\n",
       "      <th>Age</th>\n",
       "      <th>Salary</th>\n",
       "    </tr>\n",
       "  </thead>\n",
       "  <tbody>\n",
       "    <tr>\n",
       "      <th>0</th>\n",
       "      <td>Alice</td>\n",
       "      <td>25.0</td>\n",
       "      <td>50000.0</td>\n",
       "    </tr>\n",
       "    <tr>\n",
       "      <th>1</th>\n",
       "      <td>Bob</td>\n",
       "      <td>0.0</td>\n",
       "      <td>60000.0</td>\n",
       "    </tr>\n",
       "  </tbody>\n",
       "</table>\n",
       "</div>"
      ],
      "text/plain": [
       "    Name   Age   Salary\n",
       "0  Alice  25.0  50000.0\n",
       "1    Bob   0.0  60000.0"
      ]
     },
     "execution_count": 174,
     "metadata": {},
     "output_type": "execute_result"
    }
   ],
   "source": [
    "df.head(2) #by default it give five value from start point"
   ]
  },
  {
   "cell_type": "code",
   "execution_count": 176,
   "id": "5e33801c-9e2f-43f2-a614-08fe0daf2a30",
   "metadata": {},
   "outputs": [
    {
     "data": {
      "text/html": [
       "<div>\n",
       "<style scoped>\n",
       "    .dataframe tbody tr th:only-of-type {\n",
       "        vertical-align: middle;\n",
       "    }\n",
       "\n",
       "    .dataframe tbody tr th {\n",
       "        vertical-align: top;\n",
       "    }\n",
       "\n",
       "    .dataframe thead th {\n",
       "        text-align: right;\n",
       "    }\n",
       "</style>\n",
       "<table border=\"1\" class=\"dataframe\">\n",
       "  <thead>\n",
       "    <tr style=\"text-align: right;\">\n",
       "      <th></th>\n",
       "      <th>Name</th>\n",
       "      <th>Age</th>\n",
       "      <th>Salary</th>\n",
       "    </tr>\n",
       "  </thead>\n",
       "  <tbody>\n",
       "    <tr>\n",
       "      <th>0</th>\n",
       "      <td>Alice</td>\n",
       "      <td>25.0</td>\n",
       "      <td>50000.0</td>\n",
       "    </tr>\n",
       "    <tr>\n",
       "      <th>1</th>\n",
       "      <td>Bob</td>\n",
       "      <td>0.0</td>\n",
       "      <td>60000.0</td>\n",
       "    </tr>\n",
       "    <tr>\n",
       "      <th>2</th>\n",
       "      <td>0</td>\n",
       "      <td>35.0</td>\n",
       "      <td>0.0</td>\n",
       "    </tr>\n",
       "  </tbody>\n",
       "</table>\n",
       "</div>"
      ],
      "text/plain": [
       "    Name   Age   Salary\n",
       "0  Alice  25.0  50000.0\n",
       "1    Bob   0.0  60000.0\n",
       "2      0  35.0      0.0"
      ]
     },
     "execution_count": 176,
     "metadata": {},
     "output_type": "execute_result"
    }
   ],
   "source": [
    "df.tail() #by default take 5 value from last "
   ]
  },
  {
   "cell_type": "code",
   "execution_count": 178,
   "id": "50e286ea-6a9f-43c7-b445-4e95d38b50b6",
   "metadata": {},
   "outputs": [],
   "source": [
    "df.drop_duplicates(inplace=True)"
   ]
  },
  {
   "cell_type": "code",
   "execution_count": 180,
   "id": "e27e3b61-74a3-4cfa-805c-8cb2926623b1",
   "metadata": {},
   "outputs": [
    {
     "data": {
      "text/html": [
       "<div>\n",
       "<style scoped>\n",
       "    .dataframe tbody tr th:only-of-type {\n",
       "        vertical-align: middle;\n",
       "    }\n",
       "\n",
       "    .dataframe tbody tr th {\n",
       "        vertical-align: top;\n",
       "    }\n",
       "\n",
       "    .dataframe thead th {\n",
       "        text-align: right;\n",
       "    }\n",
       "</style>\n",
       "<table border=\"1\" class=\"dataframe\">\n",
       "  <thead>\n",
       "    <tr style=\"text-align: right;\">\n",
       "      <th></th>\n",
       "      <th>Name</th>\n",
       "      <th>Age</th>\n",
       "      <th>Salary</th>\n",
       "    </tr>\n",
       "  </thead>\n",
       "  <tbody>\n",
       "    <tr>\n",
       "      <th>0</th>\n",
       "      <td>Alice</td>\n",
       "      <td>25.0</td>\n",
       "      <td>50000.0</td>\n",
       "    </tr>\n",
       "    <tr>\n",
       "      <th>1</th>\n",
       "      <td>Bob</td>\n",
       "      <td>0.0</td>\n",
       "      <td>60000.0</td>\n",
       "    </tr>\n",
       "    <tr>\n",
       "      <th>2</th>\n",
       "      <td>0</td>\n",
       "      <td>35.0</td>\n",
       "      <td>0.0</td>\n",
       "    </tr>\n",
       "  </tbody>\n",
       "</table>\n",
       "</div>"
      ],
      "text/plain": [
       "    Name   Age   Salary\n",
       "0  Alice  25.0  50000.0\n",
       "1    Bob   0.0  60000.0\n",
       "2      0  35.0      0.0"
      ]
     },
     "execution_count": 180,
     "metadata": {},
     "output_type": "execute_result"
    }
   ],
   "source": [
    "df"
   ]
  },
  {
   "cell_type": "code",
   "execution_count": 184,
   "id": "66e4b91d-958f-48fe-b404-8f68cf8fe7cd",
   "metadata": {},
   "outputs": [],
   "source": [
    "df.rename(columns={'name':'Employee_Name'},inplace=True)"
   ]
  },
  {
   "cell_type": "code",
   "execution_count": 188,
   "id": "1d2b7863-9721-4088-9f06-35002e0545cb",
   "metadata": {},
   "outputs": [],
   "source": [
    "data = {'Department': ['HR', 'IT', 'HR', 'IT'],\n",
    "        'Salary': [50000, 70000, 60000, 80000]}"
   ]
  },
  {
   "cell_type": "code",
   "execution_count": 190,
   "id": "50cd3daf-ea81-48c0-98bd-cb394e56018a",
   "metadata": {},
   "outputs": [
    {
     "name": "stdout",
     "output_type": "stream",
     "text": [
      "             Salary\n",
      "Department         \n",
      "HR          55000.0\n",
      "IT          75000.0\n"
     ]
    }
   ],
   "source": [
    "df=pd.DataFrame(data)\n",
    "print(df.groupby('Department').mean())"
   ]
  },
  {
   "cell_type": "code",
   "execution_count": 198,
   "id": "97a07b30-c3af-4012-87fa-656e5cf4e1b1",
   "metadata": {},
   "outputs": [
    {
     "name": "stdout",
     "output_type": "stream",
     "text": [
      "   ID   Name  Salary\n",
      "0   1  Alice   50000\n"
     ]
    }
   ],
   "source": [
    "df1 = pd.DataFrame({'ID': [1, 2], 'Name': ['Alice', 'Bob']})\n",
    "df2 = pd.DataFrame({'ID': [1, 3], 'Salary': [50000, 60000]})\n",
    "\n",
    "merged_df = pd.merge(df1, df2, on='ID')\n",
    "print(merged_df)"
   ]
  },
  {
   "cell_type": "code",
   "execution_count": 282,
   "id": "e3de667b-fbaa-46d1-95e9-a67c9e113798",
   "metadata": {},
   "outputs": [],
   "source": [
    "df=pd.read_csv(r\"C:\\Users\\piyus\\Downloads\\countriesoftheworld\\countries of the world.csv\")"
   ]
  },
  {
   "cell_type": "code",
   "execution_count": 284,
   "id": "423bb771-ffa1-4f6a-87c5-380adf9fc02e",
   "metadata": {},
   "outputs": [
    {
     "data": {
      "text/html": [
       "<div>\n",
       "<style scoped>\n",
       "    .dataframe tbody tr th:only-of-type {\n",
       "        vertical-align: middle;\n",
       "    }\n",
       "\n",
       "    .dataframe tbody tr th {\n",
       "        vertical-align: top;\n",
       "    }\n",
       "\n",
       "    .dataframe thead th {\n",
       "        text-align: right;\n",
       "    }\n",
       "</style>\n",
       "<table border=\"1\" class=\"dataframe\">\n",
       "  <thead>\n",
       "    <tr style=\"text-align: right;\">\n",
       "      <th></th>\n",
       "      <th>Country</th>\n",
       "      <th>Region</th>\n",
       "      <th>Population</th>\n",
       "      <th>Area (sq. mi.)</th>\n",
       "      <th>Pop. Density (per sq. mi.)</th>\n",
       "      <th>Coastline (coast/area ratio)</th>\n",
       "      <th>Net migration</th>\n",
       "      <th>Infant mortality (per 1000 births)</th>\n",
       "      <th>GDP ($ per capita)</th>\n",
       "      <th>Literacy (%)</th>\n",
       "      <th>Phones (per 1000)</th>\n",
       "      <th>Arable (%)</th>\n",
       "      <th>Crops (%)</th>\n",
       "      <th>Other (%)</th>\n",
       "      <th>Climate</th>\n",
       "      <th>Birthrate</th>\n",
       "      <th>Deathrate</th>\n",
       "      <th>Agriculture</th>\n",
       "      <th>Industry</th>\n",
       "      <th>Service</th>\n",
       "    </tr>\n",
       "  </thead>\n",
       "  <tbody>\n",
       "    <tr>\n",
       "      <th>0</th>\n",
       "      <td>Afghanistan</td>\n",
       "      <td>ASIA (EX. NEAR EAST)</td>\n",
       "      <td>31056997</td>\n",
       "      <td>647500</td>\n",
       "      <td>48,0</td>\n",
       "      <td>0,00</td>\n",
       "      <td>23,06</td>\n",
       "      <td>163,07</td>\n",
       "      <td>700.0</td>\n",
       "      <td>36,0</td>\n",
       "      <td>3,2</td>\n",
       "      <td>12,13</td>\n",
       "      <td>0,22</td>\n",
       "      <td>87,65</td>\n",
       "      <td>1</td>\n",
       "      <td>46,6</td>\n",
       "      <td>20,34</td>\n",
       "      <td>0,38</td>\n",
       "      <td>0,24</td>\n",
       "      <td>0,38</td>\n",
       "    </tr>\n",
       "    <tr>\n",
       "      <th>1</th>\n",
       "      <td>Albania</td>\n",
       "      <td>EASTERN EUROPE</td>\n",
       "      <td>3581655</td>\n",
       "      <td>28748</td>\n",
       "      <td>124,6</td>\n",
       "      <td>1,26</td>\n",
       "      <td>-4,93</td>\n",
       "      <td>21,52</td>\n",
       "      <td>4500.0</td>\n",
       "      <td>86,5</td>\n",
       "      <td>71,2</td>\n",
       "      <td>21,09</td>\n",
       "      <td>4,42</td>\n",
       "      <td>74,49</td>\n",
       "      <td>3</td>\n",
       "      <td>15,11</td>\n",
       "      <td>5,22</td>\n",
       "      <td>0,232</td>\n",
       "      <td>0,188</td>\n",
       "      <td>0,579</td>\n",
       "    </tr>\n",
       "    <tr>\n",
       "      <th>2</th>\n",
       "      <td>Algeria</td>\n",
       "      <td>NORTHERN AFRICA</td>\n",
       "      <td>32930091</td>\n",
       "      <td>2381740</td>\n",
       "      <td>13,8</td>\n",
       "      <td>0,04</td>\n",
       "      <td>-0,39</td>\n",
       "      <td>31</td>\n",
       "      <td>6000.0</td>\n",
       "      <td>70,0</td>\n",
       "      <td>78,1</td>\n",
       "      <td>3,22</td>\n",
       "      <td>0,25</td>\n",
       "      <td>96,53</td>\n",
       "      <td>1</td>\n",
       "      <td>17,14</td>\n",
       "      <td>4,61</td>\n",
       "      <td>0,101</td>\n",
       "      <td>0,6</td>\n",
       "      <td>0,298</td>\n",
       "    </tr>\n",
       "    <tr>\n",
       "      <th>3</th>\n",
       "      <td>American Samoa</td>\n",
       "      <td>OCEANIA</td>\n",
       "      <td>57794</td>\n",
       "      <td>199</td>\n",
       "      <td>290,4</td>\n",
       "      <td>58,29</td>\n",
       "      <td>-20,71</td>\n",
       "      <td>9,27</td>\n",
       "      <td>8000.0</td>\n",
       "      <td>97,0</td>\n",
       "      <td>259,5</td>\n",
       "      <td>10</td>\n",
       "      <td>15</td>\n",
       "      <td>75</td>\n",
       "      <td>2</td>\n",
       "      <td>22,46</td>\n",
       "      <td>3,27</td>\n",
       "      <td>NaN</td>\n",
       "      <td>NaN</td>\n",
       "      <td>NaN</td>\n",
       "    </tr>\n",
       "    <tr>\n",
       "      <th>4</th>\n",
       "      <td>Andorra</td>\n",
       "      <td>WESTERN EUROPE</td>\n",
       "      <td>71201</td>\n",
       "      <td>468</td>\n",
       "      <td>152,1</td>\n",
       "      <td>0,00</td>\n",
       "      <td>6,6</td>\n",
       "      <td>4,05</td>\n",
       "      <td>19000.0</td>\n",
       "      <td>100,0</td>\n",
       "      <td>497,2</td>\n",
       "      <td>2,22</td>\n",
       "      <td>0</td>\n",
       "      <td>97,78</td>\n",
       "      <td>3</td>\n",
       "      <td>8,71</td>\n",
       "      <td>6,25</td>\n",
       "      <td>NaN</td>\n",
       "      <td>NaN</td>\n",
       "      <td>NaN</td>\n",
       "    </tr>\n",
       "    <tr>\n",
       "      <th>...</th>\n",
       "      <td>...</td>\n",
       "      <td>...</td>\n",
       "      <td>...</td>\n",
       "      <td>...</td>\n",
       "      <td>...</td>\n",
       "      <td>...</td>\n",
       "      <td>...</td>\n",
       "      <td>...</td>\n",
       "      <td>...</td>\n",
       "      <td>...</td>\n",
       "      <td>...</td>\n",
       "      <td>...</td>\n",
       "      <td>...</td>\n",
       "      <td>...</td>\n",
       "      <td>...</td>\n",
       "      <td>...</td>\n",
       "      <td>...</td>\n",
       "      <td>...</td>\n",
       "      <td>...</td>\n",
       "      <td>...</td>\n",
       "    </tr>\n",
       "    <tr>\n",
       "      <th>222</th>\n",
       "      <td>West Bank</td>\n",
       "      <td>NEAR EAST</td>\n",
       "      <td>2460492</td>\n",
       "      <td>5860</td>\n",
       "      <td>419,9</td>\n",
       "      <td>0,00</td>\n",
       "      <td>2,98</td>\n",
       "      <td>19,62</td>\n",
       "      <td>800.0</td>\n",
       "      <td>NaN</td>\n",
       "      <td>145,2</td>\n",
       "      <td>16,9</td>\n",
       "      <td>18,97</td>\n",
       "      <td>64,13</td>\n",
       "      <td>3</td>\n",
       "      <td>31,67</td>\n",
       "      <td>3,92</td>\n",
       "      <td>0,09</td>\n",
       "      <td>0,28</td>\n",
       "      <td>0,63</td>\n",
       "    </tr>\n",
       "    <tr>\n",
       "      <th>223</th>\n",
       "      <td>Western Sahara</td>\n",
       "      <td>NORTHERN AFRICA</td>\n",
       "      <td>273008</td>\n",
       "      <td>266000</td>\n",
       "      <td>1,0</td>\n",
       "      <td>0,42</td>\n",
       "      <td>NaN</td>\n",
       "      <td>NaN</td>\n",
       "      <td>NaN</td>\n",
       "      <td>NaN</td>\n",
       "      <td>NaN</td>\n",
       "      <td>0,02</td>\n",
       "      <td>0</td>\n",
       "      <td>99,98</td>\n",
       "      <td>1</td>\n",
       "      <td>NaN</td>\n",
       "      <td>NaN</td>\n",
       "      <td>NaN</td>\n",
       "      <td>NaN</td>\n",
       "      <td>0,4</td>\n",
       "    </tr>\n",
       "    <tr>\n",
       "      <th>224</th>\n",
       "      <td>Yemen</td>\n",
       "      <td>NEAR EAST</td>\n",
       "      <td>21456188</td>\n",
       "      <td>527970</td>\n",
       "      <td>40,6</td>\n",
       "      <td>0,36</td>\n",
       "      <td>0</td>\n",
       "      <td>61,5</td>\n",
       "      <td>800.0</td>\n",
       "      <td>50,2</td>\n",
       "      <td>37,2</td>\n",
       "      <td>2,78</td>\n",
       "      <td>0,24</td>\n",
       "      <td>96,98</td>\n",
       "      <td>1</td>\n",
       "      <td>42,89</td>\n",
       "      <td>8,3</td>\n",
       "      <td>0,135</td>\n",
       "      <td>0,472</td>\n",
       "      <td>0,393</td>\n",
       "    </tr>\n",
       "    <tr>\n",
       "      <th>225</th>\n",
       "      <td>Zambia</td>\n",
       "      <td>SUB-SAHARAN AFRICA</td>\n",
       "      <td>11502010</td>\n",
       "      <td>752614</td>\n",
       "      <td>15,3</td>\n",
       "      <td>0,00</td>\n",
       "      <td>0</td>\n",
       "      <td>88,29</td>\n",
       "      <td>800.0</td>\n",
       "      <td>80,6</td>\n",
       "      <td>8,2</td>\n",
       "      <td>7,08</td>\n",
       "      <td>0,03</td>\n",
       "      <td>92,9</td>\n",
       "      <td>2</td>\n",
       "      <td>41</td>\n",
       "      <td>19,93</td>\n",
       "      <td>0,22</td>\n",
       "      <td>0,29</td>\n",
       "      <td>0,489</td>\n",
       "    </tr>\n",
       "    <tr>\n",
       "      <th>226</th>\n",
       "      <td>Zimbabwe</td>\n",
       "      <td>SUB-SAHARAN AFRICA</td>\n",
       "      <td>12236805</td>\n",
       "      <td>390580</td>\n",
       "      <td>31,3</td>\n",
       "      <td>0,00</td>\n",
       "      <td>0</td>\n",
       "      <td>67,69</td>\n",
       "      <td>1900.0</td>\n",
       "      <td>90,7</td>\n",
       "      <td>26,8</td>\n",
       "      <td>8,32</td>\n",
       "      <td>0,34</td>\n",
       "      <td>91,34</td>\n",
       "      <td>2</td>\n",
       "      <td>28,01</td>\n",
       "      <td>21,84</td>\n",
       "      <td>0,179</td>\n",
       "      <td>0,243</td>\n",
       "      <td>0,579</td>\n",
       "    </tr>\n",
       "  </tbody>\n",
       "</table>\n",
       "<p>227 rows × 20 columns</p>\n",
       "</div>"
      ],
      "text/plain": [
       "             Country                               Region  Population  \\\n",
       "0       Afghanistan         ASIA (EX. NEAR EAST)             31056997   \n",
       "1           Albania   EASTERN EUROPE                          3581655   \n",
       "2           Algeria   NORTHERN AFRICA                        32930091   \n",
       "3    American Samoa   OCEANIA                                   57794   \n",
       "4           Andorra   WESTERN EUROPE                            71201   \n",
       "..               ...                                  ...         ...   \n",
       "222       West Bank   NEAR EAST                               2460492   \n",
       "223  Western Sahara   NORTHERN AFRICA                          273008   \n",
       "224           Yemen   NEAR EAST                              21456188   \n",
       "225          Zambia   SUB-SAHARAN AFRICA                     11502010   \n",
       "226        Zimbabwe   SUB-SAHARAN AFRICA                     12236805   \n",
       "\n",
       "     Area (sq. mi.) Pop. Density (per sq. mi.) Coastline (coast/area ratio)  \\\n",
       "0            647500                       48,0                         0,00   \n",
       "1             28748                      124,6                         1,26   \n",
       "2           2381740                       13,8                         0,04   \n",
       "3               199                      290,4                        58,29   \n",
       "4               468                      152,1                         0,00   \n",
       "..              ...                        ...                          ...   \n",
       "222            5860                      419,9                         0,00   \n",
       "223          266000                        1,0                         0,42   \n",
       "224          527970                       40,6                         0,36   \n",
       "225          752614                       15,3                         0,00   \n",
       "226          390580                       31,3                         0,00   \n",
       "\n",
       "    Net migration Infant mortality (per 1000 births)  GDP ($ per capita)  \\\n",
       "0           23,06                             163,07               700.0   \n",
       "1           -4,93                              21,52              4500.0   \n",
       "2           -0,39                                 31              6000.0   \n",
       "3          -20,71                               9,27              8000.0   \n",
       "4             6,6                               4,05             19000.0   \n",
       "..            ...                                ...                 ...   \n",
       "222          2,98                              19,62               800.0   \n",
       "223           NaN                                NaN                 NaN   \n",
       "224             0                               61,5               800.0   \n",
       "225             0                              88,29               800.0   \n",
       "226             0                              67,69              1900.0   \n",
       "\n",
       "    Literacy (%) Phones (per 1000) Arable (%) Crops (%) Other (%) Climate  \\\n",
       "0           36,0               3,2      12,13      0,22     87,65       1   \n",
       "1           86,5              71,2      21,09      4,42     74,49       3   \n",
       "2           70,0              78,1       3,22      0,25     96,53       1   \n",
       "3           97,0             259,5         10        15        75       2   \n",
       "4          100,0             497,2       2,22         0     97,78       3   \n",
       "..           ...               ...        ...       ...       ...     ...   \n",
       "222          NaN             145,2       16,9     18,97     64,13       3   \n",
       "223          NaN               NaN       0,02         0     99,98       1   \n",
       "224         50,2              37,2       2,78      0,24     96,98       1   \n",
       "225         80,6               8,2       7,08      0,03      92,9       2   \n",
       "226         90,7              26,8       8,32      0,34     91,34       2   \n",
       "\n",
       "    Birthrate Deathrate Agriculture Industry Service  \n",
       "0        46,6     20,34        0,38     0,24    0,38  \n",
       "1       15,11      5,22       0,232    0,188   0,579  \n",
       "2       17,14      4,61       0,101      0,6   0,298  \n",
       "3       22,46      3,27         NaN      NaN     NaN  \n",
       "4        8,71      6,25         NaN      NaN     NaN  \n",
       "..        ...       ...         ...      ...     ...  \n",
       "222     31,67      3,92        0,09     0,28    0,63  \n",
       "223       NaN       NaN         NaN      NaN     0,4  \n",
       "224     42,89       8,3       0,135    0,472   0,393  \n",
       "225        41     19,93        0,22     0,29   0,489  \n",
       "226     28,01     21,84       0,179    0,243   0,579  \n",
       "\n",
       "[227 rows x 20 columns]"
      ]
     },
     "execution_count": 284,
     "metadata": {},
     "output_type": "execute_result"
    }
   ],
   "source": [
    "df"
   ]
  },
  {
   "cell_type": "code",
   "execution_count": 286,
   "id": "fd385fbc-e076-43b7-8e4b-80bdaf125fb8",
   "metadata": {},
   "outputs": [
    {
     "name": "stdout",
     "output_type": "stream",
     "text": [
      "<class 'pandas.core.frame.DataFrame'>\n",
      "RangeIndex: 227 entries, 0 to 226\n",
      "Data columns (total 20 columns):\n",
      " #   Column                              Non-Null Count  Dtype  \n",
      "---  ------                              --------------  -----  \n",
      " 0   Country                             227 non-null    object \n",
      " 1   Region                              227 non-null    object \n",
      " 2   Population                          227 non-null    int64  \n",
      " 3   Area (sq. mi.)                      227 non-null    int64  \n",
      " 4   Pop. Density (per sq. mi.)          227 non-null    object \n",
      " 5   Coastline (coast/area ratio)        227 non-null    object \n",
      " 6   Net migration                       224 non-null    object \n",
      " 7   Infant mortality (per 1000 births)  224 non-null    object \n",
      " 8   GDP ($ per capita)                  226 non-null    float64\n",
      " 9   Literacy (%)                        209 non-null    object \n",
      " 10  Phones (per 1000)                   223 non-null    object \n",
      " 11  Arable (%)                          225 non-null    object \n",
      " 12  Crops (%)                           225 non-null    object \n",
      " 13  Other (%)                           225 non-null    object \n",
      " 14  Climate                             205 non-null    object \n",
      " 15  Birthrate                           224 non-null    object \n",
      " 16  Deathrate                           223 non-null    object \n",
      " 17  Agriculture                         212 non-null    object \n",
      " 18  Industry                            211 non-null    object \n",
      " 19  Service                             212 non-null    object \n",
      "dtypes: float64(1), int64(2), object(17)\n",
      "memory usage: 35.6+ KB\n"
     ]
    }
   ],
   "source": [
    "df.info()"
   ]
  },
  {
   "cell_type": "code",
   "execution_count": 288,
   "id": "36be2ca0-f2f9-4dce-ba05-f43c3fd8da68",
   "metadata": {},
   "outputs": [
    {
     "data": {
      "text/plain": [
       "4540"
      ]
     },
     "execution_count": 288,
     "metadata": {},
     "output_type": "execute_result"
    }
   ],
   "source": [
    "df.size"
   ]
  },
  {
   "cell_type": "code",
   "execution_count": 290,
   "id": "cfe7b64a-413e-41b7-a418-36ed3caff2a8",
   "metadata": {},
   "outputs": [
    {
     "data": {
      "text/html": [
       "<div>\n",
       "<style scoped>\n",
       "    .dataframe tbody tr th:only-of-type {\n",
       "        vertical-align: middle;\n",
       "    }\n",
       "\n",
       "    .dataframe tbody tr th {\n",
       "        vertical-align: top;\n",
       "    }\n",
       "\n",
       "    .dataframe thead th {\n",
       "        text-align: right;\n",
       "    }\n",
       "</style>\n",
       "<table border=\"1\" class=\"dataframe\">\n",
       "  <thead>\n",
       "    <tr style=\"text-align: right;\">\n",
       "      <th></th>\n",
       "      <th>Country</th>\n",
       "      <th>Region</th>\n",
       "      <th>Population</th>\n",
       "      <th>Area (sq. mi.)</th>\n",
       "      <th>Pop. Density (per sq. mi.)</th>\n",
       "      <th>Coastline (coast/area ratio)</th>\n",
       "      <th>Net migration</th>\n",
       "      <th>Infant mortality (per 1000 births)</th>\n",
       "      <th>GDP ($ per capita)</th>\n",
       "      <th>Literacy (%)</th>\n",
       "      <th>Phones (per 1000)</th>\n",
       "      <th>Arable (%)</th>\n",
       "      <th>Crops (%)</th>\n",
       "      <th>Other (%)</th>\n",
       "      <th>Climate</th>\n",
       "      <th>Birthrate</th>\n",
       "      <th>Deathrate</th>\n",
       "      <th>Agriculture</th>\n",
       "      <th>Industry</th>\n",
       "      <th>Service</th>\n",
       "    </tr>\n",
       "  </thead>\n",
       "  <tbody>\n",
       "    <tr>\n",
       "      <th>0</th>\n",
       "      <td>Afghanistan</td>\n",
       "      <td>ASIA (EX. NEAR EAST)</td>\n",
       "      <td>31056997</td>\n",
       "      <td>647500</td>\n",
       "      <td>48,0</td>\n",
       "      <td>0,00</td>\n",
       "      <td>23,06</td>\n",
       "      <td>163,07</td>\n",
       "      <td>700.0</td>\n",
       "      <td>36,0</td>\n",
       "      <td>3,2</td>\n",
       "      <td>12,13</td>\n",
       "      <td>0,22</td>\n",
       "      <td>87,65</td>\n",
       "      <td>1</td>\n",
       "      <td>46,6</td>\n",
       "      <td>20,34</td>\n",
       "      <td>0,38</td>\n",
       "      <td>0,24</td>\n",
       "      <td>0,38</td>\n",
       "    </tr>\n",
       "    <tr>\n",
       "      <th>1</th>\n",
       "      <td>Albania</td>\n",
       "      <td>EASTERN EUROPE</td>\n",
       "      <td>3581655</td>\n",
       "      <td>28748</td>\n",
       "      <td>124,6</td>\n",
       "      <td>1,26</td>\n",
       "      <td>-4,93</td>\n",
       "      <td>21,52</td>\n",
       "      <td>4500.0</td>\n",
       "      <td>86,5</td>\n",
       "      <td>71,2</td>\n",
       "      <td>21,09</td>\n",
       "      <td>4,42</td>\n",
       "      <td>74,49</td>\n",
       "      <td>3</td>\n",
       "      <td>15,11</td>\n",
       "      <td>5,22</td>\n",
       "      <td>0,232</td>\n",
       "      <td>0,188</td>\n",
       "      <td>0,579</td>\n",
       "    </tr>\n",
       "    <tr>\n",
       "      <th>2</th>\n",
       "      <td>Algeria</td>\n",
       "      <td>NORTHERN AFRICA</td>\n",
       "      <td>32930091</td>\n",
       "      <td>2381740</td>\n",
       "      <td>13,8</td>\n",
       "      <td>0,04</td>\n",
       "      <td>-0,39</td>\n",
       "      <td>31</td>\n",
       "      <td>6000.0</td>\n",
       "      <td>70,0</td>\n",
       "      <td>78,1</td>\n",
       "      <td>3,22</td>\n",
       "      <td>0,25</td>\n",
       "      <td>96,53</td>\n",
       "      <td>1</td>\n",
       "      <td>17,14</td>\n",
       "      <td>4,61</td>\n",
       "      <td>0,101</td>\n",
       "      <td>0,6</td>\n",
       "      <td>0,298</td>\n",
       "    </tr>\n",
       "    <tr>\n",
       "      <th>3</th>\n",
       "      <td>American Samoa</td>\n",
       "      <td>OCEANIA</td>\n",
       "      <td>57794</td>\n",
       "      <td>199</td>\n",
       "      <td>290,4</td>\n",
       "      <td>58,29</td>\n",
       "      <td>-20,71</td>\n",
       "      <td>9,27</td>\n",
       "      <td>8000.0</td>\n",
       "      <td>97,0</td>\n",
       "      <td>259,5</td>\n",
       "      <td>10</td>\n",
       "      <td>15</td>\n",
       "      <td>75</td>\n",
       "      <td>2</td>\n",
       "      <td>22,46</td>\n",
       "      <td>3,27</td>\n",
       "      <td>NaN</td>\n",
       "      <td>NaN</td>\n",
       "      <td>NaN</td>\n",
       "    </tr>\n",
       "    <tr>\n",
       "      <th>4</th>\n",
       "      <td>Andorra</td>\n",
       "      <td>WESTERN EUROPE</td>\n",
       "      <td>71201</td>\n",
       "      <td>468</td>\n",
       "      <td>152,1</td>\n",
       "      <td>0,00</td>\n",
       "      <td>6,6</td>\n",
       "      <td>4,05</td>\n",
       "      <td>19000.0</td>\n",
       "      <td>100,0</td>\n",
       "      <td>497,2</td>\n",
       "      <td>2,22</td>\n",
       "      <td>0</td>\n",
       "      <td>97,78</td>\n",
       "      <td>3</td>\n",
       "      <td>8,71</td>\n",
       "      <td>6,25</td>\n",
       "      <td>NaN</td>\n",
       "      <td>NaN</td>\n",
       "      <td>NaN</td>\n",
       "    </tr>\n",
       "    <tr>\n",
       "      <th>5</th>\n",
       "      <td>Angola</td>\n",
       "      <td>SUB-SAHARAN AFRICA</td>\n",
       "      <td>12127071</td>\n",
       "      <td>1246700</td>\n",
       "      <td>9,7</td>\n",
       "      <td>0,13</td>\n",
       "      <td>0</td>\n",
       "      <td>191,19</td>\n",
       "      <td>1900.0</td>\n",
       "      <td>42,0</td>\n",
       "      <td>7,8</td>\n",
       "      <td>2,41</td>\n",
       "      <td>0,24</td>\n",
       "      <td>97,35</td>\n",
       "      <td>NaN</td>\n",
       "      <td>45,11</td>\n",
       "      <td>24,2</td>\n",
       "      <td>0,096</td>\n",
       "      <td>0,658</td>\n",
       "      <td>0,246</td>\n",
       "    </tr>\n",
       "    <tr>\n",
       "      <th>6</th>\n",
       "      <td>Anguilla</td>\n",
       "      <td>LATIN AMER. &amp; CARIB</td>\n",
       "      <td>13477</td>\n",
       "      <td>102</td>\n",
       "      <td>132,1</td>\n",
       "      <td>59,80</td>\n",
       "      <td>10,76</td>\n",
       "      <td>21,03</td>\n",
       "      <td>8600.0</td>\n",
       "      <td>95,0</td>\n",
       "      <td>460,0</td>\n",
       "      <td>0</td>\n",
       "      <td>0</td>\n",
       "      <td>100</td>\n",
       "      <td>2</td>\n",
       "      <td>14,17</td>\n",
       "      <td>5,34</td>\n",
       "      <td>0,04</td>\n",
       "      <td>0,18</td>\n",
       "      <td>0,78</td>\n",
       "    </tr>\n",
       "  </tbody>\n",
       "</table>\n",
       "</div>"
      ],
      "text/plain": [
       "           Country                               Region  Population  \\\n",
       "0     Afghanistan         ASIA (EX. NEAR EAST)             31056997   \n",
       "1         Albania   EASTERN EUROPE                          3581655   \n",
       "2         Algeria   NORTHERN AFRICA                        32930091   \n",
       "3  American Samoa   OCEANIA                                   57794   \n",
       "4         Andorra   WESTERN EUROPE                            71201   \n",
       "5          Angola   SUB-SAHARAN AFRICA                     12127071   \n",
       "6        Anguilla               LATIN AMER. & CARIB           13477   \n",
       "\n",
       "   Area (sq. mi.) Pop. Density (per sq. mi.) Coastline (coast/area ratio)  \\\n",
       "0          647500                       48,0                         0,00   \n",
       "1           28748                      124,6                         1,26   \n",
       "2         2381740                       13,8                         0,04   \n",
       "3             199                      290,4                        58,29   \n",
       "4             468                      152,1                         0,00   \n",
       "5         1246700                        9,7                         0,13   \n",
       "6             102                      132,1                        59,80   \n",
       "\n",
       "  Net migration Infant mortality (per 1000 births)  GDP ($ per capita)  \\\n",
       "0         23,06                             163,07               700.0   \n",
       "1         -4,93                              21,52              4500.0   \n",
       "2         -0,39                                 31              6000.0   \n",
       "3        -20,71                               9,27              8000.0   \n",
       "4           6,6                               4,05             19000.0   \n",
       "5             0                             191,19              1900.0   \n",
       "6         10,76                              21,03              8600.0   \n",
       "\n",
       "  Literacy (%) Phones (per 1000) Arable (%) Crops (%) Other (%) Climate  \\\n",
       "0         36,0               3,2      12,13      0,22     87,65       1   \n",
       "1         86,5              71,2      21,09      4,42     74,49       3   \n",
       "2         70,0              78,1       3,22      0,25     96,53       1   \n",
       "3         97,0             259,5         10        15        75       2   \n",
       "4        100,0             497,2       2,22         0     97,78       3   \n",
       "5         42,0               7,8       2,41      0,24     97,35     NaN   \n",
       "6         95,0             460,0          0         0       100       2   \n",
       "\n",
       "  Birthrate Deathrate Agriculture Industry Service  \n",
       "0      46,6     20,34        0,38     0,24    0,38  \n",
       "1     15,11      5,22       0,232    0,188   0,579  \n",
       "2     17,14      4,61       0,101      0,6   0,298  \n",
       "3     22,46      3,27         NaN      NaN     NaN  \n",
       "4      8,71      6,25         NaN      NaN     NaN  \n",
       "5     45,11      24,2       0,096    0,658   0,246  \n",
       "6     14,17      5,34        0,04     0,18    0,78  "
      ]
     },
     "execution_count": 290,
     "metadata": {},
     "output_type": "execute_result"
    }
   ],
   "source": [
    "df.head(7)"
   ]
  },
  {
   "cell_type": "code",
   "execution_count": 292,
   "id": "d99dafae-b0e2-4e7c-adf7-aa8d564d93e8",
   "metadata": {},
   "outputs": [
    {
     "data": {
      "text/html": [
       "<div>\n",
       "<style scoped>\n",
       "    .dataframe tbody tr th:only-of-type {\n",
       "        vertical-align: middle;\n",
       "    }\n",
       "\n",
       "    .dataframe tbody tr th {\n",
       "        vertical-align: top;\n",
       "    }\n",
       "\n",
       "    .dataframe thead th {\n",
       "        text-align: right;\n",
       "    }\n",
       "</style>\n",
       "<table border=\"1\" class=\"dataframe\">\n",
       "  <thead>\n",
       "    <tr style=\"text-align: right;\">\n",
       "      <th></th>\n",
       "      <th>Country</th>\n",
       "      <th>Region</th>\n",
       "      <th>Population</th>\n",
       "      <th>Area (sq. mi.)</th>\n",
       "      <th>Pop. Density (per sq. mi.)</th>\n",
       "      <th>Coastline (coast/area ratio)</th>\n",
       "      <th>Net migration</th>\n",
       "      <th>Infant mortality (per 1000 births)</th>\n",
       "      <th>GDP ($ per capita)</th>\n",
       "      <th>Literacy (%)</th>\n",
       "      <th>Phones (per 1000)</th>\n",
       "      <th>Arable (%)</th>\n",
       "      <th>Crops (%)</th>\n",
       "      <th>Other (%)</th>\n",
       "      <th>Climate</th>\n",
       "      <th>Birthrate</th>\n",
       "      <th>Deathrate</th>\n",
       "      <th>Agriculture</th>\n",
       "      <th>Industry</th>\n",
       "      <th>Service</th>\n",
       "    </tr>\n",
       "  </thead>\n",
       "  <tbody>\n",
       "    <tr>\n",
       "      <th>215</th>\n",
       "      <td>Uruguay</td>\n",
       "      <td>LATIN AMER. &amp; CARIB</td>\n",
       "      <td>3431932</td>\n",
       "      <td>176220</td>\n",
       "      <td>19,5</td>\n",
       "      <td>0,37</td>\n",
       "      <td>-0,32</td>\n",
       "      <td>11,95</td>\n",
       "      <td>12800.0</td>\n",
       "      <td>98,0</td>\n",
       "      <td>291,4</td>\n",
       "      <td>7,43</td>\n",
       "      <td>0,23</td>\n",
       "      <td>92,34</td>\n",
       "      <td>3</td>\n",
       "      <td>13,91</td>\n",
       "      <td>9,05</td>\n",
       "      <td>0,093</td>\n",
       "      <td>0,311</td>\n",
       "      <td>0,596</td>\n",
       "    </tr>\n",
       "    <tr>\n",
       "      <th>216</th>\n",
       "      <td>Uzbekistan</td>\n",
       "      <td>C.W. OF IND. STATES</td>\n",
       "      <td>27307134</td>\n",
       "      <td>447400</td>\n",
       "      <td>61,0</td>\n",
       "      <td>0,00</td>\n",
       "      <td>-1,72</td>\n",
       "      <td>71,1</td>\n",
       "      <td>1700.0</td>\n",
       "      <td>99,3</td>\n",
       "      <td>62,9</td>\n",
       "      <td>10,83</td>\n",
       "      <td>0,83</td>\n",
       "      <td>88,34</td>\n",
       "      <td>1</td>\n",
       "      <td>26,36</td>\n",
       "      <td>7,84</td>\n",
       "      <td>0,342</td>\n",
       "      <td>0,229</td>\n",
       "      <td>0,43</td>\n",
       "    </tr>\n",
       "    <tr>\n",
       "      <th>217</th>\n",
       "      <td>Vanuatu</td>\n",
       "      <td>OCEANIA</td>\n",
       "      <td>208869</td>\n",
       "      <td>12200</td>\n",
       "      <td>17,1</td>\n",
       "      <td>20,72</td>\n",
       "      <td>0</td>\n",
       "      <td>55,16</td>\n",
       "      <td>2900.0</td>\n",
       "      <td>53,0</td>\n",
       "      <td>32,6</td>\n",
       "      <td>2,46</td>\n",
       "      <td>7,38</td>\n",
       "      <td>90,16</td>\n",
       "      <td>2</td>\n",
       "      <td>22,72</td>\n",
       "      <td>7,82</td>\n",
       "      <td>0,26</td>\n",
       "      <td>0,12</td>\n",
       "      <td>0,62</td>\n",
       "    </tr>\n",
       "    <tr>\n",
       "      <th>218</th>\n",
       "      <td>Venezuela</td>\n",
       "      <td>LATIN AMER. &amp; CARIB</td>\n",
       "      <td>25730435</td>\n",
       "      <td>912050</td>\n",
       "      <td>28,2</td>\n",
       "      <td>0,31</td>\n",
       "      <td>-0,04</td>\n",
       "      <td>22,2</td>\n",
       "      <td>4800.0</td>\n",
       "      <td>93,4</td>\n",
       "      <td>140,1</td>\n",
       "      <td>2,95</td>\n",
       "      <td>0,92</td>\n",
       "      <td>96,13</td>\n",
       "      <td>2</td>\n",
       "      <td>18,71</td>\n",
       "      <td>4,92</td>\n",
       "      <td>0,04</td>\n",
       "      <td>0,419</td>\n",
       "      <td>0,541</td>\n",
       "    </tr>\n",
       "    <tr>\n",
       "      <th>219</th>\n",
       "      <td>Vietnam</td>\n",
       "      <td>ASIA (EX. NEAR EAST)</td>\n",
       "      <td>84402966</td>\n",
       "      <td>329560</td>\n",
       "      <td>256,1</td>\n",
       "      <td>1,05</td>\n",
       "      <td>-0,45</td>\n",
       "      <td>25,95</td>\n",
       "      <td>2500.0</td>\n",
       "      <td>90,3</td>\n",
       "      <td>187,7</td>\n",
       "      <td>19,97</td>\n",
       "      <td>5,95</td>\n",
       "      <td>74,08</td>\n",
       "      <td>2</td>\n",
       "      <td>16,86</td>\n",
       "      <td>6,22</td>\n",
       "      <td>0,209</td>\n",
       "      <td>0,41</td>\n",
       "      <td>0,381</td>\n",
       "    </tr>\n",
       "    <tr>\n",
       "      <th>220</th>\n",
       "      <td>Virgin Islands</td>\n",
       "      <td>LATIN AMER. &amp; CARIB</td>\n",
       "      <td>108605</td>\n",
       "      <td>1910</td>\n",
       "      <td>56,9</td>\n",
       "      <td>9,84</td>\n",
       "      <td>-8,94</td>\n",
       "      <td>8,03</td>\n",
       "      <td>17200.0</td>\n",
       "      <td>NaN</td>\n",
       "      <td>652,8</td>\n",
       "      <td>11,76</td>\n",
       "      <td>2,94</td>\n",
       "      <td>85,3</td>\n",
       "      <td>2</td>\n",
       "      <td>13,96</td>\n",
       "      <td>6,43</td>\n",
       "      <td>0,01</td>\n",
       "      <td>0,19</td>\n",
       "      <td>0,8</td>\n",
       "    </tr>\n",
       "    <tr>\n",
       "      <th>221</th>\n",
       "      <td>Wallis and Futuna</td>\n",
       "      <td>OCEANIA</td>\n",
       "      <td>16025</td>\n",
       "      <td>274</td>\n",
       "      <td>58,5</td>\n",
       "      <td>47,08</td>\n",
       "      <td>NaN</td>\n",
       "      <td>NaN</td>\n",
       "      <td>3700.0</td>\n",
       "      <td>50,0</td>\n",
       "      <td>118,6</td>\n",
       "      <td>5</td>\n",
       "      <td>25</td>\n",
       "      <td>70</td>\n",
       "      <td>2</td>\n",
       "      <td>NaN</td>\n",
       "      <td>NaN</td>\n",
       "      <td>NaN</td>\n",
       "      <td>NaN</td>\n",
       "      <td>NaN</td>\n",
       "    </tr>\n",
       "    <tr>\n",
       "      <th>222</th>\n",
       "      <td>West Bank</td>\n",
       "      <td>NEAR EAST</td>\n",
       "      <td>2460492</td>\n",
       "      <td>5860</td>\n",
       "      <td>419,9</td>\n",
       "      <td>0,00</td>\n",
       "      <td>2,98</td>\n",
       "      <td>19,62</td>\n",
       "      <td>800.0</td>\n",
       "      <td>NaN</td>\n",
       "      <td>145,2</td>\n",
       "      <td>16,9</td>\n",
       "      <td>18,97</td>\n",
       "      <td>64,13</td>\n",
       "      <td>3</td>\n",
       "      <td>31,67</td>\n",
       "      <td>3,92</td>\n",
       "      <td>0,09</td>\n",
       "      <td>0,28</td>\n",
       "      <td>0,63</td>\n",
       "    </tr>\n",
       "    <tr>\n",
       "      <th>223</th>\n",
       "      <td>Western Sahara</td>\n",
       "      <td>NORTHERN AFRICA</td>\n",
       "      <td>273008</td>\n",
       "      <td>266000</td>\n",
       "      <td>1,0</td>\n",
       "      <td>0,42</td>\n",
       "      <td>NaN</td>\n",
       "      <td>NaN</td>\n",
       "      <td>NaN</td>\n",
       "      <td>NaN</td>\n",
       "      <td>NaN</td>\n",
       "      <td>0,02</td>\n",
       "      <td>0</td>\n",
       "      <td>99,98</td>\n",
       "      <td>1</td>\n",
       "      <td>NaN</td>\n",
       "      <td>NaN</td>\n",
       "      <td>NaN</td>\n",
       "      <td>NaN</td>\n",
       "      <td>0,4</td>\n",
       "    </tr>\n",
       "    <tr>\n",
       "      <th>224</th>\n",
       "      <td>Yemen</td>\n",
       "      <td>NEAR EAST</td>\n",
       "      <td>21456188</td>\n",
       "      <td>527970</td>\n",
       "      <td>40,6</td>\n",
       "      <td>0,36</td>\n",
       "      <td>0</td>\n",
       "      <td>61,5</td>\n",
       "      <td>800.0</td>\n",
       "      <td>50,2</td>\n",
       "      <td>37,2</td>\n",
       "      <td>2,78</td>\n",
       "      <td>0,24</td>\n",
       "      <td>96,98</td>\n",
       "      <td>1</td>\n",
       "      <td>42,89</td>\n",
       "      <td>8,3</td>\n",
       "      <td>0,135</td>\n",
       "      <td>0,472</td>\n",
       "      <td>0,393</td>\n",
       "    </tr>\n",
       "    <tr>\n",
       "      <th>225</th>\n",
       "      <td>Zambia</td>\n",
       "      <td>SUB-SAHARAN AFRICA</td>\n",
       "      <td>11502010</td>\n",
       "      <td>752614</td>\n",
       "      <td>15,3</td>\n",
       "      <td>0,00</td>\n",
       "      <td>0</td>\n",
       "      <td>88,29</td>\n",
       "      <td>800.0</td>\n",
       "      <td>80,6</td>\n",
       "      <td>8,2</td>\n",
       "      <td>7,08</td>\n",
       "      <td>0,03</td>\n",
       "      <td>92,9</td>\n",
       "      <td>2</td>\n",
       "      <td>41</td>\n",
       "      <td>19,93</td>\n",
       "      <td>0,22</td>\n",
       "      <td>0,29</td>\n",
       "      <td>0,489</td>\n",
       "    </tr>\n",
       "    <tr>\n",
       "      <th>226</th>\n",
       "      <td>Zimbabwe</td>\n",
       "      <td>SUB-SAHARAN AFRICA</td>\n",
       "      <td>12236805</td>\n",
       "      <td>390580</td>\n",
       "      <td>31,3</td>\n",
       "      <td>0,00</td>\n",
       "      <td>0</td>\n",
       "      <td>67,69</td>\n",
       "      <td>1900.0</td>\n",
       "      <td>90,7</td>\n",
       "      <td>26,8</td>\n",
       "      <td>8,32</td>\n",
       "      <td>0,34</td>\n",
       "      <td>91,34</td>\n",
       "      <td>2</td>\n",
       "      <td>28,01</td>\n",
       "      <td>21,84</td>\n",
       "      <td>0,179</td>\n",
       "      <td>0,243</td>\n",
       "      <td>0,579</td>\n",
       "    </tr>\n",
       "  </tbody>\n",
       "</table>\n",
       "</div>"
      ],
      "text/plain": [
       "                Country                               Region  Population  \\\n",
       "215            Uruguay               LATIN AMER. & CARIB         3431932   \n",
       "216         Uzbekistan                  C.W. OF IND. STATES     27307134   \n",
       "217            Vanuatu   OCEANIA                                  208869   \n",
       "218          Venezuela               LATIN AMER. & CARIB        25730435   \n",
       "219            Vietnam         ASIA (EX. NEAR EAST)             84402966   \n",
       "220     Virgin Islands               LATIN AMER. & CARIB          108605   \n",
       "221  Wallis and Futuna   OCEANIA                                   16025   \n",
       "222          West Bank   NEAR EAST                               2460492   \n",
       "223     Western Sahara   NORTHERN AFRICA                          273008   \n",
       "224              Yemen   NEAR EAST                              21456188   \n",
       "225             Zambia   SUB-SAHARAN AFRICA                     11502010   \n",
       "226           Zimbabwe   SUB-SAHARAN AFRICA                     12236805   \n",
       "\n",
       "     Area (sq. mi.) Pop. Density (per sq. mi.) Coastline (coast/area ratio)  \\\n",
       "215          176220                       19,5                         0,37   \n",
       "216          447400                       61,0                         0,00   \n",
       "217           12200                       17,1                        20,72   \n",
       "218          912050                       28,2                         0,31   \n",
       "219          329560                      256,1                         1,05   \n",
       "220            1910                       56,9                         9,84   \n",
       "221             274                       58,5                        47,08   \n",
       "222            5860                      419,9                         0,00   \n",
       "223          266000                        1,0                         0,42   \n",
       "224          527970                       40,6                         0,36   \n",
       "225          752614                       15,3                         0,00   \n",
       "226          390580                       31,3                         0,00   \n",
       "\n",
       "    Net migration Infant mortality (per 1000 births)  GDP ($ per capita)  \\\n",
       "215         -0,32                              11,95             12800.0   \n",
       "216         -1,72                               71,1              1700.0   \n",
       "217             0                              55,16              2900.0   \n",
       "218         -0,04                               22,2              4800.0   \n",
       "219         -0,45                              25,95              2500.0   \n",
       "220         -8,94                               8,03             17200.0   \n",
       "221           NaN                                NaN              3700.0   \n",
       "222          2,98                              19,62               800.0   \n",
       "223           NaN                                NaN                 NaN   \n",
       "224             0                               61,5               800.0   \n",
       "225             0                              88,29               800.0   \n",
       "226             0                              67,69              1900.0   \n",
       "\n",
       "    Literacy (%) Phones (per 1000) Arable (%) Crops (%) Other (%) Climate  \\\n",
       "215         98,0             291,4       7,43      0,23     92,34       3   \n",
       "216         99,3              62,9      10,83      0,83     88,34       1   \n",
       "217         53,0              32,6       2,46      7,38     90,16       2   \n",
       "218         93,4             140,1       2,95      0,92     96,13       2   \n",
       "219         90,3             187,7      19,97      5,95     74,08       2   \n",
       "220          NaN             652,8      11,76      2,94      85,3       2   \n",
       "221         50,0             118,6          5        25        70       2   \n",
       "222          NaN             145,2       16,9     18,97     64,13       3   \n",
       "223          NaN               NaN       0,02         0     99,98       1   \n",
       "224         50,2              37,2       2,78      0,24     96,98       1   \n",
       "225         80,6               8,2       7,08      0,03      92,9       2   \n",
       "226         90,7              26,8       8,32      0,34     91,34       2   \n",
       "\n",
       "    Birthrate Deathrate Agriculture Industry Service  \n",
       "215     13,91      9,05       0,093    0,311   0,596  \n",
       "216     26,36      7,84       0,342    0,229    0,43  \n",
       "217     22,72      7,82        0,26     0,12    0,62  \n",
       "218     18,71      4,92        0,04    0,419   0,541  \n",
       "219     16,86      6,22       0,209     0,41   0,381  \n",
       "220     13,96      6,43        0,01     0,19     0,8  \n",
       "221       NaN       NaN         NaN      NaN     NaN  \n",
       "222     31,67      3,92        0,09     0,28    0,63  \n",
       "223       NaN       NaN         NaN      NaN     0,4  \n",
       "224     42,89       8,3       0,135    0,472   0,393  \n",
       "225        41     19,93        0,22     0,29   0,489  \n",
       "226     28,01     21,84       0,179    0,243   0,579  "
      ]
     },
     "execution_count": 292,
     "metadata": {},
     "output_type": "execute_result"
    }
   ],
   "source": [
    "df.tail(12)"
   ]
  },
  {
   "cell_type": "code",
   "execution_count": 294,
   "id": "ebac1bcb-6a99-4cfa-ac02-ac927d8c56dd",
   "metadata": {},
   "outputs": [
    {
     "data": {
      "text/plain": [
       "0            ASIA (EX. NEAR EAST)         \n",
       "1      EASTERN EUROPE                     \n",
       "2      NORTHERN AFRICA                    \n",
       "3      OCEANIA                            \n",
       "4      WESTERN EUROPE                     \n",
       "                      ...                 \n",
       "222    NEAR EAST                          \n",
       "223    NORTHERN AFRICA                    \n",
       "224    NEAR EAST                          \n",
       "225    SUB-SAHARAN AFRICA                 \n",
       "226    SUB-SAHARAN AFRICA                 \n",
       "Name: Region, Length: 227, dtype: object"
      ]
     },
     "execution_count": 294,
     "metadata": {},
     "output_type": "execute_result"
    }
   ],
   "source": [
    "df[\"Region\"]"
   ]
  },
  {
   "cell_type": "code",
   "execution_count": 296,
   "id": "3a7db936-1d57-471c-a61e-97927c5d089d",
   "metadata": {},
   "outputs": [
    {
     "data": {
      "text/plain": [
       "Country                                                          Algeria \n",
       "Region                                NORTHERN AFRICA                    \n",
       "Population                                                       32930091\n",
       "Area (sq. mi.)                                                    2381740\n",
       "Pop. Density (per sq. mi.)                                           13,8\n",
       "Coastline (coast/area ratio)                                         0,04\n",
       "Net migration                                                       -0,39\n",
       "Infant mortality (per 1000 births)                                     31\n",
       "GDP ($ per capita)                                                 6000.0\n",
       "Literacy (%)                                                         70,0\n",
       "Phones (per 1000)                                                    78,1\n",
       "Arable (%)                                                           3,22\n",
       "Crops (%)                                                            0,25\n",
       "Other (%)                                                           96,53\n",
       "Climate                                                                 1\n",
       "Birthrate                                                           17,14\n",
       "Deathrate                                                            4,61\n",
       "Agriculture                                                         0,101\n",
       "Industry                                                              0,6\n",
       "Service                                                             0,298\n",
       "Name: 2, dtype: object"
      ]
     },
     "execution_count": 296,
     "metadata": {},
     "output_type": "execute_result"
    }
   ],
   "source": [
    "df.loc[2]"
   ]
  },
  {
   "cell_type": "code",
   "execution_count": 298,
   "id": "cb2b984e-b558-442c-9153-c6d92da51f9c",
   "metadata": {},
   "outputs": [
    {
     "ename": "TypeError",
     "evalue": "'method' object is not subscriptable",
     "output_type": "error",
     "traceback": [
      "\u001b[1;31m---------------------------------------------------------------------------\u001b[0m",
      "\u001b[1;31mTypeError\u001b[0m                                 Traceback (most recent call last)",
      "Cell \u001b[1;32mIn[298], line 1\u001b[0m\n\u001b[1;32m----> 1\u001b[0m df\u001b[38;5;241m=\u001b[39mdf\u001b[38;5;241m.\u001b[39mset_index[\u001b[38;5;124m\"\u001b[39m\u001b[38;5;124mCountry\u001b[39m\u001b[38;5;124m\"\u001b[39m]\n",
      "\u001b[1;31mTypeError\u001b[0m: 'method' object is not subscriptable"
     ]
    }
   ],
   "source": [
    "df=df.set_index[\"Country\"]"
   ]
  },
  {
   "cell_type": "code",
   "execution_count": 300,
   "id": "041ebf69-ffb1-4f83-ba29-963f93833ce0",
   "metadata": {},
   "outputs": [],
   "source": [
    "df = df.set_index(\"Country\")\n"
   ]
  },
  {
   "cell_type": "code",
   "execution_count": 302,
   "id": "f92573f2-fffc-4321-8be6-054e7affe118",
   "metadata": {},
   "outputs": [
    {
     "data": {
      "text/html": [
       "<div>\n",
       "<style scoped>\n",
       "    .dataframe tbody tr th:only-of-type {\n",
       "        vertical-align: middle;\n",
       "    }\n",
       "\n",
       "    .dataframe tbody tr th {\n",
       "        vertical-align: top;\n",
       "    }\n",
       "\n",
       "    .dataframe thead th {\n",
       "        text-align: right;\n",
       "    }\n",
       "</style>\n",
       "<table border=\"1\" class=\"dataframe\">\n",
       "  <thead>\n",
       "    <tr style=\"text-align: right;\">\n",
       "      <th></th>\n",
       "      <th>Region</th>\n",
       "      <th>Population</th>\n",
       "      <th>Area (sq. mi.)</th>\n",
       "      <th>Pop. Density (per sq. mi.)</th>\n",
       "      <th>Coastline (coast/area ratio)</th>\n",
       "      <th>Net migration</th>\n",
       "      <th>Infant mortality (per 1000 births)</th>\n",
       "      <th>GDP ($ per capita)</th>\n",
       "      <th>Literacy (%)</th>\n",
       "      <th>Phones (per 1000)</th>\n",
       "      <th>Arable (%)</th>\n",
       "      <th>Crops (%)</th>\n",
       "      <th>Other (%)</th>\n",
       "      <th>Climate</th>\n",
       "      <th>Birthrate</th>\n",
       "      <th>Deathrate</th>\n",
       "      <th>Agriculture</th>\n",
       "      <th>Industry</th>\n",
       "      <th>Service</th>\n",
       "    </tr>\n",
       "    <tr>\n",
       "      <th>Country</th>\n",
       "      <th></th>\n",
       "      <th></th>\n",
       "      <th></th>\n",
       "      <th></th>\n",
       "      <th></th>\n",
       "      <th></th>\n",
       "      <th></th>\n",
       "      <th></th>\n",
       "      <th></th>\n",
       "      <th></th>\n",
       "      <th></th>\n",
       "      <th></th>\n",
       "      <th></th>\n",
       "      <th></th>\n",
       "      <th></th>\n",
       "      <th></th>\n",
       "      <th></th>\n",
       "      <th></th>\n",
       "      <th></th>\n",
       "    </tr>\n",
       "  </thead>\n",
       "  <tbody>\n",
       "    <tr>\n",
       "      <th>Afghanistan</th>\n",
       "      <td>ASIA (EX. NEAR EAST)</td>\n",
       "      <td>31056997</td>\n",
       "      <td>647500</td>\n",
       "      <td>48,0</td>\n",
       "      <td>0,00</td>\n",
       "      <td>23,06</td>\n",
       "      <td>163,07</td>\n",
       "      <td>700.0</td>\n",
       "      <td>36,0</td>\n",
       "      <td>3,2</td>\n",
       "      <td>12,13</td>\n",
       "      <td>0,22</td>\n",
       "      <td>87,65</td>\n",
       "      <td>1</td>\n",
       "      <td>46,6</td>\n",
       "      <td>20,34</td>\n",
       "      <td>0,38</td>\n",
       "      <td>0,24</td>\n",
       "      <td>0,38</td>\n",
       "    </tr>\n",
       "    <tr>\n",
       "      <th>Albania</th>\n",
       "      <td>EASTERN EUROPE</td>\n",
       "      <td>3581655</td>\n",
       "      <td>28748</td>\n",
       "      <td>124,6</td>\n",
       "      <td>1,26</td>\n",
       "      <td>-4,93</td>\n",
       "      <td>21,52</td>\n",
       "      <td>4500.0</td>\n",
       "      <td>86,5</td>\n",
       "      <td>71,2</td>\n",
       "      <td>21,09</td>\n",
       "      <td>4,42</td>\n",
       "      <td>74,49</td>\n",
       "      <td>3</td>\n",
       "      <td>15,11</td>\n",
       "      <td>5,22</td>\n",
       "      <td>0,232</td>\n",
       "      <td>0,188</td>\n",
       "      <td>0,579</td>\n",
       "    </tr>\n",
       "    <tr>\n",
       "      <th>Algeria</th>\n",
       "      <td>NORTHERN AFRICA</td>\n",
       "      <td>32930091</td>\n",
       "      <td>2381740</td>\n",
       "      <td>13,8</td>\n",
       "      <td>0,04</td>\n",
       "      <td>-0,39</td>\n",
       "      <td>31</td>\n",
       "      <td>6000.0</td>\n",
       "      <td>70,0</td>\n",
       "      <td>78,1</td>\n",
       "      <td>3,22</td>\n",
       "      <td>0,25</td>\n",
       "      <td>96,53</td>\n",
       "      <td>1</td>\n",
       "      <td>17,14</td>\n",
       "      <td>4,61</td>\n",
       "      <td>0,101</td>\n",
       "      <td>0,6</td>\n",
       "      <td>0,298</td>\n",
       "    </tr>\n",
       "    <tr>\n",
       "      <th>American Samoa</th>\n",
       "      <td>OCEANIA</td>\n",
       "      <td>57794</td>\n",
       "      <td>199</td>\n",
       "      <td>290,4</td>\n",
       "      <td>58,29</td>\n",
       "      <td>-20,71</td>\n",
       "      <td>9,27</td>\n",
       "      <td>8000.0</td>\n",
       "      <td>97,0</td>\n",
       "      <td>259,5</td>\n",
       "      <td>10</td>\n",
       "      <td>15</td>\n",
       "      <td>75</td>\n",
       "      <td>2</td>\n",
       "      <td>22,46</td>\n",
       "      <td>3,27</td>\n",
       "      <td>NaN</td>\n",
       "      <td>NaN</td>\n",
       "      <td>NaN</td>\n",
       "    </tr>\n",
       "    <tr>\n",
       "      <th>Andorra</th>\n",
       "      <td>WESTERN EUROPE</td>\n",
       "      <td>71201</td>\n",
       "      <td>468</td>\n",
       "      <td>152,1</td>\n",
       "      <td>0,00</td>\n",
       "      <td>6,6</td>\n",
       "      <td>4,05</td>\n",
       "      <td>19000.0</td>\n",
       "      <td>100,0</td>\n",
       "      <td>497,2</td>\n",
       "      <td>2,22</td>\n",
       "      <td>0</td>\n",
       "      <td>97,78</td>\n",
       "      <td>3</td>\n",
       "      <td>8,71</td>\n",
       "      <td>6,25</td>\n",
       "      <td>NaN</td>\n",
       "      <td>NaN</td>\n",
       "      <td>NaN</td>\n",
       "    </tr>\n",
       "    <tr>\n",
       "      <th>...</th>\n",
       "      <td>...</td>\n",
       "      <td>...</td>\n",
       "      <td>...</td>\n",
       "      <td>...</td>\n",
       "      <td>...</td>\n",
       "      <td>...</td>\n",
       "      <td>...</td>\n",
       "      <td>...</td>\n",
       "      <td>...</td>\n",
       "      <td>...</td>\n",
       "      <td>...</td>\n",
       "      <td>...</td>\n",
       "      <td>...</td>\n",
       "      <td>...</td>\n",
       "      <td>...</td>\n",
       "      <td>...</td>\n",
       "      <td>...</td>\n",
       "      <td>...</td>\n",
       "      <td>...</td>\n",
       "    </tr>\n",
       "    <tr>\n",
       "      <th>West Bank</th>\n",
       "      <td>NEAR EAST</td>\n",
       "      <td>2460492</td>\n",
       "      <td>5860</td>\n",
       "      <td>419,9</td>\n",
       "      <td>0,00</td>\n",
       "      <td>2,98</td>\n",
       "      <td>19,62</td>\n",
       "      <td>800.0</td>\n",
       "      <td>NaN</td>\n",
       "      <td>145,2</td>\n",
       "      <td>16,9</td>\n",
       "      <td>18,97</td>\n",
       "      <td>64,13</td>\n",
       "      <td>3</td>\n",
       "      <td>31,67</td>\n",
       "      <td>3,92</td>\n",
       "      <td>0,09</td>\n",
       "      <td>0,28</td>\n",
       "      <td>0,63</td>\n",
       "    </tr>\n",
       "    <tr>\n",
       "      <th>Western Sahara</th>\n",
       "      <td>NORTHERN AFRICA</td>\n",
       "      <td>273008</td>\n",
       "      <td>266000</td>\n",
       "      <td>1,0</td>\n",
       "      <td>0,42</td>\n",
       "      <td>NaN</td>\n",
       "      <td>NaN</td>\n",
       "      <td>NaN</td>\n",
       "      <td>NaN</td>\n",
       "      <td>NaN</td>\n",
       "      <td>0,02</td>\n",
       "      <td>0</td>\n",
       "      <td>99,98</td>\n",
       "      <td>1</td>\n",
       "      <td>NaN</td>\n",
       "      <td>NaN</td>\n",
       "      <td>NaN</td>\n",
       "      <td>NaN</td>\n",
       "      <td>0,4</td>\n",
       "    </tr>\n",
       "    <tr>\n",
       "      <th>Yemen</th>\n",
       "      <td>NEAR EAST</td>\n",
       "      <td>21456188</td>\n",
       "      <td>527970</td>\n",
       "      <td>40,6</td>\n",
       "      <td>0,36</td>\n",
       "      <td>0</td>\n",
       "      <td>61,5</td>\n",
       "      <td>800.0</td>\n",
       "      <td>50,2</td>\n",
       "      <td>37,2</td>\n",
       "      <td>2,78</td>\n",
       "      <td>0,24</td>\n",
       "      <td>96,98</td>\n",
       "      <td>1</td>\n",
       "      <td>42,89</td>\n",
       "      <td>8,3</td>\n",
       "      <td>0,135</td>\n",
       "      <td>0,472</td>\n",
       "      <td>0,393</td>\n",
       "    </tr>\n",
       "    <tr>\n",
       "      <th>Zambia</th>\n",
       "      <td>SUB-SAHARAN AFRICA</td>\n",
       "      <td>11502010</td>\n",
       "      <td>752614</td>\n",
       "      <td>15,3</td>\n",
       "      <td>0,00</td>\n",
       "      <td>0</td>\n",
       "      <td>88,29</td>\n",
       "      <td>800.0</td>\n",
       "      <td>80,6</td>\n",
       "      <td>8,2</td>\n",
       "      <td>7,08</td>\n",
       "      <td>0,03</td>\n",
       "      <td>92,9</td>\n",
       "      <td>2</td>\n",
       "      <td>41</td>\n",
       "      <td>19,93</td>\n",
       "      <td>0,22</td>\n",
       "      <td>0,29</td>\n",
       "      <td>0,489</td>\n",
       "    </tr>\n",
       "    <tr>\n",
       "      <th>Zimbabwe</th>\n",
       "      <td>SUB-SAHARAN AFRICA</td>\n",
       "      <td>12236805</td>\n",
       "      <td>390580</td>\n",
       "      <td>31,3</td>\n",
       "      <td>0,00</td>\n",
       "      <td>0</td>\n",
       "      <td>67,69</td>\n",
       "      <td>1900.0</td>\n",
       "      <td>90,7</td>\n",
       "      <td>26,8</td>\n",
       "      <td>8,32</td>\n",
       "      <td>0,34</td>\n",
       "      <td>91,34</td>\n",
       "      <td>2</td>\n",
       "      <td>28,01</td>\n",
       "      <td>21,84</td>\n",
       "      <td>0,179</td>\n",
       "      <td>0,243</td>\n",
       "      <td>0,579</td>\n",
       "    </tr>\n",
       "  </tbody>\n",
       "</table>\n",
       "<p>227 rows × 19 columns</p>\n",
       "</div>"
      ],
      "text/plain": [
       "                                              Region  Population  \\\n",
       "Country                                                            \n",
       "Afghanistan            ASIA (EX. NEAR EAST)             31056997   \n",
       "Albania          EASTERN EUROPE                          3581655   \n",
       "Algeria          NORTHERN AFRICA                        32930091   \n",
       "American Samoa   OCEANIA                                   57794   \n",
       "Andorra          WESTERN EUROPE                            71201   \n",
       "...                                              ...         ...   \n",
       "West Bank        NEAR EAST                               2460492   \n",
       "Western Sahara   NORTHERN AFRICA                          273008   \n",
       "Yemen            NEAR EAST                              21456188   \n",
       "Zambia           SUB-SAHARAN AFRICA                     11502010   \n",
       "Zimbabwe         SUB-SAHARAN AFRICA                     12236805   \n",
       "\n",
       "                 Area (sq. mi.) Pop. Density (per sq. mi.)  \\\n",
       "Country                                                      \n",
       "Afghanistan              647500                       48,0   \n",
       "Albania                   28748                      124,6   \n",
       "Algeria                 2381740                       13,8   \n",
       "American Samoa              199                      290,4   \n",
       "Andorra                     468                      152,1   \n",
       "...                         ...                        ...   \n",
       "West Bank                  5860                      419,9   \n",
       "Western Sahara           266000                        1,0   \n",
       "Yemen                    527970                       40,6   \n",
       "Zambia                   752614                       15,3   \n",
       "Zimbabwe                 390580                       31,3   \n",
       "\n",
       "                Coastline (coast/area ratio) Net migration  \\\n",
       "Country                                                      \n",
       "Afghanistan                             0,00         23,06   \n",
       "Albania                                 1,26         -4,93   \n",
       "Algeria                                 0,04         -0,39   \n",
       "American Samoa                         58,29        -20,71   \n",
       "Andorra                                 0,00           6,6   \n",
       "...                                      ...           ...   \n",
       "West Bank                               0,00          2,98   \n",
       "Western Sahara                          0,42           NaN   \n",
       "Yemen                                   0,36             0   \n",
       "Zambia                                  0,00             0   \n",
       "Zimbabwe                                0,00             0   \n",
       "\n",
       "                Infant mortality (per 1000 births)  GDP ($ per capita)  \\\n",
       "Country                                                                  \n",
       "Afghanistan                                 163,07               700.0   \n",
       "Albania                                      21,52              4500.0   \n",
       "Algeria                                         31              6000.0   \n",
       "American Samoa                                9,27              8000.0   \n",
       "Andorra                                       4,05             19000.0   \n",
       "...                                            ...                 ...   \n",
       "West Bank                                    19,62               800.0   \n",
       "Western Sahara                                 NaN                 NaN   \n",
       "Yemen                                         61,5               800.0   \n",
       "Zambia                                       88,29               800.0   \n",
       "Zimbabwe                                     67,69              1900.0   \n",
       "\n",
       "                Literacy (%) Phones (per 1000) Arable (%) Crops (%) Other (%)  \\\n",
       "Country                                                                         \n",
       "Afghanistan             36,0               3,2      12,13      0,22     87,65   \n",
       "Albania                 86,5              71,2      21,09      4,42     74,49   \n",
       "Algeria                 70,0              78,1       3,22      0,25     96,53   \n",
       "American Samoa          97,0             259,5         10        15        75   \n",
       "Andorra                100,0             497,2       2,22         0     97,78   \n",
       "...                      ...               ...        ...       ...       ...   \n",
       "West Bank                NaN             145,2       16,9     18,97     64,13   \n",
       "Western Sahara           NaN               NaN       0,02         0     99,98   \n",
       "Yemen                   50,2              37,2       2,78      0,24     96,98   \n",
       "Zambia                  80,6               8,2       7,08      0,03      92,9   \n",
       "Zimbabwe                90,7              26,8       8,32      0,34     91,34   \n",
       "\n",
       "                Climate Birthrate Deathrate Agriculture Industry Service  \n",
       "Country                                                                   \n",
       "Afghanistan           1      46,6     20,34        0,38     0,24    0,38  \n",
       "Albania               3     15,11      5,22       0,232    0,188   0,579  \n",
       "Algeria               1     17,14      4,61       0,101      0,6   0,298  \n",
       "American Samoa        2     22,46      3,27         NaN      NaN     NaN  \n",
       "Andorra               3      8,71      6,25         NaN      NaN     NaN  \n",
       "...                 ...       ...       ...         ...      ...     ...  \n",
       "West Bank             3     31,67      3,92        0,09     0,28    0,63  \n",
       "Western Sahara        1       NaN       NaN         NaN      NaN     0,4  \n",
       "Yemen                 1     42,89       8,3       0,135    0,472   0,393  \n",
       "Zambia                2        41     19,93        0,22     0,29   0,489  \n",
       "Zimbabwe              2     28,01     21,84       0,179    0,243   0,579  \n",
       "\n",
       "[227 rows x 19 columns]"
      ]
     },
     "execution_count": 302,
     "metadata": {},
     "output_type": "execute_result"
    }
   ],
   "source": [
    "df"
   ]
  },
  {
   "cell_type": "code",
   "execution_count": 304,
   "id": "3b517598-8ab4-4fd4-94af-53e2f5af52ed",
   "metadata": {},
   "outputs": [
    {
     "ename": "KeyError",
     "evalue": "'Albania'",
     "output_type": "error",
     "traceback": [
      "\u001b[1;31m---------------------------------------------------------------------------\u001b[0m",
      "\u001b[1;31mKeyError\u001b[0m                                  Traceback (most recent call last)",
      "File \u001b[1;32m~\\anaconda3\\Lib\\site-packages\\pandas\\core\\indexes\\base.py:3805\u001b[0m, in \u001b[0;36mIndex.get_loc\u001b[1;34m(self, key)\u001b[0m\n\u001b[0;32m   3804\u001b[0m \u001b[38;5;28;01mtry\u001b[39;00m:\n\u001b[1;32m-> 3805\u001b[0m     \u001b[38;5;28;01mreturn\u001b[39;00m \u001b[38;5;28mself\u001b[39m\u001b[38;5;241m.\u001b[39m_engine\u001b[38;5;241m.\u001b[39mget_loc(casted_key)\n\u001b[0;32m   3806\u001b[0m \u001b[38;5;28;01mexcept\u001b[39;00m \u001b[38;5;167;01mKeyError\u001b[39;00m \u001b[38;5;28;01mas\u001b[39;00m err:\n",
      "File \u001b[1;32mindex.pyx:167\u001b[0m, in \u001b[0;36mpandas._libs.index.IndexEngine.get_loc\u001b[1;34m()\u001b[0m\n",
      "File \u001b[1;32mindex.pyx:196\u001b[0m, in \u001b[0;36mpandas._libs.index.IndexEngine.get_loc\u001b[1;34m()\u001b[0m\n",
      "File \u001b[1;32mpandas\\\\_libs\\\\hashtable_class_helper.pxi:7081\u001b[0m, in \u001b[0;36mpandas._libs.hashtable.PyObjectHashTable.get_item\u001b[1;34m()\u001b[0m\n",
      "File \u001b[1;32mpandas\\\\_libs\\\\hashtable_class_helper.pxi:7089\u001b[0m, in \u001b[0;36mpandas._libs.hashtable.PyObjectHashTable.get_item\u001b[1;34m()\u001b[0m\n",
      "\u001b[1;31mKeyError\u001b[0m: 'Albania'",
      "\nThe above exception was the direct cause of the following exception:\n",
      "\u001b[1;31mKeyError\u001b[0m                                  Traceback (most recent call last)",
      "Cell \u001b[1;32mIn[304], line 1\u001b[0m\n\u001b[1;32m----> 1\u001b[0m df\u001b[38;5;241m.\u001b[39mloc[\u001b[38;5;124m\"\u001b[39m\u001b[38;5;124mAlbania\u001b[39m\u001b[38;5;124m\"\u001b[39m]\n",
      "File \u001b[1;32m~\\anaconda3\\Lib\\site-packages\\pandas\\core\\indexing.py:1191\u001b[0m, in \u001b[0;36m_LocationIndexer.__getitem__\u001b[1;34m(self, key)\u001b[0m\n\u001b[0;32m   1189\u001b[0m maybe_callable \u001b[38;5;241m=\u001b[39m com\u001b[38;5;241m.\u001b[39mapply_if_callable(key, \u001b[38;5;28mself\u001b[39m\u001b[38;5;241m.\u001b[39mobj)\n\u001b[0;32m   1190\u001b[0m maybe_callable \u001b[38;5;241m=\u001b[39m \u001b[38;5;28mself\u001b[39m\u001b[38;5;241m.\u001b[39m_check_deprecated_callable_usage(key, maybe_callable)\n\u001b[1;32m-> 1191\u001b[0m \u001b[38;5;28;01mreturn\u001b[39;00m \u001b[38;5;28mself\u001b[39m\u001b[38;5;241m.\u001b[39m_getitem_axis(maybe_callable, axis\u001b[38;5;241m=\u001b[39maxis)\n",
      "File \u001b[1;32m~\\anaconda3\\Lib\\site-packages\\pandas\\core\\indexing.py:1431\u001b[0m, in \u001b[0;36m_LocIndexer._getitem_axis\u001b[1;34m(self, key, axis)\u001b[0m\n\u001b[0;32m   1429\u001b[0m \u001b[38;5;66;03m# fall thru to straight lookup\u001b[39;00m\n\u001b[0;32m   1430\u001b[0m \u001b[38;5;28mself\u001b[39m\u001b[38;5;241m.\u001b[39m_validate_key(key, axis)\n\u001b[1;32m-> 1431\u001b[0m \u001b[38;5;28;01mreturn\u001b[39;00m \u001b[38;5;28mself\u001b[39m\u001b[38;5;241m.\u001b[39m_get_label(key, axis\u001b[38;5;241m=\u001b[39maxis)\n",
      "File \u001b[1;32m~\\anaconda3\\Lib\\site-packages\\pandas\\core\\indexing.py:1381\u001b[0m, in \u001b[0;36m_LocIndexer._get_label\u001b[1;34m(self, label, axis)\u001b[0m\n\u001b[0;32m   1379\u001b[0m \u001b[38;5;28;01mdef\u001b[39;00m \u001b[38;5;21m_get_label\u001b[39m(\u001b[38;5;28mself\u001b[39m, label, axis: AxisInt):\n\u001b[0;32m   1380\u001b[0m     \u001b[38;5;66;03m# GH#5567 this will fail if the label is not present in the axis.\u001b[39;00m\n\u001b[1;32m-> 1381\u001b[0m     \u001b[38;5;28;01mreturn\u001b[39;00m \u001b[38;5;28mself\u001b[39m\u001b[38;5;241m.\u001b[39mobj\u001b[38;5;241m.\u001b[39mxs(label, axis\u001b[38;5;241m=\u001b[39maxis)\n",
      "File \u001b[1;32m~\\anaconda3\\Lib\\site-packages\\pandas\\core\\generic.py:4301\u001b[0m, in \u001b[0;36mNDFrame.xs\u001b[1;34m(self, key, axis, level, drop_level)\u001b[0m\n\u001b[0;32m   4299\u001b[0m             new_index \u001b[38;5;241m=\u001b[39m index[loc]\n\u001b[0;32m   4300\u001b[0m \u001b[38;5;28;01melse\u001b[39;00m:\n\u001b[1;32m-> 4301\u001b[0m     loc \u001b[38;5;241m=\u001b[39m index\u001b[38;5;241m.\u001b[39mget_loc(key)\n\u001b[0;32m   4303\u001b[0m     \u001b[38;5;28;01mif\u001b[39;00m \u001b[38;5;28misinstance\u001b[39m(loc, np\u001b[38;5;241m.\u001b[39mndarray):\n\u001b[0;32m   4304\u001b[0m         \u001b[38;5;28;01mif\u001b[39;00m loc\u001b[38;5;241m.\u001b[39mdtype \u001b[38;5;241m==\u001b[39m np\u001b[38;5;241m.\u001b[39mbool_:\n",
      "File \u001b[1;32m~\\anaconda3\\Lib\\site-packages\\pandas\\core\\indexes\\base.py:3812\u001b[0m, in \u001b[0;36mIndex.get_loc\u001b[1;34m(self, key)\u001b[0m\n\u001b[0;32m   3807\u001b[0m     \u001b[38;5;28;01mif\u001b[39;00m \u001b[38;5;28misinstance\u001b[39m(casted_key, \u001b[38;5;28mslice\u001b[39m) \u001b[38;5;129;01mor\u001b[39;00m (\n\u001b[0;32m   3808\u001b[0m         \u001b[38;5;28misinstance\u001b[39m(casted_key, abc\u001b[38;5;241m.\u001b[39mIterable)\n\u001b[0;32m   3809\u001b[0m         \u001b[38;5;129;01mand\u001b[39;00m \u001b[38;5;28many\u001b[39m(\u001b[38;5;28misinstance\u001b[39m(x, \u001b[38;5;28mslice\u001b[39m) \u001b[38;5;28;01mfor\u001b[39;00m x \u001b[38;5;129;01min\u001b[39;00m casted_key)\n\u001b[0;32m   3810\u001b[0m     ):\n\u001b[0;32m   3811\u001b[0m         \u001b[38;5;28;01mraise\u001b[39;00m InvalidIndexError(key)\n\u001b[1;32m-> 3812\u001b[0m     \u001b[38;5;28;01mraise\u001b[39;00m \u001b[38;5;167;01mKeyError\u001b[39;00m(key) \u001b[38;5;28;01mfrom\u001b[39;00m \u001b[38;5;21;01merr\u001b[39;00m\n\u001b[0;32m   3813\u001b[0m \u001b[38;5;28;01mexcept\u001b[39;00m \u001b[38;5;167;01mTypeError\u001b[39;00m:\n\u001b[0;32m   3814\u001b[0m     \u001b[38;5;66;03m# If we have a listlike key, _check_indexing_error will raise\u001b[39;00m\n\u001b[0;32m   3815\u001b[0m     \u001b[38;5;66;03m#  InvalidIndexError. Otherwise we fall through and re-raise\u001b[39;00m\n\u001b[0;32m   3816\u001b[0m     \u001b[38;5;66;03m#  the TypeError.\u001b[39;00m\n\u001b[0;32m   3817\u001b[0m     \u001b[38;5;28mself\u001b[39m\u001b[38;5;241m.\u001b[39m_check_indexing_error(key)\n",
      "\u001b[1;31mKeyError\u001b[0m: 'Albania'"
     ]
    }
   ],
   "source": [
    "df.loc[\"Albania\"]\n"
   ]
  },
  {
   "cell_type": "code",
   "execution_count": null,
   "id": "ae51ab4b-8b6b-4892-9bd1-53ce4527ddf2",
   "metadata": {},
   "outputs": [],
   "source": [
    "print(df.index)"
   ]
  },
  {
   "cell_type": "code",
   "execution_count": 307,
   "id": "bc3eb492-c3b0-43dd-b25a-1053eeb0ac13",
   "metadata": {},
   "outputs": [
    {
     "ename": "ValueError",
     "evalue": "No axis named Albania for object type DataFrame",
     "output_type": "error",
     "traceback": [
      "\u001b[1;31m---------------------------------------------------------------------------\u001b[0m",
      "\u001b[1;31mKeyError\u001b[0m                                  Traceback (most recent call last)",
      "\u001b[1;32m~\\anaconda3\\Lib\\site-packages\\pandas\\core\\generic.py\u001b[0m in \u001b[0;36m?\u001b[1;34m(cls, axis)\u001b[0m\n\u001b[0;32m    576\u001b[0m             \u001b[1;32mreturn\u001b[0m \u001b[0mcls\u001b[0m\u001b[1;33m.\u001b[0m\u001b[0m_AXIS_TO_AXIS_NUMBER\u001b[0m\u001b[1;33m[\u001b[0m\u001b[0maxis\u001b[0m\u001b[1;33m]\u001b[0m\u001b[1;33m\u001b[0m\u001b[1;33m\u001b[0m\u001b[0m\n\u001b[0;32m    577\u001b[0m         \u001b[1;32mexcept\u001b[0m \u001b[0mKeyError\u001b[0m\u001b[1;33m:\u001b[0m\u001b[1;33m\u001b[0m\u001b[1;33m\u001b[0m\u001b[0m\n\u001b[1;32m--> 578\u001b[1;33m             \u001b[1;32mraise\u001b[0m \u001b[0mValueError\u001b[0m\u001b[1;33m(\u001b[0m\u001b[1;33mf\"\u001b[0m\u001b[1;33mNo axis named \u001b[0m\u001b[1;33m{\u001b[0m\u001b[0maxis\u001b[0m\u001b[1;33m}\u001b[0m\u001b[1;33m for object type \u001b[0m\u001b[1;33m{\u001b[0m\u001b[0mcls\u001b[0m\u001b[1;33m.\u001b[0m\u001b[0m__name__\u001b[0m\u001b[1;33m}\u001b[0m\u001b[1;33m\"\u001b[0m\u001b[1;33m)\u001b[0m\u001b[1;33m\u001b[0m\u001b[1;33m\u001b[0m\u001b[0m\n\u001b[0m",
      "\u001b[1;31mKeyError\u001b[0m: 'Albania'",
      "\nDuring handling of the above exception, another exception occurred:\n",
      "\u001b[1;31mValueError\u001b[0m                                Traceback (most recent call last)",
      "\u001b[1;32m~\\AppData\\Local\\Temp\\ipykernel_33616\\3934683515.py\u001b[0m in \u001b[0;36m?\u001b[1;34m()\u001b[0m\n\u001b[1;32m----> 1\u001b[1;33m \u001b[0mdf\u001b[0m\u001b[1;33m.\u001b[0m\u001b[0mloc\u001b[0m\u001b[1;33m(\u001b[0m\u001b[1;34m\"Albania\"\u001b[0m\u001b[1;33m)\u001b[0m\u001b[1;33m\u001b[0m\u001b[1;33m\u001b[0m\u001b[0m\n\u001b[0m",
      "\u001b[1;32m~\\anaconda3\\Lib\\site-packages\\pandas\\core\\indexing.py\u001b[0m in \u001b[0;36m?\u001b[1;34m(self, axis)\u001b[0m\n\u001b[0;32m    734\u001b[0m         \u001b[1;31m# we need to return a copy of ourselves\u001b[0m\u001b[1;33m\u001b[0m\u001b[1;33m\u001b[0m\u001b[0m\n\u001b[0;32m    735\u001b[0m         \u001b[0mnew_self\u001b[0m \u001b[1;33m=\u001b[0m \u001b[0mtype\u001b[0m\u001b[1;33m(\u001b[0m\u001b[0mself\u001b[0m\u001b[1;33m)\u001b[0m\u001b[1;33m(\u001b[0m\u001b[0mself\u001b[0m\u001b[1;33m.\u001b[0m\u001b[0mname\u001b[0m\u001b[1;33m,\u001b[0m \u001b[0mself\u001b[0m\u001b[1;33m.\u001b[0m\u001b[0mobj\u001b[0m\u001b[1;33m)\u001b[0m\u001b[1;33m\u001b[0m\u001b[1;33m\u001b[0m\u001b[0m\n\u001b[0;32m    736\u001b[0m \u001b[1;33m\u001b[0m\u001b[0m\n\u001b[0;32m    737\u001b[0m         \u001b[1;32mif\u001b[0m \u001b[0maxis\u001b[0m \u001b[1;32mis\u001b[0m \u001b[1;32mnot\u001b[0m \u001b[1;32mNone\u001b[0m\u001b[1;33m:\u001b[0m\u001b[1;33m\u001b[0m\u001b[1;33m\u001b[0m\u001b[0m\n\u001b[1;32m--> 738\u001b[1;33m             \u001b[0maxis_int_none\u001b[0m \u001b[1;33m=\u001b[0m \u001b[0mself\u001b[0m\u001b[1;33m.\u001b[0m\u001b[0mobj\u001b[0m\u001b[1;33m.\u001b[0m\u001b[0m_get_axis_number\u001b[0m\u001b[1;33m(\u001b[0m\u001b[0maxis\u001b[0m\u001b[1;33m)\u001b[0m\u001b[1;33m\u001b[0m\u001b[1;33m\u001b[0m\u001b[0m\n\u001b[0m\u001b[0;32m    739\u001b[0m         \u001b[1;32melse\u001b[0m\u001b[1;33m:\u001b[0m\u001b[1;33m\u001b[0m\u001b[1;33m\u001b[0m\u001b[0m\n\u001b[0;32m    740\u001b[0m             \u001b[0maxis_int_none\u001b[0m \u001b[1;33m=\u001b[0m \u001b[0maxis\u001b[0m\u001b[1;33m\u001b[0m\u001b[1;33m\u001b[0m\u001b[0m\n\u001b[0;32m    741\u001b[0m         \u001b[0mnew_self\u001b[0m\u001b[1;33m.\u001b[0m\u001b[0maxis\u001b[0m \u001b[1;33m=\u001b[0m \u001b[0maxis_int_none\u001b[0m\u001b[1;33m\u001b[0m\u001b[1;33m\u001b[0m\u001b[0m\n",
      "\u001b[1;32m~\\anaconda3\\Lib\\site-packages\\pandas\\core\\generic.py\u001b[0m in \u001b[0;36m?\u001b[1;34m(cls, axis)\u001b[0m\n\u001b[0;32m    574\u001b[0m     \u001b[1;32mdef\u001b[0m \u001b[0m_get_axis_number\u001b[0m\u001b[1;33m(\u001b[0m\u001b[0mcls\u001b[0m\u001b[1;33m,\u001b[0m \u001b[0maxis\u001b[0m\u001b[1;33m:\u001b[0m \u001b[0mAxis\u001b[0m\u001b[1;33m)\u001b[0m \u001b[1;33m->\u001b[0m \u001b[0mAxisInt\u001b[0m\u001b[1;33m:\u001b[0m\u001b[1;33m\u001b[0m\u001b[1;33m\u001b[0m\u001b[0m\n\u001b[0;32m    575\u001b[0m         \u001b[1;32mtry\u001b[0m\u001b[1;33m:\u001b[0m\u001b[1;33m\u001b[0m\u001b[1;33m\u001b[0m\u001b[0m\n\u001b[0;32m    576\u001b[0m             \u001b[1;32mreturn\u001b[0m \u001b[0mcls\u001b[0m\u001b[1;33m.\u001b[0m\u001b[0m_AXIS_TO_AXIS_NUMBER\u001b[0m\u001b[1;33m[\u001b[0m\u001b[0maxis\u001b[0m\u001b[1;33m]\u001b[0m\u001b[1;33m\u001b[0m\u001b[1;33m\u001b[0m\u001b[0m\n\u001b[0;32m    577\u001b[0m         \u001b[1;32mexcept\u001b[0m \u001b[0mKeyError\u001b[0m\u001b[1;33m:\u001b[0m\u001b[1;33m\u001b[0m\u001b[1;33m\u001b[0m\u001b[0m\n\u001b[1;32m--> 578\u001b[1;33m             \u001b[1;32mraise\u001b[0m \u001b[0mValueError\u001b[0m\u001b[1;33m(\u001b[0m\u001b[1;33mf\"\u001b[0m\u001b[1;33mNo axis named \u001b[0m\u001b[1;33m{\u001b[0m\u001b[0maxis\u001b[0m\u001b[1;33m}\u001b[0m\u001b[1;33m for object type \u001b[0m\u001b[1;33m{\u001b[0m\u001b[0mcls\u001b[0m\u001b[1;33m.\u001b[0m\u001b[0m__name__\u001b[0m\u001b[1;33m}\u001b[0m\u001b[1;33m\"\u001b[0m\u001b[1;33m)\u001b[0m\u001b[1;33m\u001b[0m\u001b[1;33m\u001b[0m\u001b[0m\n\u001b[0m",
      "\u001b[1;31mValueError\u001b[0m: No axis named Albania for object type DataFrame"
     ]
    }
   ],
   "source": [
    "df.loc(\"Albania\")\n"
   ]
  },
  {
   "cell_type": "code",
   "execution_count": 309,
   "id": "3e3a4cf3-8a76-44b7-8db4-8664bc237abd",
   "metadata": {},
   "outputs": [],
   "source": [
    "df.index = df.index.str.strip()\n"
   ]
  },
  {
   "cell_type": "code",
   "execution_count": 314,
   "id": "82d63c60-14ba-4add-9bee-b2670b1ca9b5",
   "metadata": {},
   "outputs": [
    {
     "data": {
      "text/html": [
       "<div>\n",
       "<style scoped>\n",
       "    .dataframe tbody tr th:only-of-type {\n",
       "        vertical-align: middle;\n",
       "    }\n",
       "\n",
       "    .dataframe tbody tr th {\n",
       "        vertical-align: top;\n",
       "    }\n",
       "\n",
       "    .dataframe thead th {\n",
       "        text-align: right;\n",
       "    }\n",
       "</style>\n",
       "<table border=\"1\" class=\"dataframe\">\n",
       "  <thead>\n",
       "    <tr style=\"text-align: right;\">\n",
       "      <th></th>\n",
       "      <th>Region</th>\n",
       "      <th>Population</th>\n",
       "      <th>Area (sq. mi.)</th>\n",
       "      <th>Pop. Density (per sq. mi.)</th>\n",
       "      <th>Coastline (coast/area ratio)</th>\n",
       "      <th>Net migration</th>\n",
       "      <th>Infant mortality (per 1000 births)</th>\n",
       "      <th>GDP ($ per capita)</th>\n",
       "      <th>Literacy (%)</th>\n",
       "      <th>Phones (per 1000)</th>\n",
       "      <th>Arable (%)</th>\n",
       "      <th>Crops (%)</th>\n",
       "      <th>Other (%)</th>\n",
       "      <th>Climate</th>\n",
       "      <th>Birthrate</th>\n",
       "      <th>Deathrate</th>\n",
       "      <th>Agriculture</th>\n",
       "      <th>Industry</th>\n",
       "      <th>Service</th>\n",
       "    </tr>\n",
       "    <tr>\n",
       "      <th>Country</th>\n",
       "      <th></th>\n",
       "      <th></th>\n",
       "      <th></th>\n",
       "      <th></th>\n",
       "      <th></th>\n",
       "      <th></th>\n",
       "      <th></th>\n",
       "      <th></th>\n",
       "      <th></th>\n",
       "      <th></th>\n",
       "      <th></th>\n",
       "      <th></th>\n",
       "      <th></th>\n",
       "      <th></th>\n",
       "      <th></th>\n",
       "      <th></th>\n",
       "      <th></th>\n",
       "      <th></th>\n",
       "      <th></th>\n",
       "    </tr>\n",
       "  </thead>\n",
       "  <tbody>\n",
       "    <tr>\n",
       "      <th>Afghanistan</th>\n",
       "      <td>ASIA (EX. NEAR EAST)</td>\n",
       "      <td>31056997</td>\n",
       "      <td>647500</td>\n",
       "      <td>48,0</td>\n",
       "      <td>0,00</td>\n",
       "      <td>23,06</td>\n",
       "      <td>163,07</td>\n",
       "      <td>700.0</td>\n",
       "      <td>36,0</td>\n",
       "      <td>3,2</td>\n",
       "      <td>12,13</td>\n",
       "      <td>0,22</td>\n",
       "      <td>87,65</td>\n",
       "      <td>1</td>\n",
       "      <td>46,6</td>\n",
       "      <td>20,34</td>\n",
       "      <td>0,38</td>\n",
       "      <td>0,24</td>\n",
       "      <td>0,38</td>\n",
       "    </tr>\n",
       "    <tr>\n",
       "      <th>Albania</th>\n",
       "      <td>EASTERN EUROPE</td>\n",
       "      <td>3581655</td>\n",
       "      <td>28748</td>\n",
       "      <td>124,6</td>\n",
       "      <td>1,26</td>\n",
       "      <td>-4,93</td>\n",
       "      <td>21,52</td>\n",
       "      <td>4500.0</td>\n",
       "      <td>86,5</td>\n",
       "      <td>71,2</td>\n",
       "      <td>21,09</td>\n",
       "      <td>4,42</td>\n",
       "      <td>74,49</td>\n",
       "      <td>3</td>\n",
       "      <td>15,11</td>\n",
       "      <td>5,22</td>\n",
       "      <td>0,232</td>\n",
       "      <td>0,188</td>\n",
       "      <td>0,579</td>\n",
       "    </tr>\n",
       "    <tr>\n",
       "      <th>Algeria</th>\n",
       "      <td>NORTHERN AFRICA</td>\n",
       "      <td>32930091</td>\n",
       "      <td>2381740</td>\n",
       "      <td>13,8</td>\n",
       "      <td>0,04</td>\n",
       "      <td>-0,39</td>\n",
       "      <td>31</td>\n",
       "      <td>6000.0</td>\n",
       "      <td>70,0</td>\n",
       "      <td>78,1</td>\n",
       "      <td>3,22</td>\n",
       "      <td>0,25</td>\n",
       "      <td>96,53</td>\n",
       "      <td>1</td>\n",
       "      <td>17,14</td>\n",
       "      <td>4,61</td>\n",
       "      <td>0,101</td>\n",
       "      <td>0,6</td>\n",
       "      <td>0,298</td>\n",
       "    </tr>\n",
       "    <tr>\n",
       "      <th>American Samoa</th>\n",
       "      <td>OCEANIA</td>\n",
       "      <td>57794</td>\n",
       "      <td>199</td>\n",
       "      <td>290,4</td>\n",
       "      <td>58,29</td>\n",
       "      <td>-20,71</td>\n",
       "      <td>9,27</td>\n",
       "      <td>8000.0</td>\n",
       "      <td>97,0</td>\n",
       "      <td>259,5</td>\n",
       "      <td>10</td>\n",
       "      <td>15</td>\n",
       "      <td>75</td>\n",
       "      <td>2</td>\n",
       "      <td>22,46</td>\n",
       "      <td>3,27</td>\n",
       "      <td>NaN</td>\n",
       "      <td>NaN</td>\n",
       "      <td>NaN</td>\n",
       "    </tr>\n",
       "    <tr>\n",
       "      <th>Andorra</th>\n",
       "      <td>WESTERN EUROPE</td>\n",
       "      <td>71201</td>\n",
       "      <td>468</td>\n",
       "      <td>152,1</td>\n",
       "      <td>0,00</td>\n",
       "      <td>6,6</td>\n",
       "      <td>4,05</td>\n",
       "      <td>19000.0</td>\n",
       "      <td>100,0</td>\n",
       "      <td>497,2</td>\n",
       "      <td>2,22</td>\n",
       "      <td>0</td>\n",
       "      <td>97,78</td>\n",
       "      <td>3</td>\n",
       "      <td>8,71</td>\n",
       "      <td>6,25</td>\n",
       "      <td>NaN</td>\n",
       "      <td>NaN</td>\n",
       "      <td>NaN</td>\n",
       "    </tr>\n",
       "    <tr>\n",
       "      <th>...</th>\n",
       "      <td>...</td>\n",
       "      <td>...</td>\n",
       "      <td>...</td>\n",
       "      <td>...</td>\n",
       "      <td>...</td>\n",
       "      <td>...</td>\n",
       "      <td>...</td>\n",
       "      <td>...</td>\n",
       "      <td>...</td>\n",
       "      <td>...</td>\n",
       "      <td>...</td>\n",
       "      <td>...</td>\n",
       "      <td>...</td>\n",
       "      <td>...</td>\n",
       "      <td>...</td>\n",
       "      <td>...</td>\n",
       "      <td>...</td>\n",
       "      <td>...</td>\n",
       "      <td>...</td>\n",
       "    </tr>\n",
       "    <tr>\n",
       "      <th>West Bank</th>\n",
       "      <td>NEAR EAST</td>\n",
       "      <td>2460492</td>\n",
       "      <td>5860</td>\n",
       "      <td>419,9</td>\n",
       "      <td>0,00</td>\n",
       "      <td>2,98</td>\n",
       "      <td>19,62</td>\n",
       "      <td>800.0</td>\n",
       "      <td>NaN</td>\n",
       "      <td>145,2</td>\n",
       "      <td>16,9</td>\n",
       "      <td>18,97</td>\n",
       "      <td>64,13</td>\n",
       "      <td>3</td>\n",
       "      <td>31,67</td>\n",
       "      <td>3,92</td>\n",
       "      <td>0,09</td>\n",
       "      <td>0,28</td>\n",
       "      <td>0,63</td>\n",
       "    </tr>\n",
       "    <tr>\n",
       "      <th>Western Sahara</th>\n",
       "      <td>NORTHERN AFRICA</td>\n",
       "      <td>273008</td>\n",
       "      <td>266000</td>\n",
       "      <td>1,0</td>\n",
       "      <td>0,42</td>\n",
       "      <td>NaN</td>\n",
       "      <td>NaN</td>\n",
       "      <td>NaN</td>\n",
       "      <td>NaN</td>\n",
       "      <td>NaN</td>\n",
       "      <td>0,02</td>\n",
       "      <td>0</td>\n",
       "      <td>99,98</td>\n",
       "      <td>1</td>\n",
       "      <td>NaN</td>\n",
       "      <td>NaN</td>\n",
       "      <td>NaN</td>\n",
       "      <td>NaN</td>\n",
       "      <td>0,4</td>\n",
       "    </tr>\n",
       "    <tr>\n",
       "      <th>Yemen</th>\n",
       "      <td>NEAR EAST</td>\n",
       "      <td>21456188</td>\n",
       "      <td>527970</td>\n",
       "      <td>40,6</td>\n",
       "      <td>0,36</td>\n",
       "      <td>0</td>\n",
       "      <td>61,5</td>\n",
       "      <td>800.0</td>\n",
       "      <td>50,2</td>\n",
       "      <td>37,2</td>\n",
       "      <td>2,78</td>\n",
       "      <td>0,24</td>\n",
       "      <td>96,98</td>\n",
       "      <td>1</td>\n",
       "      <td>42,89</td>\n",
       "      <td>8,3</td>\n",
       "      <td>0,135</td>\n",
       "      <td>0,472</td>\n",
       "      <td>0,393</td>\n",
       "    </tr>\n",
       "    <tr>\n",
       "      <th>Zambia</th>\n",
       "      <td>SUB-SAHARAN AFRICA</td>\n",
       "      <td>11502010</td>\n",
       "      <td>752614</td>\n",
       "      <td>15,3</td>\n",
       "      <td>0,00</td>\n",
       "      <td>0</td>\n",
       "      <td>88,29</td>\n",
       "      <td>800.0</td>\n",
       "      <td>80,6</td>\n",
       "      <td>8,2</td>\n",
       "      <td>7,08</td>\n",
       "      <td>0,03</td>\n",
       "      <td>92,9</td>\n",
       "      <td>2</td>\n",
       "      <td>41</td>\n",
       "      <td>19,93</td>\n",
       "      <td>0,22</td>\n",
       "      <td>0,29</td>\n",
       "      <td>0,489</td>\n",
       "    </tr>\n",
       "    <tr>\n",
       "      <th>Zimbabwe</th>\n",
       "      <td>SUB-SAHARAN AFRICA</td>\n",
       "      <td>12236805</td>\n",
       "      <td>390580</td>\n",
       "      <td>31,3</td>\n",
       "      <td>0,00</td>\n",
       "      <td>0</td>\n",
       "      <td>67,69</td>\n",
       "      <td>1900.0</td>\n",
       "      <td>90,7</td>\n",
       "      <td>26,8</td>\n",
       "      <td>8,32</td>\n",
       "      <td>0,34</td>\n",
       "      <td>91,34</td>\n",
       "      <td>2</td>\n",
       "      <td>28,01</td>\n",
       "      <td>21,84</td>\n",
       "      <td>0,179</td>\n",
       "      <td>0,243</td>\n",
       "      <td>0,579</td>\n",
       "    </tr>\n",
       "  </tbody>\n",
       "</table>\n",
       "<p>227 rows × 19 columns</p>\n",
       "</div>"
      ],
      "text/plain": [
       "                                             Region  Population  \\\n",
       "Country                                                           \n",
       "Afghanistan           ASIA (EX. NEAR EAST)             31056997   \n",
       "Albania         EASTERN EUROPE                          3581655   \n",
       "Algeria         NORTHERN AFRICA                        32930091   \n",
       "American Samoa  OCEANIA                                   57794   \n",
       "Andorra         WESTERN EUROPE                            71201   \n",
       "...                                             ...         ...   \n",
       "West Bank       NEAR EAST                               2460492   \n",
       "Western Sahara  NORTHERN AFRICA                          273008   \n",
       "Yemen           NEAR EAST                              21456188   \n",
       "Zambia          SUB-SAHARAN AFRICA                     11502010   \n",
       "Zimbabwe        SUB-SAHARAN AFRICA                     12236805   \n",
       "\n",
       "                Area (sq. mi.) Pop. Density (per sq. mi.)  \\\n",
       "Country                                                     \n",
       "Afghanistan             647500                       48,0   \n",
       "Albania                  28748                      124,6   \n",
       "Algeria                2381740                       13,8   \n",
       "American Samoa             199                      290,4   \n",
       "Andorra                    468                      152,1   \n",
       "...                        ...                        ...   \n",
       "West Bank                 5860                      419,9   \n",
       "Western Sahara          266000                        1,0   \n",
       "Yemen                   527970                       40,6   \n",
       "Zambia                  752614                       15,3   \n",
       "Zimbabwe                390580                       31,3   \n",
       "\n",
       "               Coastline (coast/area ratio) Net migration  \\\n",
       "Country                                                     \n",
       "Afghanistan                            0,00         23,06   \n",
       "Albania                                1,26         -4,93   \n",
       "Algeria                                0,04         -0,39   \n",
       "American Samoa                        58,29        -20,71   \n",
       "Andorra                                0,00           6,6   \n",
       "...                                     ...           ...   \n",
       "West Bank                              0,00          2,98   \n",
       "Western Sahara                         0,42           NaN   \n",
       "Yemen                                  0,36             0   \n",
       "Zambia                                 0,00             0   \n",
       "Zimbabwe                               0,00             0   \n",
       "\n",
       "               Infant mortality (per 1000 births)  GDP ($ per capita)  \\\n",
       "Country                                                                 \n",
       "Afghanistan                                163,07               700.0   \n",
       "Albania                                     21,52              4500.0   \n",
       "Algeria                                        31              6000.0   \n",
       "American Samoa                               9,27              8000.0   \n",
       "Andorra                                      4,05             19000.0   \n",
       "...                                           ...                 ...   \n",
       "West Bank                                   19,62               800.0   \n",
       "Western Sahara                                NaN                 NaN   \n",
       "Yemen                                        61,5               800.0   \n",
       "Zambia                                      88,29               800.0   \n",
       "Zimbabwe                                    67,69              1900.0   \n",
       "\n",
       "               Literacy (%) Phones (per 1000) Arable (%) Crops (%) Other (%)  \\\n",
       "Country                                                                        \n",
       "Afghanistan            36,0               3,2      12,13      0,22     87,65   \n",
       "Albania                86,5              71,2      21,09      4,42     74,49   \n",
       "Algeria                70,0              78,1       3,22      0,25     96,53   \n",
       "American Samoa         97,0             259,5         10        15        75   \n",
       "Andorra               100,0             497,2       2,22         0     97,78   \n",
       "...                     ...               ...        ...       ...       ...   \n",
       "West Bank               NaN             145,2       16,9     18,97     64,13   \n",
       "Western Sahara          NaN               NaN       0,02         0     99,98   \n",
       "Yemen                  50,2              37,2       2,78      0,24     96,98   \n",
       "Zambia                 80,6               8,2       7,08      0,03      92,9   \n",
       "Zimbabwe               90,7              26,8       8,32      0,34     91,34   \n",
       "\n",
       "               Climate Birthrate Deathrate Agriculture Industry Service  \n",
       "Country                                                                  \n",
       "Afghanistan          1      46,6     20,34        0,38     0,24    0,38  \n",
       "Albania              3     15,11      5,22       0,232    0,188   0,579  \n",
       "Algeria              1     17,14      4,61       0,101      0,6   0,298  \n",
       "American Samoa       2     22,46      3,27         NaN      NaN     NaN  \n",
       "Andorra              3      8,71      6,25         NaN      NaN     NaN  \n",
       "...                ...       ...       ...         ...      ...     ...  \n",
       "West Bank            3     31,67      3,92        0,09     0,28    0,63  \n",
       "Western Sahara       1       NaN       NaN         NaN      NaN     0,4  \n",
       "Yemen                1     42,89       8,3       0,135    0,472   0,393  \n",
       "Zambia               2        41     19,93        0,22     0,29   0,489  \n",
       "Zimbabwe             2     28,01     21,84       0,179    0,243   0,579  \n",
       "\n",
       "[227 rows x 19 columns]"
      ]
     },
     "execution_count": 314,
     "metadata": {},
     "output_type": "execute_result"
    }
   ],
   "source": [
    "df "
   ]
  },
  {
   "cell_type": "code",
   "execution_count": 318,
   "id": "ccb2c0fd-de9b-4d95-845b-a765e18b87bc",
   "metadata": {},
   "outputs": [
    {
     "data": {
      "text/plain": [
       "Region                                EASTERN EUROPE                     \n",
       "Population                                                        3581655\n",
       "Area (sq. mi.)                                                      28748\n",
       "Pop. Density (per sq. mi.)                                          124,6\n",
       "Coastline (coast/area ratio)                                         1,26\n",
       "Net migration                                                       -4,93\n",
       "Infant mortality (per 1000 births)                                  21,52\n",
       "GDP ($ per capita)                                                 4500.0\n",
       "Literacy (%)                                                         86,5\n",
       "Phones (per 1000)                                                    71,2\n",
       "Arable (%)                                                          21,09\n",
       "Crops (%)                                                            4,42\n",
       "Other (%)                                                           74,49\n",
       "Climate                                                                 3\n",
       "Birthrate                                                           15,11\n",
       "Deathrate                                                            5,22\n",
       "Agriculture                                                         0,232\n",
       "Industry                                                            0,188\n",
       "Service                                                             0,579\n",
       "Name: Albania, dtype: object"
      ]
     },
     "execution_count": 318,
     "metadata": {},
     "output_type": "execute_result"
    }
   ],
   "source": [
    "#import matplotlib.pyplot as plt\n",
    "\n",
    "#df['Salary'].plot(kind='bar')\n",
    "#plt.show()\n",
    "df.loc[\"Albania\"]\n"
   ]
  },
  {
   "cell_type": "code",
   "execution_count": 1,
   "id": "ee1726ba-52f7-4cf1-bfb5-78d3f99c6c0c",
   "metadata": {},
   "outputs": [],
   "source": [
    "#Below 18.5 → \"Underweight\"\n",
    "#18.5 - 24.9 → \"Normal weight\"\n",
    "#25 - 29.9 → \"Overweight\"\n",
    "#30 and above → \"Obese\"\n",
    "BMI=lambda x:\"underweight\" if (x<18.5) else (\"normal weight\" if (x>18.5 and x<24.9) else (\"overweight\" if (x>25 and x<29.9) else \"obese\"))"
   ]
  },
  {
   "cell_type": "code",
   "execution_count": 3,
   "id": "85239141-9403-4002-8d6b-bec49c44d5f0",
   "metadata": {},
   "outputs": [
    {
     "data": {
      "text/plain": [
       "'obese'"
      ]
     },
     "execution_count": 3,
     "metadata": {},
     "output_type": "execute_result"
    }
   ],
   "source": [
    "BMI(60)"
   ]
  },
  {
   "cell_type": "code",
   "execution_count": 9,
   "id": "03f76da6-21cc-46a1-8307-2d1ac2d159d7",
   "metadata": {},
   "outputs": [
    {
     "name": "stdout",
     "output_type": "stream",
     "text": [
      "prime\n"
     ]
    }
   ],
   "source": [
    "is_prime = lambda n: \"prime\" if n > 1 and all(n % i != 0 for i in range(2, int(n**0.5) + 1)) else \"composite\" if n > 1 else \"zero\"\n",
    "\n",
    "# Example usage:\n",
    "number = 17\n",
    "print(is_prime(number))  # Output: prime\n",
    "   \n",
    "    "
   ]
  },
  {
   "cell_type": "code",
   "execution_count": null,
   "id": "f5b93c0b-ec13-4c38-8fb8-c541692192fd",
   "metadata": {},
   "outputs": [],
   "source": []
  }
 ],
 "metadata": {
  "kernelspec": {
   "display_name": "Python [conda env:base] *",
   "language": "python",
   "name": "conda-base-py"
  },
  "language_info": {
   "codemirror_mode": {
    "name": "ipython",
    "version": 3
   },
   "file_extension": ".py",
   "mimetype": "text/x-python",
   "name": "python",
   "nbconvert_exporter": "python",
   "pygments_lexer": "ipython3",
   "version": "3.12.7"
  }
 },
 "nbformat": 4,
 "nbformat_minor": 5
}
