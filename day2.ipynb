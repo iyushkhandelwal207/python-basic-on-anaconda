{
 "cells": [
  {
   "cell_type": "code",
   "execution_count": 2,
   "id": "0bda7820-c2e8-4f2c-8092-67deb665c804",
   "metadata": {},
   "outputs": [
    {
     "data": {
      "text/plain": [
       "15"
      ]
     },
     "execution_count": 2,
     "metadata": {},
     "output_type": "execute_result"
    }
   ],
   "source": [
    "a=[1,2,3,4,5]\n",
    "sum(a)"
   ]
  },
  {
   "cell_type": "code",
   "execution_count": 21,
   "id": "1fa23975-efaa-40aa-abb7-8133be03afdd",
   "metadata": {},
   "outputs": [
    {
     "name": "stdout",
     "output_type": "stream",
     "text": [
      "2.0\n"
     ]
    }
   ],
   "source": [
    "def average(*args):  \n",
    "    total = sum(args)\n",
    "    print(total/len(args))  \n",
    "\n",
    "average(1, 2, 3)  "
   ]
  },
  {
   "cell_type": "markdown",
   "id": "d8878302-ded3-434f-a35f-8dc1c22702c8",
   "metadata": {},
   "source": [
    "# Loops"
   ]
  },
  {
   "cell_type": "code",
   "execution_count": 32,
   "id": "227d2e13-68b5-4a63-8c0c-b1e544cba114",
   "metadata": {},
   "outputs": [
    {
     "name": "stdout",
     "output_type": "stream",
     "text": [
      "peter 20 LA\n"
     ]
    }
   ],
   "source": [
    "#Changing Global Variable  \n",
    "\n",
    "name = \"Mike\"  \n",
    "\n",
    "def info():  \n",
    "    global name\n",
    "    name=\"peter\"#local variable ki help se globally change kar diya hei\n",
    "    age = 20  \n",
    "    city = \"LA\"  \n",
    "    print(name, age, city)  \n",
    "\n",
    "info()  "
   ]
  },
  {
   "cell_type": "code",
   "execution_count": 34,
   "id": "b70245b6-fa34-4edf-8045-9b5b011a5d50",
   "metadata": {},
   "outputs": [
    {
     "data": {
      "text/plain": [
       "'peter'"
      ]
     },
     "execution_count": 34,
     "metadata": {},
     "output_type": "execute_result"
    }
   ],
   "source": [
    "name"
   ]
  },
  {
   "cell_type": "markdown",
   "id": "4d3b73e4-da91-497c-abb5-b5bdf2564543",
   "metadata": {},
   "source": [
    "# Loops"
   ]
  },
  {
   "cell_type": "code",
   "execution_count": 49,
   "id": "d1ef829e-499d-46a4-a802-51faab8cb3ad",
   "metadata": {},
   "outputs": [
    {
     "name": "stdout",
     "output_type": "stream",
     "text": [
      "5\n",
      "10\n",
      "15\n",
      "20\n",
      "25\n",
      "30\n",
      "35\n",
      "40\n",
      "45\n",
      "50\n"
     ]
    }
   ],
   "source": [
    "for i in range(1,11,1):\n",
    "    print(5*i)"
   ]
  },
  {
   "cell_type": "code",
   "execution_count": 53,
   "id": "f99d15ea-6af1-482a-921a-4927484f79d0",
   "metadata": {},
   "outputs": [
    {
     "name": "stdout",
     "output_type": "stream",
     "text": [
      "20\n",
      "22\n",
      "24\n",
      "26\n",
      "28\n",
      "30\n",
      "32\n",
      "34\n",
      "36\n",
      "38\n",
      "40\n",
      "42\n",
      "44\n",
      "46\n",
      "48\n",
      "50\n",
      "52\n",
      "54\n",
      "56\n",
      "58\n",
      "60\n",
      "62\n",
      "64\n",
      "66\n",
      "68\n",
      "70\n",
      "72\n",
      "74\n",
      "76\n",
      "78\n",
      "80\n",
      "82\n",
      "84\n",
      "86\n",
      "88\n",
      "90\n",
      "92\n",
      "94\n",
      "96\n",
      "98\n",
      "100\n"
     ]
    }
   ],
   "source": [
    "for i in range(20,101,1):\n",
    "    if(i%2==0):\n",
    "        print(i)\n",
    "        "
   ]
  },
  {
   "cell_type": "code",
   "execution_count": 63,
   "id": "0ade72e5-850a-478f-9243-a7edb287f5ad",
   "metadata": {},
   "outputs": [
    {
     "name": "stdout",
     "output_type": "stream",
     "text": [
      "5 * 1 = 5\n",
      "5 * 2 = 10\n",
      "5 * 3 = 15\n",
      "5 * 4 = 20\n",
      "5 * 5 = 25\n",
      "5 * 6 = 30\n",
      "5 * 7 = 35\n",
      "5 * 8 = 40\n",
      "5 * 9 = 45\n",
      "5 * 10 = 50\n"
     ]
    }
   ],
   "source": [
    "def table(n):  \n",
    "    for i in range(1, 11):  \n",
    "        print(n, \"*\", i, \"=\", n * i)  \n",
    "\n",
    "table(5)  "
   ]
  },
  {
   "cell_type": "code",
   "execution_count": 71,
   "id": "aa115424-5254-470f-a1b7-e21cd31518a3",
   "metadata": {},
   "outputs": [
    {
     "name": "stdout",
     "output_type": "stream",
     "text": [
      "2\n",
      "4\n",
      "6\n",
      "8\n",
      "10\n"
     ]
    }
   ],
   "source": [
    "list1=[1,2,3,4,5,6,8,9,10]\n",
    "for i in list1:\n",
    "    if(i%2==0):\n",
    "        print(i)"
   ]
  },
  {
   "cell_type": "code",
   "execution_count": null,
   "id": "c68815cb-b9df-49f6-ac4f-bab2a031a582",
   "metadata": {},
   "outputs": [],
   "source": [
    "Assignment 5\n",
    "Practise Questions\n",
    "Write a program to print the first 10 natural numbers using a for loop.\n",
    "Write a program to print all even numbers between 1 and 20 using a while loop.\n",
    "Write a program that reverses a string which you took from user.\n",
    "Write a program that skips every alternate value from a sentence.\n",
    "Write a program to calculate the factorial of a number using a loop.\n",
    "Create a program that prints the reverse of a given string.\n",
    "Write a program to generate a Fibonacci sequence of n terms using a while loop.\n",
    "Create a nested loop program to print a pyramid pattern.\n",
    "Write a program that finds the sum of all prime numbers between 1 and 100 using loops."
   ]
  },
  {
   "cell_type": "code",
   "execution_count": 73,
   "id": "f228ff6d-2f35-4555-9ca6-7ad519ffca15",
   "metadata": {},
   "outputs": [
    {
     "name": "stdout",
     "output_type": "stream",
     "text": [
      "1\n",
      "4\n",
      "9\n",
      "16\n",
      "25\n",
      "36\n",
      "64\n",
      "81\n",
      "100\n"
     ]
    }
   ],
   "source": [
    "list1=[1,2,3,4,5,6,8,9,10]\n",
    "for i in list1:\n",
    "        print(i**i)"
   ]
  },
  {
   "cell_type": "code",
   "execution_count": 75,
   "id": "8876b08a-d508-40b3-b3b2-d8c7a449c52f",
   "metadata": {},
   "outputs": [
    {
     "name": "stdout",
     "output_type": "stream",
     "text": [
      "1\n",
      "4\n",
      "9\n",
      "16\n",
      "25\n",
      "36\n",
      "64\n",
      "81\n",
      "100\n"
     ]
    }
   ],
   "source": [
    "list1=[1,2,3,4,5,6,8,9,10]\n",
    "for i in list1:\n",
    "        print(i**2)"
   ]
  },
  {
   "cell_type": "markdown",
   "id": "2c74b41b-7538-4b9c-adfd-eb6dda3be935",
   "metadata": {},
   "source": [
    "### while"
   ]
  },
  {
   "cell_type": "code",
   "execution_count": 92,
   "id": "cf179ab5-fe94-4f51-8ff3-57f4dd00278d",
   "metadata": {},
   "outputs": [
    {
     "name": "stdout",
     "output_type": "stream",
     "text": [
      "0\n",
      "1\n",
      "2\n",
      "3\n",
      "4\n",
      "5\n"
     ]
    }
   ],
   "source": [
    "i=0\n",
    "while(i<=5):\n",
    "    print(i)\n",
    "    i=i+1"
   ]
  },
  {
   "cell_type": "code",
   "execution_count": 98,
   "id": "07bfe053-057a-4a39-a47b-8f3ed29da86b",
   "metadata": {},
   "outputs": [
    {
     "name": "stdout",
     "output_type": "stream",
     "text": [
      "5*1=5\n",
      "5*2=10\n",
      "5*3=15\n",
      "5*4=20\n",
      "5*5=25\n",
      "5*6=30\n",
      "5*7=35\n",
      "5*8=40\n",
      "5*9=45\n",
      "5*10=50\n"
     ]
    }
   ],
   "source": [
    "i=1\n",
    "while(i<=10):\n",
    "    print(f\"{5}*{i}={i*5}\")\n",
    "    i=i+1"
   ]
  },
  {
   "cell_type": "code",
   "execution_count": 102,
   "id": "b5dd0711-991b-4623-a4aa-c05d124b7147",
   "metadata": {},
   "outputs": [],
   "source": [
    "matrix=[[1,2,3],[4,5,6],[7,8,9]]"
   ]
  },
  {
   "cell_type": "code",
   "execution_count": 110,
   "id": "68a7387f-18fb-4f91-9aa7-ca1be7caa388",
   "metadata": {},
   "outputs": [
    {
     "name": "stdout",
     "output_type": "stream",
     "text": [
      "1\n",
      "2\n",
      "3\n",
      "4\n",
      "5\n",
      "6\n",
      "7\n",
      "8\n",
      "9\n"
     ]
    }
   ],
   "source": [
    "for i in matrix:\n",
    "    for j in i:\n",
    "      print(j)\n",
    "\n"
   ]
  },
  {
   "cell_type": "code",
   "execution_count": 158,
   "id": "a2d8f3a1-6396-4242-8b40-0d0f5d4e3825",
   "metadata": {},
   "outputs": [
    {
     "name": "stdout",
     "output_type": "stream",
     "text": [
      "\n",
      "1 \n",
      "1 2 \n",
      "1 2 3 \n"
     ]
    }
   ],
   "source": [
    "for i in range(1,5,1):\n",
    "    for j in range(1,i,1):\n",
    "        print(j,end=\" \")\n",
    "    print(\"\")"
   ]
  },
  {
   "cell_type": "code",
   "execution_count": 160,
   "id": "61bad44e-709a-4f86-86d9-4b62a781488f",
   "metadata": {},
   "outputs": [
    {
     "name": "stdout",
     "output_type": "stream",
     "text": [
      "\n",
      " \n",
      "  \n",
      "   \n"
     ]
    }
   ],
   "source": [
    "for i in range(1,5,1):\n",
    "    for j in range(1,i,1):\n",
    "        print(\"\",end=\" \")\n",
    "    print(\"\")\n",
    "    "
   ]
  },
  {
   "cell_type": "markdown",
   "id": "bb113f27-8e49-4fc4-846f-af4794b6a80b",
   "metadata": {},
   "source": [
    "# break & continue"
   ]
  },
  {
   "cell_type": "code",
   "execution_count": 165,
   "id": "de4b00d1-92d5-4b68-8f53-d78d21655ec1",
   "metadata": {},
   "outputs": [
    {
     "name": "stdout",
     "output_type": "stream",
     "text": [
      "0\n",
      "1\n",
      "2\n",
      "3\n",
      "4\n"
     ]
    }
   ],
   "source": [
    "for i in range(0,10):\n",
    "    if(i==5):\n",
    "        break;\n",
    "    print(i)"
   ]
  },
  {
   "cell_type": "code",
   "execution_count": 167,
   "id": "6da8061a-1b1f-4df2-87c5-3a26a161826d",
   "metadata": {
    "scrolled": true
   },
   "outputs": [
    {
     "name": "stdout",
     "output_type": "stream",
     "text": [
      "0\n",
      "1\n",
      "2\n",
      "3\n",
      "4\n",
      "6\n",
      "7\n",
      "8\n",
      "9\n"
     ]
    }
   ],
   "source": [
    "for i in range(0,10):\n",
    "    if(i==5):\n",
    "        continue;\n",
    "    print(i)"
   ]
  },
  {
   "cell_type": "markdown",
   "id": "8669944b-d9a5-43b9-ab1b-1ba6bcda0744",
   "metadata": {},
   "source": [
    "# Random module"
   ]
  },
  {
   "cell_type": "code",
   "execution_count": 169,
   "id": "63560682-6dee-4212-8c8c-138aa599dac0",
   "metadata": {},
   "outputs": [],
   "source": [
    "import random"
   ]
  },
  {
   "cell_type": "code",
   "execution_count": 171,
   "id": "fba48c48-bb99-42fe-9bfb-b896983af5c5",
   "metadata": {},
   "outputs": [],
   "source": [
    "num=random.randint(1,6)"
   ]
  },
  {
   "cell_type": "code",
   "execution_count": 173,
   "id": "dfeb7100-8e1f-4bd0-81d8-4578184e5522",
   "metadata": {},
   "outputs": [
    {
     "data": {
      "text/plain": [
       "3"
      ]
     },
     "execution_count": 173,
     "metadata": {},
     "output_type": "execute_result"
    }
   ],
   "source": [
    "num"
   ]
  },
  {
   "cell_type": "code",
   "execution_count": 175,
   "id": "07eb6374-265c-44d6-9667-d8a349d36e8e",
   "metadata": {},
   "outputs": [
    {
     "name": "stdout",
     "output_type": "stream",
     "text": [
      "22\n"
     ]
    }
   ],
   "source": [
    "num=random.randint(22,66)\n",
    "print(num)"
   ]
  },
  {
   "cell_type": "code",
   "execution_count": 9,
   "id": "d84b7779-ed88-40d7-82a1-93c8ca5b0322",
   "metadata": {},
   "outputs": [
    {
     "name": "stdout",
     "output_type": "stream",
     "text": [
      "red\n"
     ]
    }
   ],
   "source": [
    "colors=[\"red\",\"blue\",\"green\",\"yellow\"]\n",
    "randomcolor=random.choice(colors)\n",
    "print(randomcolor)"
   ]
  },
  {
   "cell_type": "code",
   "execution_count": 11,
   "id": "23292c24-62a4-4a89-a65f-a9f46241a277",
   "metadata": {},
   "outputs": [],
   "source": [
    "random.shuffle(colors)"
   ]
  },
  {
   "cell_type": "code",
   "execution_count": 13,
   "id": "62fabe12-a63d-4558-b7f6-51d3b39312c3",
   "metadata": {},
   "outputs": [
    {
     "data": {
      "text/plain": [
       "['green', 'blue', 'red', 'yellow']"
      ]
     },
     "execution_count": 13,
     "metadata": {},
     "output_type": "execute_result"
    }
   ],
   "source": [
    "colors"
   ]
  },
  {
   "cell_type": "code",
   "execution_count": 189,
   "id": "aa5f0cd4-897d-43c4-aaf8-749c13e583e5",
   "metadata": {},
   "outputs": [
    {
     "data": {
      "text/plain": [
       "['green', 'red', 'blue', 'yellow']"
      ]
     },
     "execution_count": 189,
     "metadata": {},
     "output_type": "execute_result"
    }
   ],
   "source": [
    "colors"
   ]
  },
  {
   "cell_type": "code",
   "execution_count": 4,
   "id": "cee6680d-5272-4794-9c93-621fbf90deb6",
   "metadata": {},
   "outputs": [
    {
     "name": "stdout",
     "output_type": "stream",
     "text": [
      "🎯 Guess the Number Game\n",
      "You have 10 chances to guess the correct number!\n",
      "\n"
     ]
    },
    {
     "name": "stdin",
     "output_type": "stream",
     "text": [
      "Guess the number:  1\n"
     ]
    },
    {
     "name": "stdout",
     "output_type": "stream",
     "text": [
      "❌ Wrong Guess, Try Again\n"
     ]
    },
    {
     "name": "stdin",
     "output_type": "stream",
     "text": [
      "Guess the number:  2\n"
     ]
    },
    {
     "name": "stdout",
     "output_type": "stream",
     "text": [
      "❌ Wrong Guess, Try Again\n"
     ]
    },
    {
     "name": "stdin",
     "output_type": "stream",
     "text": [
      "Guess the number:  3\n"
     ]
    },
    {
     "name": "stdout",
     "output_type": "stream",
     "text": [
      "❌ Wrong Guess, Try Again\n"
     ]
    },
    {
     "name": "stdin",
     "output_type": "stream",
     "text": [
      "Guess the number:  4\n"
     ]
    },
    {
     "name": "stdout",
     "output_type": "stream",
     "text": [
      "❌ Wrong Guess, Try Again\n"
     ]
    },
    {
     "name": "stdin",
     "output_type": "stream",
     "text": [
      "Guess the number:  5\n"
     ]
    },
    {
     "name": "stdout",
     "output_type": "stream",
     "text": [
      "❌ Wrong Guess, Try Again\n"
     ]
    },
    {
     "name": "stdin",
     "output_type": "stream",
     "text": [
      "Guess the number:  6\n"
     ]
    },
    {
     "name": "stdout",
     "output_type": "stream",
     "text": [
      "❌ Wrong Guess, Try Again\n"
     ]
    },
    {
     "name": "stdin",
     "output_type": "stream",
     "text": [
      "Guess the number:  7\n"
     ]
    },
    {
     "name": "stdout",
     "output_type": "stream",
     "text": [
      "❌ Wrong Guess, Try Again\n"
     ]
    },
    {
     "name": "stdin",
     "output_type": "stream",
     "text": [
      "Guess the number:  8\n"
     ]
    },
    {
     "name": "stdout",
     "output_type": "stream",
     "text": [
      "✅ You passed! 🎉\n"
     ]
    }
   ],
   "source": [
    "import random\n",
    "\n",
    "list1 = [1, 2, 3, 4, 5, 6, 7, 8, 42, 10]\n",
    "ran = random.choice(list1)\n",
    "count = 0\n",
    "print(\"🎯 Guess the Number Game\")\n",
    "print(\"You have 10 chances to guess the correct number!\\n\")\n",
    "for i in range(10):  \n",
    "    a = int(input(\"Guess the number: \"))\n",
    "    count += 1\n",
    "    if a == ran:\n",
    "        print(\"✅ You passed! 🎉\")\n",
    "        break\n",
    "    else:\n",
    "        print(\"❌ Wrong Guess, Try Again\")  \n",
    "    if count == 10:\n",
    "        print(\"\\n❌ Your chances are over!\")\n",
    "        print(\"Correct Number was:\", ran)"
   ]
  },
  {
   "cell_type": "markdown",
   "id": "c1df3d82-ad22-4510-b23c-5ca1234f0bfa",
   "metadata": {},
   "source": [
    "# assignment -5"
   ]
  },
  {
   "cell_type": "code",
   "execution_count": 3,
   "id": "221bbe19-29de-4b20-8102-7e1578c01f8d",
   "metadata": {},
   "outputs": [
    {
     "name": "stdout",
     "output_type": "stream",
     "text": [
      "1\n",
      "2\n",
      "3\n",
      "4\n",
      "5\n",
      "6\n",
      "7\n",
      "8\n",
      "9\n",
      "10\n"
     ]
    }
   ],
   "source": [
    "for i in range(1,11):\n",
    "    print(i)"
   ]
  },
  {
   "cell_type": "code",
   "execution_count": null,
   "id": "3aeb62d2-8432-4384-b5fc-499c9e91a67e",
   "metadata": {},
   "outputs": [],
   "source": [
    "n=0\n",
    "while(n<=20):\n",
    "    if(n%2==0):\n",
    "        print(n)\n",
    "        n=n+1\n",
    "print(\"thank you\")"
   ]
  },
  {
   "cell_type": "code",
   "execution_count": null,
   "id": "23eb4bcc-2c83-448d-a53d-8219ecfb94ec",
   "metadata": {},
   "outputs": [],
   "source": []
  }
 ],
 "metadata": {
  "kernelspec": {
   "display_name": "Python [conda env:base] *",
   "language": "python",
   "name": "conda-base-py"
  },
  "language_info": {
   "codemirror_mode": {
    "name": "ipython",
    "version": 3
   },
   "file_extension": ".py",
   "mimetype": "text/x-python",
   "name": "python",
   "nbconvert_exporter": "python",
   "pygments_lexer": "ipython3",
   "version": "3.12.7"
  }
 },
 "nbformat": 4,
 "nbformat_minor": 5
}
