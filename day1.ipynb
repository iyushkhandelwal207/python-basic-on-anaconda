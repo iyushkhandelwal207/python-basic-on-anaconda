{
 "cells": [
  {
   "cell_type": "code",
   "execution_count": 2,
   "id": "09ebbaca-b850-4d68-af1e-c70f1e23848a",
   "metadata": {},
   "outputs": [
    {
     "name": "stdout",
     "output_type": "stream",
     "text": [
      "hello world\n"
     ]
    }
   ],
   "source": [
    "print(\"hello world\");\n"
   ]
  },
  {
   "cell_type": "code",
   "execution_count": 4,
   "id": "2aa13719-8fe7-4ee5-a14b-884b9e59b5b4",
   "metadata": {},
   "outputs": [
    {
     "name": "stdout",
     "output_type": "stream",
     "text": [
      "7\n"
     ]
    }
   ],
   "source": [
    "print(7);\n"
   ]
  },
  {
   "cell_type": "code",
   "execution_count": 6,
   "id": "612f4548-fd39-4838-a0a0-fb46bc19fe2b",
   "metadata": {},
   "outputs": [
    {
     "name": "stdout",
     "output_type": "stream",
     "text": [
      "Name:piyush khandelwal \n",
      " Age:18 \n",
      " CGPA:9.65\n"
     ]
    }
   ],
   "source": [
    "print(\"Name:piyush khandelwal \\n Age:18 \\n CGPA:9.65\");"
   ]
  },
  {
   "cell_type": "code",
   "execution_count": 8,
   "id": "3db7194e-61b3-4888-b9b2-0cd3b11bc1c7",
   "metadata": {},
   "outputs": [
    {
     "name": "stdout",
     "output_type": "stream",
     "text": [
      "Name:piyush khandelwal\n",
      "Age:18\n",
      "CGPA:9.65\n"
     ]
    }
   ],
   "source": [
    "print(\"Name:piyush khandelwal\\nAge:18\\nCGPA:9.65\");\n"
   ]
  },
  {
   "cell_type": "code",
   "execution_count": 10,
   "id": "bb2441a3-a919-40eb-8107-a40cd78d3e17",
   "metadata": {},
   "outputs": [
    {
     "ename": "SyntaxError",
     "evalue": "invalid syntax (12984570.py, line 1)",
     "output_type": "error",
     "traceback": [
      "\u001b[1;36m  Cell \u001b[1;32mIn[10], line 1\u001b[1;36m\u001b[0m\n\u001b[1;33m    int a=input(\"enter a number:\");\u001b[0m\n\u001b[1;37m        ^\u001b[0m\n\u001b[1;31mSyntaxError\u001b[0m\u001b[1;31m:\u001b[0m invalid syntax\n"
     ]
    }
   ],
   "source": [
    "int a=input(\"enter a number:\");\n",
    "print(a);"
   ]
  },
  {
   "cell_type": "code",
   "execution_count": 16,
   "id": "ff8c2232-b21f-4d11-ae41-99a6c858180a",
   "metadata": {},
   "outputs": [
    {
     "name": "stdout",
     "output_type": "stream",
     "text": [
      "<class 'int'>\n",
      "<class 'float'>\n",
      "<class 'str'>\n",
      "<class 'bool'>\n",
      "<class 'complex'>\n"
     ]
    }
   ],
   "source": [
    "print(type(5));\n",
    "print(type(5.5));\n",
    "print(type(\"hello\"));\n",
    "print(type(True));\n",
    "# print(type(+));\n",
    "print(type(5j));"
   ]
  },
  {
   "cell_type": "code",
   "execution_count": 18,
   "id": "1f69e806-fcd1-4c01-a5f0-32a86a3d21d2",
   "metadata": {},
   "outputs": [
    {
     "name": "stdout",
     "output_type": "stream",
     "text": [
      "piyush khandelwal\n",
      "9.5\n",
      "22\n"
     ]
    }
   ],
   "source": [
    "name=\"piyush khandelwal\";\n",
    "cgpa=9.5;\n",
    "age=22;\n",
    "print(name);\n",
    "print(cgpa);\n",
    "print(age);"
   ]
  },
  {
   "cell_type": "code",
   "execution_count": 20,
   "id": "a15fd49c-b345-4dbf-9776-70f86e5fb3b4",
   "metadata": {},
   "outputs": [],
   "source": [
    "# piyush khandelwal\n"
   ]
  },
  {
   "cell_type": "code",
   "execution_count": 22,
   "id": "a7d07291-db90-4c01-8314-10b75b5e26be",
   "metadata": {},
   "outputs": [
    {
     "data": {
      "text/plain": [
       "'hllo world'"
      ]
     },
     "execution_count": 22,
     "metadata": {},
     "output_type": "execute_result"
    }
   ],
   "source": [
    "\"\"\"hllo world\"\"\""
   ]
  },
  {
   "cell_type": "code",
   "execution_count": 24,
   "id": "f8e27d1b-7437-44a1-ba0d-e34849f9c24a",
   "metadata": {},
   "outputs": [
    {
     "data": {
      "text/plain": [
       "' hello world \\njai mata di\\n'"
      ]
     },
     "execution_count": 24,
     "metadata": {},
     "output_type": "execute_result"
    }
   ],
   "source": [
    "\"\"\" hello world \n",
    "jai mata di\n",
    "\"\"\""
   ]
  },
  {
   "cell_type": "code",
   "execution_count": 26,
   "id": "c3c8fe64-03c8-4206-b444-daa1597a6de9",
   "metadata": {},
   "outputs": [
    {
     "data": {
      "text/plain": [
       "' hello world '"
      ]
     },
     "execution_count": 26,
     "metadata": {},
     "output_type": "execute_result"
    }
   ],
   "source": [
    "''' hello world '''"
   ]
  },
  {
   "cell_type": "code",
   "execution_count": 28,
   "id": "8ab636f6-b0a7-4131-8549-9230cde8eeec",
   "metadata": {},
   "outputs": [
    {
     "name": "stdout",
     "output_type": "stream",
     "text": [
      "hello world\n"
     ]
    }
   ],
   "source": [
    "\"\"\" jai \n",
    "mata \n",
    "di \n",
    "\"\"\"\n",
    "print(\"hello world\");"
   ]
  },
  {
   "cell_type": "code",
   "execution_count": 30,
   "id": "529a92cb-b766-45b0-99c8-46c8f2a91766",
   "metadata": {},
   "outputs": [
    {
     "name": "stdout",
     "output_type": "stream",
     "text": [
      "Help on class str in module builtins:\n",
      "\n",
      "class str(object)\n",
      " |  str(object='') -> str\n",
      " |  str(bytes_or_buffer[, encoding[, errors]]) -> str\n",
      " |\n",
      " |  Create a new string object from the given object. If encoding or\n",
      " |  errors is specified, then the object must expose a data buffer\n",
      " |  that will be decoded using the given encoding and error handler.\n",
      " |  Otherwise, returns the result of object.__str__() (if defined)\n",
      " |  or repr(object).\n",
      " |  encoding defaults to sys.getdefaultencoding().\n",
      " |  errors defaults to 'strict'.\n",
      " |\n",
      " |  Methods defined here:\n",
      " |\n",
      " |  __add__(self, value, /)\n",
      " |      Return self+value.\n",
      " |\n",
      " |  __contains__(self, key, /)\n",
      " |      Return bool(key in self).\n",
      " |\n",
      " |  __eq__(self, value, /)\n",
      " |      Return self==value.\n",
      " |\n",
      " |  __format__(self, format_spec, /)\n",
      " |      Return a formatted version of the string as described by format_spec.\n",
      " |\n",
      " |  __ge__(self, value, /)\n",
      " |      Return self>=value.\n",
      " |\n",
      " |  __getitem__(self, key, /)\n",
      " |      Return self[key].\n",
      " |\n",
      " |  __getnewargs__(...)\n",
      " |\n",
      " |  __gt__(self, value, /)\n",
      " |      Return self>value.\n",
      " |\n",
      " |  __hash__(self, /)\n",
      " |      Return hash(self).\n",
      " |\n",
      " |  __iter__(self, /)\n",
      " |      Implement iter(self).\n",
      " |\n",
      " |  __le__(self, value, /)\n",
      " |      Return self<=value.\n",
      " |\n",
      " |  __len__(self, /)\n",
      " |      Return len(self).\n",
      " |\n",
      " |  __lt__(self, value, /)\n",
      " |      Return self<value.\n",
      " |\n",
      " |  __mod__(self, value, /)\n",
      " |      Return self%value.\n",
      " |\n",
      " |  __mul__(self, value, /)\n",
      " |      Return self*value.\n",
      " |\n",
      " |  __ne__(self, value, /)\n",
      " |      Return self!=value.\n",
      " |\n",
      " |  __repr__(self, /)\n",
      " |      Return repr(self).\n",
      " |\n",
      " |  __rmod__(self, value, /)\n",
      " |      Return value%self.\n",
      " |\n",
      " |  __rmul__(self, value, /)\n",
      " |      Return value*self.\n",
      " |\n",
      " |  __sizeof__(self, /)\n",
      " |      Return the size of the string in memory, in bytes.\n",
      " |\n",
      " |  __str__(self, /)\n",
      " |      Return str(self).\n",
      " |\n",
      " |  capitalize(self, /)\n",
      " |      Return a capitalized version of the string.\n",
      " |\n",
      " |      More specifically, make the first character have upper case and the rest lower\n",
      " |      case.\n",
      " |\n",
      " |  casefold(self, /)\n",
      " |      Return a version of the string suitable for caseless comparisons.\n",
      " |\n",
      " |  center(self, width, fillchar=' ', /)\n",
      " |      Return a centered string of length width.\n",
      " |\n",
      " |      Padding is done using the specified fill character (default is a space).\n",
      " |\n",
      " |  count(...)\n",
      " |      S.count(sub[, start[, end]]) -> int\n",
      " |\n",
      " |      Return the number of non-overlapping occurrences of substring sub in\n",
      " |      string S[start:end].  Optional arguments start and end are\n",
      " |      interpreted as in slice notation.\n",
      " |\n",
      " |  encode(self, /, encoding='utf-8', errors='strict')\n",
      " |      Encode the string using the codec registered for encoding.\n",
      " |\n",
      " |      encoding\n",
      " |        The encoding in which to encode the string.\n",
      " |      errors\n",
      " |        The error handling scheme to use for encoding errors.\n",
      " |        The default is 'strict' meaning that encoding errors raise a\n",
      " |        UnicodeEncodeError.  Other possible values are 'ignore', 'replace' and\n",
      " |        'xmlcharrefreplace' as well as any other name registered with\n",
      " |        codecs.register_error that can handle UnicodeEncodeErrors.\n",
      " |\n",
      " |  endswith(...)\n",
      " |      S.endswith(suffix[, start[, end]]) -> bool\n",
      " |\n",
      " |      Return True if S ends with the specified suffix, False otherwise.\n",
      " |      With optional start, test S beginning at that position.\n",
      " |      With optional end, stop comparing S at that position.\n",
      " |      suffix can also be a tuple of strings to try.\n",
      " |\n",
      " |  expandtabs(self, /, tabsize=8)\n",
      " |      Return a copy where all tab characters are expanded using spaces.\n",
      " |\n",
      " |      If tabsize is not given, a tab size of 8 characters is assumed.\n",
      " |\n",
      " |  find(...)\n",
      " |      S.find(sub[, start[, end]]) -> int\n",
      " |\n",
      " |      Return the lowest index in S where substring sub is found,\n",
      " |      such that sub is contained within S[start:end].  Optional\n",
      " |      arguments start and end are interpreted as in slice notation.\n",
      " |\n",
      " |      Return -1 on failure.\n",
      " |\n",
      " |  format(...)\n",
      " |      S.format(*args, **kwargs) -> str\n",
      " |\n",
      " |      Return a formatted version of S, using substitutions from args and kwargs.\n",
      " |      The substitutions are identified by braces ('{' and '}').\n",
      " |\n",
      " |  format_map(...)\n",
      " |      S.format_map(mapping) -> str\n",
      " |\n",
      " |      Return a formatted version of S, using substitutions from mapping.\n",
      " |      The substitutions are identified by braces ('{' and '}').\n",
      " |\n",
      " |  index(...)\n",
      " |      S.index(sub[, start[, end]]) -> int\n",
      " |\n",
      " |      Return the lowest index in S where substring sub is found,\n",
      " |      such that sub is contained within S[start:end].  Optional\n",
      " |      arguments start and end are interpreted as in slice notation.\n",
      " |\n",
      " |      Raises ValueError when the substring is not found.\n",
      " |\n",
      " |  isalnum(self, /)\n",
      " |      Return True if the string is an alpha-numeric string, False otherwise.\n",
      " |\n",
      " |      A string is alpha-numeric if all characters in the string are alpha-numeric and\n",
      " |      there is at least one character in the string.\n",
      " |\n",
      " |  isalpha(self, /)\n",
      " |      Return True if the string is an alphabetic string, False otherwise.\n",
      " |\n",
      " |      A string is alphabetic if all characters in the string are alphabetic and there\n",
      " |      is at least one character in the string.\n",
      " |\n",
      " |  isascii(self, /)\n",
      " |      Return True if all characters in the string are ASCII, False otherwise.\n",
      " |\n",
      " |      ASCII characters have code points in the range U+0000-U+007F.\n",
      " |      Empty string is ASCII too.\n",
      " |\n",
      " |  isdecimal(self, /)\n",
      " |      Return True if the string is a decimal string, False otherwise.\n",
      " |\n",
      " |      A string is a decimal string if all characters in the string are decimal and\n",
      " |      there is at least one character in the string.\n",
      " |\n",
      " |  isdigit(self, /)\n",
      " |      Return True if the string is a digit string, False otherwise.\n",
      " |\n",
      " |      A string is a digit string if all characters in the string are digits and there\n",
      " |      is at least one character in the string.\n",
      " |\n",
      " |  isidentifier(self, /)\n",
      " |      Return True if the string is a valid Python identifier, False otherwise.\n",
      " |\n",
      " |      Call keyword.iskeyword(s) to test whether string s is a reserved identifier,\n",
      " |      such as \"def\" or \"class\".\n",
      " |\n",
      " |  islower(self, /)\n",
      " |      Return True if the string is a lowercase string, False otherwise.\n",
      " |\n",
      " |      A string is lowercase if all cased characters in the string are lowercase and\n",
      " |      there is at least one cased character in the string.\n",
      " |\n",
      " |  isnumeric(self, /)\n",
      " |      Return True if the string is a numeric string, False otherwise.\n",
      " |\n",
      " |      A string is numeric if all characters in the string are numeric and there is at\n",
      " |      least one character in the string.\n",
      " |\n",
      " |  isprintable(self, /)\n",
      " |      Return True if the string is printable, False otherwise.\n",
      " |\n",
      " |      A string is printable if all of its characters are considered printable in\n",
      " |      repr() or if it is empty.\n",
      " |\n",
      " |  isspace(self, /)\n",
      " |      Return True if the string is a whitespace string, False otherwise.\n",
      " |\n",
      " |      A string is whitespace if all characters in the string are whitespace and there\n",
      " |      is at least one character in the string.\n",
      " |\n",
      " |  istitle(self, /)\n",
      " |      Return True if the string is a title-cased string, False otherwise.\n",
      " |\n",
      " |      In a title-cased string, upper- and title-case characters may only\n",
      " |      follow uncased characters and lowercase characters only cased ones.\n",
      " |\n",
      " |  isupper(self, /)\n",
      " |      Return True if the string is an uppercase string, False otherwise.\n",
      " |\n",
      " |      A string is uppercase if all cased characters in the string are uppercase and\n",
      " |      there is at least one cased character in the string.\n",
      " |\n",
      " |  join(self, iterable, /)\n",
      " |      Concatenate any number of strings.\n",
      " |\n",
      " |      The string whose method is called is inserted in between each given string.\n",
      " |      The result is returned as a new string.\n",
      " |\n",
      " |      Example: '.'.join(['ab', 'pq', 'rs']) -> 'ab.pq.rs'\n",
      " |\n",
      " |  ljust(self, width, fillchar=' ', /)\n",
      " |      Return a left-justified string of length width.\n",
      " |\n",
      " |      Padding is done using the specified fill character (default is a space).\n",
      " |\n",
      " |  lower(self, /)\n",
      " |      Return a copy of the string converted to lowercase.\n",
      " |\n",
      " |  lstrip(self, chars=None, /)\n",
      " |      Return a copy of the string with leading whitespace removed.\n",
      " |\n",
      " |      If chars is given and not None, remove characters in chars instead.\n",
      " |\n",
      " |  partition(self, sep, /)\n",
      " |      Partition the string into three parts using the given separator.\n",
      " |\n",
      " |      This will search for the separator in the string.  If the separator is found,\n",
      " |      returns a 3-tuple containing the part before the separator, the separator\n",
      " |      itself, and the part after it.\n",
      " |\n",
      " |      If the separator is not found, returns a 3-tuple containing the original string\n",
      " |      and two empty strings.\n",
      " |\n",
      " |  removeprefix(self, prefix, /)\n",
      " |      Return a str with the given prefix string removed if present.\n",
      " |\n",
      " |      If the string starts with the prefix string, return string[len(prefix):].\n",
      " |      Otherwise, return a copy of the original string.\n",
      " |\n",
      " |  removesuffix(self, suffix, /)\n",
      " |      Return a str with the given suffix string removed if present.\n",
      " |\n",
      " |      If the string ends with the suffix string and that suffix is not empty,\n",
      " |      return string[:-len(suffix)]. Otherwise, return a copy of the original\n",
      " |      string.\n",
      " |\n",
      " |  replace(self, old, new, count=-1, /)\n",
      " |      Return a copy with all occurrences of substring old replaced by new.\n",
      " |\n",
      " |        count\n",
      " |          Maximum number of occurrences to replace.\n",
      " |          -1 (the default value) means replace all occurrences.\n",
      " |\n",
      " |      If the optional argument count is given, only the first count occurrences are\n",
      " |      replaced.\n",
      " |\n",
      " |  rfind(...)\n",
      " |      S.rfind(sub[, start[, end]]) -> int\n",
      " |\n",
      " |      Return the highest index in S where substring sub is found,\n",
      " |      such that sub is contained within S[start:end].  Optional\n",
      " |      arguments start and end are interpreted as in slice notation.\n",
      " |\n",
      " |      Return -1 on failure.\n",
      " |\n",
      " |  rindex(...)\n",
      " |      S.rindex(sub[, start[, end]]) -> int\n",
      " |\n",
      " |      Return the highest index in S where substring sub is found,\n",
      " |      such that sub is contained within S[start:end].  Optional\n",
      " |      arguments start and end are interpreted as in slice notation.\n",
      " |\n",
      " |      Raises ValueError when the substring is not found.\n",
      " |\n",
      " |  rjust(self, width, fillchar=' ', /)\n",
      " |      Return a right-justified string of length width.\n",
      " |\n",
      " |      Padding is done using the specified fill character (default is a space).\n",
      " |\n",
      " |  rpartition(self, sep, /)\n",
      " |      Partition the string into three parts using the given separator.\n",
      " |\n",
      " |      This will search for the separator in the string, starting at the end. If\n",
      " |      the separator is found, returns a 3-tuple containing the part before the\n",
      " |      separator, the separator itself, and the part after it.\n",
      " |\n",
      " |      If the separator is not found, returns a 3-tuple containing two empty strings\n",
      " |      and the original string.\n",
      " |\n",
      " |  rsplit(self, /, sep=None, maxsplit=-1)\n",
      " |      Return a list of the substrings in the string, using sep as the separator string.\n",
      " |\n",
      " |        sep\n",
      " |          The separator used to split the string.\n",
      " |\n",
      " |          When set to None (the default value), will split on any whitespace\n",
      " |          character (including \\n \\r \\t \\f and spaces) and will discard\n",
      " |          empty strings from the result.\n",
      " |        maxsplit\n",
      " |          Maximum number of splits.\n",
      " |          -1 (the default value) means no limit.\n",
      " |\n",
      " |      Splitting starts at the end of the string and works to the front.\n",
      " |\n",
      " |  rstrip(self, chars=None, /)\n",
      " |      Return a copy of the string with trailing whitespace removed.\n",
      " |\n",
      " |      If chars is given and not None, remove characters in chars instead.\n",
      " |\n",
      " |  split(self, /, sep=None, maxsplit=-1)\n",
      " |      Return a list of the substrings in the string, using sep as the separator string.\n",
      " |\n",
      " |        sep\n",
      " |          The separator used to split the string.\n",
      " |\n",
      " |          When set to None (the default value), will split on any whitespace\n",
      " |          character (including \\n \\r \\t \\f and spaces) and will discard\n",
      " |          empty strings from the result.\n",
      " |        maxsplit\n",
      " |          Maximum number of splits.\n",
      " |          -1 (the default value) means no limit.\n",
      " |\n",
      " |      Splitting starts at the front of the string and works to the end.\n",
      " |\n",
      " |      Note, str.split() is mainly useful for data that has been intentionally\n",
      " |      delimited.  With natural text that includes punctuation, consider using\n",
      " |      the regular expression module.\n",
      " |\n",
      " |  splitlines(self, /, keepends=False)\n",
      " |      Return a list of the lines in the string, breaking at line boundaries.\n",
      " |\n",
      " |      Line breaks are not included in the resulting list unless keepends is given and\n",
      " |      true.\n",
      " |\n",
      " |  startswith(...)\n",
      " |      S.startswith(prefix[, start[, end]]) -> bool\n",
      " |\n",
      " |      Return True if S starts with the specified prefix, False otherwise.\n",
      " |      With optional start, test S beginning at that position.\n",
      " |      With optional end, stop comparing S at that position.\n",
      " |      prefix can also be a tuple of strings to try.\n",
      " |\n",
      " |  strip(self, chars=None, /)\n",
      " |      Return a copy of the string with leading and trailing whitespace removed.\n",
      " |\n",
      " |      If chars is given and not None, remove characters in chars instead.\n",
      " |\n",
      " |  swapcase(self, /)\n",
      " |      Convert uppercase characters to lowercase and lowercase characters to uppercase.\n",
      " |\n",
      " |  title(self, /)\n",
      " |      Return a version of the string where each word is titlecased.\n",
      " |\n",
      " |      More specifically, words start with uppercased characters and all remaining\n",
      " |      cased characters have lower case.\n",
      " |\n",
      " |  translate(self, table, /)\n",
      " |      Replace each character in the string using the given translation table.\n",
      " |\n",
      " |        table\n",
      " |          Translation table, which must be a mapping of Unicode ordinals to\n",
      " |          Unicode ordinals, strings, or None.\n",
      " |\n",
      " |      The table must implement lookup/indexing via __getitem__, for instance a\n",
      " |      dictionary or list.  If this operation raises LookupError, the character is\n",
      " |      left untouched.  Characters mapped to None are deleted.\n",
      " |\n",
      " |  upper(self, /)\n",
      " |      Return a copy of the string converted to uppercase.\n",
      " |\n",
      " |  zfill(self, width, /)\n",
      " |      Pad a numeric string with zeros on the left, to fill a field of the given width.\n",
      " |\n",
      " |      The string is never truncated.\n",
      " |\n",
      " |  ----------------------------------------------------------------------\n",
      " |  Static methods defined here:\n",
      " |\n",
      " |  __new__(*args, **kwargs)\n",
      " |      Create and return a new object.  See help(type) for accurate signature.\n",
      " |\n",
      " |  maketrans(...)\n",
      " |      Return a translation table usable for str.translate().\n",
      " |\n",
      " |      If there is only one argument, it must be a dictionary mapping Unicode\n",
      " |      ordinals (integers) or characters to Unicode ordinals, strings or None.\n",
      " |      Character keys will be then converted to ordinals.\n",
      " |      If there are two arguments, they must be strings of equal length, and\n",
      " |      in the resulting dictionary, each character in x will be mapped to the\n",
      " |      character at the same position in y. If there is a third argument, it\n",
      " |      must be a string, whose characters will be mapped to None in the result.\n",
      "\n"
     ]
    }
   ],
   "source": [
    "help(\"\"\"\"\"\");\n"
   ]
  },
  {
   "cell_type": "code",
   "execution_count": 32,
   "id": "28efc564-a843-45d4-9e4e-e2f637f7f9d5",
   "metadata": {},
   "outputs": [
    {
     "name": "stdout",
     "output_type": "stream",
     "text": [
      "piyushkhandelwal\n"
     ]
    }
   ],
   "source": [
    "print(\"piyush\"+\"khandelwal\");"
   ]
  },
  {
   "cell_type": "code",
   "execution_count": 36,
   "id": "fcbb8fdc-e379-4fe7-8e95-3490251ff835",
   "metadata": {},
   "outputs": [
    {
     "name": "stdin",
     "output_type": "stream",
     "text": [
      "Enter your name piyush khandelwal\n"
     ]
    },
    {
     "name": "stdout",
     "output_type": "stream",
     "text": [
      "piyush khandelwal\n"
     ]
    }
   ],
   "source": [
    "name=input(\"Enter your name\");\n",
    "print(name);"
   ]
  },
  {
   "cell_type": "code",
   "execution_count": 50,
   "id": "43d06612-86dc-4840-ad37-0871db0fcc3c",
   "metadata": {},
   "outputs": [
    {
     "name": "stdin",
     "output_type": "stream",
     "text": [
      "enter anything to check type 125\n"
     ]
    },
    {
     "name": "stdout",
     "output_type": "stream",
     "text": [
      "<class 'int'>\n"
     ]
    }
   ],
   "source": [
    "name=int(input(\"enter anything to check type\"));\n",
    "print(type(name));"
   ]
  },
  {
   "cell_type": "code",
   "execution_count": 56,
   "id": "5f47281f-5f21-4835-8182-1be9c78b48ed",
   "metadata": {},
   "outputs": [
    {
     "name": "stdout",
     "output_type": "stream",
     "text": [
      "<class 'int'>\n",
      "<class 'float'>\n"
     ]
    }
   ],
   "source": [
    "a=int(\"5\");\n",
    "b=float(\"5.5\");\n",
    "print(type(a));\n",
    "print(type(b));      "
   ]
  },
  {
   "cell_type": "markdown",
   "id": "3a9b66df-7bc6-4fdc-8024-53bc39a3b84c",
   "metadata": {},
   "source": [
    "a=int(input(\"enter a number\"));\n",
    "b=int(input(\"enter another number\"));\n",
    "c=a+b;\n",
    "print((c));"
   ]
  },
  {
   "cell_type": "code",
   "execution_count": 64,
   "id": "2214ece0-a85c-47df-84ff-2ec243836ca6",
   "metadata": {},
   "outputs": [],
   "source": [
    "##"
   ]
  },
  {
   "cell_type": "markdown",
   "id": "75389da6-b600-41db-abad-48145e36db2c",
   "metadata": {},
   "source": [
    "# helloworld\n",
    "## hello world "
   ]
  },
  {
   "cell_type": "code",
   "execution_count": 67,
   "id": "b4ffba0c-362a-4980-abba-2334edf6d8ad",
   "metadata": {},
   "outputs": [
    {
     "name": "stdin",
     "output_type": "stream",
     "text": [
      "enter a number 1\n"
     ]
    },
    {
     "name": "stdout",
     "output_type": "stream",
     "text": [
      "<class 'int'>\n"
     ]
    }
   ],
   "source": [
    "a=eval(input(\"enter a number\"));\n",
    "print(type(a));"
   ]
  },
  {
   "cell_type": "code",
   "execution_count": 71,
   "id": "b2619397-8f27-45df-8e10-c0d99306cf96",
   "metadata": {},
   "outputs": [
    {
     "name": "stdin",
     "output_type": "stream",
     "text": [
      "enter a number 1\n",
      "enter a number 1\n"
     ]
    },
    {
     "name": "stdout",
     "output_type": "stream",
     "text": [
      "<class 'int'>\n"
     ]
    }
   ],
   "source": [
    "a=eval(input(\"enter a number\"));\n",
    "a=eval(input(\"enter a number\"));\n",
    "print(type(a));"
   ]
  },
  {
   "cell_type": "code",
   "execution_count": 75,
   "id": "bbd809af-9327-4dc9-a04a-5d4bd5f94d64",
   "metadata": {},
   "outputs": [
    {
     "name": "stdin",
     "output_type": "stream",
     "text": [
      "enter a number 1\n",
      "enter a number 6\n",
      "enter a number 3j\n",
      "enter a number True\n"
     ]
    },
    {
     "name": "stdout",
     "output_type": "stream",
     "text": [
      "(8+3j)\n"
     ]
    }
   ],
   "source": [
    "a=eval(input(\"enter a number\"));\n",
    "b=eval(input(\"enter a number\"));\n",
    "c=eval(input(\"enter a number\"));\n",
    "d=eval(input(\"enter a number\"));\n",
    "print(a+b+c+d);"
   ]
  },
  {
   "cell_type": "code",
   "execution_count": 83,
   "id": "26394b91-14bc-4c6c-b531-134ded34d602",
   "metadata": {},
   "outputs": [
    {
     "name": "stdout",
     "output_type": "stream",
     "text": [
      "1\n"
     ]
    }
   ],
   "source": [
    "a=22;\n",
    "b=15;\n",
    "c = a // b\n",
    "print(c);"
   ]
  },
  {
   "cell_type": "code",
   "execution_count": 85,
   "id": "5c6f2b9f-3225-4700-aa57-cc695cff2e98",
   "metadata": {},
   "outputs": [
    {
     "name": "stdin",
     "output_type": "stream",
     "text": [
      "enter a number 2\n"
     ]
    },
    {
     "name": "stdout",
     "output_type": "stream",
     "text": [
      "power is: \n",
      "4\n"
     ]
    }
   ],
   "source": [
    "a=int(input(\"enter a number\"));\n",
    "b=a ** 2;\n",
    "print(\"power is: \");\n",
    "print(b);"
   ]
  },
  {
   "cell_type": "code",
   "execution_count": 87,
   "id": "390ff47c-3eb4-42aa-ae2b-a2ed51c0f588",
   "metadata": {},
   "outputs": [
    {
     "name": "stdin",
     "output_type": "stream",
     "text": [
      "enter a number 12\n"
     ]
    },
    {
     "name": "stdout",
     "output_type": "stream",
     "text": [
      "cube is: \n",
      "1728\n"
     ]
    }
   ],
   "source": [
    "a=int(input(\"enter a number\"));\n",
    "b=a ** 3;\n",
    "print(\"cube is: \");\n",
    "print(b);"
   ]
  },
  {
   "cell_type": "code",
   "execution_count": 95,
   "id": "17d00b38-f606-4137-b072-96c33f940a84",
   "metadata": {},
   "outputs": [
    {
     "name": "stdout",
     "output_type": "stream",
     "text": [
      "True\n"
     ]
    }
   ],
   "source": [
    "a=15;\n",
    "b=12;\n",
    "print(a>b);"
   ]
  },
  {
   "cell_type": "code",
   "execution_count": 97,
   "id": "123a9bb2-0efc-42eb-895e-08bf8144c2f4",
   "metadata": {},
   "outputs": [
    {
     "name": "stdout",
     "output_type": "stream",
     "text": [
      "0b1100\n"
     ]
    }
   ],
   "source": [
    "print(bin(12));"
   ]
  },
  {
   "cell_type": "code",
   "execution_count": 99,
   "id": "03213df1-1d28-4c0a-98d5-ba71ff9927ef",
   "metadata": {},
   "outputs": [
    {
     "name": "stdout",
     "output_type": "stream",
     "text": [
      "0b111000\n",
      "0b1111111\n",
      "0b1011100\n",
      "0b1001100\n",
      "0b100000010\n"
     ]
    }
   ],
   "source": [
    "print(bin(56))\n",
    "print(bin(127))\n",
    "print(bin(92))\n",
    "print(bin(76))\n",
    "print(bin(258))\n"
   ]
  },
  {
   "cell_type": "code",
   "execution_count": 101,
   "id": "17b76d68-217d-498c-b11c-0d448e76b4c6",
   "metadata": {},
   "outputs": [],
   "source": [
    "ord(\"a\");"
   ]
  },
  {
   "cell_type": "code",
   "execution_count": 103,
   "id": "35b1ab6e-d75e-453f-baf9-bcdd6fd6f7de",
   "metadata": {},
   "outputs": [
    {
     "ename": "TypeError",
     "evalue": "ord() expected string of length 1, but int found",
     "output_type": "error",
     "traceback": [
      "\u001b[1;31m---------------------------------------------------------------------------\u001b[0m",
      "\u001b[1;31mTypeError\u001b[0m                                 Traceback (most recent call last)",
      "Cell \u001b[1;32mIn[103], line 1\u001b[0m\n\u001b[1;32m----> 1\u001b[0m \u001b[38;5;28mord\u001b[39m(a)\n",
      "\u001b[1;31mTypeError\u001b[0m: ord() expected string of length 1, but int found"
     ]
    }
   ],
   "source": [
    "ord(a)"
   ]
  },
  {
   "cell_type": "code",
   "execution_count": 105,
   "id": "098afc55-e70b-4c79-9c58-5b40af92211a",
   "metadata": {},
   "outputs": [
    {
     "name": "stdout",
     "output_type": "stream",
     "text": [
      "97\n"
     ]
    }
   ],
   "source": [
    "print(ord(\"a\"));"
   ]
  },
  {
   "cell_type": "markdown",
   "id": "dc99cb7c-a72d-40b9-98a1-96298e4c58fd",
   "metadata": {},
   "source": [
    "### we use bin to  convert integer into binary and ord is use to check ascii value"
   ]
  },
  {
   "cell_type": "code",
   "execution_count": 108,
   "id": "839343f4-7086-4402-b378-b1013e77ad09",
   "metadata": {},
   "outputs": [],
   "source": [
    "ord(\"a\");\n"
   ]
  },
  {
   "cell_type": "code",
   "execution_count": 110,
   "id": "5c0faae3-789a-43d3-8157-7888624b9325",
   "metadata": {},
   "outputs": [],
   "source": [
    "ord(\"a\");"
   ]
  },
  {
   "cell_type": "code",
   "execution_count": 114,
   "id": "98d74680-ea78-4766-b304-9893885aa52d",
   "metadata": {},
   "outputs": [
    {
     "name": "stdout",
     "output_type": "stream",
     "text": [
      "0b100\n",
      "0b101\n",
      "0b100\n",
      "0b101\n"
     ]
    }
   ],
   "source": [
    "print(bin(4));\n",
    "print(bin(5));\n",
    "print(bin(4 & 5));\n",
    "print(bin(4 |5));"
   ]
  },
  {
   "cell_type": "code",
   "execution_count": 118,
   "id": "481cf89e-f3bb-4fa2-986b-326971c04047",
   "metadata": {},
   "outputs": [],
   "source": [
    "a=\"hello world\"\n",
    "id(a);"
   ]
  },
  {
   "cell_type": "code",
   "execution_count": 120,
   "id": "1c8097f4-8ed8-4531-ac07-b9a358590d44",
   "metadata": {},
   "outputs": [
    {
     "data": {
      "text/plain": [
       "1831788233264"
      ]
     },
     "execution_count": 120,
     "metadata": {},
     "output_type": "execute_result"
    }
   ],
   "source": [
    "id(a)"
   ]
  },
  {
   "cell_type": "code",
   "execution_count": 128,
   "id": "de496938-7093-4f5b-b96a-dc7e54d150c7",
   "metadata": {},
   "outputs": [],
   "source": [
    "a=12 ;\n",
    "b=12;\n",
    "c=12;"
   ]
  },
  {
   "cell_type": "code",
   "execution_count": 130,
   "id": "3ccd6641-df6e-4276-94b7-492f548a444e",
   "metadata": {},
   "outputs": [
    {
     "data": {
      "text/plain": [
       "140721936739096"
      ]
     },
     "execution_count": 130,
     "metadata": {},
     "output_type": "execute_result"
    }
   ],
   "source": [
    "id(a)"
   ]
  },
  {
   "cell_type": "code",
   "execution_count": 132,
   "id": "925ac41a-42d7-4793-a6a4-ed7b268ec177",
   "metadata": {},
   "outputs": [
    {
     "data": {
      "text/plain": [
       "140721936739096"
      ]
     },
     "execution_count": 132,
     "metadata": {},
     "output_type": "execute_result"
    }
   ],
   "source": [
    "id(b)"
   ]
  },
  {
   "cell_type": "code",
   "execution_count": 134,
   "id": "78d4866e-28dd-497b-878b-97134aba817d",
   "metadata": {},
   "outputs": [
    {
     "data": {
      "text/plain": [
       "140721936739096"
      ]
     },
     "execution_count": 134,
     "metadata": {},
     "output_type": "execute_result"
    }
   ],
   "source": [
    "id(c)"
   ]
  },
  {
   "cell_type": "markdown",
   "id": "b08934f5-8199-4a15-9886-581119b23aaf",
   "metadata": {},
   "source": [
    "id is use to see address of variable and if two variable hava same value then their memory address is also same "
   ]
  },
  {
   "cell_type": "code",
   "execution_count": 137,
   "id": "99034b71-9d99-4b71-8cb1-1c33e8bb6622",
   "metadata": {},
   "outputs": [
    {
     "data": {
      "text/plain": [
       "True"
      ]
     },
     "execution_count": 137,
     "metadata": {},
     "output_type": "execute_result"
    }
   ],
   "source": [
    "a is b"
   ]
  },
  {
   "cell_type": "code",
   "execution_count": 139,
   "id": "4eaf1289-9d37-4b31-9d8d-1a4a7bbc2cbb",
   "metadata": {},
   "outputs": [
    {
     "data": {
      "text/plain": [
       "True"
      ]
     },
     "execution_count": 139,
     "metadata": {},
     "output_type": "execute_result"
    }
   ],
   "source": [
    "a is c"
   ]
  },
  {
   "cell_type": "code",
   "execution_count": 141,
   "id": "53413151-7f9e-4212-99f3-91f72ce50a2e",
   "metadata": {},
   "outputs": [],
   "source": [
    "d=14;"
   ]
  },
  {
   "cell_type": "code",
   "execution_count": 143,
   "id": "9704709c-382f-4488-a98a-8e88187716bf",
   "metadata": {},
   "outputs": [
    {
     "data": {
      "text/plain": [
       "False"
      ]
     },
     "execution_count": 143,
     "metadata": {},
     "output_type": "execute_result"
    }
   ],
   "source": [
    "a is d"
   ]
  },
  {
   "cell_type": "code",
   "execution_count": 150,
   "id": "55e2b34a-01aa-45c9-a187-154c2aa18df1",
   "metadata": {},
   "outputs": [
    {
     "name": "stdin",
     "output_type": "stream",
     "text": [
      "enter a number 1\n",
      "enter a number 1\n"
     ]
    },
    {
     "name": "stdout",
     "output_type": "stream",
     "text": [
      "True\n"
     ]
    }
   ],
   "source": [
    "a=eval (input(\"enter a number\"));\n",
    "b=eval (input(\"enter a number\"));\n",
    "print(a is b);"
   ]
  },
  {
   "cell_type": "markdown",
   "id": "93b64003-2556-49de-80a0-e49e6ec9f428",
   "metadata": {},
   "source": [
    "# membership operators - in not in"
   ]
  },
  {
   "cell_type": "code",
   "execution_count": 155,
   "id": "c4cc1472-bba3-4cfc-b798-d80b8bcaa0f7",
   "metadata": {},
   "outputs": [
    {
     "name": "stdout",
     "output_type": "stream",
     "text": [
      "True\n"
     ]
    }
   ],
   "source": [
    "a=\"hello\";\n",
    "print(\"e\" in a);\n"
   ]
  },
  {
   "cell_type": "code",
   "execution_count": 157,
   "id": "58d4697b-a00a-4172-ad1d-e1de5f8f94d1",
   "metadata": {},
   "outputs": [
    {
     "name": "stdout",
     "output_type": "stream",
     "text": [
      "h\n"
     ]
    }
   ],
   "source": [
    "a=\"hello\"\n",
    "print(a[0]);"
   ]
  },
  {
   "cell_type": "code",
   "execution_count": 161,
   "id": "4a522f2e-4e69-4c2f-8bde-87482718170d",
   "metadata": {},
   "outputs": [
    {
     "name": "stdout",
     "output_type": "stream",
     "text": [
      "h\n",
      "l\n",
      "o\n"
     ]
    }
   ],
   "source": [
    "a=\"hello\"\n",
    "print(a[0]);\n",
    "print(a[2]);\n",
    "print(a[4]);"
   ]
  },
  {
   "cell_type": "code",
   "execution_count": 163,
   "id": "985b1a38-17eb-4adc-b91f-97604435ce37",
   "metadata": {},
   "outputs": [
    {
     "ename": "AttributeError",
     "evalue": "'str' object has no attribute 'length'",
     "output_type": "error",
     "traceback": [
      "\u001b[1;31m---------------------------------------------------------------------------\u001b[0m",
      "\u001b[1;31mAttributeError\u001b[0m                            Traceback (most recent call last)",
      "Cell \u001b[1;32mIn[163], line 1\u001b[0m\n\u001b[1;32m----> 1\u001b[0m a\u001b[38;5;241m.\u001b[39mlength()\n",
      "\u001b[1;31mAttributeError\u001b[0m: 'str' object has no attribute 'length'"
     ]
    }
   ],
   "source": [
    "a.length()"
   ]
  },
  {
   "cell_type": "code",
   "execution_count": 165,
   "id": "2e286144-d64c-4483-adcb-49dbed3602d6",
   "metadata": {},
   "outputs": [
    {
     "ename": "AttributeError",
     "evalue": "'str' object has no attribute 'length'",
     "output_type": "error",
     "traceback": [
      "\u001b[1;31m---------------------------------------------------------------------------\u001b[0m",
      "\u001b[1;31mAttributeError\u001b[0m                            Traceback (most recent call last)",
      "Cell \u001b[1;32mIn[165], line 1\u001b[0m\n\u001b[1;32m----> 1\u001b[0m a\u001b[38;5;241m.\u001b[39mlength\n",
      "\u001b[1;31mAttributeError\u001b[0m: 'str' object has no attribute 'length'"
     ]
    }
   ],
   "source": [
    "a.length"
   ]
  },
  {
   "cell_type": "code",
   "execution_count": 167,
   "id": "11874eb4-bd98-4faf-a469-8e9530540fb2",
   "metadata": {},
   "outputs": [],
   "source": [
    "len(a);"
   ]
  },
  {
   "cell_type": "code",
   "execution_count": 169,
   "id": "56a10eb6-f50e-4e68-a63a-9b74496f608d",
   "metadata": {},
   "outputs": [
    {
     "name": "stdout",
     "output_type": "stream",
     "text": [
      "5\n"
     ]
    }
   ],
   "source": [
    "print(len(a));"
   ]
  },
  {
   "cell_type": "code",
   "execution_count": 177,
   "id": "397bddd4-476b-416a-8cbf-68f6b53bb385",
   "metadata": {},
   "outputs": [
    {
     "name": "stdout",
     "output_type": "stream",
     "text": [
      "26\n"
     ]
    }
   ],
   "source": [
    "hi=\"Hello, How have you been ?\";\n",
    "print(len(hi));\n"
   ]
  },
  {
   "cell_type": "code",
   "execution_count": 183,
   "id": "16fc1f5b-4bae-46c5-bcd3-6ee62e626d8a",
   "metadata": {},
   "outputs": [
    {
     "name": "stdout",
     "output_type": "stream",
     "text": [
      "H\n",
      "h\n",
      "o\n",
      "e\n",
      "b\n"
     ]
    }
   ],
   "source": [
    "print(hi[0]);\n",
    "print(hi[11]);\n",
    "print(hi[4]);\n",
    "print(hi[1]);\n",
    "print(hi[20]);"
   ]
  },
  {
   "cell_type": "markdown",
   "id": "a5ab4b34-7f06-4d13-9b14-3df3125013f5",
   "metadata": {},
   "source": [
    "# slicing"
   ]
  },
  {
   "cell_type": "markdown",
   "id": "550a3c98-9f6e-41a0-a085-5f9d117b01b7",
   "metadata": {},
   "source": [
    "syntex: variable_name[start:stop:step]"
   ]
  },
  {
   "cell_type": "code",
   "execution_count": 187,
   "id": "050fda68-d297-42d2-9131-70eb90cb3b0b",
   "metadata": {},
   "outputs": [
    {
     "ename": "NameError",
     "evalue": "name 'h1' is not defined",
     "output_type": "error",
     "traceback": [
      "\u001b[1;31m---------------------------------------------------------------------------\u001b[0m",
      "\u001b[1;31mNameError\u001b[0m                                 Traceback (most recent call last)",
      "Cell \u001b[1;32mIn[187], line 1\u001b[0m\n\u001b[1;32m----> 1\u001b[0m h1[\u001b[38;5;241m0\u001b[39m:\u001b[38;5;241m5\u001b[39m]\n",
      "\u001b[1;31mNameError\u001b[0m: name 'h1' is not defined"
     ]
    }
   ],
   "source": [
    "h1[0:5];"
   ]
  },
  {
   "cell_type": "code",
   "execution_count": 189,
   "id": "6ff85a73-7547-4844-8c8c-04a4674800ab",
   "metadata": {},
   "outputs": [
    {
     "data": {
      "text/plain": [
       "'Hello'"
      ]
     },
     "execution_count": 189,
     "metadata": {},
     "output_type": "execute_result"
    }
   ],
   "source": [
    "hi[0:5]"
   ]
  },
  {
   "cell_type": "code",
   "execution_count": 191,
   "id": "f03eaf61-2ace-4fe4-88b1-dd5308d5ed33",
   "metadata": {},
   "outputs": [
    {
     "data": {
      "text/plain": [
       "''"
      ]
     },
     "execution_count": 191,
     "metadata": {},
     "output_type": "execute_result"
    }
   ],
   "source": [
    "hi[-1:-6]"
   ]
  },
  {
   "cell_type": "code",
   "execution_count": 193,
   "id": "84004bc9-24ec-49f6-b29f-0e4b1306c784",
   "metadata": {},
   "outputs": [
    {
     "data": {
      "text/plain": [
       "''"
      ]
     },
     "execution_count": 193,
     "metadata": {},
     "output_type": "execute_result"
    }
   ],
   "source": [
    "hi[-24:-27]"
   ]
  },
  {
   "cell_type": "code",
   "execution_count": 195,
   "id": "ff20f46a-b5e2-4730-8a7d-903486fc7b26",
   "metadata": {},
   "outputs": [
    {
     "name": "stdout",
     "output_type": "stream",
     "text": [
      "20\n"
     ]
    }
   ],
   "source": [
    "a=\"I'am Learning python\";\n",
    "print(len(a));"
   ]
  },
  {
   "cell_type": "code",
   "execution_count": 197,
   "id": "086444af-0360-4f61-a9f0-f2be4c4f3cec",
   "metadata": {},
   "outputs": [
    {
     "data": {
      "text/plain": [
       "''"
      ]
     },
     "execution_count": 197,
     "metadata": {},
     "output_type": "execute_result"
    }
   ],
   "source": [
    "a[19:0]"
   ]
  },
  {
   "cell_type": "code",
   "execution_count": 199,
   "id": "fd2c710c-9708-446d-99c0-375ab080219b",
   "metadata": {},
   "outputs": [],
   "source": [
    "a[-1:-19];"
   ]
  },
  {
   "cell_type": "code",
   "execution_count": 201,
   "id": "e4dfe072-e4c0-4cdd-a3c0-bcf48ed8635f",
   "metadata": {},
   "outputs": [
    {
     "data": {
      "text/plain": [
       "'ytho'"
      ]
     },
     "execution_count": 201,
     "metadata": {},
     "output_type": "execute_result"
    }
   ],
   "source": [
    "a[15:19]"
   ]
  },
  {
   "cell_type": "code",
   "execution_count": 203,
   "id": "4f0b6416-2578-4832-8b79-8138f84e5d8a",
   "metadata": {},
   "outputs": [
    {
     "data": {
      "text/plain": [
       "'python'"
      ]
     },
     "execution_count": 203,
     "metadata": {},
     "output_type": "execute_result"
    }
   ],
   "source": [
    "a[14:20]"
   ]
  },
  {
   "cell_type": "code",
   "execution_count": 205,
   "id": "d243a575-aff5-49a1-ad81-58e745d288f9",
   "metadata": {},
   "outputs": [
    {
     "data": {
      "text/plain": [
       "'Lear'"
      ]
     },
     "execution_count": 205,
     "metadata": {},
     "output_type": "execute_result"
    }
   ],
   "source": [
    "a[5:9]"
   ]
  },
  {
   "cell_type": "code",
   "execution_count": 207,
   "id": "80b4a05a-f3bc-4f12-8189-d5caf7b76257",
   "metadata": {},
   "outputs": [
    {
     "data": {
      "text/plain": [
       "'Learn'"
      ]
     },
     "execution_count": 207,
     "metadata": {},
     "output_type": "execute_result"
    }
   ],
   "source": [
    "a[5:10]"
   ]
  },
  {
   "cell_type": "code",
   "execution_count": 209,
   "id": "f28ce9b8-e9a2-45d2-bf51-662aab01f20a",
   "metadata": {},
   "outputs": [
    {
     "data": {
      "text/plain": [
       "''"
      ]
     },
     "execution_count": 209,
     "metadata": {},
     "output_type": "execute_result"
    }
   ],
   "source": [
    "a[-1:-19]"
   ]
  },
  {
   "cell_type": "code",
   "execution_count": 211,
   "id": "67ce792c-3013-49b3-8e11-4808a0dfbc22",
   "metadata": {},
   "outputs": [
    {
     "data": {
      "text/plain": [
       "\"I'am \""
      ]
     },
     "execution_count": 211,
     "metadata": {},
     "output_type": "execute_result"
    }
   ],
   "source": [
    "a[:-15]"
   ]
  },
  {
   "cell_type": "code",
   "execution_count": 213,
   "id": "9ace1806-e5a6-405b-8702-3279f74dabd7",
   "metadata": {},
   "outputs": [
    {
     "data": {
      "text/plain": [
       "\"nohtyp gninraeL ma'I\""
      ]
     },
     "execution_count": 213,
     "metadata": {},
     "output_type": "execute_result"
    }
   ],
   "source": [
    "a[::-1]"
   ]
  },
  {
   "cell_type": "markdown",
   "id": "c9a0e030-a050-4952-9dd9-413754bd3907",
   "metadata": {},
   "source": [
    "by doing step -1 it will return reverse "
   ]
  },
  {
   "cell_type": "code",
   "execution_count": 216,
   "id": "c866e835-670a-48c5-88b2-711cb2673b17",
   "metadata": {},
   "outputs": [],
   "source": [
    "del a"
   ]
  },
  {
   "cell_type": "markdown",
   "id": "86233e09-349d-49dc-b7f5-0babea1ac726",
   "metadata": {},
   "source": [
    "a"
   ]
  },
  {
   "cell_type": "markdown",
   "id": "df96cb44-57dd-4d77-ba22-931802ec8472",
   "metadata": {},
   "source": [
    "we can delete a existing variable by using del keyword \n",
    "syntex: del var_name"
   ]
  },
  {
   "cell_type": "code",
   "execution_count": 223,
   "id": "0787ddd9-ed2c-4ebe-ad59-ea4ad9e7ec07",
   "metadata": {},
   "outputs": [],
   "source": [
    "string=\"piush khandelwal\""
   ]
  },
  {
   "cell_type": "code",
   "execution_count": 225,
   "id": "6d76bbfc-e9b7-48b3-a063-220b17f0f252",
   "metadata": {},
   "outputs": [],
   "source": [
    "string.upper();"
   ]
  },
  {
   "cell_type": "code",
   "execution_count": 227,
   "id": "add09788-fad7-4543-9274-ad1ae24a7234",
   "metadata": {},
   "outputs": [
    {
     "name": "stdout",
     "output_type": "stream",
     "text": [
      "piush khandelwal\n"
     ]
    }
   ],
   "source": [
    "print(string);"
   ]
  },
  {
   "cell_type": "code",
   "execution_count": 231,
   "id": "9b557112-c824-4900-8e9d-0c6ff1e71275",
   "metadata": {},
   "outputs": [
    {
     "name": "stdout",
     "output_type": "stream",
     "text": [
      "PIUSH KHANDELWAL\n"
     ]
    }
   ],
   "source": [
    "print(string.upper());"
   ]
  },
  {
   "cell_type": "code",
   "execution_count": 235,
   "id": "545be4aa-8d4e-4b37-aae0-88d05584b6f6",
   "metadata": {},
   "outputs": [
    {
     "name": "stdout",
     "output_type": "stream",
     "text": [
      "PIUSH KHANDELWAL\n"
     ]
    }
   ],
   "source": [
    "\n",
    "print(string.swapcase());"
   ]
  },
  {
   "cell_type": "code",
   "execution_count": 241,
   "id": "ca352cec-3dde-4fa7-a396-002b7b4061cc",
   "metadata": {},
   "outputs": [
    {
     "name": "stdout",
     "output_type": "stream",
     "text": [
      "['', 'iush khandelwal']\n"
     ]
    }
   ],
   "source": [
    "print(string.split(\"p\"));"
   ]
  },
  {
   "cell_type": "markdown",
   "id": "3376238a-0c01-4d39-a8df-0257ca604f0d",
   "metadata": {},
   "source": [
    "# Escape sequence"
   ]
  },
  {
   "cell_type": "markdown",
   "id": "fdf8513d-dc0d-40a9-b8bf-37ec42ea5c04",
   "metadata": {},
   "source": [
    "\\n \\t "
   ]
  },
  {
   "cell_type": "markdown",
   "id": "ab33ee98-7b9d-448a-9abb-fd8fddd109ed",
   "metadata": {},
   "source": [
    "# F-string"
   ]
  },
  {
   "cell_type": "code",
   "execution_count": 248,
   "id": "a882d9ba-825a-4e7c-94e9-6511e69f4f87",
   "metadata": {},
   "outputs": [],
   "source": [
    "name=\"harry porter\"\n",
    "city=\"jaiput\"\n",
    "age=20;"
   ]
  },
  {
   "cell_type": "code",
   "execution_count": 250,
   "id": "eed95610-d386-4e3d-b181-8a92fb6b46ae",
   "metadata": {},
   "outputs": [
    {
     "name": "stdout",
     "output_type": "stream",
     "text": [
      "harry porter jaiput 20\n"
     ]
    }
   ],
   "source": [
    "print(name,city,age);\n"
   ]
  },
  {
   "cell_type": "code",
   "execution_count": 252,
   "id": "e345cd49-6268-4ec9-9de8-69e35fa52f43",
   "metadata": {},
   "outputs": [
    {
     "name": "stdout",
     "output_type": "stream",
     "text": [
      "name: harry porter city: jaiput age 20\n"
     ]
    }
   ],
   "source": [
    "print(\"name:\",name,\"city:\",city,\"age\",age);"
   ]
  },
  {
   "cell_type": "code",
   "execution_count": 254,
   "id": "fe979685-8918-41c7-8d54-d84f06ef1bb3",
   "metadata": {},
   "outputs": [
    {
     "name": "stdout",
     "output_type": "stream",
     "text": [
      "my name is harry porter \n",
      " my city is jaiput \n",
      " my age is 20\n"
     ]
    }
   ],
   "source": [
    "print(f\"my name is {name} \\n my city is {city} \\n my age is {age}\");"
   ]
  },
  {
   "cell_type": "code",
   "execution_count": 256,
   "id": "f6fbc439-b841-446e-950b-46844beae007",
   "metadata": {},
   "outputs": [
    {
     "name": "stdout",
     "output_type": "stream",
     "text": [
      "my name is harry porter \n",
      " my city is jaiput \n",
      " my age is 20\n"
     ]
    },
    {
     "ename": "TypeError",
     "evalue": "object of type 'NoneType' has no len()",
     "output_type": "error",
     "traceback": [
      "\u001b[1;31m---------------------------------------------------------------------------\u001b[0m",
      "\u001b[1;31mTypeError\u001b[0m                                 Traceback (most recent call last)",
      "Cell \u001b[1;32mIn[256], line 1\u001b[0m\n\u001b[1;32m----> 1\u001b[0m \u001b[38;5;28mlen\u001b[39m(\u001b[38;5;28mprint\u001b[39m(\u001b[38;5;124mf\u001b[39m\u001b[38;5;124m\"\u001b[39m\u001b[38;5;124mmy name is \u001b[39m\u001b[38;5;132;01m{\u001b[39;00mname\u001b[38;5;132;01m}\u001b[39;00m\u001b[38;5;124m \u001b[39m\u001b[38;5;130;01m\\n\u001b[39;00m\u001b[38;5;124m my city is \u001b[39m\u001b[38;5;132;01m{\u001b[39;00mcity\u001b[38;5;132;01m}\u001b[39;00m\u001b[38;5;124m \u001b[39m\u001b[38;5;130;01m\\n\u001b[39;00m\u001b[38;5;124m my age is \u001b[39m\u001b[38;5;132;01m{\u001b[39;00mage\u001b[38;5;132;01m}\u001b[39;00m\u001b[38;5;124m\"\u001b[39m))\n",
      "\u001b[1;31mTypeError\u001b[0m: object of type 'NoneType' has no len()"
     ]
    }
   ],
   "source": [
    "len(print(f\"my name is {name} \\n my city is {city} \\n my age is {age}\"));"
   ]
  },
  {
   "cell_type": "code",
   "execution_count": 258,
   "id": "ff8b2a2f-f9fc-47d5-aac3-97aece910a63",
   "metadata": {},
   "outputs": [
    {
     "ename": "TypeError",
     "evalue": "len() takes exactly one argument (3 given)",
     "output_type": "error",
     "traceback": [
      "\u001b[1;31m---------------------------------------------------------------------------\u001b[0m",
      "\u001b[1;31mTypeError\u001b[0m                                 Traceback (most recent call last)",
      "Cell \u001b[1;32mIn[258], line 1\u001b[0m\n\u001b[1;32m----> 1\u001b[0m \u001b[38;5;28mlen\u001b[39m(name,city,age)\n",
      "\u001b[1;31mTypeError\u001b[0m: len() takes exactly one argument (3 given)"
     ]
    }
   ],
   "source": [
    "len(name,city,age)"
   ]
  },
  {
   "cell_type": "code",
   "execution_count": 260,
   "id": "09af8bae-7e4a-43d4-8a75-85318fcf80fa",
   "metadata": {},
   "outputs": [
    {
     "data": {
      "text/plain": [
       "12"
      ]
     },
     "execution_count": 260,
     "metadata": {},
     "output_type": "execute_result"
    }
   ],
   "source": [
    "len(name)"
   ]
  },
  {
   "cell_type": "code",
   "execution_count": 262,
   "id": "7e921c26-2493-40db-bad6-aac02221cfda",
   "metadata": {},
   "outputs": [
    {
     "data": {
      "text/plain": [
       "6"
      ]
     },
     "execution_count": 262,
     "metadata": {},
     "output_type": "execute_result"
    }
   ],
   "source": [
    "len(city)"
   ]
  },
  {
   "cell_type": "code",
   "execution_count": 264,
   "id": "94e27748-9000-41da-97be-505c3735d043",
   "metadata": {},
   "outputs": [
    {
     "ename": "TypeError",
     "evalue": "object of type 'int' has no len()",
     "output_type": "error",
     "traceback": [
      "\u001b[1;31m---------------------------------------------------------------------------\u001b[0m",
      "\u001b[1;31mTypeError\u001b[0m                                 Traceback (most recent call last)",
      "Cell \u001b[1;32mIn[264], line 1\u001b[0m\n\u001b[1;32m----> 1\u001b[0m \u001b[38;5;28mlen\u001b[39m(age)\n",
      "\u001b[1;31mTypeError\u001b[0m: object of type 'int' has no len()"
     ]
    }
   ],
   "source": [
    "len(age)"
   ]
  },
  {
   "cell_type": "code",
   "execution_count": 268,
   "id": "7e8f983b-8ebc-47a4-9059-df8afd73b87c",
   "metadata": {},
   "outputs": [],
   "source": [
    "a=[\"piyush\",122,True,5j,5.5];"
   ]
  },
  {
   "cell_type": "code",
   "execution_count": 270,
   "id": "e3654017-dfc9-4faf-9b1f-ac846020dacb",
   "metadata": {},
   "outputs": [],
   "source": [
    "type(a);"
   ]
  },
  {
   "cell_type": "code",
   "execution_count": 272,
   "id": "a33df861-6616-412b-92e5-9e0de2e375e8",
   "metadata": {},
   "outputs": [
    {
     "name": "stdout",
     "output_type": "stream",
     "text": [
      "<class 'list'>\n"
     ]
    }
   ],
   "source": [
    "print(type(a));"
   ]
  },
  {
   "cell_type": "code",
   "execution_count": 274,
   "id": "12f90c76-96b1-4c73-a6a3-8f51de9a3508",
   "metadata": {},
   "outputs": [
    {
     "data": {
      "text/plain": [
       "['piyush', 122, True, 5j, 5.5]"
      ]
     },
     "execution_count": 274,
     "metadata": {},
     "output_type": "execute_result"
    }
   ],
   "source": [
    "a"
   ]
  },
  {
   "cell_type": "code",
   "execution_count": 276,
   "id": "40c30e97-2cb2-4cc7-8a28-a64f747dc40a",
   "metadata": {},
   "outputs": [
    {
     "data": {
      "text/plain": [
       "True"
      ]
     },
     "execution_count": 276,
     "metadata": {},
     "output_type": "execute_result"
    }
   ],
   "source": [
    "a[2]"
   ]
  },
  {
   "cell_type": "code",
   "execution_count": 278,
   "id": "8885c7ff-4a53-4d7c-a26d-fe042dcfe87d",
   "metadata": {},
   "outputs": [
    {
     "ename": "AttributeError",
     "evalue": "'list' object has no attribute 'push'",
     "output_type": "error",
     "traceback": [
      "\u001b[1;31m---------------------------------------------------------------------------\u001b[0m",
      "\u001b[1;31mAttributeError\u001b[0m                            Traceback (most recent call last)",
      "Cell \u001b[1;32mIn[278], line 1\u001b[0m\n\u001b[1;32m----> 1\u001b[0m a\u001b[38;5;241m.\u001b[39mpush(\u001b[38;5;124m\"\u001b[39m\u001b[38;5;124mpiyush\u001b[39m\u001b[38;5;124m\"\u001b[39m)\n",
      "\u001b[1;31mAttributeError\u001b[0m: 'list' object has no attribute 'push'"
     ]
    }
   ],
   "source": [
    "a.push(\"piyush\")"
   ]
  },
  {
   "cell_type": "code",
   "execution_count": 280,
   "id": "8980fb8d-66ce-4002-87d0-1e4d7ab2ad1d",
   "metadata": {},
   "outputs": [],
   "source": [
    "a.append(\"a\")"
   ]
  },
  {
   "cell_type": "code",
   "execution_count": 282,
   "id": "d6f5d2de-e95f-4c0a-9328-86c09628c680",
   "metadata": {},
   "outputs": [
    {
     "data": {
      "text/plain": [
       "['piyush', 122, True, 5j, 5.5, 'a']"
      ]
     },
     "execution_count": 282,
     "metadata": {},
     "output_type": "execute_result"
    }
   ],
   "source": [
    "a"
   ]
  },
  {
   "cell_type": "code",
   "execution_count": 284,
   "id": "bc60c7bd-6d0d-4d90-a73e-3aebe37fb14c",
   "metadata": {},
   "outputs": [
    {
     "ename": "TypeError",
     "evalue": "'str' object cannot be interpreted as an integer",
     "output_type": "error",
     "traceback": [
      "\u001b[1;31m---------------------------------------------------------------------------\u001b[0m",
      "\u001b[1;31mTypeError\u001b[0m                                 Traceback (most recent call last)",
      "Cell \u001b[1;32mIn[284], line 1\u001b[0m\n\u001b[1;32m----> 1\u001b[0m a\u001b[38;5;241m.\u001b[39mpop(\u001b[38;5;124m\"\u001b[39m\u001b[38;5;124ma\u001b[39m\u001b[38;5;124m\"\u001b[39m)\n",
      "\u001b[1;31mTypeError\u001b[0m: 'str' object cannot be interpreted as an integer"
     ]
    }
   ],
   "source": [
    "a.pop(\"a\")"
   ]
  },
  {
   "cell_type": "code",
   "execution_count": 286,
   "id": "5fa1099c-064f-4e53-a3b4-998a7d29b127",
   "metadata": {},
   "outputs": [
    {
     "ename": "TypeError",
     "evalue": "'list' object cannot be interpreted as an integer",
     "output_type": "error",
     "traceback": [
      "\u001b[1;31m---------------------------------------------------------------------------\u001b[0m",
      "\u001b[1;31mTypeError\u001b[0m                                 Traceback (most recent call last)",
      "Cell \u001b[1;32mIn[286], line 1\u001b[0m\n\u001b[1;32m----> 1\u001b[0m a\u001b[38;5;241m.\u001b[39mpop(a)\n",
      "\u001b[1;31mTypeError\u001b[0m: 'list' object cannot be interpreted as an integer"
     ]
    }
   ],
   "source": [
    "a.pop(a);"
   ]
  },
  {
   "cell_type": "code",
   "execution_count": 288,
   "id": "fbea002e-f921-4245-988f-68ccb6d42f27",
   "metadata": {},
   "outputs": [
    {
     "name": "stdout",
     "output_type": "stream",
     "text": [
      "6\n"
     ]
    }
   ],
   "source": [
    "print(len(a));"
   ]
  },
  {
   "cell_type": "code",
   "execution_count": 290,
   "id": "ee5f4106-53bb-4280-b2d6-07e576713538",
   "metadata": {},
   "outputs": [],
   "source": [
    "n_list = [\"Hello\",[\"ok\",2,13,5,6,[5.7,\"a\",\"e\"],9],1,2,3];"
   ]
  },
  {
   "cell_type": "code",
   "execution_count": 292,
   "id": "2c58d0df-ca45-4701-a3f9-57c2d6004123",
   "metadata": {},
   "outputs": [
    {
     "data": {
      "text/plain": [
       "3"
      ]
     },
     "execution_count": 292,
     "metadata": {},
     "output_type": "execute_result"
    }
   ],
   "source": [
    "n_list[4]"
   ]
  },
  {
   "cell_type": "code",
   "execution_count": 294,
   "id": "02bf195b-a8b1-40f5-85c5-e4b02dc14342",
   "metadata": {},
   "outputs": [
    {
     "data": {
      "text/plain": [
       "6"
      ]
     },
     "execution_count": 294,
     "metadata": {},
     "output_type": "execute_result"
    }
   ],
   "source": [
    "n_list[1][4]"
   ]
  },
  {
   "cell_type": "code",
   "execution_count": 296,
   "id": "1490f840-400c-478f-b20e-64e285d27d29",
   "metadata": {},
   "outputs": [
    {
     "data": {
      "text/plain": [
       "'ok'"
      ]
     },
     "execution_count": 296,
     "metadata": {},
     "output_type": "execute_result"
    }
   ],
   "source": [
    "n_list[1][0]"
   ]
  },
  {
   "cell_type": "code",
   "execution_count": 298,
   "id": "995a426c-8d09-4183-9e42-5fd3c8c1383f",
   "metadata": {},
   "outputs": [
    {
     "data": {
      "text/plain": [
       "9"
      ]
     },
     "execution_count": 298,
     "metadata": {},
     "output_type": "execute_result"
    }
   ],
   "source": [
    "n_list[1][6]"
   ]
  },
  {
   "cell_type": "code",
   "execution_count": 300,
   "id": "3429a3c4-9b1b-48a5-b737-5211ba926c71",
   "metadata": {},
   "outputs": [],
   "source": [
    "list1=[1,2,3];\n",
    "list2=[4,5,6];\n"
   ]
  },
  {
   "cell_type": "code",
   "execution_count": 302,
   "id": "9b60edf9-d323-4041-b8b0-2fafff48d6e2",
   "metadata": {},
   "outputs": [
    {
     "data": {
      "text/plain": [
       "[1, 2, 3, 4, 5, 6]"
      ]
     },
     "execution_count": 302,
     "metadata": {},
     "output_type": "execute_result"
    }
   ],
   "source": [
    "list1+list2"
   ]
  },
  {
   "cell_type": "code",
   "execution_count": 304,
   "id": "303028b8-d7f6-43ca-b0b5-f31a34d22c41",
   "metadata": {},
   "outputs": [
    {
     "data": {
      "text/plain": [
       "[1, 2, 3, 1, 2, 3, 1, 2, 3, 1, 2, 3]"
      ]
     },
     "execution_count": 304,
     "metadata": {},
     "output_type": "execute_result"
    }
   ],
   "source": [
    "list1*4\n"
   ]
  },
  {
   "cell_type": "code",
   "execution_count": 306,
   "id": "5a110300-687a-45c0-b9dd-6cfe1bbe58b5",
   "metadata": {},
   "outputs": [
    {
     "name": "stdout",
     "output_type": "stream",
     "text": [
      "True\n"
     ]
    }
   ],
   "source": [
    "print( 1 in list1)# membership operator "
   ]
  },
  {
   "cell_type": "code",
   "execution_count": 308,
   "id": "55bebe20-980f-47f9-b675-9f4184fcac02",
   "metadata": {},
   "outputs": [
    {
     "data": {
      "text/plain": [
       "False"
      ]
     },
     "execution_count": 308,
     "metadata": {},
     "output_type": "execute_result"
    }
   ],
   "source": [
    "3 not in list1"
   ]
  },
  {
   "cell_type": "code",
   "execution_count": 310,
   "id": "89e086ba-3b29-4320-bf4e-b3a43c4f24cf",
   "metadata": {},
   "outputs": [
    {
     "data": {
      "text/plain": [
       "True"
      ]
     },
     "execution_count": 310,
     "metadata": {},
     "output_type": "execute_result"
    }
   ],
   "source": [
    "4 not in list1"
   ]
  },
  {
   "cell_type": "code",
   "execution_count": 312,
   "id": "d8c90165-3842-47e4-8409-f5a11bcceed7",
   "metadata": {},
   "outputs": [],
   "source": [
    "number=[1,2,3,4,5,6]"
   ]
  },
  {
   "cell_type": "code",
   "execution_count": 314,
   "id": "70d97701-d121-47ef-b1af-84b9a0d00d98",
   "metadata": {},
   "outputs": [],
   "source": [
    "number.append(7)"
   ]
  },
  {
   "cell_type": "code",
   "execution_count": 316,
   "id": "5306712d-bbbd-4ac4-b6bb-929409796cad",
   "metadata": {},
   "outputs": [
    {
     "data": {
      "text/plain": [
       "[1, 2, 3, 4, 5, 6, 7]"
      ]
     },
     "execution_count": 316,
     "metadata": {},
     "output_type": "execute_result"
    }
   ],
   "source": [
    "number"
   ]
  },
  {
   "cell_type": "code",
   "execution_count": 318,
   "id": "e506a066-e46e-478b-a551-c7db346783c4",
   "metadata": {},
   "outputs": [],
   "source": [
    "number.remove(7)"
   ]
  },
  {
   "cell_type": "code",
   "execution_count": 320,
   "id": "caf6ea4b-9e1e-429c-9a92-ad5a0415aef2",
   "metadata": {},
   "outputs": [
    {
     "data": {
      "text/plain": [
       "[1, 2, 3, 4, 5, 6]"
      ]
     },
     "execution_count": 320,
     "metadata": {},
     "output_type": "execute_result"
    }
   ],
   "source": [
    "number"
   ]
  },
  {
   "cell_type": "markdown",
   "id": "4ea44e8b-9f85-41d7-b1ed-e647d66b6abd",
   "metadata": {},
   "source": [
    "remove me element se remove karega or pop me indexing se remove karega"
   ]
  },
  {
   "cell_type": "code",
   "execution_count": 323,
   "id": "306fc43f-e504-45d5-9c82-60b1643681c3",
   "metadata": {},
   "outputs": [
    {
     "data": {
      "text/plain": [
       "4"
      ]
     },
     "execution_count": 323,
     "metadata": {},
     "output_type": "execute_result"
    }
   ],
   "source": [
    "number.pop(3)"
   ]
  },
  {
   "cell_type": "code",
   "execution_count": 325,
   "id": "29ec5fbd-030c-4e5f-b40f-c5cfb034d358",
   "metadata": {},
   "outputs": [
    {
     "data": {
      "text/plain": [
       "[1, 2, 3, 5, 6]"
      ]
     },
     "execution_count": 325,
     "metadata": {},
     "output_type": "execute_result"
    }
   ],
   "source": [
    "number"
   ]
  },
  {
   "cell_type": "code",
   "execution_count": 327,
   "id": "7002733d-b5b1-49ee-8ddb-513174a7e333",
   "metadata": {},
   "outputs": [
    {
     "data": {
      "text/plain": [
       "1"
      ]
     },
     "execution_count": 327,
     "metadata": {},
     "output_type": "execute_result"
    }
   ],
   "source": [
    "number.index(2)"
   ]
  },
  {
   "cell_type": "code",
   "execution_count": 329,
   "id": "c21aeaba-2feb-43d6-8ab7-244b053e2bf3",
   "metadata": {},
   "outputs": [],
   "source": [
    "number.sort();"
   ]
  },
  {
   "cell_type": "code",
   "execution_count": 331,
   "id": "74b0e42e-ea1f-49ed-99b1-16f0daeba754",
   "metadata": {},
   "outputs": [
    {
     "data": {
      "text/plain": [
       "[1, 2, 3, 5, 6]"
      ]
     },
     "execution_count": 331,
     "metadata": {},
     "output_type": "execute_result"
    }
   ],
   "source": [
    "number"
   ]
  },
  {
   "cell_type": "code",
   "execution_count": 333,
   "id": "7dcdda32-e0e0-49e4-be0c-7fa35688b8cd",
   "metadata": {},
   "outputs": [],
   "source": [
    "number.append(4);"
   ]
  },
  {
   "cell_type": "code",
   "execution_count": 335,
   "id": "b23a4374-6972-4db6-823e-4b756159e982",
   "metadata": {},
   "outputs": [
    {
     "data": {
      "text/plain": [
       "[1, 2, 3, 5, 6, 4]"
      ]
     },
     "execution_count": 335,
     "metadata": {},
     "output_type": "execute_result"
    }
   ],
   "source": [
    "number"
   ]
  },
  {
   "cell_type": "code",
   "execution_count": 337,
   "id": "cbb14071-3bb1-44b5-8111-5a81c19ca3f7",
   "metadata": {},
   "outputs": [],
   "source": [
    "number.sort();"
   ]
  },
  {
   "cell_type": "code",
   "execution_count": 339,
   "id": "04656fc9-e927-46cd-bb47-eebb0d9b0772",
   "metadata": {},
   "outputs": [
    {
     "data": {
      "text/plain": [
       "[1, 2, 3, 4, 5, 6]"
      ]
     },
     "execution_count": 339,
     "metadata": {},
     "output_type": "execute_result"
    }
   ],
   "source": [
    "number"
   ]
  },
  {
   "cell_type": "code",
   "execution_count": 341,
   "id": "e4bc8b0c-c9d0-46e2-92da-84e12b857076",
   "metadata": {},
   "outputs": [
    {
     "ename": "NameError",
     "evalue": "name 'reverse' is not defined",
     "output_type": "error",
     "traceback": [
      "\u001b[1;31m---------------------------------------------------------------------------\u001b[0m",
      "\u001b[1;31mNameError\u001b[0m                                 Traceback (most recent call last)",
      "Cell \u001b[1;32mIn[341], line 1\u001b[0m\n\u001b[1;32m----> 1\u001b[0m number\u001b[38;5;241m.\u001b[39msort(reverse\u001b[38;5;241m==\u001b[39m\u001b[38;5;28;01mTrue\u001b[39;00m)\n",
      "\u001b[1;31mNameError\u001b[0m: name 'reverse' is not defined"
     ]
    }
   ],
   "source": [
    "number.sort(reverse==True);"
   ]
  },
  {
   "cell_type": "code",
   "execution_count": 345,
   "id": "8a7dcdcf-7bb0-45a0-84eb-a3c8563e504c",
   "metadata": {},
   "outputs": [],
   "source": [
    "number.sort(reverse = True)"
   ]
  },
  {
   "cell_type": "markdown",
   "id": "44c0a9aa-7829-4e23-9d6d-32461194ac47",
   "metadata": {},
   "source": [
    "number"
   ]
  },
  {
   "cell_type": "code",
   "execution_count": 348,
   "id": "47809f1d-959d-4441-89cf-8ab49e17c5e2",
   "metadata": {},
   "outputs": [
    {
     "data": {
      "text/plain": [
       "[6, 5, 4, 3, 2, 1]"
      ]
     },
     "execution_count": 348,
     "metadata": {},
     "output_type": "execute_result"
    }
   ],
   "source": [
    "number"
   ]
  },
  {
   "cell_type": "code",
   "execution_count": 352,
   "id": "28538d7c-71ce-4c39-908d-cfabde1c2913",
   "metadata": {},
   "outputs": [
    {
     "ename": "ValueError",
     "evalue": "5 is not in list",
     "output_type": "error",
     "traceback": [
      "\u001b[1;31m---------------------------------------------------------------------------\u001b[0m",
      "\u001b[1;31mValueError\u001b[0m                                Traceback (most recent call last)",
      "Cell \u001b[1;32mIn[352], line 1\u001b[0m\n\u001b[1;32m----> 1\u001b[0m number\u001b[38;5;241m.\u001b[39mindex(\u001b[38;5;241m5\u001b[39m,\u001b[38;5;241m4\u001b[39m)\n",
      "\u001b[1;31mValueError\u001b[0m: 5 is not in list"
     ]
    }
   ],
   "source": [
    "number.index(5,4)"
   ]
  },
  {
   "cell_type": "code",
   "execution_count": 354,
   "id": "bc21cd7b-f25b-4aab-89da-9d2962c85e16",
   "metadata": {},
   "outputs": [],
   "source": [
    "hello=[635,68675,45,7,53,6,45,7,3,346,7,3,6,2,5,3]"
   ]
  },
  {
   "cell_type": "code",
   "execution_count": 356,
   "id": "ad76dae9-102f-4f4b-8d0f-8b742c451504",
   "metadata": {},
   "outputs": [
    {
     "ename": "TypeError",
     "evalue": "'list' object is not callable",
     "output_type": "error",
     "traceback": [
      "\u001b[1;31m---------------------------------------------------------------------------\u001b[0m",
      "\u001b[1;31mTypeError\u001b[0m                                 Traceback (most recent call last)",
      "Cell \u001b[1;32mIn[356], line 1\u001b[0m\n\u001b[1;32m----> 1\u001b[0m hello(\u001b[38;5;241m5\u001b[39m,\u001b[38;5;241m6\u001b[39m)\n",
      "\u001b[1;31mTypeError\u001b[0m: 'list' object is not callable"
     ]
    }
   ],
   "source": [
    "hello(5,6)"
   ]
  },
  {
   "cell_type": "code",
   "execution_count": 358,
   "id": "e1ec2d01-68a4-44cb-827c-00db8da5e7bb",
   "metadata": {},
   "outputs": [
    {
     "ename": "TypeError",
     "evalue": "'list' object is not callable",
     "output_type": "error",
     "traceback": [
      "\u001b[1;31m---------------------------------------------------------------------------\u001b[0m",
      "\u001b[1;31mTypeError\u001b[0m                                 Traceback (most recent call last)",
      "Cell \u001b[1;32mIn[358], line 1\u001b[0m\n\u001b[1;32m----> 1\u001b[0m hello(\u001b[38;5;241m6\u001b[39m,\u001b[38;5;241m5\u001b[39m)\n",
      "\u001b[1;31mTypeError\u001b[0m: 'list' object is not callable"
     ]
    }
   ],
   "source": [
    "hello(6,5)"
   ]
  },
  {
   "cell_type": "code",
   "execution_count": 360,
   "id": "b0d71b91-bda2-4356-9100-b44f51ed9545",
   "metadata": {},
   "outputs": [],
   "source": [
    "hello=number.copy();"
   ]
  },
  {
   "cell_type": "code",
   "execution_count": 362,
   "id": "3dad5d4a-1636-4d00-9dae-ad4b0c2f5610",
   "metadata": {},
   "outputs": [
    {
     "data": {
      "text/plain": [
       "[6, 5, 4, 3, 2, 1]"
      ]
     },
     "execution_count": 362,
     "metadata": {},
     "output_type": "execute_result"
    }
   ],
   "source": [
    "hello"
   ]
  },
  {
   "cell_type": "code",
   "execution_count": 364,
   "id": "d121f626-a302-4430-9e15-b26d63a0419e",
   "metadata": {},
   "outputs": [],
   "source": [
    "number.insert(4,4.5)"
   ]
  },
  {
   "cell_type": "code",
   "execution_count": 366,
   "id": "437e707a-9558-4971-9a0f-7d2d0d209fb3",
   "metadata": {},
   "outputs": [
    {
     "data": {
      "text/plain": [
       "[6, 5, 4, 3, 4.5, 2, 1]"
      ]
     },
     "execution_count": 366,
     "metadata": {},
     "output_type": "execute_result"
    }
   ],
   "source": [
    "number"
   ]
  },
  {
   "cell_type": "code",
   "execution_count": 368,
   "id": "614f10b0-5022-49df-9ffe-898e1168bdc7",
   "metadata": {},
   "outputs": [],
   "source": [
    "number.sort(reverse=0)"
   ]
  },
  {
   "cell_type": "code",
   "execution_count": 370,
   "id": "583b063c-c6f4-4dec-85cb-6d2e622dbc1e",
   "metadata": {},
   "outputs": [
    {
     "data": {
      "text/plain": [
       "[1, 2, 3, 4, 4.5, 5, 6]"
      ]
     },
     "execution_count": 370,
     "metadata": {},
     "output_type": "execute_result"
    }
   ],
   "source": [
    "number"
   ]
  },
  {
   "cell_type": "code",
   "execution_count": 372,
   "id": "1d58d173-7fd7-43ad-9e29-1377d16f67a2",
   "metadata": {},
   "outputs": [],
   "source": [
    "list=[10,20,30,40]"
   ]
  },
  {
   "cell_type": "code",
   "execution_count": 374,
   "id": "bb677907-a849-4862-9c8d-297ab373fc28",
   "metadata": {},
   "outputs": [],
   "source": [
    "list.append(500)"
   ]
  },
  {
   "cell_type": "code",
   "execution_count": 376,
   "id": "7d4801c8-9073-421b-956d-08faf1d52488",
   "metadata": {},
   "outputs": [
    {
     "data": {
      "text/plain": [
       "[10, 20, 30, 40, 500]"
      ]
     },
     "execution_count": 376,
     "metadata": {},
     "output_type": "execute_result"
    }
   ],
   "source": [
    "list"
   ]
  },
  {
   "cell_type": "code",
   "execution_count": 378,
   "id": "380ea7a8-c8fc-40d6-bfd5-e082ea1f67f2",
   "metadata": {},
   "outputs": [],
   "source": [
    "list.remove(500)"
   ]
  },
  {
   "cell_type": "code",
   "execution_count": 380,
   "id": "ff4e1d2e-8577-4c95-87ee-f8eb73a90221",
   "metadata": {},
   "outputs": [],
   "source": [
    "list.insert(2,500)"
   ]
  },
  {
   "cell_type": "code",
   "execution_count": 382,
   "id": "cd3524b3-9f6f-4d18-aa51-8cd7bee8fa49",
   "metadata": {},
   "outputs": [
    {
     "data": {
      "text/plain": [
       "[10, 20, 500, 30, 40]"
      ]
     },
     "execution_count": 382,
     "metadata": {},
     "output_type": "execute_result"
    }
   ],
   "source": [
    "list"
   ]
  },
  {
   "cell_type": "code",
   "execution_count": 384,
   "id": "cb69581a-c453-4759-ad80-5a40844059e4",
   "metadata": {},
   "outputs": [],
   "source": [
    "list.remove(30)"
   ]
  },
  {
   "cell_type": "code",
   "execution_count": 386,
   "id": "fac88ec4-7c01-4016-981d-71d5bb23ea45",
   "metadata": {},
   "outputs": [],
   "source": [
    "list.sort();"
   ]
  },
  {
   "cell_type": "code",
   "execution_count": 388,
   "id": "e194d740-8547-4214-8221-2c3edff5dafc",
   "metadata": {},
   "outputs": [
    {
     "data": {
      "text/plain": [
       "[10, 20, 40, 500]"
      ]
     },
     "execution_count": 388,
     "metadata": {},
     "output_type": "execute_result"
    }
   ],
   "source": [
    "list"
   ]
  },
  {
   "cell_type": "code",
   "execution_count": 390,
   "id": "296f6afc-d190-4845-939d-ac40c3731c02",
   "metadata": {},
   "outputs": [],
   "source": [
    "list.sort(reverse=1)"
   ]
  },
  {
   "cell_type": "code",
   "execution_count": 392,
   "id": "5b68118f-d057-46d3-be55-ba2440da3d13",
   "metadata": {},
   "outputs": [
    {
     "data": {
      "text/plain": [
       "[500, 40, 20, 10]"
      ]
     },
     "execution_count": 392,
     "metadata": {},
     "output_type": "execute_result"
    }
   ],
   "source": [
    "list"
   ]
  },
  {
   "cell_type": "code",
   "execution_count": 394,
   "id": "0e48c6d1-8046-47ab-9a7b-b27a4207f521",
   "metadata": {},
   "outputs": [
    {
     "ename": "AttributeError",
     "evalue": "'list' object has no attribute 'max'",
     "output_type": "error",
     "traceback": [
      "\u001b[1;31m---------------------------------------------------------------------------\u001b[0m",
      "\u001b[1;31mAttributeError\u001b[0m                            Traceback (most recent call last)",
      "Cell \u001b[1;32mIn[394], line 1\u001b[0m\n\u001b[1;32m----> 1\u001b[0m \u001b[38;5;28mlist\u001b[39m\u001b[38;5;241m.\u001b[39mmax\n",
      "\u001b[1;31mAttributeError\u001b[0m: 'list' object has no attribute 'max'"
     ]
    }
   ],
   "source": [
    "list.max"
   ]
  },
  {
   "cell_type": "code",
   "execution_count": 396,
   "id": "9a2c68d5-17ca-4ffe-9fd1-60326cd36223",
   "metadata": {},
   "outputs": [
    {
     "ename": "AttributeError",
     "evalue": "'list' object has no attribute 'max'",
     "output_type": "error",
     "traceback": [
      "\u001b[1;31m---------------------------------------------------------------------------\u001b[0m",
      "\u001b[1;31mAttributeError\u001b[0m                            Traceback (most recent call last)",
      "Cell \u001b[1;32mIn[396], line 1\u001b[0m\n\u001b[1;32m----> 1\u001b[0m \u001b[38;5;28mlist\u001b[39m\u001b[38;5;241m.\u001b[39mmax()\n",
      "\u001b[1;31mAttributeError\u001b[0m: 'list' object has no attribute 'max'"
     ]
    }
   ],
   "source": [
    "list.max();"
   ]
  },
  {
   "cell_type": "code",
   "execution_count": 398,
   "id": "8dfdf909-0c1b-4c11-a631-848e7d3e1e84",
   "metadata": {},
   "outputs": [
    {
     "name": "stdout",
     "output_type": "stream",
     "text": [
      "500\n"
     ]
    }
   ],
   "source": [
    "print(max(list))"
   ]
  },
  {
   "cell_type": "code",
   "execution_count": 400,
   "id": "078900bb-2923-4597-93b5-db997074a7b0",
   "metadata": {},
   "outputs": [
    {
     "name": "stdout",
     "output_type": "stream",
     "text": [
      "10\n"
     ]
    }
   ],
   "source": [
    "print(min(list))"
   ]
  },
  {
   "cell_type": "markdown",
   "id": "1fec404a-1a39-4883-888c-e09d5c4a34df",
   "metadata": {},
   "source": [
    "Assignment 1\n",
    "\n",
    "Take user input for a string and print its length.\n",
    "Given a = 5, b = 3, find and print the result of floor division (//), modulus (%), and exponentiation (**).\n",
    "Write a program to swap two numbers without using a third variable.\n",
    "Write a program to append an element to a list and remove the first element.\n",
    "Given numbers = [10, 20, 30, 40, 50], replace 30 with 99.\n",
    "Sort a list of numbers in ascending and descending order.\n",
    "Write a program to find the maximum and minimum values in a list."
   ]
  },
  {
   "cell_type": "code",
   "execution_count": 3,
   "id": "ad2d783e-7c8a-4d57-a010-bcbf05974a6b",
   "metadata": {},
   "outputs": [
    {
     "ename": "SyntaxError",
     "evalue": "invalid syntax (2453611774.py, line 1)",
     "output_type": "error",
     "traceback": [
      "\u001b[1;36m  Cell \u001b[1;32mIn[3], line 1\u001b[1;36m\u001b[0m\n\u001b[1;33m    int a=input(\"enter a string\");\u001b[0m\n\u001b[1;37m        ^\u001b[0m\n\u001b[1;31mSyntaxError\u001b[0m\u001b[1;31m:\u001b[0m invalid syntax\n"
     ]
    }
   ],
   "source": [
    "int a=input(\"enter a string\");\n",
    "print(len(a));"
   ]
  },
  {
   "cell_type": "markdown",
   "id": "a26aa1fb-c8e0-4413-ab83-55ece2281356",
   "metadata": {},
   "source": [
    "#question-1"
   ]
  },
  {
   "cell_type": "code",
   "execution_count": 5,
   "id": "bae707c7-ec9e-4242-9854-2bdf4dfe5077",
   "metadata": {},
   "outputs": [
    {
     "name": "stdin",
     "output_type": "stream",
     "text": [
      "enter a string hello world\n"
     ]
    },
    {
     "name": "stdout",
     "output_type": "stream",
     "text": [
      "11\n"
     ]
    }
   ],
   "source": [
    "a=input(\"enter a string\");\n",
    "print(len(a));"
   ]
  },
  {
   "cell_type": "markdown",
   "id": "0d46b320-faf9-4106-bba3-67d69068f844",
   "metadata": {},
   "source": [
    "#q-2\n"
   ]
  },
  {
   "cell_type": "code",
   "execution_count": 7,
   "id": "2ad37731-5f8d-46b0-b2e7-c0c6bccd89b7",
   "metadata": {},
   "outputs": [
    {
     "name": "stdout",
     "output_type": "stream",
     "text": [
      "1\n",
      "2\n",
      "125\n"
     ]
    }
   ],
   "source": [
    "a=5;\n",
    "b=3\n",
    "c=a//b;\n",
    "d=a%b;\n",
    "z=a**b;\n",
    "print(c);\n",
    "print(d);\n",
    "print(z);"
   ]
  },
  {
   "cell_type": "markdown",
   "id": "7449bd7c-7d31-40e9-b151-7c79928358f4",
   "metadata": {},
   "source": [
    "#q-3"
   ]
  },
  {
   "cell_type": "code",
   "execution_count": 9,
   "id": "84c60ec2-035e-42d7-aa4a-28ece9fca483",
   "metadata": {},
   "outputs": [
    {
     "name": "stdout",
     "output_type": "stream",
     "text": [
      "12\n",
      "25\n"
     ]
    }
   ],
   "source": [
    "a=25;\n",
    "b=12;\n",
    "a=a+b;\n",
    "b=a-b;\n",
    "a=a-b;\n",
    "print(a);\n",
    "print(b);"
   ]
  },
  {
   "cell_type": "markdown",
   "id": "d35f74e2-c753-4a42-99ab-bc524211e7be",
   "metadata": {},
   "source": [
    "#q4"
   ]
  },
  {
   "cell_type": "code",
   "execution_count": 11,
   "id": "928a18ac-1247-44c8-8404-b699df074957",
   "metadata": {},
   "outputs": [],
   "source": [
    "numbers = [10, 20, 30, 40, 50]"
   ]
  },
  {
   "cell_type": "code",
   "execution_count": 13,
   "id": "61201a57-9ac6-4fe7-9105-877460211acb",
   "metadata": {},
   "outputs": [
    {
     "ename": "NameError",
     "evalue": "name 'number' is not defined",
     "output_type": "error",
     "traceback": [
      "\u001b[1;31m---------------------------------------------------------------------------\u001b[0m",
      "\u001b[1;31mNameError\u001b[0m                                 Traceback (most recent call last)",
      "Cell \u001b[1;32mIn[13], line 1\u001b[0m\n\u001b[1;32m----> 1\u001b[0m number\u001b[38;5;241m.\u001b[39mappend(\u001b[38;5;241m60\u001b[39m)\n",
      "\u001b[1;31mNameError\u001b[0m: name 'number' is not defined"
     ]
    }
   ],
   "source": [
    "number.append(60)"
   ]
  },
  {
   "cell_type": "code",
   "execution_count": 15,
   "id": "7aab80ef-e90e-445d-8dc5-996d55f90f91",
   "metadata": {},
   "outputs": [],
   "source": [
    "numbers.append(60)"
   ]
  },
  {
   "cell_type": "code",
   "execution_count": 17,
   "id": "0ed68fb9-0497-4638-8566-9515a678f33d",
   "metadata": {},
   "outputs": [
    {
     "data": {
      "text/plain": [
       "10"
      ]
     },
     "execution_count": 17,
     "metadata": {},
     "output_type": "execute_result"
    }
   ],
   "source": [
    "numbers.pop(0)"
   ]
  },
  {
   "cell_type": "code",
   "execution_count": 19,
   "id": "f1fbefd4-f5cb-457a-a6e2-5c0d43148362",
   "metadata": {},
   "outputs": [
    {
     "data": {
      "text/plain": [
       "[20, 30, 40, 50, 60]"
      ]
     },
     "execution_count": 19,
     "metadata": {},
     "output_type": "execute_result"
    }
   ],
   "source": [
    "numbers"
   ]
  },
  {
   "cell_type": "code",
   "execution_count": 21,
   "id": "f71e76b2-3ce3-4322-aa61-6a7acc8b1b60",
   "metadata": {},
   "outputs": [],
   "source": [
    "numbers = [10, 20, 30, 40, 50]"
   ]
  },
  {
   "cell_type": "code",
   "execution_count": 23,
   "id": "dde0092e-bbb3-4a53-90a3-937e363ec9d2",
   "metadata": {},
   "outputs": [],
   "source": [
    "numbers.insert(30,90)"
   ]
  },
  {
   "cell_type": "code",
   "execution_count": 25,
   "id": "173b4eaa-4255-492d-9c3a-244afbcd8d07",
   "metadata": {},
   "outputs": [
    {
     "data": {
      "text/plain": [
       "[10, 20, 30, 40, 50, 90]"
      ]
     },
     "execution_count": 25,
     "metadata": {},
     "output_type": "execute_result"
    }
   ],
   "source": [
    "numbers"
   ]
  },
  {
   "cell_type": "code",
   "execution_count": 27,
   "id": "8521cb49-6a0d-4f21-9f00-80a6c42033a0",
   "metadata": {},
   "outputs": [],
   "source": [
    "numbers.remove(90)"
   ]
  },
  {
   "cell_type": "code",
   "execution_count": 29,
   "id": "de11d571-8bd0-449b-b0ad-ed0dfcc71ed6",
   "metadata": {},
   "outputs": [],
   "source": [
    "numbers.insert(90,30)"
   ]
  },
  {
   "cell_type": "markdown",
   "id": "fa50b5d6-d850-4fb3-864d-4a8705ecf247",
   "metadata": {},
   "source": [
    "#question 5"
   ]
  },
  {
   "cell_type": "code",
   "execution_count": 31,
   "id": "deefaace-8e86-4623-be6a-3f9797630387",
   "metadata": {},
   "outputs": [
    {
     "data": {
      "text/plain": [
       "[10, 20, 30, 40, 50, 30]"
      ]
     },
     "execution_count": 31,
     "metadata": {},
     "output_type": "execute_result"
    }
   ],
   "source": [
    "numbers"
   ]
  },
  {
   "cell_type": "code",
   "execution_count": 33,
   "id": "d38a4d7e-ca1e-488f-bb33-82e8b2db01b7",
   "metadata": {},
   "outputs": [],
   "source": [
    "numbers = [10, 20, 30, 40, 50]"
   ]
  },
  {
   "cell_type": "code",
   "execution_count": 35,
   "id": "ed20b5ec-b6c5-424f-906b-52962a057ca0",
   "metadata": {},
   "outputs": [],
   "source": [
    "numbers[2]=90"
   ]
  },
  {
   "cell_type": "code",
   "execution_count": 37,
   "id": "346d8914-712d-4ffe-a91b-a83048e680af",
   "metadata": {},
   "outputs": [
    {
     "data": {
      "text/plain": [
       "[10, 20, 90, 40, 50]"
      ]
     },
     "execution_count": 37,
     "metadata": {},
     "output_type": "execute_result"
    }
   ],
   "source": [
    "numbers"
   ]
  },
  {
   "cell_type": "markdown",
   "id": "cfdf7b20-437a-4c6d-9ff4-a9d8ea2e055a",
   "metadata": {},
   "source": [
    "#q-6"
   ]
  },
  {
   "cell_type": "code",
   "execution_count": 39,
   "id": "ea9be742-3932-4510-91dd-1e3171c8c349",
   "metadata": {},
   "outputs": [],
   "source": [
    "numbers.sort()"
   ]
  },
  {
   "cell_type": "code",
   "execution_count": 41,
   "id": "8e8643b7-076e-4e2e-a252-fcd7f00adb75",
   "metadata": {},
   "outputs": [
    {
     "data": {
      "text/plain": [
       "[10, 20, 40, 50, 90]"
      ]
     },
     "execution_count": 41,
     "metadata": {},
     "output_type": "execute_result"
    }
   ],
   "source": [
    "numbers"
   ]
  },
  {
   "cell_type": "code",
   "execution_count": 43,
   "id": "29731a60-cfbd-403c-93ee-7db56a93adb6",
   "metadata": {},
   "outputs": [],
   "source": [
    "numbers.sort(reverse=1)"
   ]
  },
  {
   "cell_type": "code",
   "execution_count": 45,
   "id": "61678199-e4e4-44cc-93f6-74d89683b6d3",
   "metadata": {},
   "outputs": [
    {
     "data": {
      "text/plain": [
       "[90, 50, 40, 20, 10]"
      ]
     },
     "execution_count": 45,
     "metadata": {},
     "output_type": "execute_result"
    }
   ],
   "source": [
    "numbers"
   ]
  },
  {
   "cell_type": "markdown",
   "id": "3817a08f-a12f-4d84-bd27-83bb164fc09f",
   "metadata": {},
   "source": [
    "#q-7"
   ]
  },
  {
   "cell_type": "code",
   "execution_count": 47,
   "id": "c355f0f7-4f39-4bb8-8de2-9ca60924bff1",
   "metadata": {},
   "outputs": [
    {
     "name": "stdout",
     "output_type": "stream",
     "text": [
      "90\n"
     ]
    }
   ],
   "source": [
    "print(max(numbers))"
   ]
  },
  {
   "cell_type": "code",
   "execution_count": 49,
   "id": "d26218bc-0f95-42ff-a4ed-a6d093d8deb6",
   "metadata": {},
   "outputs": [
    {
     "name": "stdout",
     "output_type": "stream",
     "text": [
      "10\n"
     ]
    }
   ],
   "source": [
    "print(min(numbers))"
   ]
  },
  {
   "cell_type": "markdown",
   "id": "608ec1ef-21d6-4516-9478-61a71ac0a40a",
   "metadata": {},
   "source": [
    "# modules \n",
    "1.position ke liye  getcwd() \n",
    "and 2.change directory ke liye chdir() karte hain\n",
    "3.os.chdir(r\"C:\\\");\n",
    "4.os.listdir() se ham list dekh sakte hai"
   ]
  },
  {
   "cell_type": "code",
   "execution_count": 58,
   "id": "11bb18d7-1dbf-44d0-aea8-507600a29ca7",
   "metadata": {},
   "outputs": [],
   "source": [
    "import os"
   ]
  },
  {
   "cell_type": "code",
   "execution_count": 61,
   "id": "f0bc06ea-374d-4b83-98c4-e4e53419b2d5",
   "metadata": {},
   "outputs": [
    {
     "ename": "AttributeError",
     "evalue": "module 'os' has no attribute 'cwd'",
     "output_type": "error",
     "traceback": [
      "\u001b[1;31m---------------------------------------------------------------------------\u001b[0m",
      "\u001b[1;31mAttributeError\u001b[0m                            Traceback (most recent call last)",
      "Cell \u001b[1;32mIn[61], line 1\u001b[0m\n\u001b[1;32m----> 1\u001b[0m os\u001b[38;5;241m.\u001b[39mcwd()\n",
      "\u001b[1;31mAttributeError\u001b[0m: module 'os' has no attribute 'cwd'"
     ]
    }
   ],
   "source": [
    "os.cwd()"
   ]
  },
  {
   "cell_type": "code",
   "execution_count": 63,
   "id": "019899ec-0bf3-4f95-b181-a211c3564e0d",
   "metadata": {},
   "outputs": [
    {
     "data": {
      "text/plain": [
       "'C:\\\\Users\\\\piyus\\\\python_ml_piet'"
      ]
     },
     "execution_count": 63,
     "metadata": {},
     "output_type": "execute_result"
    }
   ],
   "source": [
    "os.getcwd()"
   ]
  },
  {
   "cell_type": "code",
   "execution_count": 65,
   "id": "41964b08-0d45-455c-90f7-1d40b6350bd8",
   "metadata": {},
   "outputs": [
    {
     "ename": "SyntaxError",
     "evalue": "unterminated string literal (detected at line 1) (3879411538.py, line 1)",
     "output_type": "error",
     "traceback": [
      "\u001b[1;36m  Cell \u001b[1;32mIn[65], line 1\u001b[1;36m\u001b[0m\n\u001b[1;33m    os.chdir(r\"C:\\\");\u001b[0m\n\u001b[1;37m             ^\u001b[0m\n\u001b[1;31mSyntaxError\u001b[0m\u001b[1;31m:\u001b[0m unterminated string literal (detected at line 1)\n"
     ]
    }
   ],
   "source": [
    "os.chdir(r\"C:\\\");"
   ]
  },
  {
   "cell_type": "code",
   "execution_count": 67,
   "id": "72c6770b-76b8-45b7-8949-da909bab12d0",
   "metadata": {},
   "outputs": [
    {
     "data": {
      "text/plain": [
       "['.ipynb_checkpoints', 'first.ipynb', 'p1', 'Untitled.ipynb', 'untitled.txt']"
      ]
     },
     "execution_count": 67,
     "metadata": {},
     "output_type": "execute_result"
    }
   ],
   "source": [
    "os.listdir()"
   ]
  },
  {
   "cell_type": "code",
   "execution_count": 71,
   "id": "126a35ae-740e-4eea-b1a3-057332b8d520",
   "metadata": {},
   "outputs": [
    {
     "name": "stderr",
     "output_type": "stream",
     "text": [
      "<>:1: SyntaxWarning: invalid escape sequence '\\p'\n",
      "<>:1: SyntaxWarning: invalid escape sequence '\\p'\n",
      "C:\\Users\\piyus\\AppData\\Local\\Temp\\ipykernel_25772\\781728598.py:1: SyntaxWarning: invalid escape sequence '\\p'\n",
      "  os.chdir(\"search-ms:displayname=Search%20Results%20in%20Home&crumb=location:%3A%3A{F874310E-B6B7-47DC-BC84-B9E6B38F5903}\\python_ml_piet\")\n",
      "C:\\Users\\piyus\\AppData\\Local\\Temp\\ipykernel_25772\\781728598.py:1: SyntaxWarning: invalid escape sequence '\\p'\n",
      "  os.chdir(\"search-ms:displayname=Search%20Results%20in%20Home&crumb=location:%3A%3A{F874310E-B6B7-47DC-BC84-B9E6B38F5903}\\python_ml_piet\")\n"
     ]
    },
    {
     "ename": "OSError",
     "evalue": "[WinError 123] The filename, directory name, or volume label syntax is incorrect: 'search-ms:displayname=Search%20Results%20in%20Home&crumb=location:%3A%3A{F874310E-B6B7-47DC-BC84-B9E6B38F5903}\\\\python_ml_piet'",
     "output_type": "error",
     "traceback": [
      "\u001b[1;31m---------------------------------------------------------------------------\u001b[0m",
      "\u001b[1;31mOSError\u001b[0m                                   Traceback (most recent call last)",
      "Cell \u001b[1;32mIn[71], line 1\u001b[0m\n\u001b[1;32m----> 1\u001b[0m os\u001b[38;5;241m.\u001b[39mchdir(\u001b[38;5;124m\"\u001b[39m\u001b[38;5;124msearch-ms:displayname=Search\u001b[39m\u001b[38;5;124m%\u001b[39m\u001b[38;5;124m20Results\u001b[39m\u001b[38;5;132;01m%20i\u001b[39;00m\u001b[38;5;124mn\u001b[39m\u001b[38;5;124m%\u001b[39m\u001b[38;5;124m20Home&crumb=location:\u001b[39m\u001b[38;5;124m%\u001b[39m\u001b[38;5;124m3A\u001b[39m\u001b[38;5;124m%\u001b[39m\u001b[38;5;124m3A\u001b[39m\u001b[38;5;124m{\u001b[39m\u001b[38;5;124mF874310E-B6B7-47DC-BC84-B9E6B38F5903}\u001b[39m\u001b[38;5;124m\\\u001b[39m\u001b[38;5;124mpython_ml_piet\u001b[39m\u001b[38;5;124m\"\u001b[39m)\n",
      "\u001b[1;31mOSError\u001b[0m: [WinError 123] The filename, directory name, or volume label syntax is incorrect: 'search-ms:displayname=Search%20Results%20in%20Home&crumb=location:%3A%3A{F874310E-B6B7-47DC-BC84-B9E6B38F5903}\\\\python_ml_piet'"
     ]
    }
   ],
   "source": [
    "os.chdir(\"search-ms:displayname=Search%20Results%20in%20Home&crumb=location:%3A%3A{F874310E-B6B7-47DC-BC84-B9E6B38F5903}\\python_ml_piet\")"
   ]
  },
  {
   "cell_type": "code",
   "execution_count": 73,
   "id": "65252656-2d32-4f99-a3ae-7c0d64df2ff3",
   "metadata": {},
   "outputs": [],
   "source": [
    "os.mkdir(\"new folder\")"
   ]
  },
  {
   "cell_type": "code",
   "execution_count": 75,
   "id": "9b12a695-1789-408a-a3b3-07928c4686ee",
   "metadata": {},
   "outputs": [],
   "source": [
    "os.rmdir(\"new folder\")"
   ]
  },
  {
   "cell_type": "markdown",
   "id": "faad564b-ccdb-4f2f-b07d-fe12d7759e8f",
   "metadata": {},
   "source": [
    "# Math Module"
   ]
  },
  {
   "cell_type": "code",
   "execution_count": 78,
   "id": "315f210e-806d-41eb-a178-61b1ec78ffcd",
   "metadata": {},
   "outputs": [],
   "source": [
    "import math as m"
   ]
  },
  {
   "cell_type": "code",
   "execution_count": 80,
   "id": "52abc51f-f340-4893-801d-4cbf34ffbde0",
   "metadata": {},
   "outputs": [
    {
     "data": {
      "text/plain": [
       "46"
      ]
     },
     "execution_count": 80,
     "metadata": {},
     "output_type": "execute_result"
    }
   ],
   "source": [
    "m.ceil(45.69)"
   ]
  },
  {
   "cell_type": "code",
   "execution_count": 82,
   "id": "ce7c5bda-c91e-4c51-8365-67cfea5690d5",
   "metadata": {},
   "outputs": [
    {
     "data": {
      "text/plain": [
       "45"
      ]
     },
     "execution_count": 82,
     "metadata": {},
     "output_type": "execute_result"
    }
   ],
   "source": [
    "m.floor(45.69)"
   ]
  },
  {
   "cell_type": "code",
   "execution_count": 84,
   "id": "b1ad9a08-f1f4-45ee-8c4b-69c9b4865fdd",
   "metadata": {},
   "outputs": [
    {
     "ename": "ValueError",
     "evalue": "math domain error",
     "output_type": "error",
     "traceback": [
      "\u001b[1;31m---------------------------------------------------------------------------\u001b[0m",
      "\u001b[1;31mValueError\u001b[0m                                Traceback (most recent call last)",
      "Cell \u001b[1;32mIn[84], line 1\u001b[0m\n\u001b[1;32m----> 1\u001b[0m m\u001b[38;5;241m.\u001b[39masin(\u001b[38;5;241m45\u001b[39m)\n",
      "\u001b[1;31mValueError\u001b[0m: math domain error"
     ]
    }
   ],
   "source": [
    "m.asin(45)"
   ]
  },
  {
   "cell_type": "code",
   "execution_count": 86,
   "id": "1ab62f57-9539-4026-9900-4110859eda27",
   "metadata": {},
   "outputs": [
    {
     "data": {
      "text/plain": [
       "4.0"
      ]
     },
     "execution_count": 86,
     "metadata": {},
     "output_type": "execute_result"
    }
   ],
   "source": [
    "m.sqrt(16)"
   ]
  },
  {
   "cell_type": "markdown",
   "id": "3561ef08-b1b4-4b08-afcc-40408be07c97",
   "metadata": {},
   "source": [
    "# gtts module"
   ]
  },
  {
   "cell_type": "markdown",
   "id": "b4987d8b-b170-4964-a862-0309c366b7ec",
   "metadata": {},
   "source": [
    "google text to speech"
   ]
  },
  {
   "cell_type": "markdown",
   "id": "c610b4fb-8983-4712-b953-282dec181093",
   "metadata": {},
   "source": [
    "pip install module_name"
   ]
  },
  {
   "cell_type": "code",
   "execution_count": 91,
   "id": "17a1d12a-b990-4e24-b8ea-f1d6d840e479",
   "metadata": {},
   "outputs": [
    {
     "name": "stdout",
     "output_type": "stream",
     "text": [
      "Collecting gttsNote: you may need to restart the kernel to use updated packages.\n",
      "\n",
      "  Downloading gTTS-2.5.4-py3-none-any.whl.metadata (4.1 kB)\n",
      "Requirement already satisfied: requests<3,>=2.27 in c:\\users\\piyus\\anaconda3\\lib\\site-packages (from gtts) (2.32.3)\n",
      "Requirement already satisfied: click<8.2,>=7.1 in c:\\users\\piyus\\anaconda3\\lib\\site-packages (from gtts) (8.1.7)\n",
      "Requirement already satisfied: colorama in c:\\users\\piyus\\anaconda3\\lib\\site-packages (from click<8.2,>=7.1->gtts) (0.4.6)\n",
      "Requirement already satisfied: charset-normalizer<4,>=2 in c:\\users\\piyus\\anaconda3\\lib\\site-packages (from requests<3,>=2.27->gtts) (3.3.2)\n",
      "Requirement already satisfied: idna<4,>=2.5 in c:\\users\\piyus\\anaconda3\\lib\\site-packages (from requests<3,>=2.27->gtts) (3.7)\n",
      "Requirement already satisfied: urllib3<3,>=1.21.1 in c:\\users\\piyus\\anaconda3\\lib\\site-packages (from requests<3,>=2.27->gtts) (2.2.3)\n",
      "Requirement already satisfied: certifi>=2017.4.17 in c:\\users\\piyus\\anaconda3\\lib\\site-packages (from requests<3,>=2.27->gtts) (2025.1.31)\n",
      "Downloading gTTS-2.5.4-py3-none-any.whl (29 kB)\n",
      "Installing collected packages: gtts\n",
      "Successfully installed gtts-2.5.4\n"
     ]
    }
   ],
   "source": [
    "pip install gtts"
   ]
  },
  {
   "cell_type": "markdown",
   "id": "5e090226-5c34-474e-bca6-5d04dace131b",
   "metadata": {},
   "source": [
    "# basic usuage"
   ]
  },
  {
   "cell_type": "code",
   "execution_count": 97,
   "id": "a00febd0-3ec8-469f-8deb-12b5217d24b5",
   "metadata": {},
   "outputs": [],
   "source": [
    "from gtts import gTTS"
   ]
  },
  {
   "cell_type": "code",
   "execution_count": 103,
   "id": "162b0dfc-89b4-49a0-8163-e1d1a3c5e324",
   "metadata": {},
   "outputs": [],
   "source": [
    "file = gTTS(text = \"hello,how are you?\" ,lang=\"en\")\n",
    "file.save(\"a1.mp3\")"
   ]
  },
  {
   "cell_type": "code",
   "execution_count": 105,
   "id": "523cba2d-c318-4918-bc2b-7ca2d8e6514c",
   "metadata": {},
   "outputs": [
    {
     "name": "stdin",
     "output_type": "stream",
     "text": [
      "enter a string keshav kumar from bihar\n"
     ]
    }
   ],
   "source": [
    "file = gTTS(text = input(\"enter a string\") ,lang=\"en\")\n",
    "file.save(\"a1.mp3\")"
   ]
  },
  {
   "cell_type": "code",
   "execution_count": 107,
   "id": "aeaf1596-3df4-42f0-ae58-81e1bdbbbd16",
   "metadata": {},
   "outputs": [
    {
     "name": "stdin",
     "output_type": "stream",
     "text": [
      "enter a string jai shree ram\n"
     ]
    },
    {
     "ename": "PermissionError",
     "evalue": "[Errno 13] Permission denied: 'a1.mp3'",
     "output_type": "error",
     "traceback": [
      "\u001b[1;31m---------------------------------------------------------------------------\u001b[0m",
      "\u001b[1;31mPermissionError\u001b[0m                           Traceback (most recent call last)",
      "Cell \u001b[1;32mIn[107], line 2\u001b[0m\n\u001b[0;32m      1\u001b[0m file \u001b[38;5;241m=\u001b[39m gTTS(text \u001b[38;5;241m=\u001b[39m \u001b[38;5;28minput\u001b[39m(\u001b[38;5;124m\"\u001b[39m\u001b[38;5;124menter a string\u001b[39m\u001b[38;5;124m\"\u001b[39m) ,lang\u001b[38;5;241m=\u001b[39m\u001b[38;5;124m\"\u001b[39m\u001b[38;5;124mhi\u001b[39m\u001b[38;5;124m\"\u001b[39m)\n\u001b[1;32m----> 2\u001b[0m file\u001b[38;5;241m.\u001b[39msave(\u001b[38;5;124m\"\u001b[39m\u001b[38;5;124ma1.mp3\u001b[39m\u001b[38;5;124m\"\u001b[39m)\n",
      "File \u001b[1;32m~\\anaconda3\\Lib\\site-packages\\gtts\\tts.py:334\u001b[0m, in \u001b[0;36mgTTS.save\u001b[1;34m(self, savefile)\u001b[0m\n\u001b[0;32m    324\u001b[0m \u001b[38;5;28;01mdef\u001b[39;00m \u001b[38;5;21msave\u001b[39m(\u001b[38;5;28mself\u001b[39m, savefile):\n\u001b[0;32m    325\u001b[0m \u001b[38;5;250m    \u001b[39m\u001b[38;5;124;03m\"\"\"Do the TTS API request and write result to file.\u001b[39;00m\n\u001b[0;32m    326\u001b[0m \n\u001b[0;32m    327\u001b[0m \u001b[38;5;124;03m    Args:\u001b[39;00m\n\u001b[1;32m   (...)\u001b[0m\n\u001b[0;32m    332\u001b[0m \n\u001b[0;32m    333\u001b[0m \u001b[38;5;124;03m    \"\"\"\u001b[39;00m\n\u001b[1;32m--> 334\u001b[0m     \u001b[38;5;28;01mwith\u001b[39;00m \u001b[38;5;28mopen\u001b[39m(\u001b[38;5;28mstr\u001b[39m(savefile), \u001b[38;5;124m\"\u001b[39m\u001b[38;5;124mwb\u001b[39m\u001b[38;5;124m\"\u001b[39m) \u001b[38;5;28;01mas\u001b[39;00m f:\n\u001b[0;32m    335\u001b[0m         \u001b[38;5;28mself\u001b[39m\u001b[38;5;241m.\u001b[39mwrite_to_fp(f)\n\u001b[0;32m    336\u001b[0m         f\u001b[38;5;241m.\u001b[39mflush()\n",
      "\u001b[1;31mPermissionError\u001b[0m: [Errno 13] Permission denied: 'a1.mp3'"
     ]
    }
   ],
   "source": [
    "file = gTTS(text = input(\"enter a string\") ,lang=\"hi\")\n",
    "file.save(\"a1.mp3\")"
   ]
  },
  {
   "cell_type": "code",
   "execution_count": 111,
   "id": "01acfafe-c63d-4e9d-99ea-79c28d7fce7d",
   "metadata": {},
   "outputs": [
    {
     "name": "stdin",
     "output_type": "stream",
     "text": [
      "enter a string jai shree ram\n"
     ]
    }
   ],
   "source": [
    "file = gTTS(text = input(\"enter a string\") ,lang=\"hi\")\n",
    "file.save(\"a2.mp3\")"
   ]
  },
  {
   "cell_type": "code",
   "execution_count": 113,
   "id": "9fdbdba4-407b-4fdc-a5f3-b90353c4f638",
   "metadata": {},
   "outputs": [
    {
     "name": "stdin",
     "output_type": "stream",
     "text": [
      "enter a string jai shree ram\n"
     ]
    }
   ],
   "source": [
    "file = gTTS(text = input(\"enter a string\") ,lang=\"ta\")\n",
    "file.save(\"a3.mp3\")"
   ]
  },
  {
   "cell_type": "code",
   "execution_count": 115,
   "id": "3d6583bb-5c86-4cc7-8026-ee9206fcfe6f",
   "metadata": {},
   "outputs": [
    {
     "name": "stdin",
     "output_type": "stream",
     "text": [
      "enter a string piyush khandelwal from newai tonk rajasthan\n"
     ]
    }
   ],
   "source": [
    "file = gTTS(text = input(\"enter a string\") ,lang=\"fr\")\n",
    "file.save(\"a4.mp3\")"
   ]
  },
  {
   "cell_type": "code",
   "execution_count": 117,
   "id": "399afd94-1f8f-4270-879d-a5f1c3b9d220",
   "metadata": {},
   "outputs": [
    {
     "ename": "NameError",
     "evalue": "name 'pyttsx3' is not defined",
     "output_type": "error",
     "traceback": [
      "\u001b[1;31m---------------------------------------------------------------------------\u001b[0m",
      "\u001b[1;31mNameError\u001b[0m                                 Traceback (most recent call last)",
      "Cell \u001b[1;32mIn[117], line 1\u001b[0m\n\u001b[1;32m----> 1\u001b[0m pyttsx3\u001b[38;5;241m.\u001b[39minit(driverName\u001b[38;5;241m=\u001b[39m\u001b[38;5;124m'\u001b[39m\u001b[38;5;124mespeak\u001b[39m\u001b[38;5;124m'\u001b[39m)\n",
      "\u001b[1;31mNameError\u001b[0m: name 'pyttsx3' is not defined"
     ]
    }
   ],
   "source": [
    "pyttsx3.init(driverName='espeak')"
   ]
  },
  {
   "cell_type": "markdown",
   "id": "a037aff8-6670-4f36-a25e-a173b09f5494",
   "metadata": {},
   "source": [
    "# Assignment 2\n",
    "\n",
    "WAP which will read a pdf in audio."
   ]
  },
  {
   "cell_type": "markdown",
   "id": "90d478a9-80fe-4aaa-bb70-cc00594e04d9",
   "metadata": {},
   "source": [
    "# Tuple"
   ]
  },
  {
   "cell_type": "code",
   "execution_count": 2,
   "id": "4cd06f7b-3cda-4f9b-8695-a6ddf3fe65d8",
   "metadata": {},
   "outputs": [],
   "source": [
    "tu=(1,2,3,4,5)"
   ]
  },
  {
   "cell_type": "code",
   "execution_count": 4,
   "id": "7c318701-2bc4-418d-a8f9-c3e7e3b138c5",
   "metadata": {},
   "outputs": [
    {
     "data": {
      "text/plain": [
       "tuple"
      ]
     },
     "execution_count": 4,
     "metadata": {},
     "output_type": "execute_result"
    }
   ],
   "source": [
    "type(tu)"
   ]
  },
  {
   "cell_type": "markdown",
   "id": "de1d7db3-ae86-467c-82d7-f8665fb13ecd",
   "metadata": {},
   "source": [
    "### Que: Create a Tuple with all data types  \n",
    "### Que: Try to change the value of a tuple  "
   ]
  },
  {
   "cell_type": "code",
   "execution_count": 7,
   "id": "6e3beed4-0b82-4cc3-ac41-60c751ac091d",
   "metadata": {},
   "outputs": [],
   "source": [
    "to=(True,5.5,5,\"piyush\",5j)"
   ]
  },
  {
   "cell_type": "code",
   "execution_count": 9,
   "id": "742c09a9-442c-4cec-a9fe-c18c9f2dc9c7",
   "metadata": {},
   "outputs": [
    {
     "ename": "SyntaxError",
     "evalue": "cannot assign to function call here. Maybe you meant '==' instead of '='? (1333147099.py, line 1)",
     "output_type": "error",
     "traceback": [
      "\u001b[1;36m  Cell \u001b[1;32mIn[9], line 1\u001b[1;36m\u001b[0m\n\u001b[1;33m    to(1)=1.5\u001b[0m\n\u001b[1;37m    ^\u001b[0m\n\u001b[1;31mSyntaxError\u001b[0m\u001b[1;31m:\u001b[0m cannot assign to function call here. Maybe you meant '==' instead of '='?\n"
     ]
    }
   ],
   "source": [
    "to(1)=1.5"
   ]
  },
  {
   "cell_type": "code",
   "execution_count": 11,
   "id": "6cfa382e-6c10-4546-b097-4e1eda403aae",
   "metadata": {},
   "outputs": [
    {
     "ename": "TypeError",
     "evalue": "'tuple' object does not support item assignment",
     "output_type": "error",
     "traceback": [
      "\u001b[1;31m---------------------------------------------------------------------------\u001b[0m",
      "\u001b[1;31mTypeError\u001b[0m                                 Traceback (most recent call last)",
      "Cell \u001b[1;32mIn[11], line 1\u001b[0m\n\u001b[1;32m----> 1\u001b[0m to[\u001b[38;5;241m0\u001b[39m]\u001b[38;5;241m=\u001b[39m\u001b[38;5;241m1\u001b[39m\n",
      "\u001b[1;31mTypeError\u001b[0m: 'tuple' object does not support item assignment"
     ]
    }
   ],
   "source": [
    "to[0]=1"
   ]
  },
  {
   "cell_type": "code",
   "execution_count": 13,
   "id": "a5e0a6e1-f9ff-4971-a5dd-4521c94d0e97",
   "metadata": {},
   "outputs": [],
   "source": [
    "to=(1,2,3)"
   ]
  },
  {
   "cell_type": "code",
   "execution_count": 15,
   "id": "b4458534-de8d-40db-9992-58e7bfa23a74",
   "metadata": {},
   "outputs": [],
   "source": [
    "to=(True,5.5,5,\"piyush\",5j)"
   ]
  },
  {
   "cell_type": "code",
   "execution_count": 18,
   "id": "978fee5f-5f40-4032-83d7-5c09d4654cad",
   "metadata": {},
   "outputs": [
    {
     "data": {
      "text/plain": [
       "tuple"
      ]
     },
     "execution_count": 18,
     "metadata": {},
     "output_type": "execute_result"
    }
   ],
   "source": [
    "type(to)"
   ]
  },
  {
   "cell_type": "markdown",
   "id": "b63c3233-c3d2-476f-abc4-a7d66562c7e9",
   "metadata": {},
   "source": [
    "### it is immutable"
   ]
  },
  {
   "cell_type": "code",
   "execution_count": 22,
   "id": "c02b90ee-8b9d-4abc-a6e9-3a204b0a8b7e",
   "metadata": {},
   "outputs": [
    {
     "data": {
      "text/plain": [
       "5.5"
      ]
     },
     "execution_count": 22,
     "metadata": {},
     "output_type": "execute_result"
    }
   ],
   "source": [
    "to[1]"
   ]
  },
  {
   "cell_type": "code",
   "execution_count": 24,
   "id": "e8410e6d-04f7-4b9f-addb-52028ac99273",
   "metadata": {},
   "outputs": [],
   "source": [
    "list=[(1,2,3,4,5)]"
   ]
  },
  {
   "cell_type": "code",
   "execution_count": 26,
   "id": "e2c2907e-4c10-4ef7-bd78-6c543c1b9d58",
   "metadata": {},
   "outputs": [
    {
     "ename": "IndexError",
     "evalue": "list index out of range",
     "output_type": "error",
     "traceback": [
      "\u001b[1;31m---------------------------------------------------------------------------\u001b[0m",
      "\u001b[1;31mIndexError\u001b[0m                                Traceback (most recent call last)",
      "Cell \u001b[1;32mIn[26], line 1\u001b[0m\n\u001b[1;32m----> 1\u001b[0m \u001b[38;5;28mlist\u001b[39m[\u001b[38;5;241m1\u001b[39m]\n",
      "\u001b[1;31mIndexError\u001b[0m: list index out of range"
     ]
    }
   ],
   "source": [
    "list[1]"
   ]
  },
  {
   "cell_type": "code",
   "execution_count": 28,
   "id": "a75769fa-9c50-4a8c-9a75-be3493c8621c",
   "metadata": {},
   "outputs": [
    {
     "data": {
      "text/plain": [
       "(1, 2, 3, 4, 5)"
      ]
     },
     "execution_count": 28,
     "metadata": {},
     "output_type": "execute_result"
    }
   ],
   "source": [
    "list[0]"
   ]
  },
  {
   "cell_type": "code",
   "execution_count": 30,
   "id": "6c877df3-09a4-4551-9848-375159ea776c",
   "metadata": {},
   "outputs": [
    {
     "data": {
      "text/plain": [
       "3"
      ]
     },
     "execution_count": 30,
     "metadata": {},
     "output_type": "execute_result"
    }
   ],
   "source": [
    "list[0][2]\n"
   ]
  },
  {
   "cell_type": "code",
   "execution_count": 32,
   "id": "2156bc0b-0ae1-4192-a35e-8ea2336efeab",
   "metadata": {},
   "outputs": [
    {
     "name": "stdout",
     "output_type": "stream",
     "text": [
      "<class 'tuple'>\n"
     ]
    }
   ],
   "source": [
    "to=(True,5.5,5,\"piyush\",5j)\n",
    "print(type(to))"
   ]
  },
  {
   "cell_type": "code",
   "execution_count": 34,
   "id": "9805efc3-a11d-4739-8b29-e49b9d13ff77",
   "metadata": {},
   "outputs": [
    {
     "ename": "TypeError",
     "evalue": "'list' object is not callable",
     "output_type": "error",
     "traceback": [
      "\u001b[1;31m---------------------------------------------------------------------------\u001b[0m",
      "\u001b[1;31mTypeError\u001b[0m                                 Traceback (most recent call last)",
      "Cell \u001b[1;32mIn[34], line 1\u001b[0m\n\u001b[1;32m----> 1\u001b[0m list1\u001b[38;5;241m=\u001b[39m\u001b[38;5;28mlist\u001b[39m(to)\n",
      "\u001b[1;31mTypeError\u001b[0m: 'list' object is not callable"
     ]
    }
   ],
   "source": [
    "list1=list(to)"
   ]
  },
  {
   "cell_type": "code",
   "execution_count": 36,
   "id": "ee4441bc-3eee-4c47-8fc3-c3a40316cc31",
   "metadata": {},
   "outputs": [
    {
     "ename": "TypeError",
     "evalue": "'list' object is not callable",
     "output_type": "error",
     "traceback": [
      "\u001b[1;31m---------------------------------------------------------------------------\u001b[0m",
      "\u001b[1;31mTypeError\u001b[0m                                 Traceback (most recent call last)",
      "Cell \u001b[1;32mIn[36], line 1\u001b[0m\n\u001b[1;32m----> 1\u001b[0m list1\u001b[38;5;241m=\u001b[39m\u001b[38;5;28mlist\u001b[39m(to)\n",
      "\u001b[1;31mTypeError\u001b[0m: 'list' object is not callable"
     ]
    }
   ],
   "source": [
    "list1=list(to)"
   ]
  },
  {
   "cell_type": "code",
   "execution_count": 38,
   "id": "4ecef355-43e2-4723-8e36-65a60708b5c1",
   "metadata": {},
   "outputs": [
    {
     "name": "stdout",
     "output_type": "stream",
     "text": [
      "<class 'tuple'>\n"
     ]
    },
    {
     "ename": "TypeError",
     "evalue": "'list' object is not callable",
     "output_type": "error",
     "traceback": [
      "\u001b[1;31m---------------------------------------------------------------------------\u001b[0m",
      "\u001b[1;31mTypeError\u001b[0m                                 Traceback (most recent call last)",
      "Cell \u001b[1;32mIn[38], line 7\u001b[0m\n\u001b[0;32m      4\u001b[0m \u001b[38;5;28mprint\u001b[39m(\u001b[38;5;28mtype\u001b[39m(my_tuple))  \n\u001b[0;32m      6\u001b[0m \u001b[38;5;66;03m# Type - Casting into a List  \u001b[39;00m\n\u001b[1;32m----> 7\u001b[0m my_list \u001b[38;5;241m=\u001b[39m \u001b[38;5;28mlist\u001b[39m(my_tuple)  \n\u001b[0;32m      9\u001b[0m \u001b[38;5;66;03m# Changing the element  \u001b[39;00m\n\u001b[0;32m     10\u001b[0m my_list[\u001b[38;5;241m1\u001b[39m] \u001b[38;5;241m=\u001b[39m \u001b[38;5;124m\"\u001b[39m\u001b[38;5;124mOkay\u001b[39m\u001b[38;5;124m\"\u001b[39m  \n",
      "\u001b[1;31mTypeError\u001b[0m: 'list' object is not callable"
     ]
    }
   ],
   "source": [
    "my_tuple = (1, \"Hello\", 45, 78.468, True)  \n",
    "\n",
    "# Type  \n",
    "print(type(my_tuple))  \n",
    "\n",
    "# Type - Casting into a List  \n",
    "my_list = list(my_tuple)  \n",
    "\n",
    "# Changing the element  \n",
    "my_list[1] = \"Okay\"  \n",
    "\n",
    "# Type - Casting into Tuple  \n",
    "my_tuple = tuple(my_list)  \n",
    "\n",
    "# Type  "
   ]
  },
  {
   "cell_type": "code",
   "execution_count": 40,
   "id": "b0b3c591-829b-439a-9678-f26fe91f314a",
   "metadata": {},
   "outputs": [
    {
     "ename": "SyntaxError",
     "evalue": "invalid syntax (1823805876.py, line 1)",
     "output_type": "error",
     "traceback": [
      "\u001b[1;36m  Cell \u001b[1;32mIn[40], line 1\u001b[1;36m\u001b[0m\n\u001b[1;33m    delete list\u001b[0m\n\u001b[1;37m           ^\u001b[0m\n\u001b[1;31mSyntaxError\u001b[0m\u001b[1;31m:\u001b[0m invalid syntax\n"
     ]
    }
   ],
   "source": [
    "delete list"
   ]
  },
  {
   "cell_type": "code",
   "execution_count": 42,
   "id": "8672811f-9e4d-4f10-a633-561aade92bbc",
   "metadata": {},
   "outputs": [],
   "source": [
    "list1=[(1,2,3,4,5)]"
   ]
  },
  {
   "cell_type": "code",
   "execution_count": 44,
   "id": "92b32dde-71fd-4b37-810b-af99f17c2f63",
   "metadata": {},
   "outputs": [],
   "source": [
    "tu=tuple(list1)"
   ]
  },
  {
   "cell_type": "code",
   "execution_count": 46,
   "id": "e16793ee-1f9a-49c1-886d-f5db85168baa",
   "metadata": {},
   "outputs": [
    {
     "data": {
      "text/plain": [
       "((1, 2, 3, 4, 5),)"
      ]
     },
     "execution_count": 46,
     "metadata": {},
     "output_type": "execute_result"
    }
   ],
   "source": [
    "tu"
   ]
  },
  {
   "cell_type": "code",
   "execution_count": 48,
   "id": "4c22c747-c0e5-4730-920a-8c45bdf7aef4",
   "metadata": {},
   "outputs": [
    {
     "data": {
      "text/plain": [
       "tuple"
      ]
     },
     "execution_count": 48,
     "metadata": {},
     "output_type": "execute_result"
    }
   ],
   "source": [
    "type(tu)"
   ]
  },
  {
   "cell_type": "code",
   "execution_count": 50,
   "id": "1e38f7a3-a4d1-4127-9292-0f47465d6ceb",
   "metadata": {},
   "outputs": [
    {
     "ename": "TypeError",
     "evalue": "tuple.count() takes exactly one argument (0 given)",
     "output_type": "error",
     "traceback": [
      "\u001b[1;31m---------------------------------------------------------------------------\u001b[0m",
      "\u001b[1;31mTypeError\u001b[0m                                 Traceback (most recent call last)",
      "Cell \u001b[1;32mIn[50], line 1\u001b[0m\n\u001b[1;32m----> 1\u001b[0m tu\u001b[38;5;241m.\u001b[39mcount()\n",
      "\u001b[1;31mTypeError\u001b[0m: tuple.count() takes exactly one argument (0 given)"
     ]
    }
   ],
   "source": [
    "tu.count()"
   ]
  },
  {
   "cell_type": "code",
   "execution_count": 52,
   "id": "0f882c33-54ec-40f6-8b6a-034f2de6d23f",
   "metadata": {},
   "outputs": [
    {
     "ename": "NameError",
     "evalue": "name 'count' is not defined",
     "output_type": "error",
     "traceback": [
      "\u001b[1;31m---------------------------------------------------------------------------\u001b[0m",
      "\u001b[1;31mNameError\u001b[0m                                 Traceback (most recent call last)",
      "Cell \u001b[1;32mIn[52], line 1\u001b[0m\n\u001b[1;32m----> 1\u001b[0m count(tu)\n",
      "\u001b[1;31mNameError\u001b[0m: name 'count' is not defined"
     ]
    }
   ],
   "source": [
    "count(tu)"
   ]
  },
  {
   "cell_type": "code",
   "execution_count": 54,
   "id": "d6d9cb3b-c1b6-4e99-b6b8-87221d00a793",
   "metadata": {},
   "outputs": [
    {
     "data": {
      "text/plain": [
       "0"
      ]
     },
     "execution_count": 54,
     "metadata": {},
     "output_type": "execute_result"
    }
   ],
   "source": [
    "tu.count(1)"
   ]
  },
  {
   "cell_type": "code",
   "execution_count": 56,
   "id": "59692d31-ee4c-4e91-b63a-7525686da968",
   "metadata": {},
   "outputs": [
    {
     "ename": "ValueError",
     "evalue": "tuple.index(x): x not in tuple",
     "output_type": "error",
     "traceback": [
      "\u001b[1;31m---------------------------------------------------------------------------\u001b[0m",
      "\u001b[1;31mValueError\u001b[0m                                Traceback (most recent call last)",
      "Cell \u001b[1;32mIn[56], line 1\u001b[0m\n\u001b[1;32m----> 1\u001b[0m tu\u001b[38;5;241m.\u001b[39mindex(\u001b[38;5;241m2\u001b[39m)\n",
      "\u001b[1;31mValueError\u001b[0m: tuple.index(x): x not in tuple"
     ]
    }
   ],
   "source": [
    "tu.index(2)"
   ]
  },
  {
   "cell_type": "code",
   "execution_count": 58,
   "id": "81cc53a9-3dd2-48ec-9f77-5657f11090e5",
   "metadata": {},
   "outputs": [
    {
     "ename": "TypeError",
     "evalue": "index expected at least 1 argument, got 0",
     "output_type": "error",
     "traceback": [
      "\u001b[1;31m---------------------------------------------------------------------------\u001b[0m",
      "\u001b[1;31mTypeError\u001b[0m                                 Traceback (most recent call last)",
      "Cell \u001b[1;32mIn[58], line 1\u001b[0m\n\u001b[1;32m----> 1\u001b[0m tu\u001b[38;5;241m.\u001b[39mindex()\n",
      "\u001b[1;31mTypeError\u001b[0m: index expected at least 1 argument, got 0"
     ]
    }
   ],
   "source": [
    "tu.index()"
   ]
  },
  {
   "cell_type": "code",
   "execution_count": 60,
   "id": "baca6625-65ad-4277-a605-7bf93e465193",
   "metadata": {},
   "outputs": [
    {
     "ename": "ValueError",
     "evalue": "tuple.index(x): x not in tuple",
     "output_type": "error",
     "traceback": [
      "\u001b[1;31m---------------------------------------------------------------------------\u001b[0m",
      "\u001b[1;31mValueError\u001b[0m                                Traceback (most recent call last)",
      "Cell \u001b[1;32mIn[60], line 1\u001b[0m\n\u001b[1;32m----> 1\u001b[0m tu\u001b[38;5;241m.\u001b[39mindex(\u001b[38;5;241m0\u001b[39m)\n",
      "\u001b[1;31mValueError\u001b[0m: tuple.index(x): x not in tuple"
     ]
    }
   ],
   "source": [
    "tu.index(0)"
   ]
  },
  {
   "cell_type": "code",
   "execution_count": 62,
   "id": "76d4055f-9b42-4c13-b77c-3d266acf7445",
   "metadata": {},
   "outputs": [],
   "source": [
    "tup=(1,2,3,4,5)"
   ]
  },
  {
   "cell_type": "code",
   "execution_count": 64,
   "id": "3f582857-84e3-40ec-ab13-9bbdc3ebcf61",
   "metadata": {},
   "outputs": [
    {
     "data": {
      "text/plain": [
       "1"
      ]
     },
     "execution_count": 64,
     "metadata": {},
     "output_type": "execute_result"
    }
   ],
   "source": [
    "tup.count(2)"
   ]
  },
  {
   "cell_type": "code",
   "execution_count": 66,
   "id": "14abb045-1d2a-4b55-a562-dd78381d639e",
   "metadata": {},
   "outputs": [
    {
     "data": {
      "text/plain": [
       "0"
      ]
     },
     "execution_count": 66,
     "metadata": {},
     "output_type": "execute_result"
    }
   ],
   "source": [
    "tup.index(1)"
   ]
  },
  {
   "cell_type": "code",
   "execution_count": 68,
   "id": "149352fa-cd8a-4292-a28f-c2043f8f62dc",
   "metadata": {},
   "outputs": [
    {
     "data": {
      "text/plain": [
       "1"
      ]
     },
     "execution_count": 68,
     "metadata": {},
     "output_type": "execute_result"
    }
   ],
   "source": [
    "tup.index(2)"
   ]
  },
  {
   "cell_type": "markdown",
   "id": "73822ca5-3622-4f5c-b3c4-74c2bd867695",
   "metadata": {},
   "source": [
    "# Python Loops"
   ]
  },
  {
   "cell_type": "code",
   "execution_count": 70,
   "id": "a8416c83-c48c-4d1e-85b8-80c5a5bb9fd7",
   "metadata": {},
   "outputs": [],
   "source": [
    "num =4"
   ]
  },
  {
   "cell_type": "code",
   "execution_count": 72,
   "id": "65016e4b-7874-43a3-8b3f-2578cc12eef9",
   "metadata": {},
   "outputs": [
    {
     "name": "stdout",
     "output_type": "stream",
     "text": [
      "even\n"
     ]
    }
   ],
   "source": [
    "if(num%2==0):\n",
    "    print(\"even\")\n",
    "    "
   ]
  },
  {
   "cell_type": "code",
   "execution_count": 74,
   "id": "b90c21ed-a200-4cd9-8d6c-622f24e1fdd8",
   "metadata": {},
   "outputs": [
    {
     "name": "stdin",
     "output_type": "stream",
     "text": [
      "enter a number: 5\n"
     ]
    },
    {
     "name": "stdout",
     "output_type": "stream",
     "text": [
      "odd number:\n"
     ]
    }
   ],
   "source": [
    "number=int(input(\"enter a number:\"))\n",
    "if(number%2==0):\n",
    "    print(\"even number:\")\n",
    "else:\n",
    "    print(\"odd number:\")"
   ]
  },
  {
   "cell_type": "code",
   "execution_count": 77,
   "id": "38b32c90-4509-45a7-9493-939bb70ef02c",
   "metadata": {},
   "outputs": [
    {
     "name": "stdin",
     "output_type": "stream",
     "text": [
      "age daal de taaki bta saku: 18\n"
     ]
    },
    {
     "name": "stdout",
     "output_type": "stream",
     "text": [
      "tu kar sakta he\n"
     ]
    }
   ],
   "source": [
    "number=int(input(\"age daal de taaki bta saku:\"))\n",
    "if(number>=18):\n",
    "    print(\"tu kar sakta he\")\n",
    "else:\n",
    "    print(\"tu nhi kar sakta\")"
   ]
  },
  {
   "cell_type": "code",
   "execution_count": 95,
   "id": "bbf6894f-3cad-4b10-ac53-4240173486b5",
   "metadata": {},
   "outputs": [
    {
     "name": "stdin",
     "output_type": "stream",
     "text": [
      "Enter your marks:  75\n"
     ]
    },
    {
     "name": "stdout",
     "output_type": "stream",
     "text": [
      "B+\n"
     ]
    }
   ],
   "source": [
    "number = int(input(\"Enter your marks: \"))  \n",
    "if number >= 90:  \n",
    "    print(\"A+\")  \n",
    "elif number >= 80:  \n",
    "    print(\"A\")  \n",
    "elif number >= 70:  \n",
    "    print(\"B+\")  \n",
    "elif number >= 60:  \n",
    "    print(\"B\")  \n",
    "elif number >= 50:  \n",
    "    print(\"C\")  \n",
    "elif number >= 40:  \n",
    "    print(\"D\")  \n",
    "else:  \n",
    "    print(\"Fail\")  "
   ]
  },
  {
   "cell_type": "code",
   "execution_count": null,
   "id": "0999eff5-2402-4a6c-9866-5485fa6973d5",
   "metadata": {},
   "outputs": [],
   "source": [
    "# Assignment 3\n",
    "\n",
    "Write a program to check if a person is eligible for a senior citizen discount:\n",
    "Age must be 60 or above.\n",
    "They must also have a membership card.\n",
    "Create a program to categorize a number:\n",
    "Check if it's positive, zero, or negative.\n",
    "If positive, determine if it's even or odd.\n",
    "Write a program to check if a number is positive, negative, or zero.\n",
    "Create a grading program for a school that uses the if-elif-else structure.\n",
    "Write a program to check if a person is eligible to apply for a driving license (minimum age 18)."
   ]
  },
  {
   "cell_type": "code",
   "execution_count": 106,
   "id": "c991924b-f8e1-426d-a621-485e72149410",
   "metadata": {},
   "outputs": [
    {
     "name": "stdout",
     "output_type": "stream",
     "text": [
      "1.not eligible\n"
     ]
    }
   ],
   "source": [
    "age=60\n",
    "card=\"no\"\n",
    "if(age>=60 ):\n",
    "    if(card==\"yes\"):\n",
    "         print(\"eligible\")\n",
    "    else:\n",
    "        print(\"1.not eligible\")\n",
    "else:\n",
    "    print(\" not eligible\")"
   ]
  },
  {
   "cell_type": "code",
   "execution_count": 108,
   "id": "fd277da4-899e-42b8-be51-b0a904f746af",
   "metadata": {},
   "outputs": [
    {
     "name": "stdin",
     "output_type": "stream",
     "text": [
      "enter a number: 6\n"
     ]
    },
    {
     "name": "stdout",
     "output_type": "stream",
     "text": [
      "positive:\n",
      "even:\n"
     ]
    }
   ],
   "source": [
    "number=int(input(\"enter a number:\"))\n",
    "if(number>0):\n",
    "    print(\"positive:\")\n",
    "    if(number%2==0):\n",
    "        print(\"even:\")\n",
    "    else:\n",
    "        print(\"odd\")\n",
    "elif(number==0):\n",
    "    print(\"number is zero:\")\n",
    "else:\n",
    "    print(\"number is negative:\")"
   ]
  },
  {
   "cell_type": "markdown",
   "id": "069f00a4-2bac-4914-9d09-c14de4d12f4f",
   "metadata": {},
   "source": [
    "# Functions"
   ]
  },
  {
   "cell_type": "code",
   "execution_count": 111,
   "id": "ea9e36f0-67d5-4d5f-8d91-31e5dd3a5646",
   "metadata": {},
   "outputs": [],
   "source": [
    "def check(number):\n",
    "    if(number%2==0):\n",
    "        print(\"even:\")\n",
    "    else:\n",
    "        print(\"odd:\")\n",
    "        "
   ]
  },
  {
   "cell_type": "code",
   "execution_count": 113,
   "id": "97bdf5e9-fc3e-4746-aad1-579d36d64308",
   "metadata": {},
   "outputs": [
    {
     "name": "stdout",
     "output_type": "stream",
     "text": [
      "even:\n"
     ]
    }
   ],
   "source": [
    "check(6)"
   ]
  },
  {
   "cell_type": "code",
   "execution_count": 115,
   "id": "2a954db0-1445-4871-94f3-c546e35c1a35",
   "metadata": {},
   "outputs": [],
   "source": [
    "def main_function():\n",
    "    check(5)"
   ]
  },
  {
   "cell_type": "code",
   "execution_count": null,
   "id": "739aa9fc-aa2f-43fe-ab00-c839bd61bde4",
   "metadata": {},
   "outputs": [],
   "source": []
  },
  {
   "cell_type": "code",
   "execution_count": 117,
   "id": "361de7de-49b3-45e0-92c2-29a27c4e3c63",
   "metadata": {},
   "outputs": [
    {
     "name": "stdout",
     "output_type": "stream",
     "text": [
      "odd:\n"
     ]
    }
   ],
   "source": [
    "main_function()"
   ]
  },
  {
   "cell_type": "code",
   "execution_count": 131,
   "id": "9d6b0771-ef86-48b7-aa28-ea1aaf012370",
   "metadata": {},
   "outputs": [],
   "source": [
    "from gtts import gTTS"
   ]
  },
  {
   "cell_type": "code",
   "execution_count": 133,
   "id": "515cbb2c-9cd7-4c3e-bee2-7c9da7a6b24b",
   "metadata": {},
   "outputs": [],
   "source": [
    "def english(text):\n",
    "    file = gTTS(text,lang=\"en\")\n",
    "    file.save(\"a1.mp3\")\n",
    "def hindi(text):\n",
    "    file = gTTS(text,lang=\"hi\")\n",
    "    file.save(\"a2.mp3\")\n",
    "def french(text):\n",
    "    file = gTTS(text,lang=\"fr\")\n",
    "    file.save(\"a3.mp3\")\n",
    "def tamil(text):\n",
    "    file = gTTS(text,lang=\"ta\")\n",
    "    file.save(\"a4.mp3\")\n",
    "def german(text):\n",
    "    file = gTTS(text,lang=\"ge\")\n",
    "    file.save(\"a5.mp3\")"
   ]
  },
  {
   "cell_type": "code",
   "execution_count": 135,
   "id": "7318f527-23cb-42da-b07b-5ffd43baf5ed",
   "metadata": {},
   "outputs": [],
   "source": [
    "def main_function():\n",
    "    print(\"enter one language from these languages : english, hindi , french , tamil,german\")\n",
    "    language=input(\"enter your language\")\n",
    "    text=input(\"enter your message:\")\n",
    "    if(language==\"english\"):\n",
    "        english(text)\n",
    "    elif(language==\"hindi\"):\n",
    "        hindi(text)\n",
    "    elif(language==\"french\"):\n",
    "        french(text)\n",
    "    elif(language==\"tamil\"):\n",
    "        tamil()\n",
    "    else:\n",
    "        german()"
   ]
  },
  {
   "cell_type": "code",
   "execution_count": 137,
   "id": "4d8982be-4d4f-4ba5-922a-217ce6cb4e74",
   "metadata": {},
   "outputs": [
    {
     "name": "stdout",
     "output_type": "stream",
     "text": [
      "enter one language from these languages : english, hindi , french , tamil,german\n"
     ]
    },
    {
     "name": "stdin",
     "output_type": "stream",
     "text": [
      "enter your language french\n",
      "enter your message: hello how are you\n"
     ]
    }
   ],
   "source": [
    "main_function()"
   ]
  },
  {
   "cell_type": "code",
   "execution_count": 169,
   "id": "ac5a3842-d888-424f-bedc-ce5db7e95312",
   "metadata": {},
   "outputs": [],
   "source": [
    "def palindrome(number):\n",
    "    n=number\n",
    "    reverse=0\n",
    "    remainder=1\n",
    "    while(number>0):\n",
    "         remainder=number%10\n",
    "         reverse=reverse*10 + remainder\n",
    "         number=number//10\n",
    "    if(n==reverse):\n",
    "        print(\"palindrome number:\")\n",
    "    else:\n",
    "        print(\"not palindrome number:\")\n",
    "    \n",
    "    "
   ]
  },
  {
   "cell_type": "code",
   "execution_count": 171,
   "id": "b647c25a-6be6-4cb4-a816-900e91891cc4",
   "metadata": {},
   "outputs": [],
   "source": [
    "def main_function():\n",
    "    palindrome(121)"
   ]
  },
  {
   "cell_type": "code",
   "execution_count": 173,
   "id": "3a9ae4fd-ff35-4685-b939-f44691ed736e",
   "metadata": {},
   "outputs": [
    {
     "name": "stdout",
     "output_type": "stream",
     "text": [
      "palindrome number:\n"
     ]
    }
   ],
   "source": [
    "main_function()"
   ]
  },
  {
   "cell_type": "code",
   "execution_count": 175,
   "id": "594ed3ee-dda3-48f4-a808-13423e38d113",
   "metadata": {},
   "outputs": [
    {
     "ename": "SyntaxError",
     "evalue": "invalid syntax. Maybe you meant '==' or ':=' instead of '='? (1685803112.py, line 4)",
     "output_type": "error",
     "traceback": [
      "\u001b[1;36m  Cell \u001b[1;32mIn[175], line 4\u001b[1;36m\u001b[0m\n\u001b[1;33m    for(i=0;i<n;i++):\u001b[0m\n\u001b[1;37m        ^\u001b[0m\n\u001b[1;31mSyntaxError\u001b[0m\u001b[1;31m:\u001b[0m invalid syntax. Maybe you meant '==' or ':=' instead of '='?\n"
     ]
    }
   ],
   "source": [
    "def fibbonacci(n):\n",
    "    a=0\n",
    "    b=1;\n",
    "    for(i=0;i<n;i++):\n",
    "    sum=a+b;\n",
    "    a=b;\n",
    "    b=sum;\n",
    "    print(sum)\n",
    "    "
   ]
  },
  {
   "cell_type": "code",
   "execution_count": 190,
   "id": "9fdc11e1-6468-45bd-91e8-a9b9a85686ff",
   "metadata": {},
   "outputs": [],
   "source": [
    "def fibbonacci(n):\n",
    "    a=0\n",
    "    b=1;\n",
    "    i=0\n",
    "    while(n>0):\n",
    "      sum=a+b;\n",
    "      a=b;\n",
    "      b=sum;\n",
    "      print(sum)\n",
    "      n=n-1"
   ]
  },
  {
   "cell_type": "code",
   "execution_count": 191,
   "id": "6132645b-36a6-41a6-aada-5a7f47d68e3d",
   "metadata": {},
   "outputs": [],
   "source": [
    "def main_function():\n",
    "    fibbonacci(10)"
   ]
  },
  {
   "cell_type": "code",
   "execution_count": 194,
   "id": "0a92cd69-bd5e-443f-8517-f2fc3c8a0c48",
   "metadata": {},
   "outputs": [
    {
     "name": "stdout",
     "output_type": "stream",
     "text": [
      "1\n",
      "2\n",
      "3\n",
      "5\n",
      "8\n",
      "13\n",
      "21\n",
      "34\n",
      "55\n",
      "89\n"
     ]
    }
   ],
   "source": [
    "main_function()"
   ]
  },
  {
   "cell_type": "markdown",
   "id": "6e9af007-963a-40d0-a2f8-dff1296ce280",
   "metadata": {},
   "source": [
    "list1=[1,,5,4,3,6,8,2]"
   ]
  },
  {
   "cell_type": "code",
   "execution_count": 197,
   "id": "99ac2c51-f4e9-4ca2-9d8b-2afe1154e26d",
   "metadata": {},
   "outputs": [
    {
     "ename": "SyntaxError",
     "evalue": "invalid syntax (4033823880.py, line 1)",
     "output_type": "error",
     "traceback": [
      "\u001b[1;36m  Cell \u001b[1;32mIn[197], line 1\u001b[1;36m\u001b[0m\n\u001b[1;33m    list1=[1,,5,4,3,6,8,2]\u001b[0m\n\u001b[1;37m             ^\u001b[0m\n\u001b[1;31mSyntaxError\u001b[0m\u001b[1;31m:\u001b[0m invalid syntax\n"
     ]
    }
   ],
   "source": [
    "list1=[1,,5,4,3,6,8,2]"
   ]
  },
  {
   "cell_type": "code",
   "execution_count": 199,
   "id": "98e3f9db-a389-48e4-8233-86c052a19808",
   "metadata": {},
   "outputs": [],
   "source": [
    "list1=[1,5,4,3,6,8,2]"
   ]
  },
  {
   "cell_type": "code",
   "execution_count": 201,
   "id": "3b54eab1-51ad-4653-8fe4-439db30fad6c",
   "metadata": {},
   "outputs": [
    {
     "data": {
      "text/plain": [
       "8"
      ]
     },
     "execution_count": 201,
     "metadata": {},
     "output_type": "execute_result"
    }
   ],
   "source": [
    "max(list1)"
   ]
  },
  {
   "cell_type": "code",
   "execution_count": 203,
   "id": "87263b33-e72f-421c-82a1-1053b0d3ec19",
   "metadata": {},
   "outputs": [
    {
     "data": {
      "text/plain": [
       "1"
      ]
     },
     "execution_count": 203,
     "metadata": {},
     "output_type": "execute_result"
    }
   ],
   "source": [
    "min(list1)"
   ]
  },
  {
   "cell_type": "markdown",
   "id": "5e0d008f-9a69-4455-89f9-615d99cc7dc3",
   "metadata": {},
   "source": [
    "#Assignment 4\n",
    "\n",
    "Palindrome Checker\n",
    "Fibonacci Series (Up to N Terms)\n",
    "Prime Number Checker\n",
    "Armstrong Number Checker\n",
    "Find the Largest Element in a List\n",
    "Count the Number of Vowels in a String\n",
    "Reverse a Number\n",
    "Find the Factorial of a Number\n",
    "Check if a Year is a Leap Year\n",
    "Remove Duplicates from a List"
   ]
  },
  {
   "cell_type": "code",
   "execution_count": 205,
   "id": "b3bd7ebc-10c7-40bc-820c-522d7481b3a9",
   "metadata": {},
   "outputs": [
    {
     "name": "stdin",
     "output_type": "stream",
     "text": [
      "Enter a number:  45\n"
     ]
    },
    {
     "name": "stdout",
     "output_type": "stream",
     "text": [
      "45 is not a prime number.\n"
     ]
    }
   ],
   "source": [
    "def is_prime(num, divisor=None):  \n",
    "    if num <= 1:  \n",
    "        return False  \n",
    "    if divisor is None:  \n",
    "        divisor = 2  \n",
    "    if divisor * divisor > num:  \n",
    "        return True  \n",
    "    if num % divisor == 0:  \n",
    "        return False  \n",
    "    return is_prime(num, divisor + 1)  \n",
    "\n",
    "# Example usage  \n",
    "number = int(input(\"Enter a number: \"))  \n",
    "if is_prime(number):  \n",
    "    print(f\"{number} is a prime number.\")  \n",
    "else:  \n",
    "    print(f\"{number} is not a prime number.\")  "
   ]
  },
  {
   "cell_type": "code",
   "execution_count": 207,
   "id": "30cb6157-d58d-4445-85dd-365142be51a4",
   "metadata": {},
   "outputs": [],
   "source": [
    "def reverse(n):\n",
    "    num=n\n",
    "    remainder=0\n",
    "    reverse=0\n",
    "    while(n>0):\n",
    "        remainder=n%10\n",
    "        reverse=reverse*10+remainder\n",
    "        n=n//10\n",
    "    print(\"reverse\",reverse)"
   ]
  },
  {
   "cell_type": "code",
   "execution_count": 209,
   "id": "d19e5a1c-e6d1-4638-8948-d815c53f1e50",
   "metadata": {},
   "outputs": [],
   "source": [
    "def main_function():\n",
    "    reverse(153)"
   ]
  },
  {
   "cell_type": "code",
   "execution_count": 211,
   "id": "d9901789-2f04-4af0-82b6-ed327a902d0e",
   "metadata": {},
   "outputs": [
    {
     "name": "stdout",
     "output_type": "stream",
     "text": [
      "reverse 351\n"
     ]
    }
   ],
   "source": [
    "main_function()"
   ]
  },
  {
   "cell_type": "code",
   "execution_count": 221,
   "id": "fa70e290-df6c-4eb2-9cb8-1ed70b3d0603",
   "metadata": {},
   "outputs": [
    {
     "name": "stdin",
     "output_type": "stream",
     "text": [
      "enter a year: 1900\n"
     ]
    },
    {
     "name": "stdout",
     "output_type": "stream",
     "text": [
      "not a leap year\n"
     ]
    }
   ],
   "source": [
    "year=int(input(\"enter a year:\"))\n",
    "if(year%4==0 & year%400==0 & year%100!=0):\n",
    "    print(\"it is leap year\")\n",
    "else:\n",
    "    print(\"not a leap year\")\n",
    "    "
   ]
  },
  {
   "cell_type": "code",
   "execution_count": 225,
   "id": "b656184d-fdeb-45ab-bf2c-efc110d3357c",
   "metadata": {},
   "outputs": [],
   "source": [
    "def factorial(n):\n",
    "    fact=1\n",
    "    while(n>0):\n",
    "        fact=fact*n\n",
    "        n=n-1\n",
    "    print(\"factorial:\",fact)"
   ]
  },
  {
   "cell_type": "code",
   "execution_count": 227,
   "id": "896cebad-dc6b-4e54-a415-ce2de878d18c",
   "metadata": {},
   "outputs": [],
   "source": [
    "def main_function():\n",
    "    factorial(6)"
   ]
  },
  {
   "cell_type": "code",
   "execution_count": 229,
   "id": "9de0e1eb-39e7-461f-a32b-2044f334b715",
   "metadata": {},
   "outputs": [
    {
     "name": "stdout",
     "output_type": "stream",
     "text": [
      "factorial: 720\n"
     ]
    }
   ],
   "source": [
    "main_function()"
   ]
  },
  {
   "cell_type": "code",
   "execution_count": 231,
   "id": "f446894d-14ad-48d2-bfd9-bb5b7379ab41",
   "metadata": {},
   "outputs": [],
   "source": [
    "list1=[1,1,2,3,4,5,8,7]"
   ]
  },
  {
   "cell_type": "code",
   "execution_count": 235,
   "id": "f3caf6d8-08f5-4fa0-a588-19d80a454d7e",
   "metadata": {},
   "outputs": [],
   "source": [
    "m=len(list1)"
   ]
  },
  {
   "cell_type": "code",
   "execution_count": 237,
   "id": "e2a54982-4491-4584-96e8-038ce6f6f926",
   "metadata": {},
   "outputs": [],
   "source": [
    "s={1,1,2,3,5,6,5,5}"
   ]
  },
  {
   "cell_type": "markdown",
   "id": "0eee5e4c-5c85-496d-bfff-a14852094bd9",
   "metadata": {},
   "source": [
    "# sets"
   ]
  },
  {
   "cell_type": "code",
   "execution_count": 239,
   "id": "9d068cef-0071-4c9c-8a4e-67bf29e262b5",
   "metadata": {},
   "outputs": [
    {
     "data": {
      "text/plain": [
       "set"
      ]
     },
     "execution_count": 239,
     "metadata": {},
     "output_type": "execute_result"
    }
   ],
   "source": [
    "type(s)"
   ]
  },
  {
   "cell_type": "code",
   "execution_count": 241,
   "id": "2d0633fc-5261-4af7-9768-678e60451d17",
   "metadata": {},
   "outputs": [
    {
     "data": {
      "text/plain": [
       "{1, 2, 3, 5, 6}"
      ]
     },
     "execution_count": 241,
     "metadata": {},
     "output_type": "execute_result"
    }
   ],
   "source": [
    "s"
   ]
  },
  {
   "cell_type": "code",
   "execution_count": 243,
   "id": "0af9475c-fec5-4276-9340-63da0b987862",
   "metadata": {},
   "outputs": [
    {
     "ename": "AttributeError",
     "evalue": "'set' object has no attribute 'index'",
     "output_type": "error",
     "traceback": [
      "\u001b[1;31m---------------------------------------------------------------------------\u001b[0m",
      "\u001b[1;31mAttributeError\u001b[0m                            Traceback (most recent call last)",
      "Cell \u001b[1;32mIn[243], line 1\u001b[0m\n\u001b[1;32m----> 1\u001b[0m s\u001b[38;5;241m.\u001b[39mindex(\u001b[38;5;241m1\u001b[39m)\n",
      "\u001b[1;31mAttributeError\u001b[0m: 'set' object has no attribute 'index'"
     ]
    }
   ],
   "source": [
    "s.index(1)"
   ]
  },
  {
   "cell_type": "code",
   "execution_count": 245,
   "id": "e4a9c78e-4257-409d-8cf9-7be8fea7a980",
   "metadata": {},
   "outputs": [
    {
     "ename": "AttributeError",
     "evalue": "'set' object has no attribute 'index'",
     "output_type": "error",
     "traceback": [
      "\u001b[1;31m---------------------------------------------------------------------------\u001b[0m",
      "\u001b[1;31mAttributeError\u001b[0m                            Traceback (most recent call last)",
      "Cell \u001b[1;32mIn[245], line 1\u001b[0m\n\u001b[1;32m----> 1\u001b[0m s\u001b[38;5;241m.\u001b[39mindex(\u001b[38;5;241m5\u001b[39m)\n",
      "\u001b[1;31mAttributeError\u001b[0m: 'set' object has no attribute 'index'"
     ]
    }
   ],
   "source": [
    "s.index(5)"
   ]
  },
  {
   "cell_type": "code",
   "execution_count": 249,
   "id": "9a423347-5f0e-4dab-8652-727ed21f8952",
   "metadata": {},
   "outputs": [],
   "source": [
    "s1={1,2,3.3,True,5j,\"hallo\"}"
   ]
  },
  {
   "cell_type": "code",
   "execution_count": 251,
   "id": "3d8f5b2a-1bc1-4dc4-ac89-55cbb6dd7b87",
   "metadata": {},
   "outputs": [],
   "source": [
    "s2={1,2,3,False,\"piyush\",8j}"
   ]
  },
  {
   "cell_type": "code",
   "execution_count": 253,
   "id": "e2e42a6b-a0b8-4605-8437-9f5d1e5bbad5",
   "metadata": {},
   "outputs": [
    {
     "data": {
      "text/plain": [
       "{1, 2, 3.3, 5j, 'hallo'}"
      ]
     },
     "execution_count": 253,
     "metadata": {},
     "output_type": "execute_result"
    }
   ],
   "source": [
    "s1"
   ]
  },
  {
   "cell_type": "code",
   "execution_count": 255,
   "id": "9d0c1c11-e13d-400b-9a24-0b3727a63392",
   "metadata": {},
   "outputs": [
    {
     "data": {
      "text/plain": [
       "{1, 2, 3, 8j, False, 'piyush'}"
      ]
     },
     "execution_count": 255,
     "metadata": {},
     "output_type": "execute_result"
    }
   ],
   "source": [
    "s2"
   ]
  },
  {
   "cell_type": "code",
   "execution_count": 257,
   "id": "94c2b4d4-8734-43b5-bb28-483b82fdf3af",
   "metadata": {},
   "outputs": [
    {
     "data": {
      "text/plain": [
       "{1, 2, 3, 3.3, 5j, 8j, False, 'hallo', 'piyush'}"
      ]
     },
     "execution_count": 257,
     "metadata": {},
     "output_type": "execute_result"
    }
   ],
   "source": [
    "s1.union(s2)"
   ]
  },
  {
   "cell_type": "code",
   "execution_count": 259,
   "id": "96fd29b3-a4f1-4807-9254-bf91ccc74184",
   "metadata": {},
   "outputs": [
    {
     "data": {
      "text/plain": [
       "{1, 2}"
      ]
     },
     "execution_count": 259,
     "metadata": {},
     "output_type": "execute_result"
    }
   ],
   "source": [
    "s1.intersection(s2)"
   ]
  },
  {
   "cell_type": "code",
   "execution_count": 263,
   "id": "3f8780fd-8e6d-481c-88b8-01bdde06a633",
   "metadata": {},
   "outputs": [
    {
     "data": {
      "text/plain": [
       "{3.3, 5j, 'hallo'}"
      ]
     },
     "execution_count": 263,
     "metadata": {},
     "output_type": "execute_result"
    }
   ],
   "source": [
    "s1.difference(s2)"
   ]
  },
  {
   "cell_type": "code",
   "execution_count": 265,
   "id": "1b5db395-c857-426c-8815-3c12e5fc753f",
   "metadata": {},
   "outputs": [
    {
     "data": {
      "text/plain": [
       "{3, 8j, False, 'piyush'}"
      ]
     },
     "execution_count": 265,
     "metadata": {},
     "output_type": "execute_result"
    }
   ],
   "source": [
    "s2.difference(s1)"
   ]
  },
  {
   "cell_type": "code",
   "execution_count": 267,
   "id": "056be35a-2a26-4c98-b30b-3803e804e5d6",
   "metadata": {},
   "outputs": [],
   "source": [
    "s1.intersection_update(s2)"
   ]
  },
  {
   "cell_type": "code",
   "execution_count": 269,
   "id": "95572393-8859-4ed0-b235-bd4ce1f65b3f",
   "metadata": {},
   "outputs": [
    {
     "data": {
      "text/plain": [
       "{1, 2}"
      ]
     },
     "execution_count": 269,
     "metadata": {},
     "output_type": "execute_result"
    }
   ],
   "source": [
    "s1"
   ]
  },
  {
   "cell_type": "code",
   "execution_count": 271,
   "id": "6ef04f67-2e9f-47cf-b51a-f1a2bf9ffe54",
   "metadata": {},
   "outputs": [
    {
     "data": {
      "text/plain": [
       "2"
      ]
     },
     "execution_count": 271,
     "metadata": {},
     "output_type": "execute_result"
    }
   ],
   "source": [
    "2"
   ]
  },
  {
   "cell_type": "code",
   "execution_count": 273,
   "id": "6db25e73-f01a-4732-b560-2887a13bd83b",
   "metadata": {},
   "outputs": [
    {
     "data": {
      "text/plain": [
       "{1, 2, 3, 8j, False, 'piyush'}"
      ]
     },
     "execution_count": 273,
     "metadata": {},
     "output_type": "execute_result"
    }
   ],
   "source": [
    "s2"
   ]
  },
  {
   "cell_type": "code",
   "execution_count": 275,
   "id": "fe468ee4-82bf-40cc-8d54-643586a0606d",
   "metadata": {},
   "outputs": [
    {
     "data": {
      "text/plain": [
       "True"
      ]
     },
     "execution_count": 275,
     "metadata": {},
     "output_type": "execute_result"
    }
   ],
   "source": [
    "1 in s1"
   ]
  },
  {
   "cell_type": "code",
   "execution_count": 277,
   "id": "8c5587ed-99e5-4b7c-bdf4-4370c91180ca",
   "metadata": {},
   "outputs": [],
   "source": [
    "s1.add(69)"
   ]
  },
  {
   "cell_type": "code",
   "execution_count": 279,
   "id": "c0b9e2fe-855a-4212-a505-7f1f6f3ca833",
   "metadata": {},
   "outputs": [
    {
     "data": {
      "text/plain": [
       "{1, 2, 69}"
      ]
     },
     "execution_count": 279,
     "metadata": {},
     "output_type": "execute_result"
    }
   ],
   "source": [
    "s1"
   ]
  },
  {
   "cell_type": "code",
   "execution_count": 281,
   "id": "b4075cb1-5cd1-4b18-8828-8832a41d9db3",
   "metadata": {},
   "outputs": [],
   "source": [
    "s1.remove(69)"
   ]
  },
  {
   "cell_type": "code",
   "execution_count": 283,
   "id": "32568406-7251-4637-a06e-567328fe9709",
   "metadata": {},
   "outputs": [
    {
     "data": {
      "text/plain": [
       "{1, 2}"
      ]
     },
     "execution_count": 283,
     "metadata": {},
     "output_type": "execute_result"
    }
   ],
   "source": [
    "s1"
   ]
  },
  {
   "cell_type": "code",
   "execution_count": 285,
   "id": "066ba05c-c585-4287-8a2c-a861b05f54f2",
   "metadata": {},
   "outputs": [],
   "source": [
    "s1.discard(3)"
   ]
  },
  {
   "cell_type": "code",
   "execution_count": 287,
   "id": "167d7d11-d00e-46f8-9356-7c7ecdc25754",
   "metadata": {},
   "outputs": [
    {
     "data": {
      "text/plain": [
       "{1, 2}"
      ]
     },
     "execution_count": 287,
     "metadata": {},
     "output_type": "execute_result"
    }
   ],
   "source": [
    "s1"
   ]
  },
  {
   "cell_type": "code",
   "execution_count": 289,
   "id": "f44db330-c5ad-40fc-a5f5-b4ed88d943e0",
   "metadata": {},
   "outputs": [],
   "source": [
    "s1.discard(2)"
   ]
  },
  {
   "cell_type": "code",
   "execution_count": 291,
   "id": "1d30a07a-4bef-49b4-a7c2-622b92de0414",
   "metadata": {},
   "outputs": [
    {
     "data": {
      "text/plain": [
       "{1}"
      ]
     },
     "execution_count": 291,
     "metadata": {},
     "output_type": "execute_result"
    }
   ],
   "source": [
    "s1"
   ]
  },
  {
   "cell_type": "code",
   "execution_count": 293,
   "id": "d2432bc4-feec-4516-851b-1e6a73fa05c7",
   "metadata": {},
   "outputs": [],
   "source": [
    "s1.add(2)"
   ]
  },
  {
   "cell_type": "code",
   "execution_count": 295,
   "id": "20326353-8de3-4dcf-8caf-7aa223a55722",
   "metadata": {},
   "outputs": [],
   "source": [
    "#s = {1, 2, 3}  \n",
    "\n",
    "# Adding  \n",
    "#s.add(4)  \n",
    "#print(s)  # Output: {1, 2, 3, 4}  \n",
    "\n",
    "# Removing  \n",
    "#s.remove(2)  \n",
    "#print(s)  # Output: {1, 3, 4}  \n",
    "\n",
    "# Discarding  \n",
    "#s.discard(5)  # No error even if 5 is not in the set  "
   ]
  },
  {
   "cell_type": "markdown",
   "id": "95009285-a68f-4803-b217-4475b0ba9c57",
   "metadata": {},
   "source": [
    "# Dictionary"
   ]
  },
  {
   "cell_type": "code",
   "execution_count": 313,
   "id": "67928dba-73d3-4c62-9b0c-f3fbae8012bf",
   "metadata": {},
   "outputs": [],
   "source": [
    "dic1={\"name\":\"piyushkhandelwal\",\"reg\":\"PIET23CS122\"}"
   ]
  },
  {
   "cell_type": "code",
   "execution_count": 301,
   "id": "3393f7d2-1c1e-4d6a-9e50-8f82629517b5",
   "metadata": {},
   "outputs": [
    {
     "data": {
      "text/plain": [
       "dict"
      ]
     },
     "execution_count": 301,
     "metadata": {},
     "output_type": "execute_result"
    }
   ],
   "source": [
    "type(dic1)"
   ]
  },
  {
   "cell_type": "code",
   "execution_count": 303,
   "id": "9e4c304a-76b0-463c-ab6d-fba17f30ec18",
   "metadata": {},
   "outputs": [
    {
     "ename": "NameError",
     "evalue": "name 'name' is not defined",
     "output_type": "error",
     "traceback": [
      "\u001b[1;31m---------------------------------------------------------------------------\u001b[0m",
      "\u001b[1;31mNameError\u001b[0m                                 Traceback (most recent call last)",
      "Cell \u001b[1;32mIn[303], line 1\u001b[0m\n\u001b[1;32m----> 1\u001b[0m dic1[name]\n",
      "\u001b[1;31mNameError\u001b[0m: name 'name' is not defined"
     ]
    }
   ],
   "source": [
    "dic1[name]"
   ]
  },
  {
   "cell_type": "code",
   "execution_count": 305,
   "id": "982190d2-efa8-4704-9b4c-ca1f242d2508",
   "metadata": {},
   "outputs": [
    {
     "ename": "NameError",
     "evalue": "name 'name' is not defined",
     "output_type": "error",
     "traceback": [
      "\u001b[1;31m---------------------------------------------------------------------------\u001b[0m",
      "\u001b[1;31mNameError\u001b[0m                                 Traceback (most recent call last)",
      "Cell \u001b[1;32mIn[305], line 1\u001b[0m\n\u001b[1;32m----> 1\u001b[0m dic1[name]\n",
      "\u001b[1;31mNameError\u001b[0m: name 'name' is not defined"
     ]
    }
   ],
   "source": [
    "dic1[name]"
   ]
  },
  {
   "cell_type": "code",
   "execution_count": 311,
   "id": "c1024355-eccd-478c-b45e-72ff22c0291f",
   "metadata": {},
   "outputs": [
    {
     "data": {
      "text/plain": [
       "'piyushkhandeleal'"
      ]
     },
     "execution_count": 311,
     "metadata": {},
     "output_type": "execute_result"
    }
   ],
   "source": [
    "dic1[\"name\"]"
   ]
  },
  {
   "cell_type": "code",
   "execution_count": 329,
   "id": "8b4de0fb-9114-4c98-9043-bcdbbd1ffbf8",
   "metadata": {},
   "outputs": [],
   "source": [
    "# Que: Create a dictionary with 5 Elements and changes is value.  \n",
    "# Que: Create a nested dictionary. It should also have list/tuples.  "
   ]
  },
  {
   "cell_type": "code",
   "execution_count": 315,
   "id": "87e64374-4a21-4965-be77-87540c5b1f2c",
   "metadata": {},
   "outputs": [],
   "source": [
    "dic={\"name\":\"piyush\",\"roll\":\"piet\",\"age\":\"22\",\"address\":\"jaipur\",\"home\":\"rajasthan\"}"
   ]
  },
  {
   "cell_type": "code",
   "execution_count": 317,
   "id": "4dec719d-fa27-4efa-9b5d-c06790c1bb0f",
   "metadata": {},
   "outputs": [
    {
     "data": {
      "text/plain": [
       "'piyush'"
      ]
     },
     "execution_count": 317,
     "metadata": {},
     "output_type": "execute_result"
    }
   ],
   "source": [
    "dic[\"name\"]"
   ]
  },
  {
   "cell_type": "code",
   "execution_count": 319,
   "id": "e441228c-9388-467a-8574-74aa0380e5db",
   "metadata": {},
   "outputs": [],
   "source": [
    "dic[\"name\"]=\"khandelwal\""
   ]
  },
  {
   "cell_type": "code",
   "execution_count": 321,
   "id": "12200b09-d816-49a6-959b-7d69dbefd65d",
   "metadata": {},
   "outputs": [
    {
     "data": {
      "text/plain": [
       "'khandelwal'"
      ]
     },
     "execution_count": 321,
     "metadata": {},
     "output_type": "execute_result"
    }
   ],
   "source": [
    "dic[\"name\"]"
   ]
  },
  {
   "cell_type": "code",
   "execution_count": 323,
   "id": "6fa7aa91-a05a-4b87-ad73-01833d6c3e31",
   "metadata": {},
   "outputs": [],
   "source": [
    "dic={\"name\":\"piyush\",\"numbers\":{\"ph\":\"99999999\",\"rollno\":\"122\"},\"age\":[1,2,3,4]}"
   ]
  },
  {
   "cell_type": "code",
   "execution_count": 325,
   "id": "3b4f3077-69c3-446c-a477-3466d210672c",
   "metadata": {},
   "outputs": [
    {
     "data": {
      "text/plain": [
       "{'ph': '99999999', 'rollno': '122'}"
      ]
     },
     "execution_count": 325,
     "metadata": {},
     "output_type": "execute_result"
    }
   ],
   "source": [
    "dic[\"numbers\"]"
   ]
  },
  {
   "cell_type": "code",
   "execution_count": 327,
   "id": "1210297b-1547-4e9a-838c-78af817b4f4f",
   "metadata": {},
   "outputs": [
    {
     "data": {
      "text/plain": [
       "'99999999'"
      ]
     },
     "execution_count": 327,
     "metadata": {},
     "output_type": "execute_result"
    }
   ],
   "source": [
    "dic[\"numbers\"][\"ph\"]"
   ]
  },
  {
   "cell_type": "code",
   "execution_count": 343,
   "id": "9deb50d3-767c-4eb7-b625-8330c84408e8",
   "metadata": {},
   "outputs": [],
   "source": [
    "dicts=dict(name=\"piyush\",job=dict(company1=[1,2,3,1,5,4],company2=(1,2,3,4,5)),hobby=[\"cricket\",\"freefire\"])"
   ]
  },
  {
   "cell_type": "code",
   "execution_count": 345,
   "id": "4235e220-6d3f-4500-8650-9d2889f7a907",
   "metadata": {},
   "outputs": [
    {
     "data": {
      "text/plain": [
       "{'name': 'piyush',\n",
       " 'job': {'company1': [1, 2, 3, 1, 5, 4], 'company2': (1, 2, 3, 4, 5)},\n",
       " 'hobby': ['cricket', 'freefire']}"
      ]
     },
     "execution_count": 345,
     "metadata": {},
     "output_type": "execute_result"
    }
   ],
   "source": [
    "dicts"
   ]
  },
  {
   "cell_type": "code",
   "execution_count": 347,
   "id": "a694ce3d-a2b6-4b10-b7fd-ea4a73c8c2d2",
   "metadata": {},
   "outputs": [
    {
     "name": "stdout",
     "output_type": "stream",
     "text": [
      "{'person': {'name': 'John', 'age': 36, 'country': 'Norway'}, 'job': {'title': 'Engineer', 'company': 'ABC Corp'}, 'hobbies': ['Reading', 'Traveling', 'Swimming']}\n"
     ]
    }
   ],
   "source": [
    "thisdict = dict(person=dict(name=\"John\", age=36, country=\"Norway\"),\n",
    "    job=dict(title=\"Engineer\", company=\"ABC Corp\"),\n",
    "    hobbies=[\"Reading\", \"Traveling\", \"Swimming\"]\n",
    ")\n",
    "\n",
    "# Printing the nested dictionary\n",
    "print(thisdict)"
   ]
  },
  {
   "cell_type": "code",
   "execution_count": 349,
   "id": "155e40ca-ff46-4142-8cf3-8596798c7070",
   "metadata": {},
   "outputs": [
    {
     "data": {
      "text/plain": [
       "dict_keys(['person', 'job', 'hobbies'])"
      ]
     },
     "execution_count": 349,
     "metadata": {},
     "output_type": "execute_result"
    }
   ],
   "source": [
    "thisdict.keys()"
   ]
  },
  {
   "cell_type": "code",
   "execution_count": 351,
   "id": "0c6c50ab-4c92-425e-acc8-d586043f093b",
   "metadata": {},
   "outputs": [
    {
     "ename": "AttributeError",
     "evalue": "'dict' object has no attribute 'value'",
     "output_type": "error",
     "traceback": [
      "\u001b[1;31m---------------------------------------------------------------------------\u001b[0m",
      "\u001b[1;31mAttributeError\u001b[0m                            Traceback (most recent call last)",
      "Cell \u001b[1;32mIn[351], line 1\u001b[0m\n\u001b[1;32m----> 1\u001b[0m thisdict\u001b[38;5;241m.\u001b[39mvalue()\n",
      "\u001b[1;31mAttributeError\u001b[0m: 'dict' object has no attribute 'value'"
     ]
    }
   ],
   "source": [
    "thisdict.value()"
   ]
  },
  {
   "cell_type": "code",
   "execution_count": 353,
   "id": "2b05b713-5a4d-47a0-933e-0318ba43068f",
   "metadata": {},
   "outputs": [
    {
     "ename": "KeyError",
     "evalue": "1",
     "output_type": "error",
     "traceback": [
      "\u001b[1;31m---------------------------------------------------------------------------\u001b[0m",
      "\u001b[1;31mKeyError\u001b[0m                                  Traceback (most recent call last)",
      "Cell \u001b[1;32mIn[353], line 1\u001b[0m\n\u001b[1;32m----> 1\u001b[0m thisdict\u001b[38;5;241m.\u001b[39mpop(\u001b[38;5;241m1\u001b[39m)\n",
      "\u001b[1;31mKeyError\u001b[0m: 1"
     ]
    }
   ],
   "source": [
    "thisdict.pop(1)"
   ]
  },
  {
   "cell_type": "code",
   "execution_count": 355,
   "id": "afd4933d-7821-45c5-addd-1a46f34d4a2c",
   "metadata": {},
   "outputs": [
    {
     "ename": "AttributeError",
     "evalue": "'dict' object has no attribute 'rempve'",
     "output_type": "error",
     "traceback": [
      "\u001b[1;31m---------------------------------------------------------------------------\u001b[0m",
      "\u001b[1;31mAttributeError\u001b[0m                            Traceback (most recent call last)",
      "Cell \u001b[1;32mIn[355], line 1\u001b[0m\n\u001b[1;32m----> 1\u001b[0m thisdict\u001b[38;5;241m.\u001b[39mrempve(\u001b[38;5;241m1\u001b[39m)\n",
      "\u001b[1;31mAttributeError\u001b[0m: 'dict' object has no attribute 'rempve'"
     ]
    }
   ],
   "source": [
    "thisdict.rempve(1)"
   ]
  },
  {
   "cell_type": "code",
   "execution_count": 361,
   "id": "e11d2a8f-b12c-4fab-aeca-9de1568fef30",
   "metadata": {},
   "outputs": [
    {
     "ename": "KeyError",
     "evalue": "'age'",
     "output_type": "error",
     "traceback": [
      "\u001b[1;31m---------------------------------------------------------------------------\u001b[0m",
      "\u001b[1;31mKeyError\u001b[0m                                  Traceback (most recent call last)",
      "Cell \u001b[1;32mIn[361], line 1\u001b[0m\n\u001b[1;32m----> 1\u001b[0m thisdict\u001b[38;5;241m.\u001b[39mpop(\u001b[38;5;124m'\u001b[39m\u001b[38;5;124mage\u001b[39m\u001b[38;5;124m'\u001b[39m)\n",
      "\u001b[1;31mKeyError\u001b[0m: 'age'"
     ]
    }
   ],
   "source": [
    "thisdict.pop('age')"
   ]
  },
  {
   "cell_type": "code",
   "execution_count": 363,
   "id": "0dd492db-9bfe-43cc-aa13-d7c7d479365a",
   "metadata": {},
   "outputs": [
    {
     "data": {
      "text/plain": [
       "dict_values([{'name': 'John', 'age': 36, 'country': 'Norway'}, {'title': 'Engineer', 'company': 'ABC Corp'}, ['Reading', 'Traveling', 'Swimming']])"
      ]
     },
     "execution_count": 363,
     "metadata": {},
     "output_type": "execute_result"
    }
   ],
   "source": [
    "thisdict.values()"
   ]
  },
  {
   "cell_type": "code",
   "execution_count": 371,
   "id": "3289440a-6ae8-46d7-992d-682279327b89",
   "metadata": {},
   "outputs": [
    {
     "name": "stdout",
     "output_type": "stream",
     "text": [
      "None\n"
     ]
    }
   ],
   "source": [
    "print(thisdict.get(\"name\"))  # Output: John  "
   ]
  },
  {
   "cell_type": "code",
   "execution_count": 373,
   "id": "e364ae00-dfe3-4192-8e3a-88d08d923f51",
   "metadata": {},
   "outputs": [
    {
     "ename": "KeyError",
     "evalue": "'details'",
     "output_type": "error",
     "traceback": [
      "\u001b[1;31m---------------------------------------------------------------------------\u001b[0m",
      "\u001b[1;31mKeyError\u001b[0m                                  Traceback (most recent call last)",
      "Cell \u001b[1;32mIn[373], line 1\u001b[0m\n\u001b[1;32m----> 1\u001b[0m \u001b[38;5;28mprint\u001b[39m(thisdict[\u001b[38;5;124m'\u001b[39m\u001b[38;5;124mdetails\u001b[39m\u001b[38;5;124m'\u001b[39m]\u001b[38;5;241m.\u001b[39mget(\u001b[38;5;124m'\u001b[39m\u001b[38;5;124mtitle\u001b[39m\u001b[38;5;124m'\u001b[39m))\n",
      "\u001b[1;31mKeyError\u001b[0m: 'details'"
     ]
    }
   ],
   "source": [
    "print(thisdict['details'].get('title'))  # Output: Engineer  "
   ]
  },
  {
   "cell_type": "markdown",
   "id": "d8f176d4-d0d2-486a-821f-dea7a434cd4c",
   "metadata": {},
   "source": [
    "# arguments and parameters"
   ]
  },
  {
   "cell_type": "code",
   "execution_count": 401,
   "id": "6614957b-7085-4708-bc35-70470f87e9e6",
   "metadata": {},
   "outputs": [
    {
     "name": "stdout",
     "output_type": "stream",
     "text": [
      "piyushkh\n",
      "30\n",
      "newai\n",
      "122\n",
      "1010101010\n"
     ]
    }
   ],
   "source": [
    "def basicinfo(name,reg,phno,age=30,address=\"\"):\n",
    "    print(name)\n",
    "    print(age)\n",
    "    print(address)\n",
    "    print(reg)\n",
    "    print(phno)\n",
    "basicinfo(\"piyushkh\",122,1010101010,address=\"newai\")"
   ]
  },
  {
   "cell_type": "markdown",
   "id": "7357069a-7b1c-44a0-a8a9-38df35faa6ac",
   "metadata": {},
   "source": [
    "# Task\n",
    "\n",
    "Write a Python function to find the maximum of three numbers.\n",
    "Write a Python function to multiply all the numbers in a list.\n",
    "Write a Python function to calculate the factorial of a number (a non-negative integer). The function accepts the number as an argument.\n"
   ]
  },
  {
   "cell_type": "code",
   "execution_count": 416,
   "id": "9582f510-a91a-42b3-84c7-b2f46ab53741",
   "metadata": {},
   "outputs": [],
   "source": [
    "def max(a,b,c):\n",
    "    if(a>b):\n",
    "        if(a>c):\n",
    "            print(\"a is greatest:\")\n",
    "        else:\n",
    "            print(\"c is greatest\")\n",
    "    else:\n",
    "        if(b>c):\n",
    "          print(\"b is greatest:\")\n",
    "        else:\n",
    "            print(\"c is greatest:\")"
   ]
  },
  {
   "cell_type": "code",
   "execution_count": 422,
   "id": "94e84d5e-43ca-43db-a281-6908f970b7bd",
   "metadata": {},
   "outputs": [
    {
     "name": "stdout",
     "output_type": "stream",
     "text": [
      "a is greatest:\n"
     ]
    }
   ],
   "source": [
    "max(211,45,3)"
   ]
  },
  {
   "cell_type": "code",
   "execution_count": 424,
   "id": "c3f05c6e-417a-4a7e-b99b-552fab475119",
   "metadata": {},
   "outputs": [],
   "source": [
    "list1=[1,2,3,4,5]"
   ]
  },
  {
   "cell_type": "code",
   "execution_count": 427,
   "id": "f8f6c252-209a-46ba-9926-59e78c020577",
   "metadata": {},
   "outputs": [
    {
     "data": {
      "text/plain": [
       "[1, 2, 3, 4, 5, 1, 2, 3, 4, 5, 1, 2, 3, 4, 5, 1, 2, 3, 4, 5, 1, 2, 3, 4, 5]"
      ]
     },
     "execution_count": 427,
     "metadata": {},
     "output_type": "execute_result"
    }
   ],
   "source": [
    "list1*5"
   ]
  },
  {
   "cell_type": "code",
   "execution_count": 429,
   "id": "dbb3675e-9f88-49fa-bf6d-1aa18d31430d",
   "metadata": {},
   "outputs": [
    {
     "ename": "TypeError",
     "evalue": "can't multiply sequence by non-int of type 'list'",
     "output_type": "error",
     "traceback": [
      "\u001b[1;31m---------------------------------------------------------------------------\u001b[0m",
      "\u001b[1;31mTypeError\u001b[0m                                 Traceback (most recent call last)",
      "Cell \u001b[1;32mIn[429], line 1\u001b[0m\n\u001b[1;32m----> 1\u001b[0m list1\u001b[38;5;241m*\u001b[39mlist1\n",
      "\u001b[1;31mTypeError\u001b[0m: can't multiply sequence by non-int of type 'list'"
     ]
    }
   ],
   "source": [
    "list1*list1"
   ]
  },
  {
   "cell_type": "code",
   "execution_count": 430,
   "id": "4ebfd7bc-df4b-4f6e-9368-a9c8c1a412be",
   "metadata": {},
   "outputs": [],
   "source": [
    "list2=[1,2]"
   ]
  },
  {
   "cell_type": "code",
   "execution_count": 432,
   "id": "559c3357-1c53-49b4-881a-231a8243e273",
   "metadata": {},
   "outputs": [
    {
     "ename": "TypeError",
     "evalue": "can't multiply sequence by non-int of type 'list'",
     "output_type": "error",
     "traceback": [
      "\u001b[1;31m---------------------------------------------------------------------------\u001b[0m",
      "\u001b[1;31mTypeError\u001b[0m                                 Traceback (most recent call last)",
      "Cell \u001b[1;32mIn[432], line 1\u001b[0m\n\u001b[1;32m----> 1\u001b[0m list1\u001b[38;5;241m*\u001b[39mlist2\n",
      "\u001b[1;31mTypeError\u001b[0m: can't multiply sequence by non-int of type 'list'"
     ]
    }
   ],
   "source": [
    "list1*list2"
   ]
  },
  {
   "cell_type": "code",
   "execution_count": 436,
   "id": "62105640-51ec-4ea3-b6a1-744e118049e3",
   "metadata": {},
   "outputs": [
    {
     "name": "stdout",
     "output_type": "stream",
     "text": [
      "The product of the numbers: 24\n"
     ]
    }
   ],
   "source": [
    "def multip(numbers):  \n",
    "    result = 1  \n",
    "    for number in numbers:  \n",
    "        result *= number  \n",
    "    return result    \n",
    "my_list = [2, 3, 4]  \n",
    "product = multip(my_list)  \n",
    "print(\"The product of the numbers:\", product)  "
   ]
  },
  {
   "cell_type": "code",
   "execution_count": 450,
   "id": "e605b1da-4d75-46da-b43d-975f2e7a7c84",
   "metadata": {},
   "outputs": [
    {
     "name": "stdin",
     "output_type": "stream",
     "text": [
      "enter a number to check factorial: 5\n"
     ]
    },
    {
     "name": "stdout",
     "output_type": "stream",
     "text": [
      "factorial: 120\n"
     ]
    }
   ],
   "source": [
    "def factorial(n):\n",
    "    fact=1\n",
    "    while(n>0):\n",
    "        fact=fact*n\n",
    "        n=n-1\n",
    "    print(\"factorial:\",fact)\n",
    "num=int(input(\"enter a number to check factorial:\"))\n",
    "if(num>0):\n",
    "    factorial(num)\n",
    "else:\n",
    "    factorial(\"mangal bhavan...........\")"
   ]
  },
  {
   "cell_type": "code",
   "execution_count": null,
   "id": "252b545a-13d3-4474-a16f-9208b1932b9d",
   "metadata": {},
   "outputs": [],
   "source": [
    "def avarage(a,b,c,d,e):\n",
    "    avg=(a+b+c+d+e)//5;\n",
    "    print(avg)\n",
    "avarage(1,3,5,7,9)"
   ]
  },
  {
   "cell_type": "code",
   "execution_count": null,
   "id": "7ded657f-2833-4da7-b431-ddface2983b4",
   "metadata": {},
   "outputs": [],
   "source": []
  }
 ],
 "metadata": {
  "kernelspec": {
   "display_name": "Python [conda env:base] *",
   "language": "python",
   "name": "conda-base-py"
  },
  "language_info": {
   "codemirror_mode": {
    "name": "ipython",
    "version": 3
   },
   "file_extension": ".py",
   "mimetype": "text/x-python",
   "name": "python",
   "nbconvert_exporter": "python",
   "pygments_lexer": "ipython3",
   "version": "3.12.7"
  }
 },
 "nbformat": 4,
 "nbformat_minor": 5
}
